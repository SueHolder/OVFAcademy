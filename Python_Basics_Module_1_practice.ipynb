{
  "cells": [
    {
      "cell_type": "markdown",
      "metadata": {
        "id": "view-in-github",
        "colab_type": "text"
      },
      "source": [
        "<a href=\"https://colab.research.google.com/github/SueHolder/OVFAcademy/blob/main/Python_Basics_Module_1_practice.ipynb\" target=\"_parent\"><img src=\"https://colab.research.google.com/assets/colab-badge.svg\" alt=\"Open In Colab\"/></a>"
      ]
    },
    {
      "cell_type": "markdown",
      "metadata": {
        "id": "ItZ8Qh9B16ek"
      },
      "source": [
        "This is a brief overview of basics concepts of Python programming"
      ]
    },
    {
      "cell_type": "markdown",
      "metadata": {
        "id": "y8Vyx71SCZGY"
      },
      "source": [
        "**Topics:**\n",
        "\n",
        "1. Syntax, comments, operations\n",
        "2. Workflow & Indentation\n",
        "3. True, False\n",
        "4. Conditions: IF, ELSE, ELIF\n",
        "5. Variable Types \n",
        "6. Lists\n",
        "7. Strings\n",
        "8. Tuples\n",
        "9. Dictionaries\n",
        "10. DataFrames\n",
        "11. Loops\n",
        "12. Functions\n",
        "\n",
        "\n",
        "\n"
      ]
    },
    {
      "cell_type": "code",
      "source": [],
      "metadata": {
        "id": "6ChNJHzDTdlw"
      },
      "execution_count": null,
      "outputs": []
    },
    {
      "cell_type": "markdown",
      "source": [],
      "metadata": {
        "id": "LDIXFgeBTjlh"
      }
    },
    {
      "cell_type": "markdown",
      "source": [
        "Helpfull links:\n",
        "\n",
        "\n",
        "\n",
        "*   https://www.datacamp.com/\n",
        "*   https://stackoverflow.com/\n",
        "*   https://www.w3schools.com/python/default.asp\n",
        "*   https://pynative.com/python/\n",
        "*   https://www.programiz.com/python-programming\n",
        "\n",
        "\n"
      ],
      "metadata": {
        "id": "gz83JTQVHJVk"
      }
    },
    {
      "cell_type": "markdown",
      "metadata": {
        "id": "UyZje8VICleI"
      },
      "source": [
        "# 1.&nbsp;Syntax"
      ]
    },
    {
      "cell_type": "code",
      "execution_count": 1,
      "metadata": {
        "id": "-j4USlfaCzNh"
      },
      "outputs": [],
      "source": [
        "# Comment\n",
        "\n",
        "# This is a comment !"
      ]
    },
    {
      "cell_type": "markdown",
      "source": [
        "Function"
      ],
      "metadata": {
        "id": "liSOdcBXIqEc"
      }
    },
    {
      "cell_type": "code",
      "source": [
        "# this function called print()\n",
        "\n",
        "print()"
      ],
      "metadata": {
        "id": "LRcfx6_vIveg",
        "colab": {
          "base_uri": "https://localhost:8080/"
        },
        "outputId": "dd71e89e-a7e1-4376-89d0-97f33ccd29fd"
      },
      "execution_count": 2,
      "outputs": [
        {
          "output_type": "stream",
          "name": "stdout",
          "text": [
            "\n"
          ]
        }
      ]
    },
    {
      "cell_type": "markdown",
      "source": [
        "The *print()* function prints the specified message to the screen, or other standard output device.\n",
        "\n",
        "The message can be a string, or any other object, the object will be converted into a string before written to the screen."
      ],
      "metadata": {
        "id": "SbxPjINSrWoH"
      }
    },
    {
      "cell_type": "code",
      "execution_count": 3,
      "metadata": {
        "id": "1EED_IDgCn85",
        "colab": {
          "base_uri": "https://localhost:8080/"
        },
        "outputId": "5e8956f9-d01e-4277-8f7a-05495fd6043d"
      },
      "outputs": [
        {
          "output_type": "stream",
          "name": "stdout",
          "text": [
            "Hello world\n"
          ]
        }
      ],
      "source": [
        "# to display the string 'Hello world' use the function print()\n",
        "\n",
        "# as Hello world is a string you have to add single or double quotations marks\n",
        "\n",
        "print('Hello world')"
      ]
    },
    {
      "cell_type": "code",
      "execution_count": 4,
      "metadata": {
        "id": "9U7laFcWDHKQ",
        "colab": {
          "base_uri": "https://localhost:8080/"
        },
        "outputId": "825f9e43-e17e-429a-dab1-f6e77a907ee7"
      },
      "outputs": [
        {
          "output_type": "stream",
          "name": "stdout",
          "text": [
            "2\n"
          ]
        }
      ],
      "source": [
        "# numbers\n",
        "\n",
        "print(2)"
      ]
    },
    {
      "cell_type": "code",
      "execution_count": 5,
      "metadata": {
        "id": "2tl2osBcCwqx",
        "colab": {
          "base_uri": "https://localhost:8080/"
        },
        "outputId": "8b086122-6570-44db-be39-8c75faa22314"
      },
      "outputs": [
        {
          "output_type": "stream",
          "name": "stdout",
          "text": [
            "5\n"
          ]
        }
      ],
      "source": [
        "# operations / calculation\n",
        "\n",
        "print(2+3)"
      ]
    },
    {
      "cell_type": "code",
      "source": [
        "2+3"
      ],
      "metadata": {
        "id": "UIb69VacKr5g",
        "colab": {
          "base_uri": "https://localhost:8080/"
        },
        "outputId": "40803375-c19e-4ac5-de42-d05185f92c76"
      },
      "execution_count": 6,
      "outputs": [
        {
          "output_type": "execute_result",
          "data": {
            "text/plain": [
              "5"
            ]
          },
          "metadata": {},
          "execution_count": 6
        }
      ]
    },
    {
      "cell_type": "code",
      "source": [
        "print(2+4)\n",
        "print(2+3)\n",
        "print(1*8)"
      ],
      "metadata": {
        "id": "-FJFYI2LLe8V",
        "colab": {
          "base_uri": "https://localhost:8080/"
        },
        "outputId": "1f64328e-1661-433b-9594-dde9937c6115"
      },
      "execution_count": 7,
      "outputs": [
        {
          "output_type": "stream",
          "name": "stdout",
          "text": [
            "6\n",
            "5\n",
            "8\n"
          ]
        }
      ]
    },
    {
      "cell_type": "code",
      "execution_count": 8,
      "metadata": {
        "id": "d9dgKKRhDJGV",
        "colab": {
          "base_uri": "https://localhost:8080/"
        },
        "outputId": "a484016a-e9af-456c-d65b-5405730f5777"
      },
      "outputs": [
        {
          "output_type": "stream",
          "name": "stdout",
          "text": [
            "This is a string\n",
            "This is a string\n"
          ]
        }
      ],
      "source": [
        "# string/text ==> quotation marks: single or double\n",
        "\n",
        "print('This is a string')\n",
        "print(\"This is a string\")"
      ]
    },
    {
      "cell_type": "code",
      "execution_count": 9,
      "metadata": {
        "id": "Wyr2-8pnDQmw",
        "colab": {
          "base_uri": "https://localhost:8080/"
        },
        "outputId": "926f4d55-f6cd-475f-9553-e7f46acd6cc0"
      },
      "outputs": [
        {
          "output_type": "stream",
          "name": "stdout",
          "text": [
            "2\n",
            "3\n",
            "2 3\n"
          ]
        }
      ],
      "source": [
        "# variables\n",
        "\n",
        "# to assign a value use the symbol =\n",
        "# assign a numerical variables\n",
        "\n",
        "x = 2\n",
        "y = 3\n",
        "\n",
        "print(x)\n",
        "print(y)\n",
        "print(x, y)"
      ]
    },
    {
      "cell_type": "code",
      "execution_count": 10,
      "metadata": {
        "id": "pM5wsL-3DcDs",
        "colab": {
          "base_uri": "https://localhost:8080/"
        },
        "outputId": "c13e43aa-0ebe-4c16-91c3-d02faeba3289"
      },
      "outputs": [
        {
          "output_type": "execute_result",
          "data": {
            "text/plain": [
              "5"
            ]
          },
          "metadata": {},
          "execution_count": 10
        }
      ],
      "source": [
        "# make operations with assigned variables\n",
        "\n",
        "x+y"
      ]
    },
    {
      "cell_type": "code",
      "source": [
        "# assign a 'text' value to a variable\n",
        "# make operations with strings\n",
        "\n",
        "string1='love'\n",
        "string2='data'\n",
        "\n",
        "print(string1)\n",
        "print(string2)\n",
        "\n",
        "# concatenate them\n",
        "print(string1 + string2)"
      ],
      "metadata": {
        "id": "-qkRXhjWz393",
        "colab": {
          "base_uri": "https://localhost:8080/"
        },
        "outputId": "da17572c-b751-45c6-c9f8-48b1faf5a472"
      },
      "execution_count": 11,
      "outputs": [
        {
          "output_type": "stream",
          "name": "stdout",
          "text": [
            "love\n",
            "data\n",
            "lovedata\n"
          ]
        }
      ]
    },
    {
      "cell_type": "code",
      "source": [
        "# add a space\n",
        "print(string1 + ' ' + string2)"
      ],
      "metadata": {
        "id": "VAxYSLO6MHsJ",
        "colab": {
          "base_uri": "https://localhost:8080/"
        },
        "outputId": "e546837d-d2ea-4ef4-c219-13f6808a4d32"
      },
      "execution_count": 12,
      "outputs": [
        {
          "output_type": "stream",
          "name": "stdout",
          "text": [
            "love data\n"
          ]
        }
      ]
    },
    {
      "cell_type": "markdown",
      "source": [
        "# 2.&nbsp;Workflow & Indentation"
      ],
      "metadata": {
        "id": "yDHbUKWR6rEq"
      }
    },
    {
      "cell_type": "markdown",
      "source": [
        "Workflow is the series of activities that are necessary to complete a task"
      ],
      "metadata": {
        "id": "KvnMKa6Q6Vog"
      }
    },
    {
      "cell_type": "markdown",
      "source": [
        "Indentation refers to the spaces at the beginning of a code line.\n",
        "\n",
        "Where in other programming languages the indentation in code is for readability only, the indentation in Python is very important.\n",
        "\n",
        "Python uses indentation to indicate a block of code. The standard Python indentation is 4 spaces, although tabs and any other space size will work, as long as it is consistent. \n",
        "\n",
        "\n"
      ],
      "metadata": {
        "id": "RFVAV3c_6pSF"
      }
    },
    {
      "cell_type": "code",
      "source": [
        "# Python will give you an error if you skip the indentation:\n",
        "\n",
        "a=5\n",
        "b=2\n",
        "\n",
        "'''\n",
        "if a > b:\n",
        "print(\"a is greater than b !\")'''"
      ],
      "metadata": {
        "id": "wwiv1Tb47B86",
        "colab": {
          "base_uri": "https://localhost:8080/",
          "height": 35
        },
        "outputId": "213c62b2-1df3-42d9-9df9-03e42bb6be5c"
      },
      "execution_count": 13,
      "outputs": [
        {
          "output_type": "execute_result",
          "data": {
            "text/plain": [
              "'\\nif a > b:\\nprint(\"a is greater than b !\")'"
            ],
            "application/vnd.google.colaboratory.intrinsic+json": {
              "type": "string"
            }
          },
          "metadata": {},
          "execution_count": 13
        }
      ]
    },
    {
      "cell_type": "code",
      "source": [
        "# the correct way to use indentation\n",
        "# ends with a colon (:)\n",
        "\n",
        "a=5\n",
        "\n",
        "b=2\n",
        "\n",
        "if a > b:\n",
        "  print(\"a is greater than b ! \")"
      ],
      "metadata": {
        "id": "32nwt5pG6om_",
        "colab": {
          "base_uri": "https://localhost:8080/"
        },
        "outputId": "d9196001-c6f5-4a32-c007-7416968cd6e2"
      },
      "execution_count": 14,
      "outputs": [
        {
          "output_type": "stream",
          "name": "stdout",
          "text": [
            "a is greater than b ! \n"
          ]
        }
      ]
    },
    {
      "cell_type": "markdown",
      "source": [
        "# 3.&nbsp;True, False"
      ],
      "metadata": {
        "id": "Ghvv-PtA8E3_"
      }
    },
    {
      "cell_type": "code",
      "source": [
        "# Boolean True, False\n",
        "\n",
        "# If a statement is correct then it will return True\n",
        "# IF the statement is NOT correct , it will return False\n",
        "# use == symbol\n",
        "\n",
        "a=1\n",
        "b=2\n",
        "c=1\n",
        "\n",
        "print(a==b)"
      ],
      "metadata": {
        "id": "yyqL-2dO7x38",
        "colab": {
          "base_uri": "https://localhost:8080/"
        },
        "outputId": "131bed74-3e2f-4476-b684-a91ddf4f9628"
      },
      "execution_count": 15,
      "outputs": [
        {
          "output_type": "stream",
          "name": "stdout",
          "text": [
            "False\n"
          ]
        }
      ]
    },
    {
      "cell_type": "code",
      "source": [
        "var_1 = 2\n",
        "print(var_1)"
      ],
      "metadata": {
        "id": "x1foPZNrlPXx",
        "colab": {
          "base_uri": "https://localhost:8080/"
        },
        "outputId": "b3efbfae-566b-4cd8-c89d-7e712625e57d"
      },
      "execution_count": 16,
      "outputs": [
        {
          "output_type": "stream",
          "name": "stdout",
          "text": [
            "2\n"
          ]
        }
      ]
    },
    {
      "cell_type": "code",
      "source": [
        "print(a==c)"
      ],
      "metadata": {
        "id": "qcV_vGkY8pZk",
        "colab": {
          "base_uri": "https://localhost:8080/"
        },
        "outputId": "23a3d394-d6dc-47c6-d7e4-a613df06e296"
      },
      "execution_count": 17,
      "outputs": [
        {
          "output_type": "stream",
          "name": "stdout",
          "text": [
            "True\n"
          ]
        }
      ]
    },
    {
      "cell_type": "markdown",
      "source": [
        "# 4.&nbsp; Condition: IF, ELSE, ELIF"
      ],
      "metadata": {
        "id": "jhEHMTfE7o9K"
      }
    },
    {
      "cell_type": "code",
      "execution_count": 18,
      "metadata": {
        "id": "a6UxeOH3DdZb",
        "colab": {
          "base_uri": "https://localhost:8080/"
        },
        "outputId": "03c44a96-0d19-4a25-8aa1-513b90030de3"
      },
      "outputs": [
        {
          "output_type": "stream",
          "name": "stdout",
          "text": [
            "x is grater then 0\n"
          ]
        }
      ],
      "source": [
        "# IF the statement is true then..do something\n",
        "\n",
        "x = 1\n",
        "\n",
        "if x > 0:\n",
        "  print('x is grater then 0')"
      ]
    },
    {
      "cell_type": "code",
      "execution_count": 19,
      "metadata": {
        "id": "NBBxbc7FD6OU"
      },
      "outputs": [],
      "source": [
        "x = -2\n",
        "\n",
        "if x > 0:\n",
        "  print('x is greater then 0')"
      ]
    },
    {
      "cell_type": "code",
      "execution_count": 20,
      "metadata": {
        "id": "anr0MY6ND8SS",
        "colab": {
          "base_uri": "https://localhost:8080/"
        },
        "outputId": "0f4f6024-fbd4-4d36-91ed-416d963b1f77"
      },
      "outputs": [
        {
          "output_type": "stream",
          "name": "stdout",
          "text": [
            "x is less then 0\n"
          ]
        }
      ],
      "source": [
        "# IF the statement is true then..do something, ELSE otherwise do something else\n",
        "\n",
        "x= -5\n",
        "\n",
        "if x>0:\n",
        "  print('x is grater then 0')\n",
        "else:\n",
        "  print('x is less then 0')\n"
      ]
    },
    {
      "cell_type": "code",
      "execution_count": 21,
      "metadata": {
        "id": "W5dMiQ1uEHul",
        "colab": {
          "base_uri": "https://localhost:8080/"
        },
        "outputId": "b3e21753-8812-4f99-cdfc-6990f767d0c2"
      },
      "outputs": [
        {
          "output_type": "stream",
          "name": "stdout",
          "text": [
            "x is less then 0\n"
          ]
        }
      ],
      "source": [
        "x=0\n",
        "\n",
        "if x>0:\n",
        "  print('x is grater then 0')\n",
        "else:\n",
        "  print('x is less then 0')\n"
      ]
    },
    {
      "cell_type": "code",
      "execution_count": 22,
      "metadata": {
        "id": "BfmAv-flEjNn",
        "colab": {
          "base_uri": "https://localhost:8080/"
        },
        "outputId": "4fa4564a-5178-45de-c859-b836485e562b"
      },
      "outputs": [
        {
          "output_type": "stream",
          "name": "stdout",
          "text": [
            "x is equal to 0\n"
          ]
        }
      ],
      "source": [
        "x = 0\n",
        "\n",
        "if x>0:\n",
        "  print('x is grater then 0')\n",
        "elif x==0:\n",
        "  print('x is equal to 0')\n",
        "else:\n",
        "  print('x is less then 0')\n"
      ]
    },
    {
      "cell_type": "markdown",
      "source": [
        "## IF, ELIF, ELSE Practice ***\n",
        "\n",
        "Write a code to return the evaluation of a variable called \"grade\". \n",
        "The grade has to be a numerical variable from 1 to 10.\n",
        ">If the grade is below 5 return \"You failed\".\n",
        "\n",
        ">If the grade is between 5 and 8 included return \"You passed\"\n",
        "\n",
        ">If the grade is over 8 then return \"You excelled\"\n",
        "\n",
        "Hint:\n",
        "\n",
        "\n",
        "1.   create a variable called grade, and give it a randome value from 1 to 10\n",
        "2.   Then imagine possible scenarios of what value that variable can get, to correctly use IF, ELIF, ELSE\n",
        "\n",
        "grade = ???\n",
        "\n",
        "if grade ??? 5:\n",
        "\n",
        "____print(????)\n",
        "\n",
        "elif grade ??? 5 and ????:\n",
        "\n",
        "____print(????)\n",
        "\n",
        "else:\n",
        "____???? \n",
        "\n",
        "\n",
        "\n"
      ],
      "metadata": {
        "id": "Krs-SXVzB5Kp"
      }
    },
    {
      "cell_type": "markdown",
      "source": [
        "In order to better understand how to work with IF, ELIF, ELSE, please try to write by yourself the code for the following tasks.\n",
        "\n",
        "If you don't figure out how to do it, or you just want to check if you got the right solution, just click the arrow next to \"Display Solution\" and click on \"Run button\" to execute the code"
      ],
      "metadata": {
        "id": "PisGGzmnGI7K"
      }
    },
    {
      "cell_type": "code",
      "source": [],
      "metadata": {
        "id": "hY75hckiiNhH"
      },
      "execution_count": 22,
      "outputs": []
    },
    {
      "cell_type": "code",
      "source": [
        "#  return the evaluation of a variable called \"grade\". The grade has to be a numerical variable from 1 to 10.\n",
        "\n",
        "# create a variable 'grade' and assign a random value from 1 to 10\n",
        "\n",
        "# use IF, ELIF, ELSE statements\n",
        "\n",
        "### If the grade is below 5 return \"You failed\".\n",
        "\n",
        "### If the grade is between 5 and 8 included return \"You passed\"\n",
        "\n",
        "##  If the grade is over 8 then return \"You excelled\"\n",
        "\n",
        "\n",
        "\n",
        "# your code here ..."
      ],
      "metadata": {
        "id": "SPc_ZtjjGdAU"
      },
      "execution_count": 23,
      "outputs": []
    },
    {
      "cell_type": "code",
      "source": [
        "#@title Display the solution \n",
        "\n",
        "#  return the evaluation of a variable called \"grade\". The grade has to be a numerical variable from 1 to 10.\n",
        "\n",
        "# create a variable 'grade' and assign a random value from 1 to 10\n",
        "\n",
        "grade = 8\n",
        "\n",
        "if grade < 5:\n",
        "  print('You failed')\n",
        "elif grade >= 5 and grade <=8:\n",
        "  print('You passed')\n",
        "else:\n",
        "  print('You excelled')"
      ],
      "metadata": {
        "id": "UGZVe8bA5NLE",
        "cellView": "form",
        "colab": {
          "base_uri": "https://localhost:8080/"
        },
        "outputId": "3f7e5af7-ee00-41bb-afba-e8beda6fadf7"
      },
      "execution_count": 24,
      "outputs": [
        {
          "output_type": "stream",
          "name": "stdout",
          "text": [
            "You passed\n"
          ]
        }
      ]
    },
    {
      "cell_type": "markdown",
      "metadata": {
        "id": "BIG_swA1FbTA"
      },
      "source": [
        "# 5.&nbsp;Variable types"
      ]
    },
    {
      "cell_type": "markdown",
      "source": [
        "## Integer"
      ],
      "metadata": {
        "id": "tFIFcXo4G6lY"
      }
    },
    {
      "cell_type": "code",
      "execution_count": 25,
      "metadata": {
        "id": "0ICbAeHDFgON",
        "colab": {
          "base_uri": "https://localhost:8080/"
        },
        "outputId": "b8c77c9a-7b6c-4c67-b02e-6eb9d14af3db"
      },
      "outputs": [
        {
          "output_type": "stream",
          "name": "stdout",
          "text": [
            "<class 'int'>\n"
          ]
        }
      ],
      "source": [
        "# integer\n",
        "age = 7\n",
        "print(type(age))"
      ]
    },
    {
      "cell_type": "markdown",
      "source": [
        "##Float"
      ],
      "metadata": {
        "id": "__n8FPACG86I"
      }
    },
    {
      "cell_type": "code",
      "source": [
        "var_1 = '7.5'\n",
        "var_1"
      ],
      "metadata": {
        "id": "bXy5pi4L10ZP",
        "colab": {
          "base_uri": "https://localhost:8080/",
          "height": 35
        },
        "outputId": "d977e7fc-5003-40cc-c8aa-c7806326f7d5"
      },
      "execution_count": 26,
      "outputs": [
        {
          "output_type": "execute_result",
          "data": {
            "text/plain": [
              "'7.5'"
            ],
            "application/vnd.google.colaboratory.intrinsic+json": {
              "type": "string"
            }
          },
          "metadata": {},
          "execution_count": 26
        }
      ]
    },
    {
      "cell_type": "code",
      "execution_count": 27,
      "metadata": {
        "id": "LqbLd6yQGGg8",
        "colab": {
          "base_uri": "https://localhost:8080/"
        },
        "outputId": "040fb61f-1cca-4730-b60a-4db233c3a6b7"
      },
      "outputs": [
        {
          "output_type": "stream",
          "name": "stdout",
          "text": [
            "<class 'float'>\n",
            "7.5\n"
          ]
        }
      ],
      "source": [
        "# float\n",
        "age = 7.5\n",
        "print(type(age))\n",
        "print(age)"
      ]
    },
    {
      "cell_type": "markdown",
      "source": [
        "## String"
      ],
      "metadata": {
        "id": "r0Ky2ZlTG_9u"
      }
    },
    {
      "cell_type": "code",
      "execution_count": 28,
      "metadata": {
        "id": "LiP3qLRcF5MP",
        "colab": {
          "base_uri": "https://localhost:8080/"
        },
        "outputId": "0d074128-0fd8-4dca-f9ef-712a17d2e158"
      },
      "outputs": [
        {
          "output_type": "stream",
          "name": "stdout",
          "text": [
            "Jessica\n",
            "<class 'str'>\n"
          ]
        }
      ],
      "source": [
        "# str\n",
        "name = \"Jessica\"\n",
        "print(name)\n",
        "print(type(name))"
      ]
    },
    {
      "cell_type": "code",
      "execution_count": 29,
      "metadata": {
        "id": "BdS6G_aJ4mMe",
        "colab": {
          "base_uri": "https://localhost:8080/"
        },
        "outputId": "941ef36c-5818-4439-cead-0e127915083f"
      },
      "outputs": [
        {
          "output_type": "stream",
          "name": "stdout",
          "text": [
            "the type of pi_string variable:  <class 'str'>\n",
            "the value of pi_string variable:  3.1415926\n",
            "\n"
          ]
        }
      ],
      "source": [
        "# Definition of pi_string\n",
        "pi_string = \"3.1415926\"\n",
        "print('the type of pi_string variable: ', type(pi_string))\n",
        "print('the value of pi_string variable: ', pi_string)\n",
        "print('')\n",
        "\n"
      ]
    },
    {
      "cell_type": "code",
      "source": [
        "# convert string to float\n",
        "pi_float= float(pi_string)\n",
        "print('the type of pi_float variable: ', type(pi_float))\n",
        "print('the value of pi_float variable: ', pi_float)\n",
        "print('')\n",
        "\n"
      ],
      "metadata": {
        "id": "W40ZiUzqUX68",
        "colab": {
          "base_uri": "https://localhost:8080/"
        },
        "outputId": "3d745b13-8458-4617-d2fe-6bfe1670a5bd"
      },
      "execution_count": 30,
      "outputs": [
        {
          "output_type": "stream",
          "name": "stdout",
          "text": [
            "the type of pi_float variable:  <class 'float'>\n",
            "the value of pi_float variable:  3.1415926\n",
            "\n"
          ]
        }
      ]
    },
    {
      "cell_type": "code",
      "source": [
        "# convert float to integer\n",
        "pi_int= int(pi_float)\n",
        "print('the type of pi_int variable: ', type(pi_int))\n",
        "print('the value of pi_int variable: ', pi_int)\n",
        "print('')"
      ],
      "metadata": {
        "id": "klj49EnvUZad",
        "colab": {
          "base_uri": "https://localhost:8080/"
        },
        "outputId": "cae66ca8-3fd0-403e-ec88-dc9ab21cc047"
      },
      "execution_count": 31,
      "outputs": [
        {
          "output_type": "stream",
          "name": "stdout",
          "text": [
            "the type of pi_int variable:  <class 'int'>\n",
            "the value of pi_int variable:  3\n",
            "\n"
          ]
        }
      ]
    },
    {
      "cell_type": "code",
      "source": [
        "var_float = round(3.6, 0)\n",
        "int(var_float)"
      ],
      "metadata": {
        "id": "uwI6KkCnqsug",
        "colab": {
          "base_uri": "https://localhost:8080/"
        },
        "outputId": "ceb1dc3e-f842-4d12-f4a4-fdc341a3fd83"
      },
      "execution_count": 32,
      "outputs": [
        {
          "output_type": "execute_result",
          "data": {
            "text/plain": [
              "4"
            ]
          },
          "metadata": {},
          "execution_count": 32
        }
      ]
    },
    {
      "cell_type": "markdown",
      "source": [
        "More about convertion of string and int\n",
        "https://realpython.com/convert-python-string-to-int/"
      ],
      "metadata": {
        "id": "nmKufxbPI9Na"
      }
    },
    {
      "cell_type": "markdown",
      "source": [
        "##Tuple"
      ],
      "metadata": {
        "id": "yF9kwxHAHDKg"
      }
    },
    {
      "cell_type": "code",
      "execution_count": 33,
      "metadata": {
        "id": "T4jrai7pF-Og",
        "colab": {
          "base_uri": "https://localhost:8080/"
        },
        "outputId": "999cd960-04df-4f44-8139-a916cb12d84a"
      },
      "outputs": [
        {
          "output_type": "stream",
          "name": "stdout",
          "text": [
            "('Jessica', 7.5)\n",
            "<class 'tuple'>\n"
          ]
        }
      ],
      "source": [
        "# tuple\n",
        "name_age = (name, age)\n",
        "print(name_age)\n",
        "print(type(name_age))"
      ]
    },
    {
      "cell_type": "markdown",
      "source": [
        "## Date"
      ],
      "metadata": {
        "id": "gsOtlqqEHFFf"
      }
    },
    {
      "cell_type": "code",
      "execution_count": 34,
      "metadata": {
        "id": "yPDOQZXwGZHM",
        "colab": {
          "base_uri": "https://localhost:8080/"
        },
        "outputId": "d2861a55-69b4-46d3-d03d-85cc7843027e"
      },
      "outputs": [
        {
          "output_type": "stream",
          "name": "stdout",
          "text": [
            "2022-12-31\n",
            "<class 'str'>\n"
          ]
        }
      ],
      "source": [
        "# date\n",
        "date = '2022-12-31' # separated by hyphens\n",
        "print(date)\n",
        "print(type(date))"
      ]
    },
    {
      "cell_type": "code",
      "source": [
        "# To manipulate dates in Python ...\n",
        "# we need to import datetime package from datetime module ( very important !!! )\n",
        "\n",
        "from datetime import datetime"
      ],
      "metadata": {
        "id": "QhYhHsrosnqe"
      },
      "execution_count": 35,
      "outputs": []
    },
    {
      "cell_type": "code",
      "source": [
        "# to convert the string into a date object...\n",
        "\n",
        "# with .strptime method  we tell Python how to read the string, by specifying which part is the year (%Y), month (%m), day (%d), \n",
        "# all separated by hyphen '%Y-%m-%d'\n",
        "\n",
        "date = datetime.strptime(date, '%Y-%m-%d')\n",
        "\n",
        "print(date)\n",
        "print(type(date))\n"
      ],
      "metadata": {
        "id": "L_ki3poOq-9b",
        "colab": {
          "base_uri": "https://localhost:8080/"
        },
        "outputId": "a2714447-da5f-404b-b6b8-cfe65f2d9356"
      },
      "execution_count": 36,
      "outputs": [
        {
          "output_type": "stream",
          "name": "stdout",
          "text": [
            "2022-12-31 00:00:00\n",
            "<class 'datetime.datetime'>\n"
          ]
        }
      ]
    },
    {
      "cell_type": "code",
      "source": [
        "# if we want to omitt time (hous, minutes, seconds)\n",
        "\n",
        "# to convert the string into a date object...\n",
        "\n",
        "# with .strptime method  we tell Python how to read the string, by specifying which part is the year (%Y), month (%m), day (%d), \n",
        "# all separated by hyphen '%Y-%m-%d'\n",
        "\n",
        "# we need to add .date() in the end, to tell python to convert it to date\n",
        "\n",
        "date = '2022-12-31' # separated by hyphens\n",
        "\n",
        "date = datetime.strptime(date, '%Y-%m-%d').date()\n",
        "\n",
        "print(date)\n",
        "print(type(date))\n",
        "\n"
      ],
      "metadata": {
        "id": "aV28-ZDD5IXZ",
        "colab": {
          "base_uri": "https://localhost:8080/"
        },
        "outputId": "f8603919-4c11-4997-b396-b491aea0d13d"
      },
      "execution_count": 37,
      "outputs": [
        {
          "output_type": "stream",
          "name": "stdout",
          "text": [
            "2022-12-31\n",
            "<class 'datetime.date'>\n"
          ]
        }
      ]
    },
    {
      "cell_type": "code",
      "execution_count": 38,
      "metadata": {
        "id": "Gq7qbSFhGrn-",
        "colab": {
          "base_uri": "https://localhost:8080/"
        },
        "outputId": "50f1b3f9-d776-4c96-9825-fbb5a86be4e8"
      },
      "outputs": [
        {
          "output_type": "stream",
          "name": "stdout",
          "text": [
            "<class 'datetime.datetime'>\n",
            "2018-09-19 13:55:26\n"
          ]
        }
      ],
      "source": [
        "# to convert a string that have date + time (hours, minutes, seconds...)\n",
        "# we need to tell python that the 1st bit of the string is the month, separated by a slash, \n",
        "# then day, \n",
        "# then year (with format %y, meaning 18 instead of 2018)\n",
        "# the hours, (%H) separated by :\n",
        "# then minutes, (%M) separated by :\n",
        "# the seconds, (%S)\n",
        "\n",
        "datetime_time = '09/19/18 13:55:26'\n",
        "\n",
        "datetime_time = datetime.strptime(datetime_time, '%m/%d/%y %H:%M:%S')\n",
        "\n",
        "print(type(datetime_time))\n",
        "print(datetime_time)  # printed in default format"
      ]
    },
    {
      "cell_type": "code",
      "source": [
        "# Print the date in the format 'YYYY-MM'\n",
        "\n",
        "# our datetime_time variable is already perceived as a date by Python...\n",
        "\n",
        "\n",
        "print(datetime_time.strftime('%Y/%m'))"
      ],
      "metadata": {
        "id": "6FCkTBmppZQh",
        "colab": {
          "base_uri": "https://localhost:8080/"
        },
        "outputId": "20b4c7d5-5db0-4ee3-f094-3e008884ac42"
      },
      "execution_count": 39,
      "outputs": [
        {
          "output_type": "stream",
          "name": "stdout",
          "text": [
            "2018/09\n"
          ]
        }
      ]
    },
    {
      "cell_type": "code",
      "source": [
        "# if we want the month first and then the year\n",
        "print(datetime_time.strftime('%m-%Y'))"
      ],
      "metadata": {
        "id": "Kle7LCEI_9rb",
        "colab": {
          "base_uri": "https://localhost:8080/"
        },
        "outputId": "6369b88e-7977-4380-9c58-17125aced43a"
      },
      "execution_count": 40,
      "outputs": [
        {
          "output_type": "stream",
          "name": "stdout",
          "text": [
            "09-2018\n"
          ]
        }
      ]
    },
    {
      "cell_type": "markdown",
      "source": [
        "The date conversions can be helpfull, as when working with excels, often, Python reads the dates as a string.\n",
        "\n",
        "So, you'll need to convert the strings that are supposed to be read as a date ...."
      ],
      "metadata": {
        "id": "Me8gk10A6CX8"
      }
    },
    {
      "cell_type": "code",
      "source": [
        "# ... But, Python allows you create a date from the start\n",
        "\n",
        "# to do so, you need to import package date from datetime module\n",
        "\n",
        "from datetime import date\n",
        "\n",
        "anniversary_date = date(1992, 8, 24) # year, month, day\n",
        "print(anniversary_date)\n",
        "print(type(anniversary_date))"
      ],
      "metadata": {
        "id": "Ofxog2KK5_eo",
        "colab": {
          "base_uri": "https://localhost:8080/"
        },
        "outputId": "fcd9443a-b935-4b31-d472-3208c7d9cd9a"
      },
      "execution_count": 41,
      "outputs": [
        {
          "output_type": "stream",
          "name": "stdout",
          "text": [
            "1992-08-24\n",
            "<class 'datetime.date'>\n"
          ]
        }
      ]
    },
    {
      "cell_type": "markdown",
      "source": [
        "More about date conversion\n",
        "https://www.digitalocean.com/community/tutorials/python-string-to-datetime-strptime\n",
        "\n",
        "More about dates https://www.w3schools.com/python/python_datetime.asp\n",
        "\n",
        "More about date and time manipulation https://www.programiz.com/python-programming/datetime\n",
        "\n",
        "How to format dates https://www.geeksforgeeks.org/how-to-format-date-using-strftime-in-python/\n",
        "\n",
        "Practice dates https://campus.datacamp.com/courses/working-with-dates-and-times-in-python/dates-and-calendars?ex=1"
      ],
      "metadata": {
        "id": "Nw6iK08OJQnX"
      }
    },
    {
      "cell_type": "markdown",
      "metadata": {
        "id": "NjB4qFKcJrjh"
      },
      "source": [
        "# 6.&nbsp;Lists"
      ]
    },
    {
      "cell_type": "markdown",
      "source": [
        "Lists are used to store multiple items in a single variable."
      ],
      "metadata": {
        "id": "3iihaoGCxjUM"
      }
    },
    {
      "cell_type": "markdown",
      "source": [
        "More about lists https://www.w3schools.com/python/python_lists.asp"
      ],
      "metadata": {
        "id": "62gzT1Qkz7CO"
      }
    },
    {
      "cell_type": "markdown",
      "source": [
        "## List creation"
      ],
      "metadata": {
        "id": "YonfVue1LYmX"
      }
    },
    {
      "cell_type": "code",
      "source": [
        "# Using list constructor\n",
        "my_list1 = list((1, 2, 3))\n",
        "print(my_list1)"
      ],
      "metadata": {
        "id": "GTl4nyT3K9e_",
        "colab": {
          "base_uri": "https://localhost:8080/"
        },
        "outputId": "07c695bd-ab75-4c32-ac3a-e8d4420f4c65"
      },
      "execution_count": 42,
      "outputs": [
        {
          "output_type": "stream",
          "name": "stdout",
          "text": [
            "[1, 2, 3]\n"
          ]
        }
      ]
    },
    {
      "cell_type": "code",
      "execution_count": 43,
      "metadata": {
        "id": "R53W5QqYJtFz",
        "colab": {
          "base_uri": "https://localhost:8080/"
        },
        "outputId": "ea325063-34e6-44d4-cd47-4cae02b0b587"
      },
      "outputs": [
        {
          "output_type": "stream",
          "name": "stdout",
          "text": [
            "the type of our_list <class 'list'>\n",
            "['a', 'b', 'c', 1, 1.5]\n"
          ]
        }
      ],
      "source": [
        "# create a list\n",
        "our_list = [\"a\",\"b\",\"c\", 1, 1.5]\n",
        "print('the type of our_list', type(our_list))\n",
        "print(our_list)"
      ]
    },
    {
      "cell_type": "markdown",
      "source": [
        "## Append an element"
      ],
      "metadata": {
        "id": "BvQyUPBdLcDg"
      }
    },
    {
      "cell_type": "code",
      "execution_count": 44,
      "metadata": {
        "id": "qbDBvcLKJv89",
        "colab": {
          "base_uri": "https://localhost:8080/"
        },
        "outputId": "fd820fab-e80e-4dce-e36e-fdc209c4e430"
      },
      "outputs": [
        {
          "output_type": "stream",
          "name": "stdout",
          "text": [
            "['a', 'b', 'c', 1, 1.5, 'd']\n"
          ]
        }
      ],
      "source": [
        "# append an element to the list\n",
        "\n",
        "our_list.append(\"d\") # it will append 'd' at the end of the list\n",
        "print(our_list)"
      ]
    },
    {
      "cell_type": "markdown",
      "source": [
        "## Index and Slicing"
      ],
      "metadata": {
        "id": "VNNw5dTVLsQv"
      }
    },
    {
      "cell_type": "markdown",
      "source": [
        "The items in a list can be accessed through indexing and slicing. This section will guide you by accessing the list using the following two ways\n",
        "\n",
        "\n",
        "\n",
        "*   **Using indexing**, we can access any item from a list using its index number\n",
        "*   **Using slicing** , we can access a range of items from a list"
      ],
      "metadata": {
        "id": "E8UrdgcGMFEu"
      }
    },
    {
      "cell_type": "markdown",
      "source": [
        "Index"
      ],
      "metadata": {
        "id": "YaAEJS58NNUK"
      }
    },
    {
      "cell_type": "code",
      "execution_count": 45,
      "metadata": {
        "id": "mxihBDedKIN1",
        "colab": {
          "base_uri": "https://localhost:8080/",
          "height": 35
        },
        "outputId": "519e7699-920e-4155-ef13-90b6929ed77c"
      },
      "outputs": [
        {
          "output_type": "execute_result",
          "data": {
            "text/plain": [
              "'a'"
            ],
            "application/vnd.google.colaboratory.intrinsic+json": {
              "type": "string"
            }
          },
          "metadata": {},
          "execution_count": 45
        }
      ],
      "source": [
        "# access element in the list\n",
        "\n",
        "# list indexing starts a 0\n",
        "\n",
        "# access first element in the list\n",
        "our_list[0]"
      ]
    },
    {
      "cell_type": "code",
      "execution_count": 46,
      "metadata": {
        "id": "s2KS0Vy9KhJd",
        "colab": {
          "base_uri": "https://localhost:8080/",
          "height": 35
        },
        "outputId": "d01b84ec-7635-4cc6-8b03-dcdc00ca0ddd"
      },
      "outputs": [
        {
          "output_type": "execute_result",
          "data": {
            "text/plain": [
              "'d'"
            ],
            "application/vnd.google.colaboratory.intrinsic+json": {
              "type": "string"
            }
          },
          "metadata": {},
          "execution_count": 46
        }
      ],
      "source": [
        "# access last element in the list\n",
        "our_list[-1]"
      ]
    },
    {
      "cell_type": "code",
      "source": [
        "# negative index: the second element from the end of the list\n",
        "\n",
        "our_list[-2]"
      ],
      "metadata": {
        "id": "q6_N3_VOMyBp",
        "colab": {
          "base_uri": "https://localhost:8080/"
        },
        "outputId": "81809597-6057-4bac-da1b-d240194c616b"
      },
      "execution_count": 47,
      "outputs": [
        {
          "output_type": "execute_result",
          "data": {
            "text/plain": [
              "1.5"
            ]
          },
          "metadata": {},
          "execution_count": 47
        }
      ]
    },
    {
      "cell_type": "code",
      "source": [
        "# access the 3rd element of the list\n",
        "\n",
        "print(our_list)\n",
        "our_list[2] # because our first index is 0"
      ],
      "metadata": {
        "id": "a24Xzhr6MfDG",
        "colab": {
          "base_uri": "https://localhost:8080/",
          "height": 52
        },
        "outputId": "c2f65921-5718-45ba-c403-57f15bf63872"
      },
      "execution_count": 48,
      "outputs": [
        {
          "output_type": "stream",
          "name": "stdout",
          "text": [
            "['a', 'b', 'c', 1, 1.5, 'd']\n"
          ]
        },
        {
          "output_type": "execute_result",
          "data": {
            "text/plain": [
              "'c'"
            ],
            "application/vnd.google.colaboratory.intrinsic+json": {
              "type": "string"
            }
          },
          "metadata": {},
          "execution_count": 48
        }
      ]
    },
    {
      "cell_type": "markdown",
      "source": [
        "Slicing"
      ],
      "metadata": {
        "id": "P_qDJkWnNP9h"
      }
    },
    {
      "cell_type": "code",
      "source": [
        "# the first 2 elements\n",
        "\n",
        "print(our_list)\n",
        "print(our_list[2])\n",
        "our_list[:2] "
      ],
      "metadata": {
        "id": "Fr3S-xjsMs6h",
        "colab": {
          "base_uri": "https://localhost:8080/"
        },
        "outputId": "4ead15be-ba57-4add-8923-ed766b990c06"
      },
      "execution_count": 49,
      "outputs": [
        {
          "output_type": "stream",
          "name": "stdout",
          "text": [
            "['a', 'b', 'c', 1, 1.5, 'd']\n",
            "c\n"
          ]
        },
        {
          "output_type": "execute_result",
          "data": {
            "text/plain": [
              "['a', 'b']"
            ]
          },
          "metadata": {},
          "execution_count": 49
        }
      ]
    },
    {
      "cell_type": "code",
      "source": [
        "# Stating from 2nd item to last item ==> ['c', 1, 1.5, 'd']\n",
        "\n",
        "print(our_list)\n",
        "print(our_list[2:]) # not that here the lower limit is included"
      ],
      "metadata": {
        "id": "PwfDJYlPPkrk",
        "colab": {
          "base_uri": "https://localhost:8080/"
        },
        "outputId": "c3514e7e-a291-444b-dfc0-493bf3e89719"
      },
      "execution_count": 50,
      "outputs": [
        {
          "output_type": "stream",
          "name": "stdout",
          "text": [
            "['a', 'b', 'c', 1, 1.5, 'd']\n",
            "['c', 1, 1.5, 'd']\n"
          ]
        }
      ]
    },
    {
      "cell_type": "code",
      "source": [
        "# access the sublist c to 1.5 ==> ['c', 1, 1.5]\n",
        "\n",
        "print(our_list)\n",
        "print(our_list[2])\n",
        "print(our_list[4])\n"
      ],
      "metadata": {
        "id": "0opo7jc0NwYy",
        "colab": {
          "base_uri": "https://localhost:8080/"
        },
        "outputId": "67ea4ab9-4d57-40fb-8b87-3c4ca7656003"
      },
      "execution_count": 51,
      "outputs": [
        {
          "output_type": "stream",
          "name": "stdout",
          "text": [
            "['a', 'b', 'c', 1, 1.5, 'd']\n",
            "c\n",
            "1.5\n"
          ]
        }
      ]
    },
    {
      "cell_type": "code",
      "source": [
        "our_list[2:4] # note that upper limit is not included"
      ],
      "metadata": {
        "id": "vPvF_0pfgvC4",
        "colab": {
          "base_uri": "https://localhost:8080/"
        },
        "outputId": "3e7f41ac-5262-4cdb-b5aa-dd515281b8ca"
      },
      "execution_count": 52,
      "outputs": [
        {
          "output_type": "execute_result",
          "data": {
            "text/plain": [
              "['c', 1]"
            ]
          },
          "metadata": {},
          "execution_count": 52
        }
      ]
    },
    {
      "cell_type": "code",
      "source": [
        "our_list[2:5] # we have to add +1 to upper limit if we want to include 1.5"
      ],
      "metadata": {
        "id": "st8AYAIHgTGm",
        "colab": {
          "base_uri": "https://localhost:8080/"
        },
        "outputId": "6fff51c7-02b1-4eb5-de49-3bfe9d96bb6a"
      },
      "execution_count": 53,
      "outputs": [
        {
          "output_type": "execute_result",
          "data": {
            "text/plain": [
              "['c', 1, 1.5]"
            ]
          },
          "metadata": {},
          "execution_count": 53
        }
      ]
    },
    {
      "cell_type": "markdown",
      "source": [
        "##Length"
      ],
      "metadata": {
        "id": "qSTSlqy6MbgR"
      }
    },
    {
      "cell_type": "code",
      "execution_count": 54,
      "metadata": {
        "id": "ohnrobWmKV4p",
        "colab": {
          "base_uri": "https://localhost:8080/"
        },
        "outputId": "2ceac8c0-0c32-4c7c-9d0a-7b918c430944"
      },
      "outputs": [
        {
          "output_type": "execute_result",
          "data": {
            "text/plain": [
              "6"
            ]
          },
          "metadata": {},
          "execution_count": 54
        }
      ],
      "source": [
        "# length of the list\n",
        "len(our_list)"
      ]
    },
    {
      "cell_type": "markdown",
      "source": [
        "## Insertions"
      ],
      "metadata": {
        "id": "_1NpXj6sYXwB"
      }
    },
    {
      "cell_type": "code",
      "execution_count": 55,
      "metadata": {
        "id": "cf3_W70uJzK8",
        "colab": {
          "base_uri": "https://localhost:8080/"
        },
        "outputId": "db4cec16-fb99-4686-a364-b92428d5084a"
      },
      "outputs": [
        {
          "output_type": "stream",
          "name": "stdout",
          "text": [
            "['First element', 'a', 'b', 'c', 1, 1.5, 'd']\n"
          ]
        }
      ],
      "source": [
        "# insert an element in the list at 1st position\n",
        "\n",
        "our_list.insert(0, \"First element\") # instert before 1st element\n",
        "print(our_list)"
      ]
    },
    {
      "cell_type": "code",
      "execution_count": 56,
      "metadata": {
        "id": "3iKzh86PKybY",
        "colab": {
          "base_uri": "https://localhost:8080/"
        },
        "outputId": "dbd26d8d-52e4-4315-c7cf-08d7bbe84777"
      },
      "outputs": [
        {
          "output_type": "stream",
          "name": "stdout",
          "text": [
            "['First element', 'a', 'b', 'c', 1, 1.5, 'element', 'd']\n"
          ]
        }
      ],
      "source": [
        "# insert an element in the list before the last one\n",
        "\n",
        "our_list.insert(-1,\"element\") # instert before last element\n",
        "print(our_list)\n"
      ]
    },
    {
      "cell_type": "markdown",
      "source": [
        "## Remove"
      ],
      "metadata": {
        "id": "Xd9B-CAkZSfJ"
      }
    },
    {
      "cell_type": "code",
      "execution_count": 57,
      "metadata": {
        "id": "Gb4Zet70J1Cd",
        "colab": {
          "base_uri": "https://localhost:8080/"
        },
        "outputId": "46b7dfd7-d5ab-4042-8072-502c22276578"
      },
      "outputs": [
        {
          "output_type": "stream",
          "name": "stdout",
          "text": [
            "['a', 'b', 'c', 1, 1.5, 'element', 'd']\n"
          ]
        }
      ],
      "source": [
        "# remove element\n",
        "our_list.remove(\"First element\")\n",
        "print(our_list)\n"
      ]
    },
    {
      "cell_type": "code",
      "execution_count": 58,
      "metadata": {
        "id": "mSalYk6YJ2sG",
        "colab": {
          "base_uri": "https://localhost:8080/"
        },
        "outputId": "129c5990-4a07-4f65-8f5e-6ded8f1adcac"
      },
      "outputs": [
        {
          "output_type": "stream",
          "name": "stdout",
          "text": [
            "['b', 'c', 1, 1.5, 'element', 'd']\n"
          ]
        }
      ],
      "source": [
        "# remove element by its index\n",
        "\n",
        "our_list.pop(0)\n",
        "print(our_list)\n"
      ]
    },
    {
      "cell_type": "markdown",
      "source": [
        "## Nested List"
      ],
      "metadata": {
        "id": "4uxmO7G7dBlm"
      }
    },
    {
      "cell_type": "code",
      "execution_count": 59,
      "metadata": {
        "id": "MYHwxGC7J6i_",
        "colab": {
          "base_uri": "https://localhost:8080/"
        },
        "outputId": "f3021dca-db92-41a4-c34f-5ff79247243a"
      },
      "outputs": [
        {
          "output_type": "stream",
          "name": "stdout",
          "text": [
            "[[1, 2, 3], 6, 7, 5]\n"
          ]
        }
      ],
      "source": [
        "# we can have nested lists\n",
        "\n",
        "nested_list = [[1,2,3],6,7,5]\n",
        "print(nested_list)"
      ]
    },
    {
      "cell_type": "code",
      "execution_count": 60,
      "metadata": {
        "id": "HoXeJgLULVYI",
        "colab": {
          "base_uri": "https://localhost:8080/"
        },
        "outputId": "5c849c6b-be11-4b52-b5fb-ed2f2e0b8ba0"
      },
      "outputs": [
        {
          "output_type": "execute_result",
          "data": {
            "text/plain": [
              "4"
            ]
          },
          "metadata": {},
          "execution_count": 60
        }
      ],
      "source": [
        "# length of nested ==> the list within my_list [1, 2, 3] will be considered a single element\n",
        "len(nested_list)"
      ]
    },
    {
      "cell_type": "code",
      "execution_count": 61,
      "metadata": {
        "id": "lWfUBRmDLZ0i",
        "colab": {
          "base_uri": "https://localhost:8080/"
        },
        "outputId": "0d5423ab-a03b-4e40-8509-ae0f31bd65d7"
      },
      "outputs": [
        {
          "output_type": "execute_result",
          "data": {
            "text/plain": [
              "[1, 2, 3]"
            ]
          },
          "metadata": {},
          "execution_count": 61
        }
      ],
      "source": [
        "# access 1st element of nested list\n",
        "nested_list[0]"
      ]
    },
    {
      "cell_type": "code",
      "execution_count": 62,
      "metadata": {
        "id": "OESQK8qeLi6z",
        "colab": {
          "base_uri": "https://localhost:8080/"
        },
        "outputId": "aa15a004-e49f-4072-9354-c0156015c129"
      },
      "outputs": [
        {
          "output_type": "execute_result",
          "data": {
            "text/plain": [
              "6"
            ]
          },
          "metadata": {},
          "execution_count": 62
        }
      ],
      "source": [
        "# access 2nd element of nested list\n",
        "nested_list[1]"
      ]
    },
    {
      "cell_type": "code",
      "execution_count": 63,
      "metadata": {
        "id": "0XjmRBPILf6J",
        "colab": {
          "base_uri": "https://localhost:8080/"
        },
        "outputId": "b751805d-3ca1-488c-d7d5-603cd5b8fb70"
      },
      "outputs": [
        {
          "output_type": "execute_result",
          "data": {
            "text/plain": [
              "2"
            ]
          },
          "metadata": {},
          "execution_count": 63
        }
      ],
      "source": [
        "# access an element from a list within the nested list 2\n",
        "nested_list[0][1]"
      ]
    },
    {
      "cell_type": "markdown",
      "source": [
        "More about lists https://pynative.com/python-lists/"
      ],
      "metadata": {
        "id": "tTIB5A1pKRJA"
      }
    },
    {
      "cell_type": "markdown",
      "source": [
        "## List Practice ***"
      ],
      "metadata": {
        "id": "3TRz4t_DVRLK"
      }
    },
    {
      "cell_type": "markdown",
      "source": [
        "In order to better understand how to work with lists, please try to write by yourself the code for the following tasks.\n",
        "\n",
        "If you don't figure out how to do it, or you just want to check if you got the right solution, just click the arrow next to \"Display Solution\" and click on \"Run button\" to execute the code"
      ],
      "metadata": {
        "id": "OxpelYw0350M"
      }
    },
    {
      "cell_type": "markdown",
      "source": [
        "### Assigment 1"
      ],
      "metadata": {
        "id": "FCk68AJIz8CW"
      }
    },
    {
      "cell_type": "code",
      "source": [
        "# Create a list called 'my_list' with elements 'John', 'Emma', 10, 5, 3, 'Daniel', 'Tom', 34, 30 and print it out\n",
        "\n",
        "# you code here ...\n",
        "\n"
      ],
      "metadata": {
        "id": "TpOMoqlb7eZG"
      },
      "execution_count": 64,
      "outputs": []
    },
    {
      "cell_type": "code",
      "source": [
        "#@title Display the solution 1\n",
        "\n",
        "my_list= ['John', 'Emma', 10, 5, 3, 'Daniel', 'Tom', 34, 30]\n",
        "print(my_list)\n"
      ],
      "metadata": {
        "cellView": "form",
        "id": "f2kwHEt27X8Z",
        "colab": {
          "base_uri": "https://localhost:8080/"
        },
        "outputId": "b6333541-9a4d-461d-8a1d-d78c7cc3e592"
      },
      "execution_count": 65,
      "outputs": [
        {
          "output_type": "stream",
          "name": "stdout",
          "text": [
            "['John', 'Emma', 10, 5, 3, 'Daniel', 'Tom', 34, 30]\n"
          ]
        }
      ]
    },
    {
      "cell_type": "markdown",
      "source": [
        "### Assigment 2"
      ],
      "metadata": {
        "id": "hMa2u4uy0GlN"
      }
    },
    {
      "cell_type": "code",
      "source": [
        "# Write a code to check how many element my_list have (the lengh of my_list)\n",
        "\n",
        "# your code here ...."
      ],
      "metadata": {
        "id": "ccflDIoX8Q9Y"
      },
      "execution_count": 66,
      "outputs": []
    },
    {
      "cell_type": "code",
      "source": [
        "#@title Display the solution 2\n",
        "\n",
        "# how many elements my_list has ?\n",
        "\n",
        "len(my_list)"
      ],
      "metadata": {
        "cellView": "form",
        "id": "ESR6Bgti0sTE",
        "colab": {
          "base_uri": "https://localhost:8080/"
        },
        "outputId": "716260c3-6a79-49c4-9bb6-75e73df4e080"
      },
      "execution_count": 67,
      "outputs": [
        {
          "output_type": "execute_result",
          "data": {
            "text/plain": [
              "9"
            ]
          },
          "metadata": {},
          "execution_count": 67
        }
      ]
    },
    {
      "cell_type": "markdown",
      "source": [
        "### Assigment 3"
      ],
      "metadata": {
        "id": "tT3oyXP00M8i"
      }
    },
    {
      "cell_type": "code",
      "source": [
        "# append 'Bill' to the list and check now its length\n",
        "\n",
        "# your code here..."
      ],
      "metadata": {
        "id": "AWMnUF-o0wq9"
      },
      "execution_count": 68,
      "outputs": []
    },
    {
      "cell_type": "code",
      "source": [
        "#@title Display the solution 3\n",
        "\n",
        "# append 'Bill' to the list and check now its length\n",
        "\n",
        "my_list.append('Bill')\n",
        "print('Now the modified my_list is: ', my_list)\n",
        "print('The length of the modified list is: ', len(my_list))"
      ],
      "metadata": {
        "id": "eolhEZfE8tDZ",
        "cellView": "form",
        "colab": {
          "base_uri": "https://localhost:8080/"
        },
        "outputId": "15b3d3f1-68c1-47cc-a70c-445b21c320a6"
      },
      "execution_count": 69,
      "outputs": [
        {
          "output_type": "stream",
          "name": "stdout",
          "text": [
            "Now the modified my_list is:  ['John', 'Emma', 10, 5, 3, 'Daniel', 'Tom', 34, 30, 'Bill']\n",
            "The length of the modified list is:  10\n"
          ]
        }
      ]
    },
    {
      "cell_type": "markdown",
      "source": [
        "### Assigment 4"
      ],
      "metadata": {
        "id": "Z3twAlXt0QFC"
      }
    },
    {
      "cell_type": "code",
      "source": [
        "# return the element 'John' from my_list\n",
        "\n",
        "# your code here"
      ],
      "metadata": {
        "id": "wCCL9VRG8tIQ"
      },
      "execution_count": 70,
      "outputs": []
    },
    {
      "cell_type": "code",
      "source": [
        "#@title Display the solution 4\n",
        "\n",
        "# return 'John'\n",
        "my_list[0]"
      ],
      "metadata": {
        "id": "Pu6H_5kH0zL9",
        "cellView": "form",
        "colab": {
          "base_uri": "https://localhost:8080/",
          "height": 35
        },
        "outputId": "bac87f3a-36df-4e6a-82ce-291b1e224312"
      },
      "execution_count": 71,
      "outputs": [
        {
          "output_type": "execute_result",
          "data": {
            "text/plain": [
              "'John'"
            ],
            "application/vnd.google.colaboratory.intrinsic+json": {
              "type": "string"
            }
          },
          "metadata": {},
          "execution_count": 71
        }
      ]
    },
    {
      "cell_type": "markdown",
      "source": [
        "### Assigment 5"
      ],
      "metadata": {
        "id": "Caof_lLu0Ttn"
      }
    },
    {
      "cell_type": "code",
      "source": [
        "# return 'Bill'\n",
        "\n",
        "# your code here ..."
      ],
      "metadata": {
        "id": "Cp_ZWUNZ01ka"
      },
      "execution_count": 72,
      "outputs": []
    },
    {
      "cell_type": "code",
      "source": [
        "#@title Display the solution 5\n",
        "\n",
        "# return 'Bill'\n",
        "my_list[-1]"
      ],
      "metadata": {
        "cellView": "form",
        "id": "-qikJLpT_wGK",
        "colab": {
          "base_uri": "https://localhost:8080/",
          "height": 35
        },
        "outputId": "5a70cd79-fb2b-4c08-fec8-6eddbb6c9906"
      },
      "execution_count": 73,
      "outputs": [
        {
          "output_type": "execute_result",
          "data": {
            "text/plain": [
              "'Bill'"
            ],
            "application/vnd.google.colaboratory.intrinsic+json": {
              "type": "string"
            }
          },
          "metadata": {},
          "execution_count": 73
        }
      ]
    },
    {
      "cell_type": "markdown",
      "source": [
        "### Assigment 6"
      ],
      "metadata": {
        "id": "qzzDmXP50WV4"
      }
    },
    {
      "cell_type": "code",
      "source": [
        "# return element 34 from my_list\n",
        "\n",
        "# your code here ..."
      ],
      "metadata": {
        "id": "p_r4X73j03g4"
      },
      "execution_count": 74,
      "outputs": []
    },
    {
      "cell_type": "code",
      "source": [
        "#@title Display the solution 6\n",
        "\n",
        "# return 34\n",
        "my_list[-3]"
      ],
      "metadata": {
        "cellView": "form",
        "id": "rJk9aBWm_5Kd",
        "colab": {
          "base_uri": "https://localhost:8080/"
        },
        "outputId": "31f4de5f-fa85-4ee0-9f24-4e3cae0e5cba"
      },
      "execution_count": 75,
      "outputs": [
        {
          "output_type": "execute_result",
          "data": {
            "text/plain": [
              "34"
            ]
          },
          "metadata": {},
          "execution_count": 75
        }
      ]
    },
    {
      "cell_type": "markdown",
      "source": [
        "### Assigment 7"
      ],
      "metadata": {
        "id": "hfMAicI90bLd"
      }
    },
    {
      "cell_type": "code",
      "source": [
        "# return John and Emma\n",
        "\n",
        "# your code here ..."
      ],
      "metadata": {
        "id": "bRzniT7f06Dg"
      },
      "execution_count": 76,
      "outputs": []
    },
    {
      "cell_type": "code",
      "source": [
        "#@title Display the solution 7\n",
        "\n",
        "# return John and Emma\n",
        "my_list[:2]\n"
      ],
      "metadata": {
        "cellView": "form",
        "id": "6_sszPvX_7ew",
        "colab": {
          "base_uri": "https://localhost:8080/"
        },
        "outputId": "a90f0877-5622-4371-ec15-54e58a90ad69"
      },
      "execution_count": 77,
      "outputs": [
        {
          "output_type": "execute_result",
          "data": {
            "text/plain": [
              "['John', 'Emma']"
            ]
          },
          "metadata": {},
          "execution_count": 77
        }
      ]
    },
    {
      "cell_type": "markdown",
      "source": [
        "### Assigment 8"
      ],
      "metadata": {
        "id": "oiMxynEb0duz"
      }
    },
    {
      "cell_type": "code",
      "source": [
        "# return Emma, 10, 5\n",
        "\n",
        "# your code here ..."
      ],
      "metadata": {
        "id": "oVecGaro1AQA"
      },
      "execution_count": 78,
      "outputs": []
    },
    {
      "cell_type": "code",
      "source": [
        "#@title Display the solution 8\n",
        "\n",
        "# return Emma, 10, 5\n",
        "my_list[1:4]"
      ],
      "metadata": {
        "cellView": "form",
        "id": "1aiLIcAO_88I",
        "colab": {
          "base_uri": "https://localhost:8080/"
        },
        "outputId": "398a832d-6daa-4fa9-f10b-e7d9292104ea"
      },
      "execution_count": 79,
      "outputs": [
        {
          "output_type": "execute_result",
          "data": {
            "text/plain": [
              "['Emma', 10, 5]"
            ]
          },
          "metadata": {},
          "execution_count": 79
        }
      ]
    },
    {
      "cell_type": "markdown",
      "source": [
        "### Assigment 9"
      ],
      "metadata": {
        "id": "-GYQ5QU40hXh"
      }
    },
    {
      "cell_type": "code",
      "source": [
        "# return Tom, 34, 30, Bill\n",
        "\n",
        "# your code here ..."
      ],
      "metadata": {
        "id": "XkfCFLNc1A2W"
      },
      "execution_count": 80,
      "outputs": []
    },
    {
      "cell_type": "code",
      "source": [
        "#@title Display the solution 9\n",
        "\n",
        "# return Tom, 34, 30, Bill\n",
        "\n",
        "print(my_list[-4:])\n",
        "\n",
        "#  OR\n",
        "\n",
        "my_list[6:]"
      ],
      "metadata": {
        "cellView": "form",
        "id": "Wv7dlrbT_-RM",
        "colab": {
          "base_uri": "https://localhost:8080/"
        },
        "outputId": "ff362a12-4b1a-4d34-9938-a6bf1b5b2992"
      },
      "execution_count": 81,
      "outputs": [
        {
          "output_type": "stream",
          "name": "stdout",
          "text": [
            "['Tom', 34, 30, 'Bill']\n"
          ]
        },
        {
          "output_type": "execute_result",
          "data": {
            "text/plain": [
              "['Tom', 34, 30, 'Bill']"
            ]
          },
          "metadata": {},
          "execution_count": 81
        }
      ]
    },
    {
      "cell_type": "markdown",
      "source": [
        "### Assigment 10"
      ],
      "metadata": {
        "id": "0AnNMt6W0jof"
      }
    },
    {
      "cell_type": "code",
      "source": [
        "# insert an element 'Julia' in the list at 2nd position\n",
        "\n",
        "# your code here ..."
      ],
      "metadata": {
        "id": "yYdO-ouJ1DXh"
      },
      "execution_count": 82,
      "outputs": []
    },
    {
      "cell_type": "code",
      "source": [
        "#@title Display the solution 10\n",
        "\n",
        "# insert an element 'Julia' in the list at 2nd position (*** or 1st position in Python logic ***)\n",
        "\n",
        "my_list.insert(1, \"Julia\") # instert before 1st element\n",
        "print(my_list)"
      ],
      "metadata": {
        "cellView": "form",
        "id": "KgJMrnT6AAJw",
        "colab": {
          "base_uri": "https://localhost:8080/"
        },
        "outputId": "95b487ed-3de0-4e44-cd13-ff33d5730730"
      },
      "execution_count": 83,
      "outputs": [
        {
          "output_type": "stream",
          "name": "stdout",
          "text": [
            "['John', 'Julia', 'Emma', 10, 5, 3, 'Daniel', 'Tom', 34, 30, 'Bill']\n"
          ]
        }
      ]
    },
    {
      "cell_type": "markdown",
      "source": [
        "### Assigment 11"
      ],
      "metadata": {
        "id": "nSKQ5pX60s7H"
      }
    },
    {
      "cell_type": "code",
      "source": [
        "# insert an element 'Anna\" in the list before 30\n",
        "\n",
        "# your code here ..."
      ],
      "metadata": {
        "id": "kl0wyky61GL1"
      },
      "execution_count": 84,
      "outputs": []
    },
    {
      "cell_type": "code",
      "source": [
        "#@title Display the solution 11\n",
        "\n",
        "# insert an element 'Anna\" in the list before 30\n",
        "\n",
        "my_list.insert(-2,\"Anna\") # instert before last element\n",
        "print(my_list)"
      ],
      "metadata": {
        "cellView": "form",
        "id": "sNOfr1AMABhX",
        "colab": {
          "base_uri": "https://localhost:8080/"
        },
        "outputId": "48f5a6bc-5ec5-4496-ec1f-aad715e91f61"
      },
      "execution_count": 85,
      "outputs": [
        {
          "output_type": "stream",
          "name": "stdout",
          "text": [
            "['John', 'Julia', 'Emma', 10, 5, 3, 'Daniel', 'Tom', 34, 'Anna', 30, 'Bill']\n"
          ]
        }
      ]
    },
    {
      "cell_type": "markdown",
      "source": [
        "### Assigment 12"
      ],
      "metadata": {
        "id": "G751GJAv0vWG"
      }
    },
    {
      "cell_type": "code",
      "source": [
        "# remove element 'Emma' \n",
        "#  ==> 2 ways to remove it: \n",
        "# with .remove method (if you want tu use the value of the element) \n",
        "# or .pop method (using the index of the eelement)\n",
        "\n",
        "# your code here ...\n"
      ],
      "metadata": {
        "id": "JYUIiYBP1IYu"
      },
      "execution_count": 86,
      "outputs": []
    },
    {
      "cell_type": "code",
      "source": [
        "#@title Display the solution 12\n",
        "\n",
        "# remove element 'Emma'\n",
        "my_list.remove(\"Emma\")\n",
        "print(my_list)\n",
        "\n",
        "## OR \n",
        "my_list.insert(2,\"Emma\")\n",
        "my_list.pop(2)\n",
        "print(my_list)"
      ],
      "metadata": {
        "cellView": "form",
        "id": "cLCiGth-AC8m",
        "colab": {
          "base_uri": "https://localhost:8080/"
        },
        "outputId": "f8f63a00-1ffb-4052-c95e-f51c3fd21279"
      },
      "execution_count": 87,
      "outputs": [
        {
          "output_type": "stream",
          "name": "stdout",
          "text": [
            "['John', 'Julia', 10, 5, 3, 'Daniel', 'Tom', 34, 'Anna', 30, 'Bill']\n",
            "['John', 'Julia', 10, 5, 3, 'Daniel', 'Tom', 34, 'Anna', 30, 'Bill']\n"
          ]
        }
      ]
    },
    {
      "cell_type": "markdown",
      "source": [
        "### Assigment 13"
      ],
      "metadata": {
        "id": "QsrL1vHL0y3q"
      }
    },
    {
      "cell_type": "code",
      "source": [
        "# append a new list [Sarah, 42, Jerry] ==> to obtain a nested list\n",
        "\n",
        "# your code here ..."
      ],
      "metadata": {
        "id": "MhMG8MjS1Phm"
      },
      "execution_count": 88,
      "outputs": []
    },
    {
      "cell_type": "code",
      "source": [
        "#@title Display the solution 13\n",
        "\n",
        "my_list.append(['Sarah', 42, 'Jerry'])\n",
        "print(my_list)"
      ],
      "metadata": {
        "cellView": "form",
        "id": "S_pYT0Z4AEZw",
        "colab": {
          "base_uri": "https://localhost:8080/"
        },
        "outputId": "de733dd0-8a7a-46ca-8c2f-727d36a58dd9"
      },
      "execution_count": 89,
      "outputs": [
        {
          "output_type": "stream",
          "name": "stdout",
          "text": [
            "['John', 'Julia', 10, 5, 3, 'Daniel', 'Tom', 34, 'Anna', 30, 'Bill', ['Sarah', 42, 'Jerry']]\n"
          ]
        }
      ]
    },
    {
      "cell_type": "markdown",
      "source": [
        "### Assigment 14"
      ],
      "metadata": {
        "id": "FzBJ403d00ra"
      }
    },
    {
      "cell_type": "code",
      "source": [
        "# return 'Sarah' (*** keep in mind that you have a nested list ***)\n",
        "\n",
        "# your code here ..."
      ],
      "metadata": {
        "id": "5ZSjSfnO1Lap"
      },
      "execution_count": 90,
      "outputs": []
    },
    {
      "cell_type": "code",
      "source": [
        "#@title Display the solution 14\n",
        "\n",
        "# return 'Sarah'\n",
        "my_list[-1][0]"
      ],
      "metadata": {
        "id": "iwLCEY4jAFjI",
        "colab": {
          "base_uri": "https://localhost:8080/",
          "height": 35
        },
        "outputId": "ad92f204-464a-4a28-fd01-a1b43bb6e493"
      },
      "execution_count": 91,
      "outputs": [
        {
          "output_type": "execute_result",
          "data": {
            "text/plain": [
              "'Sarah'"
            ],
            "application/vnd.google.colaboratory.intrinsic+json": {
              "type": "string"
            }
          },
          "metadata": {},
          "execution_count": 91
        }
      ]
    },
    {
      "cell_type": "markdown",
      "metadata": {
        "id": "ZCMxntYXMDiH"
      },
      "source": [
        "# 7.&nbsp;Strings"
      ]
    },
    {
      "cell_type": "code",
      "execution_count": 92,
      "metadata": {
        "id": "Yq-DuAVSLw8K",
        "colab": {
          "base_uri": "https://localhost:8080/",
          "height": 35
        },
        "outputId": "19d18911-498c-4421-e3f1-f3565508e8ea"
      },
      "outputs": [
        {
          "output_type": "execute_result",
          "data": {
            "text/plain": [
              "'text'"
            ],
            "application/vnd.google.colaboratory.intrinsic+json": {
              "type": "string"
            }
          },
          "metadata": {},
          "execution_count": 92
        }
      ],
      "source": [
        "string_a = 'text'\n",
        "string_a"
      ]
    },
    {
      "cell_type": "code",
      "execution_count": 93,
      "metadata": {
        "id": "xyCf0t6TMKuG",
        "colab": {
          "base_uri": "https://localhost:8080/",
          "height": 35
        },
        "outputId": "a309bfe3-081f-4330-db92-1c7c6979ffe2"
      },
      "outputs": [
        {
          "output_type": "execute_result",
          "data": {
            "text/plain": [
              "'This is a '"
            ],
            "application/vnd.google.colaboratory.intrinsic+json": {
              "type": "string"
            }
          },
          "metadata": {},
          "execution_count": 93
        }
      ],
      "source": [
        "string_b = 'This is a '\n",
        "string_b"
      ]
    },
    {
      "cell_type": "code",
      "execution_count": 94,
      "metadata": {
        "id": "LA_YJDp1MRhu",
        "colab": {
          "base_uri": "https://localhost:8080/",
          "height": 35
        },
        "outputId": "82e80be7-51e8-4b91-c7d4-82e7a8d072ae"
      },
      "outputs": [
        {
          "output_type": "execute_result",
          "data": {
            "text/plain": [
              "'This is a text'"
            ],
            "application/vnd.google.colaboratory.intrinsic+json": {
              "type": "string"
            }
          },
          "metadata": {},
          "execution_count": 94
        }
      ],
      "source": [
        "string_b + string_a"
      ]
    },
    {
      "cell_type": "code",
      "execution_count": 95,
      "metadata": {
        "id": "OIRgk1h8MTuU",
        "colab": {
          "base_uri": "https://localhost:8080/",
          "height": 35
        },
        "outputId": "9682d935-90de-47b4-b028-05e54de422c5"
      },
      "outputs": [
        {
          "output_type": "execute_result",
          "data": {
            "text/plain": [
              "'This is a text'"
            ],
            "application/vnd.google.colaboratory.intrinsic+json": {
              "type": "string"
            }
          },
          "metadata": {},
          "execution_count": 95
        }
      ],
      "source": [
        "string_c = string_b + string_a\n",
        "string_c"
      ]
    },
    {
      "cell_type": "code",
      "source": [
        "string_c.lower()"
      ],
      "metadata": {
        "id": "D1iQ5vBOe25p",
        "colab": {
          "base_uri": "https://localhost:8080/",
          "height": 35
        },
        "outputId": "bc970234-73b6-46ad-bb74-84ab96a746b3"
      },
      "execution_count": 96,
      "outputs": [
        {
          "output_type": "execute_result",
          "data": {
            "text/plain": [
              "'this is a text'"
            ],
            "application/vnd.google.colaboratory.intrinsic+json": {
              "type": "string"
            }
          },
          "metadata": {},
          "execution_count": 96
        }
      ]
    },
    {
      "cell_type": "code",
      "execution_count": 97,
      "metadata": {
        "id": "GHaA3MWoMjZ2",
        "colab": {
          "base_uri": "https://localhost:8080/",
          "height": 35
        },
        "outputId": "0a521e4b-8db7-4b10-d3e3-6edcb301ce50"
      },
      "outputs": [
        {
          "output_type": "execute_result",
          "data": {
            "text/plain": [
              "'THIS IS A TEXT'"
            ],
            "application/vnd.google.colaboratory.intrinsic+json": {
              "type": "string"
            }
          },
          "metadata": {},
          "execution_count": 97
        }
      ],
      "source": [
        "string_c.upper()"
      ]
    },
    {
      "cell_type": "code",
      "execution_count": 98,
      "metadata": {
        "id": "dnmLHQCLMr1j",
        "colab": {
          "base_uri": "https://localhost:8080/",
          "height": 35
        },
        "outputId": "f93a31d9-3d6d-450a-fc46-7391d570091c"
      },
      "outputs": [
        {
          "output_type": "execute_result",
          "data": {
            "text/plain": [
              "'T'"
            ],
            "application/vnd.google.colaboratory.intrinsic+json": {
              "type": "string"
            }
          },
          "metadata": {},
          "execution_count": 98
        }
      ],
      "source": [
        "# access a string\n",
        "string_c[0]"
      ]
    },
    {
      "cell_type": "code",
      "execution_count": 99,
      "metadata": {
        "id": "WnNXuxDCMveW",
        "colab": {
          "base_uri": "https://localhost:8080/"
        },
        "outputId": "cea3fcd2-427c-4604-b64d-8119f764f7b4"
      },
      "outputs": [
        {
          "output_type": "execute_result",
          "data": {
            "text/plain": [
              "14"
            ]
          },
          "metadata": {},
          "execution_count": 99
        }
      ],
      "source": [
        "# length (the space is counted a 1)\n",
        "len(string_c)"
      ]
    },
    {
      "cell_type": "code",
      "execution_count": 100,
      "metadata": {
        "id": "-OZKGMHVM0S-",
        "colab": {
          "base_uri": "https://localhost:8080/"
        },
        "outputId": "3058e8ed-c536-424a-b7d3-12853cba3f07"
      },
      "outputs": [
        {
          "output_type": "stream",
          "name": "stdout",
          "text": [
            "Derrick.Matt@gmail.com\n"
          ]
        }
      ],
      "source": [
        "# splitting strings\n",
        "string_d = \"Derrick.Matt@gmail.com\"\n",
        "print(string_d)"
      ]
    },
    {
      "cell_type": "code",
      "source": [
        "# Split a string into a list where each word is a list item, use split() function\n",
        "# split by hyphen\n",
        "\n",
        "print(string_d.split(\"@\"))"
      ],
      "metadata": {
        "id": "zVhs3mBvfWBf",
        "colab": {
          "base_uri": "https://localhost:8080/"
        },
        "outputId": "097be49d-7c28-4741-8056-c3fec0b2b090"
      },
      "execution_count": 101,
      "outputs": [
        {
          "output_type": "stream",
          "name": "stdout",
          "text": [
            "['Derrick.Matt', 'gmail.com']\n"
          ]
        }
      ]
    },
    {
      "cell_type": "markdown",
      "source": [
        "More about splitting strings https://www.w3schools.com/python/ref_string_split.asp\n",
        "\n",
        "More about strings manipulations https://www.w3schools.com/python/python_ref_string.asp\n",
        "\n",
        "More about string theory https://www.programiz.com/python-programming/string"
      ],
      "metadata": {
        "id": "oWCzQow4fu29"
      }
    },
    {
      "cell_type": "markdown",
      "source": [
        "## String Practice ***"
      ],
      "metadata": {
        "id": "VwkObPWr1Upf"
      }
    },
    {
      "cell_type": "markdown",
      "source": [
        "### Assigment 1"
      ],
      "metadata": {
        "id": "He_h7lHy1adv"
      }
    },
    {
      "cell_type": "code",
      "source": [
        "# create a string variable called \"name\", and assign the value 'AdaM Smith'\n",
        "# modify this variable so all the characters of the string are in CAPITAL LETTERS\n",
        "# return the modified variable\n",
        "\n",
        "\n",
        "# your code here ..."
      ],
      "metadata": {
        "id": "i2oDUQrT1e2O"
      },
      "execution_count": 102,
      "outputs": []
    },
    {
      "cell_type": "code",
      "source": [
        "#@title Display the solution 1\n",
        "\n",
        "# create a string variable called \"name\", and assign the value 'AdaM Smith'\n",
        "name = 'AdaM Smith'\n",
        "\n",
        "# modify this variable so all the characters of the string are in CAPITAL LETTERS\n",
        "name = name.upper()\n",
        "\n",
        "# return the modified variable\n",
        "print(name)\n"
      ],
      "metadata": {
        "cellView": "form",
        "id": "r0763MYR1qFx",
        "colab": {
          "base_uri": "https://localhost:8080/"
        },
        "outputId": "de4b4f34-9b24-42e0-de15-b594ad917a7b"
      },
      "execution_count": 103,
      "outputs": [
        {
          "output_type": "stream",
          "name": "stdout",
          "text": [
            "ADAM SMITH\n"
          ]
        }
      ]
    },
    {
      "cell_type": "markdown",
      "source": [
        "### Assigment 2"
      ],
      "metadata": {
        "id": "qFWK_2QY1fji"
      }
    },
    {
      "cell_type": "code",
      "source": [
        "# access a the 1st letter of variable \"name\" \n",
        "# ... the outcome should be 'A'\n",
        "\n",
        "# your code here ...\n"
      ],
      "metadata": {
        "id": "vIVu4gbw3MtX"
      },
      "execution_count": 104,
      "outputs": []
    },
    {
      "cell_type": "code",
      "source": [
        "#@title Display the solution 2\n",
        "\n",
        "# access a the 1st letter of variable \"name\"\n",
        "\n",
        "name[0]"
      ],
      "metadata": {
        "cellView": "form",
        "id": "VxBY3GAQ1yym",
        "colab": {
          "base_uri": "https://localhost:8080/",
          "height": 35
        },
        "outputId": "8f87d1e4-c98d-4395-ecc2-c8c132a7eeea"
      },
      "execution_count": 105,
      "outputs": [
        {
          "output_type": "execute_result",
          "data": {
            "text/plain": [
              "'A'"
            ],
            "application/vnd.google.colaboratory.intrinsic+json": {
              "type": "string"
            }
          },
          "metadata": {},
          "execution_count": 105
        }
      ]
    },
    {
      "cell_type": "markdown",
      "source": [
        "### Assignment 3"
      ],
      "metadata": {
        "id": "VZudvfew3qkk"
      }
    },
    {
      "cell_type": "code",
      "source": [
        "# access a the last letter of variable \"name\" \n",
        "# ... the outcome should be 'H'\n",
        "\n",
        "# your code here ..."
      ],
      "metadata": {
        "id": "g47DpeoH3u62"
      },
      "execution_count": 106,
      "outputs": []
    },
    {
      "cell_type": "code",
      "source": [
        "#@title Display the solution 3\n",
        "\n",
        "# access a the last letter of variable \"name\" \n",
        "# ... the outcome should be 'H'\n",
        "\n",
        "name[-1]"
      ],
      "metadata": {
        "cellView": "form",
        "id": "TiA-m27f34p7",
        "colab": {
          "base_uri": "https://localhost:8080/",
          "height": 35
        },
        "outputId": "61fd3610-4cec-4c3f-b7e3-be0ff4cec919"
      },
      "execution_count": 107,
      "outputs": [
        {
          "output_type": "execute_result",
          "data": {
            "text/plain": [
              "'H'"
            ],
            "application/vnd.google.colaboratory.intrinsic+json": {
              "type": "string"
            }
          },
          "metadata": {},
          "execution_count": 107
        }
      ]
    },
    {
      "cell_type": "markdown",
      "source": [
        "### Assignment 4"
      ],
      "metadata": {
        "id": "bNkqvfTJ4EQI"
      }
    },
    {
      "cell_type": "code",
      "source": [
        "# how many characters tha variable \"name\" has ?\n",
        "\n",
        "# your code here .."
      ],
      "metadata": {
        "id": "kh_ZbiPl4HaA"
      },
      "execution_count": 108,
      "outputs": []
    },
    {
      "cell_type": "code",
      "source": [
        "#@title Display the solution 4\n",
        "\n",
        "# how many characters tha variable \"name\" has ?\n",
        "\n",
        "len(name)"
      ],
      "metadata": {
        "cellView": "form",
        "id": "uqcAMLct4Pyb",
        "colab": {
          "base_uri": "https://localhost:8080/"
        },
        "outputId": "056c4cc0-cb36-40c4-9713-52b21e95f471"
      },
      "execution_count": 109,
      "outputs": [
        {
          "output_type": "execute_result",
          "data": {
            "text/plain": [
              "10"
            ]
          },
          "metadata": {},
          "execution_count": 109
        }
      ]
    },
    {
      "cell_type": "markdown",
      "metadata": {
        "id": "-Z4YCvbvNRp6"
      },
      "source": [
        "# 8.&nbsp;Tuples"
      ]
    },
    {
      "cell_type": "markdown",
      "metadata": {
        "id": "X_zcTMzYNu9R"
      },
      "source": [
        "A tuple is a collection which is ordered and unchangeable (imuatable)\n",
        "."
      ]
    },
    {
      "cell_type": "code",
      "execution_count": 110,
      "metadata": {
        "id": "6S7ixeisOEv3",
        "colab": {
          "base_uri": "https://localhost:8080/"
        },
        "outputId": "13766bd4-0444-46cd-ea51-9723d998e91d"
      },
      "outputs": [
        {
          "output_type": "stream",
          "name": "stdout",
          "text": [
            "('Dog', 'Cat', 'Frog')\n"
          ]
        }
      ],
      "source": [
        "tuple_a = ('Dog', 'Cat', 'Frog')\n",
        "print(tuple_a)"
      ]
    },
    {
      "cell_type": "code",
      "execution_count": 111,
      "metadata": {
        "id": "-cGHSxSYPlT2"
      },
      "outputs": [],
      "source": [
        "# inmutable\n",
        "\n",
        "# remove the hasgtag (#) in front of the below line code if you want to run the cell \n",
        "# tuple_a.append('Mouse')"
      ]
    },
    {
      "cell_type": "code",
      "execution_count": 112,
      "metadata": {
        "id": "H4i9_vbfPx3y",
        "colab": {
          "base_uri": "https://localhost:8080/",
          "height": 35
        },
        "outputId": "05a9a48a-f3c0-465f-ef29-e89cabfe232d"
      },
      "outputs": [
        {
          "output_type": "execute_result",
          "data": {
            "text/plain": [
              "'Dog'"
            ],
            "application/vnd.google.colaboratory.intrinsic+json": {
              "type": "string"
            }
          },
          "metadata": {},
          "execution_count": 112
        }
      ],
      "source": [
        "# ordered\n",
        "\n",
        "tuple_a[0]"
      ]
    },
    {
      "cell_type": "markdown",
      "source": [
        "More about Tuples https://www.w3schools.com/python/python_tuples.asp"
      ],
      "metadata": {
        "id": "KeNK13iEhNgZ"
      }
    },
    {
      "cell_type": "markdown",
      "metadata": {
        "id": "VkCZO2ptNTTG"
      },
      "source": [
        "# 9.&nbsp;Dictionaries\n"
      ]
    },
    {
      "cell_type": "markdown",
      "source": [
        "Dictionaries are used to store data values in key:value pairs.\n",
        "\n",
        "A dictionary is a collection which is ordered*, changeable and do not allow duplicates."
      ],
      "metadata": {
        "id": "moJTUTDDicq0"
      }
    },
    {
      "cell_type": "code",
      "execution_count": 113,
      "metadata": {
        "id": "l_3rD9hUQNxF",
        "colab": {
          "base_uri": "https://localhost:8080/"
        },
        "outputId": "c0f43cab-7ed3-49f5-c50d-34d40943296b"
      },
      "outputs": [
        {
          "output_type": "execute_result",
          "data": {
            "text/plain": [
              "{'key_1': 'value_0', 'key_2': 'value_2', 'key_3': 'value_3'}"
            ]
          },
          "metadata": {},
          "execution_count": 113
        }
      ],
      "source": [
        "# a dictionary is made of keys and values\n",
        "# dictionary have curly brackets\n",
        "\n",
        "dictionary = {\"key_1\":\"value_0\",\n",
        "               \"key_2\":\"value_2\",\n",
        "               \"key_3\":\"value_3\"}\n",
        "\n",
        "dictionary"
      ]
    },
    {
      "cell_type": "code",
      "execution_count": 114,
      "metadata": {
        "id": "ixlvde_9NEkX",
        "colab": {
          "base_uri": "https://localhost:8080/"
        },
        "outputId": "d9bb9295-cb8c-44b9-c74d-e89c2b9a36e1"
      },
      "outputs": [
        {
          "output_type": "execute_result",
          "data": {
            "text/plain": [
              "{'name': 'Derrick', 'height': \"6'0\", 'location': 'Lost'}"
            ]
          },
          "metadata": {},
          "execution_count": 114
        }
      ],
      "source": [
        "# create a dictionary called 'our_dictionnary'\n",
        "\n",
        "our_dictionary = {\"name\":\"Derrick\",\n",
        "                  \"height\":\"6'0\",\n",
        "                  \"location\":\"Lost\"}\n",
        "                  \n",
        "# here \"name\" is the key and 'Derrick' is the value\n",
        "our_dictionary"
      ]
    },
    {
      "cell_type": "code",
      "execution_count": 115,
      "metadata": {
        "id": "DXd9Sn8sQ86w",
        "colab": {
          "base_uri": "https://localhost:8080/"
        },
        "outputId": "9864fabd-cb36-4693-ec41-9003c40287bf"
      },
      "outputs": [
        {
          "output_type": "stream",
          "name": "stdout",
          "text": [
            "value_0\n"
          ]
        }
      ],
      "source": [
        "# access dictionary by key\n",
        "\n",
        "print(dictionary[\"key_1\"])"
      ]
    },
    {
      "cell_type": "code",
      "execution_count": 116,
      "metadata": {
        "id": "pevivAIGRD2F",
        "colab": {
          "base_uri": "https://localhost:8080/"
        },
        "outputId": "59114100-841a-4877-f89a-183648ae4712"
      },
      "outputs": [
        {
          "output_type": "stream",
          "name": "stdout",
          "text": [
            "{'key_1': 'value_1', 'key_2': 'value_2', 'key_3': 'value_3'}\n"
          ]
        }
      ],
      "source": [
        "# change a value by key\n",
        "\n",
        "dictionary[\"key_1\"] = \"value_1\"\n",
        "print(dictionary)\n"
      ]
    },
    {
      "cell_type": "code",
      "execution_count": 117,
      "metadata": {
        "id": "ly62zAkdRVsE",
        "colab": {
          "base_uri": "https://localhost:8080/"
        },
        "outputId": "2ac39701-4d03-4f71-d808-7d8b453347cb"
      },
      "outputs": [
        {
          "output_type": "stream",
          "name": "stdout",
          "text": [
            "{'key_1': 'value_1', 'key_2': 'value_2', 'key_3': 'value_3', 'eye color': 'blue'}\n"
          ]
        }
      ],
      "source": [
        "# add an element to dictionary\n",
        "\n",
        "dictionary[\"eye color\"] = \"blue\"\n",
        "print(dictionary)"
      ]
    },
    {
      "cell_type": "code",
      "execution_count": 118,
      "metadata": {
        "id": "MSSZPPFTRcA6",
        "colab": {
          "base_uri": "https://localhost:8080/"
        },
        "outputId": "2d6c0cd7-5fcb-421c-ceb2-bdb0253faa6f"
      },
      "outputs": [
        {
          "output_type": "stream",
          "name": "stdout",
          "text": [
            "{'key_1': 'value_1', 'key_2': 'value_2', 'key_3': 'value_3'}\n"
          ]
        }
      ],
      "source": [
        "# remove element\n",
        "dictionary.pop(\"eye color\")\n",
        "print(dictionary)\n"
      ]
    },
    {
      "cell_type": "markdown",
      "source": [
        "## Dictionary Practice ***"
      ],
      "metadata": {
        "id": "O0a13QpTjWcr"
      }
    },
    {
      "cell_type": "markdown",
      "source": [
        "### Assignment 1"
      ],
      "metadata": {
        "id": "OY_D2rFh40PD"
      }
    },
    {
      "cell_type": "code",
      "source": [
        "# create a dictionary \"my_dictionary\"\n",
        "# 1st key: 'names'\n",
        "# values of 1st key: ['Anna', 'John', 'Matt']\n",
        "# 2nd key: 'age'\n",
        "# values of 2nd key: [23, 42, 12]\n",
        "# print \"my_dictionary\"\n",
        "\n",
        "# your code here ...."
      ],
      "metadata": {
        "id": "cCbfZyfAjY76"
      },
      "execution_count": 119,
      "outputs": []
    },
    {
      "cell_type": "code",
      "source": [
        "#@title Display the solution 1\n",
        "\n",
        "# create a dictionary \"my_dictionary\"\n",
        "# 1st key: 'names'\n",
        "# values of 1st key: ['Anna', 'John', 'Matt']\n",
        "# 2nd key: 'age'\n",
        "# values of 2nd key: [23, 42, 12]\n",
        "\n",
        "my_dictionary = {'names': ['Anna', 'John', 'Matt'],\n",
        "                 'age': [23, 42, 12]   \n",
        "                }\n",
        "\n",
        "# print \"my_dictionary\"\n",
        "print(my_dictionary)"
      ],
      "metadata": {
        "cellView": "form",
        "id": "oQEo8yWbHcqk",
        "colab": {
          "base_uri": "https://localhost:8080/"
        },
        "outputId": "63cf92a8-f8f2-43ed-c30c-fb7b2b6879fc"
      },
      "execution_count": 120,
      "outputs": [
        {
          "output_type": "stream",
          "name": "stdout",
          "text": [
            "{'names': ['Anna', 'John', 'Matt'], 'age': [23, 42, 12]}\n"
          ]
        }
      ]
    },
    {
      "cell_type": "markdown",
      "source": [
        "### Assignment 2"
      ],
      "metadata": {
        "id": "NzmmTZjY44lb"
      }
    },
    {
      "cell_type": "code",
      "source": [
        "# add a new element with their gender: key='gender', values: ['F', 'M', 'M']\n",
        "\n",
        "# your code here ...\n"
      ],
      "metadata": {
        "id": "mpikw-IqHxdL"
      },
      "execution_count": 121,
      "outputs": []
    },
    {
      "cell_type": "code",
      "source": [
        "#@title Display the solution 2\n",
        "\n",
        "# add a new element with their gender: key='gender', values: ['F', 'M', 'M']\n",
        "my_dictionary['gender']= ['F', 'M', 'M']\n",
        "print(my_dictionary)"
      ],
      "metadata": {
        "cellView": "form",
        "id": "K5evWdkQH2Mo",
        "colab": {
          "base_uri": "https://localhost:8080/"
        },
        "outputId": "43b66388-63fb-4e57-f2b7-09bcf22808c8"
      },
      "execution_count": 122,
      "outputs": [
        {
          "output_type": "stream",
          "name": "stdout",
          "text": [
            "{'names': ['Anna', 'John', 'Matt'], 'age': [23, 42, 12], 'gender': ['F', 'M', 'M']}\n"
          ]
        }
      ]
    },
    {
      "cell_type": "markdown",
      "source": [
        "### Assignment 3"
      ],
      "metadata": {
        "id": "tTLbH9rQ46wB"
      }
    },
    {
      "cell_type": "code",
      "source": [
        "# remove key age\n",
        "\n",
        "# your code here"
      ],
      "metadata": {
        "id": "IIapMz2UHy6M"
      },
      "execution_count": 123,
      "outputs": []
    },
    {
      "cell_type": "code",
      "source": [
        "#@title Display the solution 3\n",
        "\n",
        "# remove key age\n",
        "my_dictionary.pop(\"age\")\n",
        "print(my_dictionary)"
      ],
      "metadata": {
        "cellView": "form",
        "id": "ZACWoPZJH_W6",
        "colab": {
          "base_uri": "https://localhost:8080/"
        },
        "outputId": "7133431e-7d75-4948-a9b7-a21daac103c1"
      },
      "execution_count": 124,
      "outputs": [
        {
          "output_type": "stream",
          "name": "stdout",
          "text": [
            "{'names': ['Anna', 'John', 'Matt'], 'gender': ['F', 'M', 'M']}\n"
          ]
        }
      ]
    },
    {
      "cell_type": "markdown",
      "metadata": {
        "id": "SvqYQEAVRr5q"
      },
      "source": [
        "# 10.&nbsp;DataFrame"
      ]
    },
    {
      "cell_type": "markdown",
      "source": [
        "The dataframe is like a table with 2 dimensions, where you have columns and rows"
      ],
      "metadata": {
        "id": "Do7mXNyhlYmN"
      }
    },
    {
      "cell_type": "code",
      "execution_count": 125,
      "metadata": {
        "id": "20L4u09nRlXK",
        "colab": {
          "base_uri": "https://localhost:8080/"
        },
        "outputId": "5d1ebc75-5c59-4ece-ecb6-0272cad00865"
      },
      "outputs": [
        {
          "output_type": "execute_result",
          "data": {
            "text/plain": [
              "{'name': ['Jess', 'Nick', 'Winston', 'Tom', 'Alex'],\n",
              " 'age': ['30', '35', '40', '27', '52'],\n",
              " 'city': ['Paris', 'Berlin', 'Madrid', 'Paris', 'London'],\n",
              " 'country': ['France', 'Germany', 'Spain', 'France', 'UK']}"
            ]
          },
          "metadata": {},
          "execution_count": 125
        }
      ],
      "source": [
        "dataframe = {\"name\":['Jess', 'Nick', 'Winston', 'Tom', 'Alex'],\n",
        "              \"age\":['30', '35', '40', '27', '52'],\n",
        "              \"city\":['Paris', 'Berlin', 'Madrid', 'Paris', 'London'],\n",
        "             \"country\": ['France', 'Germany', 'Spain', 'France', 'UK']}\n",
        "\n",
        "dataframe"
      ]
    },
    {
      "cell_type": "code",
      "source": [
        "# import pandas package\n",
        "\n",
        "import pandas as pd"
      ],
      "metadata": {
        "id": "DA2iU__p_Dsg"
      },
      "execution_count": 126,
      "outputs": []
    },
    {
      "cell_type": "markdown",
      "source": [
        "More about pandas package https://pandas.pydata.org/"
      ],
      "metadata": {
        "id": "CsIMpaaj_LiP"
      }
    },
    {
      "cell_type": "code",
      "execution_count": 127,
      "metadata": {
        "id": "zsvwKaUsSKaI",
        "colab": {
          "base_uri": "https://localhost:8080/",
          "height": 206
        },
        "outputId": "d004d987-cab1-4521-e7f6-53eb144642ea"
      },
      "outputs": [
        {
          "output_type": "execute_result",
          "data": {
            "text/plain": [
              "      name age    city  country\n",
              "0     Jess  30   Paris   France\n",
              "1     Nick  35  Berlin  Germany\n",
              "2  Winston  40  Madrid    Spain\n",
              "3      Tom  27   Paris   France\n",
              "4     Alex  52  London       UK"
            ],
            "text/html": [
              "\n",
              "  <div id=\"df-37c02adc-4b43-4ddf-af37-5d79d2984fc1\">\n",
              "    <div class=\"colab-df-container\">\n",
              "      <div>\n",
              "<style scoped>\n",
              "    .dataframe tbody tr th:only-of-type {\n",
              "        vertical-align: middle;\n",
              "    }\n",
              "\n",
              "    .dataframe tbody tr th {\n",
              "        vertical-align: top;\n",
              "    }\n",
              "\n",
              "    .dataframe thead th {\n",
              "        text-align: right;\n",
              "    }\n",
              "</style>\n",
              "<table border=\"1\" class=\"dataframe\">\n",
              "  <thead>\n",
              "    <tr style=\"text-align: right;\">\n",
              "      <th></th>\n",
              "      <th>name</th>\n",
              "      <th>age</th>\n",
              "      <th>city</th>\n",
              "      <th>country</th>\n",
              "    </tr>\n",
              "  </thead>\n",
              "  <tbody>\n",
              "    <tr>\n",
              "      <th>0</th>\n",
              "      <td>Jess</td>\n",
              "      <td>30</td>\n",
              "      <td>Paris</td>\n",
              "      <td>France</td>\n",
              "    </tr>\n",
              "    <tr>\n",
              "      <th>1</th>\n",
              "      <td>Nick</td>\n",
              "      <td>35</td>\n",
              "      <td>Berlin</td>\n",
              "      <td>Germany</td>\n",
              "    </tr>\n",
              "    <tr>\n",
              "      <th>2</th>\n",
              "      <td>Winston</td>\n",
              "      <td>40</td>\n",
              "      <td>Madrid</td>\n",
              "      <td>Spain</td>\n",
              "    </tr>\n",
              "    <tr>\n",
              "      <th>3</th>\n",
              "      <td>Tom</td>\n",
              "      <td>27</td>\n",
              "      <td>Paris</td>\n",
              "      <td>France</td>\n",
              "    </tr>\n",
              "    <tr>\n",
              "      <th>4</th>\n",
              "      <td>Alex</td>\n",
              "      <td>52</td>\n",
              "      <td>London</td>\n",
              "      <td>UK</td>\n",
              "    </tr>\n",
              "  </tbody>\n",
              "</table>\n",
              "</div>\n",
              "      <button class=\"colab-df-convert\" onclick=\"convertToInteractive('df-37c02adc-4b43-4ddf-af37-5d79d2984fc1')\"\n",
              "              title=\"Convert this dataframe to an interactive table.\"\n",
              "              style=\"display:none;\">\n",
              "        \n",
              "  <svg xmlns=\"http://www.w3.org/2000/svg\" height=\"24px\"viewBox=\"0 0 24 24\"\n",
              "       width=\"24px\">\n",
              "    <path d=\"M0 0h24v24H0V0z\" fill=\"none\"/>\n",
              "    <path d=\"M18.56 5.44l.94 2.06.94-2.06 2.06-.94-2.06-.94-.94-2.06-.94 2.06-2.06.94zm-11 1L8.5 8.5l.94-2.06 2.06-.94-2.06-.94L8.5 2.5l-.94 2.06-2.06.94zm10 10l.94 2.06.94-2.06 2.06-.94-2.06-.94-.94-2.06-.94 2.06-2.06.94z\"/><path d=\"M17.41 7.96l-1.37-1.37c-.4-.4-.92-.59-1.43-.59-.52 0-1.04.2-1.43.59L10.3 9.45l-7.72 7.72c-.78.78-.78 2.05 0 2.83L4 21.41c.39.39.9.59 1.41.59.51 0 1.02-.2 1.41-.59l7.78-7.78 2.81-2.81c.8-.78.8-2.07 0-2.86zM5.41 20L4 18.59l7.72-7.72 1.47 1.35L5.41 20z\"/>\n",
              "  </svg>\n",
              "      </button>\n",
              "      \n",
              "  <style>\n",
              "    .colab-df-container {\n",
              "      display:flex;\n",
              "      flex-wrap:wrap;\n",
              "      gap: 12px;\n",
              "    }\n",
              "\n",
              "    .colab-df-convert {\n",
              "      background-color: #E8F0FE;\n",
              "      border: none;\n",
              "      border-radius: 50%;\n",
              "      cursor: pointer;\n",
              "      display: none;\n",
              "      fill: #1967D2;\n",
              "      height: 32px;\n",
              "      padding: 0 0 0 0;\n",
              "      width: 32px;\n",
              "    }\n",
              "\n",
              "    .colab-df-convert:hover {\n",
              "      background-color: #E2EBFA;\n",
              "      box-shadow: 0px 1px 2px rgba(60, 64, 67, 0.3), 0px 1px 3px 1px rgba(60, 64, 67, 0.15);\n",
              "      fill: #174EA6;\n",
              "    }\n",
              "\n",
              "    [theme=dark] .colab-df-convert {\n",
              "      background-color: #3B4455;\n",
              "      fill: #D2E3FC;\n",
              "    }\n",
              "\n",
              "    [theme=dark] .colab-df-convert:hover {\n",
              "      background-color: #434B5C;\n",
              "      box-shadow: 0px 1px 3px 1px rgba(0, 0, 0, 0.15);\n",
              "      filter: drop-shadow(0px 1px 2px rgba(0, 0, 0, 0.3));\n",
              "      fill: #FFFFFF;\n",
              "    }\n",
              "  </style>\n",
              "\n",
              "      <script>\n",
              "        const buttonEl =\n",
              "          document.querySelector('#df-37c02adc-4b43-4ddf-af37-5d79d2984fc1 button.colab-df-convert');\n",
              "        buttonEl.style.display =\n",
              "          google.colab.kernel.accessAllowed ? 'block' : 'none';\n",
              "\n",
              "        async function convertToInteractive(key) {\n",
              "          const element = document.querySelector('#df-37c02adc-4b43-4ddf-af37-5d79d2984fc1');\n",
              "          const dataTable =\n",
              "            await google.colab.kernel.invokeFunction('convertToInteractive',\n",
              "                                                     [key], {});\n",
              "          if (!dataTable) return;\n",
              "\n",
              "          const docLinkHtml = 'Like what you see? Visit the ' +\n",
              "            '<a target=\"_blank\" href=https://colab.research.google.com/notebooks/data_table.ipynb>data table notebook</a>'\n",
              "            + ' to learn more about interactive tables.';\n",
              "          element.innerHTML = '';\n",
              "          dataTable['output_type'] = 'display_data';\n",
              "          await google.colab.output.renderOutput(dataTable, element);\n",
              "          const docLink = document.createElement('div');\n",
              "          docLink.innerHTML = docLinkHtml;\n",
              "          element.appendChild(docLink);\n",
              "        }\n",
              "      </script>\n",
              "    </div>\n",
              "  </div>\n",
              "  "
            ]
          },
          "metadata": {},
          "execution_count": 127
        }
      ],
      "source": [
        "# create a dataframe\n",
        "\n",
        "# load the the dictionary into a dataframe\n",
        "df1 = pd.DataFrame(dataframe)\n",
        "\n",
        "df1"
      ]
    },
    {
      "cell_type": "code",
      "execution_count": 128,
      "metadata": {
        "id": "JKCmX_eaSeeo",
        "colab": {
          "base_uri": "https://localhost:8080/",
          "height": 143
        },
        "outputId": "324b93ed-c146-4e9d-e020-9f70ba3cd566"
      },
      "outputs": [
        {
          "output_type": "execute_result",
          "data": {
            "text/plain": [
              "      name age    city  country\n",
              "0     Jess  30   Paris   France\n",
              "1     Nick  35  Berlin  Germany\n",
              "2  Winston  40  Madrid    Spain"
            ],
            "text/html": [
              "\n",
              "  <div id=\"df-d23a0cfb-48ff-4828-8949-d67347bc930c\">\n",
              "    <div class=\"colab-df-container\">\n",
              "      <div>\n",
              "<style scoped>\n",
              "    .dataframe tbody tr th:only-of-type {\n",
              "        vertical-align: middle;\n",
              "    }\n",
              "\n",
              "    .dataframe tbody tr th {\n",
              "        vertical-align: top;\n",
              "    }\n",
              "\n",
              "    .dataframe thead th {\n",
              "        text-align: right;\n",
              "    }\n",
              "</style>\n",
              "<table border=\"1\" class=\"dataframe\">\n",
              "  <thead>\n",
              "    <tr style=\"text-align: right;\">\n",
              "      <th></th>\n",
              "      <th>name</th>\n",
              "      <th>age</th>\n",
              "      <th>city</th>\n",
              "      <th>country</th>\n",
              "    </tr>\n",
              "  </thead>\n",
              "  <tbody>\n",
              "    <tr>\n",
              "      <th>0</th>\n",
              "      <td>Jess</td>\n",
              "      <td>30</td>\n",
              "      <td>Paris</td>\n",
              "      <td>France</td>\n",
              "    </tr>\n",
              "    <tr>\n",
              "      <th>1</th>\n",
              "      <td>Nick</td>\n",
              "      <td>35</td>\n",
              "      <td>Berlin</td>\n",
              "      <td>Germany</td>\n",
              "    </tr>\n",
              "    <tr>\n",
              "      <th>2</th>\n",
              "      <td>Winston</td>\n",
              "      <td>40</td>\n",
              "      <td>Madrid</td>\n",
              "      <td>Spain</td>\n",
              "    </tr>\n",
              "  </tbody>\n",
              "</table>\n",
              "</div>\n",
              "      <button class=\"colab-df-convert\" onclick=\"convertToInteractive('df-d23a0cfb-48ff-4828-8949-d67347bc930c')\"\n",
              "              title=\"Convert this dataframe to an interactive table.\"\n",
              "              style=\"display:none;\">\n",
              "        \n",
              "  <svg xmlns=\"http://www.w3.org/2000/svg\" height=\"24px\"viewBox=\"0 0 24 24\"\n",
              "       width=\"24px\">\n",
              "    <path d=\"M0 0h24v24H0V0z\" fill=\"none\"/>\n",
              "    <path d=\"M18.56 5.44l.94 2.06.94-2.06 2.06-.94-2.06-.94-.94-2.06-.94 2.06-2.06.94zm-11 1L8.5 8.5l.94-2.06 2.06-.94-2.06-.94L8.5 2.5l-.94 2.06-2.06.94zm10 10l.94 2.06.94-2.06 2.06-.94-2.06-.94-.94-2.06-.94 2.06-2.06.94z\"/><path d=\"M17.41 7.96l-1.37-1.37c-.4-.4-.92-.59-1.43-.59-.52 0-1.04.2-1.43.59L10.3 9.45l-7.72 7.72c-.78.78-.78 2.05 0 2.83L4 21.41c.39.39.9.59 1.41.59.51 0 1.02-.2 1.41-.59l7.78-7.78 2.81-2.81c.8-.78.8-2.07 0-2.86zM5.41 20L4 18.59l7.72-7.72 1.47 1.35L5.41 20z\"/>\n",
              "  </svg>\n",
              "      </button>\n",
              "      \n",
              "  <style>\n",
              "    .colab-df-container {\n",
              "      display:flex;\n",
              "      flex-wrap:wrap;\n",
              "      gap: 12px;\n",
              "    }\n",
              "\n",
              "    .colab-df-convert {\n",
              "      background-color: #E8F0FE;\n",
              "      border: none;\n",
              "      border-radius: 50%;\n",
              "      cursor: pointer;\n",
              "      display: none;\n",
              "      fill: #1967D2;\n",
              "      height: 32px;\n",
              "      padding: 0 0 0 0;\n",
              "      width: 32px;\n",
              "    }\n",
              "\n",
              "    .colab-df-convert:hover {\n",
              "      background-color: #E2EBFA;\n",
              "      box-shadow: 0px 1px 2px rgba(60, 64, 67, 0.3), 0px 1px 3px 1px rgba(60, 64, 67, 0.15);\n",
              "      fill: #174EA6;\n",
              "    }\n",
              "\n",
              "    [theme=dark] .colab-df-convert {\n",
              "      background-color: #3B4455;\n",
              "      fill: #D2E3FC;\n",
              "    }\n",
              "\n",
              "    [theme=dark] .colab-df-convert:hover {\n",
              "      background-color: #434B5C;\n",
              "      box-shadow: 0px 1px 3px 1px rgba(0, 0, 0, 0.15);\n",
              "      filter: drop-shadow(0px 1px 2px rgba(0, 0, 0, 0.3));\n",
              "      fill: #FFFFFF;\n",
              "    }\n",
              "  </style>\n",
              "\n",
              "      <script>\n",
              "        const buttonEl =\n",
              "          document.querySelector('#df-d23a0cfb-48ff-4828-8949-d67347bc930c button.colab-df-convert');\n",
              "        buttonEl.style.display =\n",
              "          google.colab.kernel.accessAllowed ? 'block' : 'none';\n",
              "\n",
              "        async function convertToInteractive(key) {\n",
              "          const element = document.querySelector('#df-d23a0cfb-48ff-4828-8949-d67347bc930c');\n",
              "          const dataTable =\n",
              "            await google.colab.kernel.invokeFunction('convertToInteractive',\n",
              "                                                     [key], {});\n",
              "          if (!dataTable) return;\n",
              "\n",
              "          const docLinkHtml = 'Like what you see? Visit the ' +\n",
              "            '<a target=\"_blank\" href=https://colab.research.google.com/notebooks/data_table.ipynb>data table notebook</a>'\n",
              "            + ' to learn more about interactive tables.';\n",
              "          element.innerHTML = '';\n",
              "          dataTable['output_type'] = 'display_data';\n",
              "          await google.colab.output.renderOutput(dataTable, element);\n",
              "          const docLink = document.createElement('div');\n",
              "          docLink.innerHTML = docLinkHtml;\n",
              "          element.appendChild(docLink);\n",
              "        }\n",
              "      </script>\n",
              "    </div>\n",
              "  </div>\n",
              "  "
            ]
          },
          "metadata": {},
          "execution_count": 128
        }
      ],
      "source": [
        "# visualize the first 3 rows of df\n",
        "\n",
        "df1.head(3) # please note that the row index start at 0"
      ]
    },
    {
      "cell_type": "code",
      "source": [
        "# visualize the last 3 rows of df\n",
        "\n",
        "df1.tail(3) # please note that the row index start at 0"
      ],
      "metadata": {
        "id": "iQjspbRK5vH3",
        "colab": {
          "base_uri": "https://localhost:8080/",
          "height": 143
        },
        "outputId": "a4aa602b-dc7f-4aa7-9595-3689434432a3"
      },
      "execution_count": 129,
      "outputs": [
        {
          "output_type": "execute_result",
          "data": {
            "text/plain": [
              "      name age    city country\n",
              "2  Winston  40  Madrid   Spain\n",
              "3      Tom  27   Paris  France\n",
              "4     Alex  52  London      UK"
            ],
            "text/html": [
              "\n",
              "  <div id=\"df-228206a9-a718-424b-90fd-7a07c4db10da\">\n",
              "    <div class=\"colab-df-container\">\n",
              "      <div>\n",
              "<style scoped>\n",
              "    .dataframe tbody tr th:only-of-type {\n",
              "        vertical-align: middle;\n",
              "    }\n",
              "\n",
              "    .dataframe tbody tr th {\n",
              "        vertical-align: top;\n",
              "    }\n",
              "\n",
              "    .dataframe thead th {\n",
              "        text-align: right;\n",
              "    }\n",
              "</style>\n",
              "<table border=\"1\" class=\"dataframe\">\n",
              "  <thead>\n",
              "    <tr style=\"text-align: right;\">\n",
              "      <th></th>\n",
              "      <th>name</th>\n",
              "      <th>age</th>\n",
              "      <th>city</th>\n",
              "      <th>country</th>\n",
              "    </tr>\n",
              "  </thead>\n",
              "  <tbody>\n",
              "    <tr>\n",
              "      <th>2</th>\n",
              "      <td>Winston</td>\n",
              "      <td>40</td>\n",
              "      <td>Madrid</td>\n",
              "      <td>Spain</td>\n",
              "    </tr>\n",
              "    <tr>\n",
              "      <th>3</th>\n",
              "      <td>Tom</td>\n",
              "      <td>27</td>\n",
              "      <td>Paris</td>\n",
              "      <td>France</td>\n",
              "    </tr>\n",
              "    <tr>\n",
              "      <th>4</th>\n",
              "      <td>Alex</td>\n",
              "      <td>52</td>\n",
              "      <td>London</td>\n",
              "      <td>UK</td>\n",
              "    </tr>\n",
              "  </tbody>\n",
              "</table>\n",
              "</div>\n",
              "      <button class=\"colab-df-convert\" onclick=\"convertToInteractive('df-228206a9-a718-424b-90fd-7a07c4db10da')\"\n",
              "              title=\"Convert this dataframe to an interactive table.\"\n",
              "              style=\"display:none;\">\n",
              "        \n",
              "  <svg xmlns=\"http://www.w3.org/2000/svg\" height=\"24px\"viewBox=\"0 0 24 24\"\n",
              "       width=\"24px\">\n",
              "    <path d=\"M0 0h24v24H0V0z\" fill=\"none\"/>\n",
              "    <path d=\"M18.56 5.44l.94 2.06.94-2.06 2.06-.94-2.06-.94-.94-2.06-.94 2.06-2.06.94zm-11 1L8.5 8.5l.94-2.06 2.06-.94-2.06-.94L8.5 2.5l-.94 2.06-2.06.94zm10 10l.94 2.06.94-2.06 2.06-.94-2.06-.94-.94-2.06-.94 2.06-2.06.94z\"/><path d=\"M17.41 7.96l-1.37-1.37c-.4-.4-.92-.59-1.43-.59-.52 0-1.04.2-1.43.59L10.3 9.45l-7.72 7.72c-.78.78-.78 2.05 0 2.83L4 21.41c.39.39.9.59 1.41.59.51 0 1.02-.2 1.41-.59l7.78-7.78 2.81-2.81c.8-.78.8-2.07 0-2.86zM5.41 20L4 18.59l7.72-7.72 1.47 1.35L5.41 20z\"/>\n",
              "  </svg>\n",
              "      </button>\n",
              "      \n",
              "  <style>\n",
              "    .colab-df-container {\n",
              "      display:flex;\n",
              "      flex-wrap:wrap;\n",
              "      gap: 12px;\n",
              "    }\n",
              "\n",
              "    .colab-df-convert {\n",
              "      background-color: #E8F0FE;\n",
              "      border: none;\n",
              "      border-radius: 50%;\n",
              "      cursor: pointer;\n",
              "      display: none;\n",
              "      fill: #1967D2;\n",
              "      height: 32px;\n",
              "      padding: 0 0 0 0;\n",
              "      width: 32px;\n",
              "    }\n",
              "\n",
              "    .colab-df-convert:hover {\n",
              "      background-color: #E2EBFA;\n",
              "      box-shadow: 0px 1px 2px rgba(60, 64, 67, 0.3), 0px 1px 3px 1px rgba(60, 64, 67, 0.15);\n",
              "      fill: #174EA6;\n",
              "    }\n",
              "\n",
              "    [theme=dark] .colab-df-convert {\n",
              "      background-color: #3B4455;\n",
              "      fill: #D2E3FC;\n",
              "    }\n",
              "\n",
              "    [theme=dark] .colab-df-convert:hover {\n",
              "      background-color: #434B5C;\n",
              "      box-shadow: 0px 1px 3px 1px rgba(0, 0, 0, 0.15);\n",
              "      filter: drop-shadow(0px 1px 2px rgba(0, 0, 0, 0.3));\n",
              "      fill: #FFFFFF;\n",
              "    }\n",
              "  </style>\n",
              "\n",
              "      <script>\n",
              "        const buttonEl =\n",
              "          document.querySelector('#df-228206a9-a718-424b-90fd-7a07c4db10da button.colab-df-convert');\n",
              "        buttonEl.style.display =\n",
              "          google.colab.kernel.accessAllowed ? 'block' : 'none';\n",
              "\n",
              "        async function convertToInteractive(key) {\n",
              "          const element = document.querySelector('#df-228206a9-a718-424b-90fd-7a07c4db10da');\n",
              "          const dataTable =\n",
              "            await google.colab.kernel.invokeFunction('convertToInteractive',\n",
              "                                                     [key], {});\n",
              "          if (!dataTable) return;\n",
              "\n",
              "          const docLinkHtml = 'Like what you see? Visit the ' +\n",
              "            '<a target=\"_blank\" href=https://colab.research.google.com/notebooks/data_table.ipynb>data table notebook</a>'\n",
              "            + ' to learn more about interactive tables.';\n",
              "          element.innerHTML = '';\n",
              "          dataTable['output_type'] = 'display_data';\n",
              "          await google.colab.output.renderOutput(dataTable, element);\n",
              "          const docLink = document.createElement('div');\n",
              "          docLink.innerHTML = docLinkHtml;\n",
              "          element.appendChild(docLink);\n",
              "        }\n",
              "      </script>\n",
              "    </div>\n",
              "  </div>\n",
              "  "
            ]
          },
          "metadata": {},
          "execution_count": 129
        }
      ]
    },
    {
      "cell_type": "code",
      "execution_count": 130,
      "metadata": {
        "id": "Qbj76q-xTEYB",
        "colab": {
          "base_uri": "https://localhost:8080/"
        },
        "outputId": "471b3805-77af-4cb2-904f-079687c15be4"
      },
      "outputs": [
        {
          "output_type": "execute_result",
          "data": {
            "text/plain": [
              "(5, 4)"
            ]
          },
          "metadata": {},
          "execution_count": 130
        }
      ],
      "source": [
        "# df dimensions\n",
        "\n",
        "df1.shape # retunr nb of rows, and nb of columns"
      ]
    },
    {
      "cell_type": "code",
      "execution_count": 131,
      "metadata": {
        "id": "KHLBVTXjTH0W",
        "colab": {
          "base_uri": "https://localhost:8080/"
        },
        "outputId": "06de7e03-a53f-4c1c-d7e4-4c2d079736d6"
      },
      "outputs": [
        {
          "output_type": "execute_result",
          "data": {
            "text/plain": [
              "5"
            ]
          },
          "metadata": {},
          "execution_count": 131
        }
      ],
      "source": [
        "# nb of rows\n",
        "\n",
        "df1.shape[0]"
      ]
    },
    {
      "cell_type": "code",
      "execution_count": 132,
      "metadata": {
        "id": "5IUZErk6TOhS",
        "colab": {
          "base_uri": "https://localhost:8080/"
        },
        "outputId": "93e69b77-2e8c-4598-abde-695e4b7044d6"
      },
      "outputs": [
        {
          "output_type": "execute_result",
          "data": {
            "text/plain": [
              "5"
            ]
          },
          "metadata": {},
          "execution_count": 132
        }
      ],
      "source": [
        "len(df1)"
      ]
    },
    {
      "cell_type": "code",
      "execution_count": 133,
      "metadata": {
        "id": "QFprcZGjTQSZ",
        "colab": {
          "base_uri": "https://localhost:8080/"
        },
        "outputId": "0df5e6d4-185e-4dfe-d70f-b56bb02916af"
      },
      "outputs": [
        {
          "output_type": "execute_result",
          "data": {
            "text/plain": [
              "4"
            ]
          },
          "metadata": {},
          "execution_count": 133
        }
      ],
      "source": [
        "# nb. of columns\n",
        "df1.shape[1]"
      ]
    },
    {
      "cell_type": "code",
      "execution_count": 134,
      "metadata": {
        "id": "5Yqcxa8aTUPD",
        "colab": {
          "base_uri": "https://localhost:8080/"
        },
        "outputId": "8a27116b-518b-4999-9d54-90e884af39a9"
      },
      "outputs": [
        {
          "output_type": "execute_result",
          "data": {
            "text/plain": [
              "4"
            ]
          },
          "metadata": {},
          "execution_count": 134
        }
      ],
      "source": [
        "len(df1.columns)"
      ]
    },
    {
      "cell_type": "code",
      "execution_count": 135,
      "metadata": {
        "id": "N7UPeznrTXaF",
        "colab": {
          "base_uri": "https://localhost:8080/"
        },
        "outputId": "5c5699f0-d223-4c54-daab-77bfe010a630"
      },
      "outputs": [
        {
          "output_type": "execute_result",
          "data": {
            "text/plain": [
              "Index(['name', 'age', 'city', 'country'], dtype='object')"
            ]
          },
          "metadata": {},
          "execution_count": 135
        }
      ],
      "source": [
        "# get df columns\n",
        "\n",
        "df1.columns"
      ]
    },
    {
      "cell_type": "code",
      "execution_count": 136,
      "metadata": {
        "id": "gMZxm5PBTbbT",
        "colab": {
          "base_uri": "https://localhost:8080/",
          "height": 35
        },
        "outputId": "57489225-75f0-4468-ea84-92cd2eb8e02b"
      },
      "outputs": [
        {
          "output_type": "execute_result",
          "data": {
            "text/plain": [
              "'name'"
            ],
            "application/vnd.google.colaboratory.intrinsic+json": {
              "type": "string"
            }
          },
          "metadata": {},
          "execution_count": 136
        }
      ],
      "source": [
        "# 1st column index: starts at 0\n",
        "\n",
        "df1.columns[0]\n"
      ]
    },
    {
      "cell_type": "markdown",
      "metadata": {
        "id": "6LU-ODP8TpPl"
      },
      "source": [
        "## Locations: .iloc & .loc"
      ]
    },
    {
      "cell_type": "code",
      "execution_count": 137,
      "metadata": {
        "id": "CIVlcWu7TjH7",
        "colab": {
          "base_uri": "https://localhost:8080/"
        },
        "outputId": "b05aa5d6-f1c0-4c5d-e4e8-c26b2e7cf3bb"
      },
      "outputs": [
        {
          "output_type": "execute_result",
          "data": {
            "text/plain": [
              "0    30\n",
              "1    35\n",
              "2    40\n",
              "3    27\n",
              "4    52\n",
              "Name: age, dtype: object"
            ]
          },
          "metadata": {},
          "execution_count": 137
        }
      ],
      "source": [
        "# access values by column name\n",
        "\n",
        "df1['age']"
      ]
    },
    {
      "cell_type": "code",
      "source": [
        "# another way to get values of a column\n",
        "\n",
        "df1.age"
      ],
      "metadata": {
        "id": "xZf_1Ox8iEO5",
        "colab": {
          "base_uri": "https://localhost:8080/"
        },
        "outputId": "4ebcf5d9-6bda-43e0-8319-ec5c2f3b9208"
      },
      "execution_count": 138,
      "outputs": [
        {
          "output_type": "execute_result",
          "data": {
            "text/plain": [
              "0    30\n",
              "1    35\n",
              "2    40\n",
              "3    27\n",
              "4    52\n",
              "Name: age, dtype: object"
            ]
          },
          "metadata": {},
          "execution_count": 138
        }
      ]
    },
    {
      "cell_type": "markdown",
      "source": [
        "TO access values from dataframe we use **.iloc** and **.loc** attributes"
      ],
      "metadata": {
        "id": "B0-676TUtflQ"
      }
    },
    {
      "cell_type": "markdown",
      "source": [
        "**.iloc**"
      ],
      "metadata": {
        "id": "MY-NbgI53D-M"
      }
    },
    {
      "cell_type": "markdown",
      "source": [
        "The pandas.DataFrame.iloc attribute is used to access elements from a pandas DataFrame using the integer position. \n",
        "\n",
        "The “.iloc” attribute allows inputs like an integer value, a list of integer values, and a slicing object with integers, and boolean array, etc.\n",
        "\n",
        "The attribute will raise an “IndexError” if the requested index is out of bounds, except for the slicing indexer object."
      ],
      "metadata": {
        "id": "ULjHVL_GtvJu"
      }
    },
    {
      "cell_type": "markdown",
      "source": [
        "iloc[row_position, column_position]"
      ],
      "metadata": {
        "id": "UpVrqgNPypXm"
      }
    },
    {
      "cell_type": "code",
      "source": [
        "print(df1)\n",
        "print('')\n",
        "\n",
        "# acces 1st row with .iloc\n",
        "df1.iloc[0] # a sing argument"
      ],
      "metadata": {
        "id": "raOFtmy6uq11",
        "colab": {
          "base_uri": "https://localhost:8080/"
        },
        "outputId": "ffde709c-a246-4e09-c9e3-356a375a6691"
      },
      "execution_count": 139,
      "outputs": [
        {
          "output_type": "stream",
          "name": "stdout",
          "text": [
            "      name age    city  country\n",
            "0     Jess  30   Paris   France\n",
            "1     Nick  35  Berlin  Germany\n",
            "2  Winston  40  Madrid    Spain\n",
            "3      Tom  27   Paris   France\n",
            "4     Alex  52  London       UK\n",
            "\n"
          ]
        },
        {
          "output_type": "execute_result",
          "data": {
            "text/plain": [
              "name         Jess\n",
              "age            30\n",
              "city        Paris\n",
              "country    France\n",
              "Name: 0, dtype: object"
            ]
          },
          "metadata": {},
          "execution_count": 139
        }
      ]
    },
    {
      "cell_type": "code",
      "source": [
        "print(df1)\n",
        "print('')\n",
        "\n",
        "# acces the last row with .iloc\n",
        "df1.iloc[-1]"
      ],
      "metadata": {
        "id": "BvHA_OaCu9w3",
        "colab": {
          "base_uri": "https://localhost:8080/"
        },
        "outputId": "ed01eea0-2197-4f83-921c-33d99863b7d2"
      },
      "execution_count": 140,
      "outputs": [
        {
          "output_type": "stream",
          "name": "stdout",
          "text": [
            "      name age    city  country\n",
            "0     Jess  30   Paris   France\n",
            "1     Nick  35  Berlin  Germany\n",
            "2  Winston  40  Madrid    Spain\n",
            "3      Tom  27   Paris   France\n",
            "4     Alex  52  London       UK\n",
            "\n"
          ]
        },
        {
          "output_type": "execute_result",
          "data": {
            "text/plain": [
              "name         Alex\n",
              "age            52\n",
              "city       London\n",
              "country        UK\n",
              "Name: 4, dtype: object"
            ]
          },
          "metadata": {},
          "execution_count": 140
        }
      ]
    },
    {
      "cell_type": "code",
      "execution_count": 141,
      "metadata": {
        "id": "mCZA0A_MTwJ5",
        "colab": {
          "base_uri": "https://localhost:8080/"
        },
        "outputId": "91f7d5a0-c505-43bc-d512-42e7aa1e9485"
      },
      "outputs": [
        {
          "output_type": "stream",
          "name": "stdout",
          "text": [
            "      name age    city  country\n",
            "0     Jess  30   Paris   France\n",
            "1     Nick  35  Berlin  Germany\n",
            "2  Winston  40  Madrid    Spain\n",
            "3      Tom  27   Paris   France\n",
            "4     Alex  52  London       UK\n",
            "\n",
            "the 1st element of df is:  Jess\n"
          ]
        }
      ],
      "source": [
        "# accessing a single element by index with .iloc attribute\n",
        "\n",
        "print(df1)\n",
        "print('')\n",
        "print('the 1st element of df is: ', df1.iloc[0, 0])"
      ]
    },
    {
      "cell_type": "code",
      "execution_count": 142,
      "metadata": {
        "id": "6h4TipVET-4y",
        "colab": {
          "base_uri": "https://localhost:8080/",
          "height": 35
        },
        "outputId": "fa4ee089-33d9-464d-809d-351ce6203010"
      },
      "outputs": [
        {
          "output_type": "execute_result",
          "data": {
            "text/plain": [
              "'UK'"
            ],
            "application/vnd.google.colaboratory.intrinsic+json": {
              "type": "string"
            }
          },
          "metadata": {},
          "execution_count": 142
        }
      ],
      "source": [
        "# accessing the last element of the df\n",
        "df1.iloc[-1, -1]"
      ]
    },
    {
      "cell_type": "code",
      "execution_count": 143,
      "metadata": {
        "id": "2TmwbnFJUEME",
        "colab": {
          "base_uri": "https://localhost:8080/",
          "height": 157
        },
        "outputId": "ffebd058-02bc-4b42-e6bd-e23eb3b0c1fe"
      },
      "outputs": [
        {
          "output_type": "stream",
          "name": "stdout",
          "text": [
            "      name age    city  country\n",
            "0     Jess  30   Paris   France\n",
            "1     Nick  35  Berlin  Germany\n",
            "2  Winston  40  Madrid    Spain\n",
            "3      Tom  27   Paris   France\n",
            "4     Alex  52  London       UK\n",
            "\n"
          ]
        },
        {
          "output_type": "execute_result",
          "data": {
            "text/plain": [
              "'40'"
            ],
            "application/vnd.google.colaboratory.intrinsic+json": {
              "type": "string"
            }
          },
          "metadata": {},
          "execution_count": 143
        }
      ],
      "source": [
        "# return element with value 40\n",
        "\n",
        "print(df1)\n",
        "print('')\n",
        "df1.iloc[2,1] # row index 2 and col index 1"
      ]
    },
    {
      "cell_type": "code",
      "source": [
        "# out of bounds index\n",
        "# ... romove the hashtag (#) in front of the line with code if you want to run the cell...\n",
        "\n",
        "# df1.iloc[12,2]"
      ],
      "metadata": {
        "id": "0HMhG2BduBtO"
      },
      "execution_count": 144,
      "outputs": []
    },
    {
      "cell_type": "code",
      "source": [
        "print(df1)\n",
        "print('')\n",
        "\n",
        "# accessing a range of values by index\n",
        "df1.iloc[:3, 1:3] # all elements till the 2nd row (not included) and columns from 1 to 3 (where 3 not included)"
      ],
      "metadata": {
        "id": "sTX-Dk8JvQPc",
        "colab": {
          "base_uri": "https://localhost:8080/",
          "height": 265
        },
        "outputId": "e484b8a0-ee54-4eb0-a1c2-2be13bc45622"
      },
      "execution_count": 145,
      "outputs": [
        {
          "output_type": "stream",
          "name": "stdout",
          "text": [
            "      name age    city  country\n",
            "0     Jess  30   Paris   France\n",
            "1     Nick  35  Berlin  Germany\n",
            "2  Winston  40  Madrid    Spain\n",
            "3      Tom  27   Paris   France\n",
            "4     Alex  52  London       UK\n",
            "\n"
          ]
        },
        {
          "output_type": "execute_result",
          "data": {
            "text/plain": [
              "  age    city\n",
              "0  30   Paris\n",
              "1  35  Berlin\n",
              "2  40  Madrid"
            ],
            "text/html": [
              "\n",
              "  <div id=\"df-3f48b470-bbfd-4ea9-a4c0-88ff44fd2c60\">\n",
              "    <div class=\"colab-df-container\">\n",
              "      <div>\n",
              "<style scoped>\n",
              "    .dataframe tbody tr th:only-of-type {\n",
              "        vertical-align: middle;\n",
              "    }\n",
              "\n",
              "    .dataframe tbody tr th {\n",
              "        vertical-align: top;\n",
              "    }\n",
              "\n",
              "    .dataframe thead th {\n",
              "        text-align: right;\n",
              "    }\n",
              "</style>\n",
              "<table border=\"1\" class=\"dataframe\">\n",
              "  <thead>\n",
              "    <tr style=\"text-align: right;\">\n",
              "      <th></th>\n",
              "      <th>age</th>\n",
              "      <th>city</th>\n",
              "    </tr>\n",
              "  </thead>\n",
              "  <tbody>\n",
              "    <tr>\n",
              "      <th>0</th>\n",
              "      <td>30</td>\n",
              "      <td>Paris</td>\n",
              "    </tr>\n",
              "    <tr>\n",
              "      <th>1</th>\n",
              "      <td>35</td>\n",
              "      <td>Berlin</td>\n",
              "    </tr>\n",
              "    <tr>\n",
              "      <th>2</th>\n",
              "      <td>40</td>\n",
              "      <td>Madrid</td>\n",
              "    </tr>\n",
              "  </tbody>\n",
              "</table>\n",
              "</div>\n",
              "      <button class=\"colab-df-convert\" onclick=\"convertToInteractive('df-3f48b470-bbfd-4ea9-a4c0-88ff44fd2c60')\"\n",
              "              title=\"Convert this dataframe to an interactive table.\"\n",
              "              style=\"display:none;\">\n",
              "        \n",
              "  <svg xmlns=\"http://www.w3.org/2000/svg\" height=\"24px\"viewBox=\"0 0 24 24\"\n",
              "       width=\"24px\">\n",
              "    <path d=\"M0 0h24v24H0V0z\" fill=\"none\"/>\n",
              "    <path d=\"M18.56 5.44l.94 2.06.94-2.06 2.06-.94-2.06-.94-.94-2.06-.94 2.06-2.06.94zm-11 1L8.5 8.5l.94-2.06 2.06-.94-2.06-.94L8.5 2.5l-.94 2.06-2.06.94zm10 10l.94 2.06.94-2.06 2.06-.94-2.06-.94-.94-2.06-.94 2.06-2.06.94z\"/><path d=\"M17.41 7.96l-1.37-1.37c-.4-.4-.92-.59-1.43-.59-.52 0-1.04.2-1.43.59L10.3 9.45l-7.72 7.72c-.78.78-.78 2.05 0 2.83L4 21.41c.39.39.9.59 1.41.59.51 0 1.02-.2 1.41-.59l7.78-7.78 2.81-2.81c.8-.78.8-2.07 0-2.86zM5.41 20L4 18.59l7.72-7.72 1.47 1.35L5.41 20z\"/>\n",
              "  </svg>\n",
              "      </button>\n",
              "      \n",
              "  <style>\n",
              "    .colab-df-container {\n",
              "      display:flex;\n",
              "      flex-wrap:wrap;\n",
              "      gap: 12px;\n",
              "    }\n",
              "\n",
              "    .colab-df-convert {\n",
              "      background-color: #E8F0FE;\n",
              "      border: none;\n",
              "      border-radius: 50%;\n",
              "      cursor: pointer;\n",
              "      display: none;\n",
              "      fill: #1967D2;\n",
              "      height: 32px;\n",
              "      padding: 0 0 0 0;\n",
              "      width: 32px;\n",
              "    }\n",
              "\n",
              "    .colab-df-convert:hover {\n",
              "      background-color: #E2EBFA;\n",
              "      box-shadow: 0px 1px 2px rgba(60, 64, 67, 0.3), 0px 1px 3px 1px rgba(60, 64, 67, 0.15);\n",
              "      fill: #174EA6;\n",
              "    }\n",
              "\n",
              "    [theme=dark] .colab-df-convert {\n",
              "      background-color: #3B4455;\n",
              "      fill: #D2E3FC;\n",
              "    }\n",
              "\n",
              "    [theme=dark] .colab-df-convert:hover {\n",
              "      background-color: #434B5C;\n",
              "      box-shadow: 0px 1px 3px 1px rgba(0, 0, 0, 0.15);\n",
              "      filter: drop-shadow(0px 1px 2px rgba(0, 0, 0, 0.3));\n",
              "      fill: #FFFFFF;\n",
              "    }\n",
              "  </style>\n",
              "\n",
              "      <script>\n",
              "        const buttonEl =\n",
              "          document.querySelector('#df-3f48b470-bbfd-4ea9-a4c0-88ff44fd2c60 button.colab-df-convert');\n",
              "        buttonEl.style.display =\n",
              "          google.colab.kernel.accessAllowed ? 'block' : 'none';\n",
              "\n",
              "        async function convertToInteractive(key) {\n",
              "          const element = document.querySelector('#df-3f48b470-bbfd-4ea9-a4c0-88ff44fd2c60');\n",
              "          const dataTable =\n",
              "            await google.colab.kernel.invokeFunction('convertToInteractive',\n",
              "                                                     [key], {});\n",
              "          if (!dataTable) return;\n",
              "\n",
              "          const docLinkHtml = 'Like what you see? Visit the ' +\n",
              "            '<a target=\"_blank\" href=https://colab.research.google.com/notebooks/data_table.ipynb>data table notebook</a>'\n",
              "            + ' to learn more about interactive tables.';\n",
              "          element.innerHTML = '';\n",
              "          dataTable['output_type'] = 'display_data';\n",
              "          await google.colab.output.renderOutput(dataTable, element);\n",
              "          const docLink = document.createElement('div');\n",
              "          docLink.innerHTML = docLinkHtml;\n",
              "          element.appendChild(docLink);\n",
              "        }\n",
              "      </script>\n",
              "    </div>\n",
              "  </div>\n",
              "  "
            ]
          },
          "metadata": {},
          "execution_count": 145
        }
      ]
    },
    {
      "cell_type": "markdown",
      "source": [
        "**.loc** "
      ],
      "metadata": {
        "id": "2HV9UOOS3JOI"
      }
    },
    {
      "cell_type": "markdown",
      "source": [
        "The “.loc” is an attribute of the pandas.DataFrame. it is used to access elements from DataFrame based on row/column label indexing."
      ],
      "metadata": {
        "id": "7bZXVxdbs0t5"
      }
    },
    {
      "cell_type": "markdown",
      "source": [
        "loc[row_label, column_label]"
      ],
      "metadata": {
        "id": "UDgRy2cFywRY"
      }
    },
    {
      "cell_type": "code",
      "source": [
        "# the rows have indices, but no labels\n",
        "\n",
        "print(df1.shape)\n",
        "\n",
        "df1"
      ],
      "metadata": {
        "id": "AqWGf5FB5Y9s",
        "colab": {
          "base_uri": "https://localhost:8080/",
          "height": 223
        },
        "outputId": "8965578d-35d9-40b0-ad1b-4e149aad84d6"
      },
      "execution_count": 146,
      "outputs": [
        {
          "output_type": "stream",
          "name": "stdout",
          "text": [
            "(5, 4)\n"
          ]
        },
        {
          "output_type": "execute_result",
          "data": {
            "text/plain": [
              "      name age    city  country\n",
              "0     Jess  30   Paris   France\n",
              "1     Nick  35  Berlin  Germany\n",
              "2  Winston  40  Madrid    Spain\n",
              "3      Tom  27   Paris   France\n",
              "4     Alex  52  London       UK"
            ],
            "text/html": [
              "\n",
              "  <div id=\"df-4129c635-0bd6-4fec-83f8-6f75d50aeb8d\">\n",
              "    <div class=\"colab-df-container\">\n",
              "      <div>\n",
              "<style scoped>\n",
              "    .dataframe tbody tr th:only-of-type {\n",
              "        vertical-align: middle;\n",
              "    }\n",
              "\n",
              "    .dataframe tbody tr th {\n",
              "        vertical-align: top;\n",
              "    }\n",
              "\n",
              "    .dataframe thead th {\n",
              "        text-align: right;\n",
              "    }\n",
              "</style>\n",
              "<table border=\"1\" class=\"dataframe\">\n",
              "  <thead>\n",
              "    <tr style=\"text-align: right;\">\n",
              "      <th></th>\n",
              "      <th>name</th>\n",
              "      <th>age</th>\n",
              "      <th>city</th>\n",
              "      <th>country</th>\n",
              "    </tr>\n",
              "  </thead>\n",
              "  <tbody>\n",
              "    <tr>\n",
              "      <th>0</th>\n",
              "      <td>Jess</td>\n",
              "      <td>30</td>\n",
              "      <td>Paris</td>\n",
              "      <td>France</td>\n",
              "    </tr>\n",
              "    <tr>\n",
              "      <th>1</th>\n",
              "      <td>Nick</td>\n",
              "      <td>35</td>\n",
              "      <td>Berlin</td>\n",
              "      <td>Germany</td>\n",
              "    </tr>\n",
              "    <tr>\n",
              "      <th>2</th>\n",
              "      <td>Winston</td>\n",
              "      <td>40</td>\n",
              "      <td>Madrid</td>\n",
              "      <td>Spain</td>\n",
              "    </tr>\n",
              "    <tr>\n",
              "      <th>3</th>\n",
              "      <td>Tom</td>\n",
              "      <td>27</td>\n",
              "      <td>Paris</td>\n",
              "      <td>France</td>\n",
              "    </tr>\n",
              "    <tr>\n",
              "      <th>4</th>\n",
              "      <td>Alex</td>\n",
              "      <td>52</td>\n",
              "      <td>London</td>\n",
              "      <td>UK</td>\n",
              "    </tr>\n",
              "  </tbody>\n",
              "</table>\n",
              "</div>\n",
              "      <button class=\"colab-df-convert\" onclick=\"convertToInteractive('df-4129c635-0bd6-4fec-83f8-6f75d50aeb8d')\"\n",
              "              title=\"Convert this dataframe to an interactive table.\"\n",
              "              style=\"display:none;\">\n",
              "        \n",
              "  <svg xmlns=\"http://www.w3.org/2000/svg\" height=\"24px\"viewBox=\"0 0 24 24\"\n",
              "       width=\"24px\">\n",
              "    <path d=\"M0 0h24v24H0V0z\" fill=\"none\"/>\n",
              "    <path d=\"M18.56 5.44l.94 2.06.94-2.06 2.06-.94-2.06-.94-.94-2.06-.94 2.06-2.06.94zm-11 1L8.5 8.5l.94-2.06 2.06-.94-2.06-.94L8.5 2.5l-.94 2.06-2.06.94zm10 10l.94 2.06.94-2.06 2.06-.94-2.06-.94-.94-2.06-.94 2.06-2.06.94z\"/><path d=\"M17.41 7.96l-1.37-1.37c-.4-.4-.92-.59-1.43-.59-.52 0-1.04.2-1.43.59L10.3 9.45l-7.72 7.72c-.78.78-.78 2.05 0 2.83L4 21.41c.39.39.9.59 1.41.59.51 0 1.02-.2 1.41-.59l7.78-7.78 2.81-2.81c.8-.78.8-2.07 0-2.86zM5.41 20L4 18.59l7.72-7.72 1.47 1.35L5.41 20z\"/>\n",
              "  </svg>\n",
              "      </button>\n",
              "      \n",
              "  <style>\n",
              "    .colab-df-container {\n",
              "      display:flex;\n",
              "      flex-wrap:wrap;\n",
              "      gap: 12px;\n",
              "    }\n",
              "\n",
              "    .colab-df-convert {\n",
              "      background-color: #E8F0FE;\n",
              "      border: none;\n",
              "      border-radius: 50%;\n",
              "      cursor: pointer;\n",
              "      display: none;\n",
              "      fill: #1967D2;\n",
              "      height: 32px;\n",
              "      padding: 0 0 0 0;\n",
              "      width: 32px;\n",
              "    }\n",
              "\n",
              "    .colab-df-convert:hover {\n",
              "      background-color: #E2EBFA;\n",
              "      box-shadow: 0px 1px 2px rgba(60, 64, 67, 0.3), 0px 1px 3px 1px rgba(60, 64, 67, 0.15);\n",
              "      fill: #174EA6;\n",
              "    }\n",
              "\n",
              "    [theme=dark] .colab-df-convert {\n",
              "      background-color: #3B4455;\n",
              "      fill: #D2E3FC;\n",
              "    }\n",
              "\n",
              "    [theme=dark] .colab-df-convert:hover {\n",
              "      background-color: #434B5C;\n",
              "      box-shadow: 0px 1px 3px 1px rgba(0, 0, 0, 0.15);\n",
              "      filter: drop-shadow(0px 1px 2px rgba(0, 0, 0, 0.3));\n",
              "      fill: #FFFFFF;\n",
              "    }\n",
              "  </style>\n",
              "\n",
              "      <script>\n",
              "        const buttonEl =\n",
              "          document.querySelector('#df-4129c635-0bd6-4fec-83f8-6f75d50aeb8d button.colab-df-convert');\n",
              "        buttonEl.style.display =\n",
              "          google.colab.kernel.accessAllowed ? 'block' : 'none';\n",
              "\n",
              "        async function convertToInteractive(key) {\n",
              "          const element = document.querySelector('#df-4129c635-0bd6-4fec-83f8-6f75d50aeb8d');\n",
              "          const dataTable =\n",
              "            await google.colab.kernel.invokeFunction('convertToInteractive',\n",
              "                                                     [key], {});\n",
              "          if (!dataTable) return;\n",
              "\n",
              "          const docLinkHtml = 'Like what you see? Visit the ' +\n",
              "            '<a target=\"_blank\" href=https://colab.research.google.com/notebooks/data_table.ipynb>data table notebook</a>'\n",
              "            + ' to learn more about interactive tables.';\n",
              "          element.innerHTML = '';\n",
              "          dataTable['output_type'] = 'display_data';\n",
              "          await google.colab.output.renderOutput(dataTable, element);\n",
              "          const docLink = document.createElement('div');\n",
              "          docLink.innerHTML = docLinkHtml;\n",
              "          element.appendChild(docLink);\n",
              "        }\n",
              "      </script>\n",
              "    </div>\n",
              "  </div>\n",
              "  "
            ]
          },
          "metadata": {},
          "execution_count": 146
        }
      ]
    },
    {
      "cell_type": "code",
      "source": [
        "# reset the index of df, use the column name as index\n",
        "\n",
        "df1 = df1.set_index('name')\n",
        "print('the new shape of df1 is: ', df1.shape)\n",
        "print('')\n",
        "df1"
      ],
      "metadata": {
        "id": "jv7Kheu60Yrx",
        "colab": {
          "base_uri": "https://localhost:8080/",
          "height": 272
        },
        "outputId": "a4106dab-dbe5-44ec-cf0e-a3b38f720093"
      },
      "execution_count": 147,
      "outputs": [
        {
          "output_type": "stream",
          "name": "stdout",
          "text": [
            "the new shape of df1 is:  (5, 3)\n",
            "\n"
          ]
        },
        {
          "output_type": "execute_result",
          "data": {
            "text/plain": [
              "        age    city  country\n",
              "name                        \n",
              "Jess     30   Paris   France\n",
              "Nick     35  Berlin  Germany\n",
              "Winston  40  Madrid    Spain\n",
              "Tom      27   Paris   France\n",
              "Alex     52  London       UK"
            ],
            "text/html": [
              "\n",
              "  <div id=\"df-8fc84ec7-b6ce-4721-8260-1ea126a13396\">\n",
              "    <div class=\"colab-df-container\">\n",
              "      <div>\n",
              "<style scoped>\n",
              "    .dataframe tbody tr th:only-of-type {\n",
              "        vertical-align: middle;\n",
              "    }\n",
              "\n",
              "    .dataframe tbody tr th {\n",
              "        vertical-align: top;\n",
              "    }\n",
              "\n",
              "    .dataframe thead th {\n",
              "        text-align: right;\n",
              "    }\n",
              "</style>\n",
              "<table border=\"1\" class=\"dataframe\">\n",
              "  <thead>\n",
              "    <tr style=\"text-align: right;\">\n",
              "      <th></th>\n",
              "      <th>age</th>\n",
              "      <th>city</th>\n",
              "      <th>country</th>\n",
              "    </tr>\n",
              "    <tr>\n",
              "      <th>name</th>\n",
              "      <th></th>\n",
              "      <th></th>\n",
              "      <th></th>\n",
              "    </tr>\n",
              "  </thead>\n",
              "  <tbody>\n",
              "    <tr>\n",
              "      <th>Jess</th>\n",
              "      <td>30</td>\n",
              "      <td>Paris</td>\n",
              "      <td>France</td>\n",
              "    </tr>\n",
              "    <tr>\n",
              "      <th>Nick</th>\n",
              "      <td>35</td>\n",
              "      <td>Berlin</td>\n",
              "      <td>Germany</td>\n",
              "    </tr>\n",
              "    <tr>\n",
              "      <th>Winston</th>\n",
              "      <td>40</td>\n",
              "      <td>Madrid</td>\n",
              "      <td>Spain</td>\n",
              "    </tr>\n",
              "    <tr>\n",
              "      <th>Tom</th>\n",
              "      <td>27</td>\n",
              "      <td>Paris</td>\n",
              "      <td>France</td>\n",
              "    </tr>\n",
              "    <tr>\n",
              "      <th>Alex</th>\n",
              "      <td>52</td>\n",
              "      <td>London</td>\n",
              "      <td>UK</td>\n",
              "    </tr>\n",
              "  </tbody>\n",
              "</table>\n",
              "</div>\n",
              "      <button class=\"colab-df-convert\" onclick=\"convertToInteractive('df-8fc84ec7-b6ce-4721-8260-1ea126a13396')\"\n",
              "              title=\"Convert this dataframe to an interactive table.\"\n",
              "              style=\"display:none;\">\n",
              "        \n",
              "  <svg xmlns=\"http://www.w3.org/2000/svg\" height=\"24px\"viewBox=\"0 0 24 24\"\n",
              "       width=\"24px\">\n",
              "    <path d=\"M0 0h24v24H0V0z\" fill=\"none\"/>\n",
              "    <path d=\"M18.56 5.44l.94 2.06.94-2.06 2.06-.94-2.06-.94-.94-2.06-.94 2.06-2.06.94zm-11 1L8.5 8.5l.94-2.06 2.06-.94-2.06-.94L8.5 2.5l-.94 2.06-2.06.94zm10 10l.94 2.06.94-2.06 2.06-.94-2.06-.94-.94-2.06-.94 2.06-2.06.94z\"/><path d=\"M17.41 7.96l-1.37-1.37c-.4-.4-.92-.59-1.43-.59-.52 0-1.04.2-1.43.59L10.3 9.45l-7.72 7.72c-.78.78-.78 2.05 0 2.83L4 21.41c.39.39.9.59 1.41.59.51 0 1.02-.2 1.41-.59l7.78-7.78 2.81-2.81c.8-.78.8-2.07 0-2.86zM5.41 20L4 18.59l7.72-7.72 1.47 1.35L5.41 20z\"/>\n",
              "  </svg>\n",
              "      </button>\n",
              "      \n",
              "  <style>\n",
              "    .colab-df-container {\n",
              "      display:flex;\n",
              "      flex-wrap:wrap;\n",
              "      gap: 12px;\n",
              "    }\n",
              "\n",
              "    .colab-df-convert {\n",
              "      background-color: #E8F0FE;\n",
              "      border: none;\n",
              "      border-radius: 50%;\n",
              "      cursor: pointer;\n",
              "      display: none;\n",
              "      fill: #1967D2;\n",
              "      height: 32px;\n",
              "      padding: 0 0 0 0;\n",
              "      width: 32px;\n",
              "    }\n",
              "\n",
              "    .colab-df-convert:hover {\n",
              "      background-color: #E2EBFA;\n",
              "      box-shadow: 0px 1px 2px rgba(60, 64, 67, 0.3), 0px 1px 3px 1px rgba(60, 64, 67, 0.15);\n",
              "      fill: #174EA6;\n",
              "    }\n",
              "\n",
              "    [theme=dark] .colab-df-convert {\n",
              "      background-color: #3B4455;\n",
              "      fill: #D2E3FC;\n",
              "    }\n",
              "\n",
              "    [theme=dark] .colab-df-convert:hover {\n",
              "      background-color: #434B5C;\n",
              "      box-shadow: 0px 1px 3px 1px rgba(0, 0, 0, 0.15);\n",
              "      filter: drop-shadow(0px 1px 2px rgba(0, 0, 0, 0.3));\n",
              "      fill: #FFFFFF;\n",
              "    }\n",
              "  </style>\n",
              "\n",
              "      <script>\n",
              "        const buttonEl =\n",
              "          document.querySelector('#df-8fc84ec7-b6ce-4721-8260-1ea126a13396 button.colab-df-convert');\n",
              "        buttonEl.style.display =\n",
              "          google.colab.kernel.accessAllowed ? 'block' : 'none';\n",
              "\n",
              "        async function convertToInteractive(key) {\n",
              "          const element = document.querySelector('#df-8fc84ec7-b6ce-4721-8260-1ea126a13396');\n",
              "          const dataTable =\n",
              "            await google.colab.kernel.invokeFunction('convertToInteractive',\n",
              "                                                     [key], {});\n",
              "          if (!dataTable) return;\n",
              "\n",
              "          const docLinkHtml = 'Like what you see? Visit the ' +\n",
              "            '<a target=\"_blank\" href=https://colab.research.google.com/notebooks/data_table.ipynb>data table notebook</a>'\n",
              "            + ' to learn more about interactive tables.';\n",
              "          element.innerHTML = '';\n",
              "          dataTable['output_type'] = 'display_data';\n",
              "          await google.colab.output.renderOutput(dataTable, element);\n",
              "          const docLink = document.createElement('div');\n",
              "          docLink.innerHTML = docLinkHtml;\n",
              "          element.appendChild(docLink);\n",
              "        }\n",
              "      </script>\n",
              "    </div>\n",
              "  </div>\n",
              "  "
            ]
          },
          "metadata": {},
          "execution_count": 147
        }
      ]
    },
    {
      "cell_type": "code",
      "execution_count": 148,
      "metadata": {
        "id": "-sFSyWUiUM2W",
        "colab": {
          "base_uri": "https://localhost:8080/",
          "height": 191
        },
        "outputId": "8106f2a4-14c1-4d96-9063-338f1040da24"
      },
      "outputs": [
        {
          "output_type": "stream",
          "name": "stdout",
          "text": [
            "        age    city  country\n",
            "name                        \n",
            "Jess     30   Paris   France\n",
            "Nick     35  Berlin  Germany\n",
            "Winston  40  Madrid    Spain\n",
            "Tom      27   Paris   France\n",
            "Alex     52  London       UK\n",
            "\n",
            "The country of Nick is: ... \n"
          ]
        },
        {
          "output_type": "execute_result",
          "data": {
            "text/plain": [
              "'Germany'"
            ],
            "application/vnd.google.colaboratory.intrinsic+json": {
              "type": "string"
            }
          },
          "metadata": {},
          "execution_count": 148
        }
      ],
      "source": [
        "# access an element by labels\n",
        "\n",
        "print(df1)\n",
        "print('')\n",
        "print('The country of Nick is: ... ')\n",
        "df1.loc['Nick', 'country']"
      ]
    },
    {
      "cell_type": "code",
      "source": [
        "# access a range of elements by labels\n",
        "print(df1)\n",
        "print('')\n",
        "print('The countris of Nick and Winston is: ... ')\n",
        "df1.loc['Nick':'Tom', 'country']\n"
      ],
      "metadata": {
        "id": "aLnMucbz0XRT",
        "colab": {
          "base_uri": "https://localhost:8080/"
        },
        "outputId": "f991a00f-c7e2-493b-c188-96d9c3c18e84"
      },
      "execution_count": 149,
      "outputs": [
        {
          "output_type": "stream",
          "name": "stdout",
          "text": [
            "        age    city  country\n",
            "name                        \n",
            "Jess     30   Paris   France\n",
            "Nick     35  Berlin  Germany\n",
            "Winston  40  Madrid    Spain\n",
            "Tom      27   Paris   France\n",
            "Alex     52  London       UK\n",
            "\n",
            "The countris of Nick and Winston is: ... \n"
          ]
        },
        {
          "output_type": "execute_result",
          "data": {
            "text/plain": [
              "name\n",
              "Nick       Germany\n",
              "Winston      Spain\n",
              "Tom         France\n",
              "Name: country, dtype: object"
            ]
          },
          "metadata": {},
          "execution_count": 149
        }
      ]
    },
    {
      "cell_type": "code",
      "execution_count": 150,
      "metadata": {
        "id": "hAS784HJUTsa",
        "colab": {
          "base_uri": "https://localhost:8080/"
        },
        "outputId": "f7cde619-620e-4973-f233-890ef977e628"
      },
      "outputs": [
        {
          "output_type": "execute_result",
          "data": {
            "text/plain": [
              "name\n",
              "Alex         UK\n",
              "Nick    Germany\n",
              "Name: country, dtype: object"
            ]
          },
          "metadata": {},
          "execution_count": 150
        }
      ],
      "source": [
        "# the country of specific rows\n",
        "\n",
        "df1.loc[['Alex', 'Nick'], 'country']"
      ]
    },
    {
      "cell_type": "code",
      "source": [
        "# the country and city of specific rows\n",
        "\n",
        "df1.loc[['Alex', 'Nick'], ['country', 'city']]"
      ],
      "metadata": {
        "id": "GqJ-vGab68fm",
        "colab": {
          "base_uri": "https://localhost:8080/",
          "height": 143
        },
        "outputId": "38ff290e-7035-40fb-9908-16ed5a335358"
      },
      "execution_count": 151,
      "outputs": [
        {
          "output_type": "execute_result",
          "data": {
            "text/plain": [
              "      country    city\n",
              "name                 \n",
              "Alex       UK  London\n",
              "Nick  Germany  Berlin"
            ],
            "text/html": [
              "\n",
              "  <div id=\"df-8cc29199-c15f-478a-a094-07e4a8171ec7\">\n",
              "    <div class=\"colab-df-container\">\n",
              "      <div>\n",
              "<style scoped>\n",
              "    .dataframe tbody tr th:only-of-type {\n",
              "        vertical-align: middle;\n",
              "    }\n",
              "\n",
              "    .dataframe tbody tr th {\n",
              "        vertical-align: top;\n",
              "    }\n",
              "\n",
              "    .dataframe thead th {\n",
              "        text-align: right;\n",
              "    }\n",
              "</style>\n",
              "<table border=\"1\" class=\"dataframe\">\n",
              "  <thead>\n",
              "    <tr style=\"text-align: right;\">\n",
              "      <th></th>\n",
              "      <th>country</th>\n",
              "      <th>city</th>\n",
              "    </tr>\n",
              "    <tr>\n",
              "      <th>name</th>\n",
              "      <th></th>\n",
              "      <th></th>\n",
              "    </tr>\n",
              "  </thead>\n",
              "  <tbody>\n",
              "    <tr>\n",
              "      <th>Alex</th>\n",
              "      <td>UK</td>\n",
              "      <td>London</td>\n",
              "    </tr>\n",
              "    <tr>\n",
              "      <th>Nick</th>\n",
              "      <td>Germany</td>\n",
              "      <td>Berlin</td>\n",
              "    </tr>\n",
              "  </tbody>\n",
              "</table>\n",
              "</div>\n",
              "      <button class=\"colab-df-convert\" onclick=\"convertToInteractive('df-8cc29199-c15f-478a-a094-07e4a8171ec7')\"\n",
              "              title=\"Convert this dataframe to an interactive table.\"\n",
              "              style=\"display:none;\">\n",
              "        \n",
              "  <svg xmlns=\"http://www.w3.org/2000/svg\" height=\"24px\"viewBox=\"0 0 24 24\"\n",
              "       width=\"24px\">\n",
              "    <path d=\"M0 0h24v24H0V0z\" fill=\"none\"/>\n",
              "    <path d=\"M18.56 5.44l.94 2.06.94-2.06 2.06-.94-2.06-.94-.94-2.06-.94 2.06-2.06.94zm-11 1L8.5 8.5l.94-2.06 2.06-.94-2.06-.94L8.5 2.5l-.94 2.06-2.06.94zm10 10l.94 2.06.94-2.06 2.06-.94-2.06-.94-.94-2.06-.94 2.06-2.06.94z\"/><path d=\"M17.41 7.96l-1.37-1.37c-.4-.4-.92-.59-1.43-.59-.52 0-1.04.2-1.43.59L10.3 9.45l-7.72 7.72c-.78.78-.78 2.05 0 2.83L4 21.41c.39.39.9.59 1.41.59.51 0 1.02-.2 1.41-.59l7.78-7.78 2.81-2.81c.8-.78.8-2.07 0-2.86zM5.41 20L4 18.59l7.72-7.72 1.47 1.35L5.41 20z\"/>\n",
              "  </svg>\n",
              "      </button>\n",
              "      \n",
              "  <style>\n",
              "    .colab-df-container {\n",
              "      display:flex;\n",
              "      flex-wrap:wrap;\n",
              "      gap: 12px;\n",
              "    }\n",
              "\n",
              "    .colab-df-convert {\n",
              "      background-color: #E8F0FE;\n",
              "      border: none;\n",
              "      border-radius: 50%;\n",
              "      cursor: pointer;\n",
              "      display: none;\n",
              "      fill: #1967D2;\n",
              "      height: 32px;\n",
              "      padding: 0 0 0 0;\n",
              "      width: 32px;\n",
              "    }\n",
              "\n",
              "    .colab-df-convert:hover {\n",
              "      background-color: #E2EBFA;\n",
              "      box-shadow: 0px 1px 2px rgba(60, 64, 67, 0.3), 0px 1px 3px 1px rgba(60, 64, 67, 0.15);\n",
              "      fill: #174EA6;\n",
              "    }\n",
              "\n",
              "    [theme=dark] .colab-df-convert {\n",
              "      background-color: #3B4455;\n",
              "      fill: #D2E3FC;\n",
              "    }\n",
              "\n",
              "    [theme=dark] .colab-df-convert:hover {\n",
              "      background-color: #434B5C;\n",
              "      box-shadow: 0px 1px 3px 1px rgba(0, 0, 0, 0.15);\n",
              "      filter: drop-shadow(0px 1px 2px rgba(0, 0, 0, 0.3));\n",
              "      fill: #FFFFFF;\n",
              "    }\n",
              "  </style>\n",
              "\n",
              "      <script>\n",
              "        const buttonEl =\n",
              "          document.querySelector('#df-8cc29199-c15f-478a-a094-07e4a8171ec7 button.colab-df-convert');\n",
              "        buttonEl.style.display =\n",
              "          google.colab.kernel.accessAllowed ? 'block' : 'none';\n",
              "\n",
              "        async function convertToInteractive(key) {\n",
              "          const element = document.querySelector('#df-8cc29199-c15f-478a-a094-07e4a8171ec7');\n",
              "          const dataTable =\n",
              "            await google.colab.kernel.invokeFunction('convertToInteractive',\n",
              "                                                     [key], {});\n",
              "          if (!dataTable) return;\n",
              "\n",
              "          const docLinkHtml = 'Like what you see? Visit the ' +\n",
              "            '<a target=\"_blank\" href=https://colab.research.google.com/notebooks/data_table.ipynb>data table notebook</a>'\n",
              "            + ' to learn more about interactive tables.';\n",
              "          element.innerHTML = '';\n",
              "          dataTable['output_type'] = 'display_data';\n",
              "          await google.colab.output.renderOutput(dataTable, element);\n",
              "          const docLink = document.createElement('div');\n",
              "          docLink.innerHTML = docLinkHtml;\n",
              "          element.appendChild(docLink);\n",
              "        }\n",
              "      </script>\n",
              "    </div>\n",
              "  </div>\n",
              "  "
            ]
          },
          "metadata": {},
          "execution_count": 151
        }
      ]
    },
    {
      "cell_type": "markdown",
      "source": [
        "More about locations https://towardsdatascience.com/how-to-use-loc-and-iloc-for-selecting-data-in-pandas-bd09cb4c3d79\n",
        "\n",
        "https://www.tutorialspoint.com/how-to-access-pandas-dataframe-elements-using-the-loc-attribute\n",
        "\n",
        "https://www.tutorialspoint.com/how-to-access-pandas-dataframe-elements-using-the-iloc-attribute"
      ],
      "metadata": {
        "id": "8w69PGY29rJv"
      }
    },
    {
      "cell_type": "markdown",
      "metadata": {
        "id": "ak4ZKHL5WPFB"
      },
      "source": [
        "## Filter"
      ]
    },
    {
      "cell_type": "code",
      "source": [
        "df1"
      ],
      "metadata": {
        "id": "K3ieWuq0h_gF",
        "colab": {
          "base_uri": "https://localhost:8080/",
          "height": 237
        },
        "outputId": "c327645f-c4de-4ef0-dad1-53a49ecbf6dd"
      },
      "execution_count": 152,
      "outputs": [
        {
          "output_type": "execute_result",
          "data": {
            "text/plain": [
              "        age    city  country\n",
              "name                        \n",
              "Jess     30   Paris   France\n",
              "Nick     35  Berlin  Germany\n",
              "Winston  40  Madrid    Spain\n",
              "Tom      27   Paris   France\n",
              "Alex     52  London       UK"
            ],
            "text/html": [
              "\n",
              "  <div id=\"df-944f5ac0-597d-4961-9013-fc2c65f322ba\">\n",
              "    <div class=\"colab-df-container\">\n",
              "      <div>\n",
              "<style scoped>\n",
              "    .dataframe tbody tr th:only-of-type {\n",
              "        vertical-align: middle;\n",
              "    }\n",
              "\n",
              "    .dataframe tbody tr th {\n",
              "        vertical-align: top;\n",
              "    }\n",
              "\n",
              "    .dataframe thead th {\n",
              "        text-align: right;\n",
              "    }\n",
              "</style>\n",
              "<table border=\"1\" class=\"dataframe\">\n",
              "  <thead>\n",
              "    <tr style=\"text-align: right;\">\n",
              "      <th></th>\n",
              "      <th>age</th>\n",
              "      <th>city</th>\n",
              "      <th>country</th>\n",
              "    </tr>\n",
              "    <tr>\n",
              "      <th>name</th>\n",
              "      <th></th>\n",
              "      <th></th>\n",
              "      <th></th>\n",
              "    </tr>\n",
              "  </thead>\n",
              "  <tbody>\n",
              "    <tr>\n",
              "      <th>Jess</th>\n",
              "      <td>30</td>\n",
              "      <td>Paris</td>\n",
              "      <td>France</td>\n",
              "    </tr>\n",
              "    <tr>\n",
              "      <th>Nick</th>\n",
              "      <td>35</td>\n",
              "      <td>Berlin</td>\n",
              "      <td>Germany</td>\n",
              "    </tr>\n",
              "    <tr>\n",
              "      <th>Winston</th>\n",
              "      <td>40</td>\n",
              "      <td>Madrid</td>\n",
              "      <td>Spain</td>\n",
              "    </tr>\n",
              "    <tr>\n",
              "      <th>Tom</th>\n",
              "      <td>27</td>\n",
              "      <td>Paris</td>\n",
              "      <td>France</td>\n",
              "    </tr>\n",
              "    <tr>\n",
              "      <th>Alex</th>\n",
              "      <td>52</td>\n",
              "      <td>London</td>\n",
              "      <td>UK</td>\n",
              "    </tr>\n",
              "  </tbody>\n",
              "</table>\n",
              "</div>\n",
              "      <button class=\"colab-df-convert\" onclick=\"convertToInteractive('df-944f5ac0-597d-4961-9013-fc2c65f322ba')\"\n",
              "              title=\"Convert this dataframe to an interactive table.\"\n",
              "              style=\"display:none;\">\n",
              "        \n",
              "  <svg xmlns=\"http://www.w3.org/2000/svg\" height=\"24px\"viewBox=\"0 0 24 24\"\n",
              "       width=\"24px\">\n",
              "    <path d=\"M0 0h24v24H0V0z\" fill=\"none\"/>\n",
              "    <path d=\"M18.56 5.44l.94 2.06.94-2.06 2.06-.94-2.06-.94-.94-2.06-.94 2.06-2.06.94zm-11 1L8.5 8.5l.94-2.06 2.06-.94-2.06-.94L8.5 2.5l-.94 2.06-2.06.94zm10 10l.94 2.06.94-2.06 2.06-.94-2.06-.94-.94-2.06-.94 2.06-2.06.94z\"/><path d=\"M17.41 7.96l-1.37-1.37c-.4-.4-.92-.59-1.43-.59-.52 0-1.04.2-1.43.59L10.3 9.45l-7.72 7.72c-.78.78-.78 2.05 0 2.83L4 21.41c.39.39.9.59 1.41.59.51 0 1.02-.2 1.41-.59l7.78-7.78 2.81-2.81c.8-.78.8-2.07 0-2.86zM5.41 20L4 18.59l7.72-7.72 1.47 1.35L5.41 20z\"/>\n",
              "  </svg>\n",
              "      </button>\n",
              "      \n",
              "  <style>\n",
              "    .colab-df-container {\n",
              "      display:flex;\n",
              "      flex-wrap:wrap;\n",
              "      gap: 12px;\n",
              "    }\n",
              "\n",
              "    .colab-df-convert {\n",
              "      background-color: #E8F0FE;\n",
              "      border: none;\n",
              "      border-radius: 50%;\n",
              "      cursor: pointer;\n",
              "      display: none;\n",
              "      fill: #1967D2;\n",
              "      height: 32px;\n",
              "      padding: 0 0 0 0;\n",
              "      width: 32px;\n",
              "    }\n",
              "\n",
              "    .colab-df-convert:hover {\n",
              "      background-color: #E2EBFA;\n",
              "      box-shadow: 0px 1px 2px rgba(60, 64, 67, 0.3), 0px 1px 3px 1px rgba(60, 64, 67, 0.15);\n",
              "      fill: #174EA6;\n",
              "    }\n",
              "\n",
              "    [theme=dark] .colab-df-convert {\n",
              "      background-color: #3B4455;\n",
              "      fill: #D2E3FC;\n",
              "    }\n",
              "\n",
              "    [theme=dark] .colab-df-convert:hover {\n",
              "      background-color: #434B5C;\n",
              "      box-shadow: 0px 1px 3px 1px rgba(0, 0, 0, 0.15);\n",
              "      filter: drop-shadow(0px 1px 2px rgba(0, 0, 0, 0.3));\n",
              "      fill: #FFFFFF;\n",
              "    }\n",
              "  </style>\n",
              "\n",
              "      <script>\n",
              "        const buttonEl =\n",
              "          document.querySelector('#df-944f5ac0-597d-4961-9013-fc2c65f322ba button.colab-df-convert');\n",
              "        buttonEl.style.display =\n",
              "          google.colab.kernel.accessAllowed ? 'block' : 'none';\n",
              "\n",
              "        async function convertToInteractive(key) {\n",
              "          const element = document.querySelector('#df-944f5ac0-597d-4961-9013-fc2c65f322ba');\n",
              "          const dataTable =\n",
              "            await google.colab.kernel.invokeFunction('convertToInteractive',\n",
              "                                                     [key], {});\n",
              "          if (!dataTable) return;\n",
              "\n",
              "          const docLinkHtml = 'Like what you see? Visit the ' +\n",
              "            '<a target=\"_blank\" href=https://colab.research.google.com/notebooks/data_table.ipynb>data table notebook</a>'\n",
              "            + ' to learn more about interactive tables.';\n",
              "          element.innerHTML = '';\n",
              "          dataTable['output_type'] = 'display_data';\n",
              "          await google.colab.output.renderOutput(dataTable, element);\n",
              "          const docLink = document.createElement('div');\n",
              "          docLink.innerHTML = docLinkHtml;\n",
              "          element.appendChild(docLink);\n",
              "        }\n",
              "      </script>\n",
              "    </div>\n",
              "  </div>\n",
              "  "
            ]
          },
          "metadata": {},
          "execution_count": 152
        }
      ]
    },
    {
      "cell_type": "code",
      "execution_count": 153,
      "metadata": {
        "id": "c6kUmHEKVxYQ",
        "colab": {
          "base_uri": "https://localhost:8080/",
          "height": 143
        },
        "outputId": "c6a45bf5-460b-4a08-f664-be7b2141bae6"
      },
      "outputs": [
        {
          "output_type": "execute_result",
          "data": {
            "text/plain": [
              "     age   city country\n",
              "name                   \n",
              "Jess  30  Paris  France\n",
              "Tom   27  Paris  France"
            ],
            "text/html": [
              "\n",
              "  <div id=\"df-9e9b6723-b937-49ea-a0e2-d79d6dc12d84\">\n",
              "    <div class=\"colab-df-container\">\n",
              "      <div>\n",
              "<style scoped>\n",
              "    .dataframe tbody tr th:only-of-type {\n",
              "        vertical-align: middle;\n",
              "    }\n",
              "\n",
              "    .dataframe tbody tr th {\n",
              "        vertical-align: top;\n",
              "    }\n",
              "\n",
              "    .dataframe thead th {\n",
              "        text-align: right;\n",
              "    }\n",
              "</style>\n",
              "<table border=\"1\" class=\"dataframe\">\n",
              "  <thead>\n",
              "    <tr style=\"text-align: right;\">\n",
              "      <th></th>\n",
              "      <th>age</th>\n",
              "      <th>city</th>\n",
              "      <th>country</th>\n",
              "    </tr>\n",
              "    <tr>\n",
              "      <th>name</th>\n",
              "      <th></th>\n",
              "      <th></th>\n",
              "      <th></th>\n",
              "    </tr>\n",
              "  </thead>\n",
              "  <tbody>\n",
              "    <tr>\n",
              "      <th>Jess</th>\n",
              "      <td>30</td>\n",
              "      <td>Paris</td>\n",
              "      <td>France</td>\n",
              "    </tr>\n",
              "    <tr>\n",
              "      <th>Tom</th>\n",
              "      <td>27</td>\n",
              "      <td>Paris</td>\n",
              "      <td>France</td>\n",
              "    </tr>\n",
              "  </tbody>\n",
              "</table>\n",
              "</div>\n",
              "      <button class=\"colab-df-convert\" onclick=\"convertToInteractive('df-9e9b6723-b937-49ea-a0e2-d79d6dc12d84')\"\n",
              "              title=\"Convert this dataframe to an interactive table.\"\n",
              "              style=\"display:none;\">\n",
              "        \n",
              "  <svg xmlns=\"http://www.w3.org/2000/svg\" height=\"24px\"viewBox=\"0 0 24 24\"\n",
              "       width=\"24px\">\n",
              "    <path d=\"M0 0h24v24H0V0z\" fill=\"none\"/>\n",
              "    <path d=\"M18.56 5.44l.94 2.06.94-2.06 2.06-.94-2.06-.94-.94-2.06-.94 2.06-2.06.94zm-11 1L8.5 8.5l.94-2.06 2.06-.94-2.06-.94L8.5 2.5l-.94 2.06-2.06.94zm10 10l.94 2.06.94-2.06 2.06-.94-2.06-.94-.94-2.06-.94 2.06-2.06.94z\"/><path d=\"M17.41 7.96l-1.37-1.37c-.4-.4-.92-.59-1.43-.59-.52 0-1.04.2-1.43.59L10.3 9.45l-7.72 7.72c-.78.78-.78 2.05 0 2.83L4 21.41c.39.39.9.59 1.41.59.51 0 1.02-.2 1.41-.59l7.78-7.78 2.81-2.81c.8-.78.8-2.07 0-2.86zM5.41 20L4 18.59l7.72-7.72 1.47 1.35L5.41 20z\"/>\n",
              "  </svg>\n",
              "      </button>\n",
              "      \n",
              "  <style>\n",
              "    .colab-df-container {\n",
              "      display:flex;\n",
              "      flex-wrap:wrap;\n",
              "      gap: 12px;\n",
              "    }\n",
              "\n",
              "    .colab-df-convert {\n",
              "      background-color: #E8F0FE;\n",
              "      border: none;\n",
              "      border-radius: 50%;\n",
              "      cursor: pointer;\n",
              "      display: none;\n",
              "      fill: #1967D2;\n",
              "      height: 32px;\n",
              "      padding: 0 0 0 0;\n",
              "      width: 32px;\n",
              "    }\n",
              "\n",
              "    .colab-df-convert:hover {\n",
              "      background-color: #E2EBFA;\n",
              "      box-shadow: 0px 1px 2px rgba(60, 64, 67, 0.3), 0px 1px 3px 1px rgba(60, 64, 67, 0.15);\n",
              "      fill: #174EA6;\n",
              "    }\n",
              "\n",
              "    [theme=dark] .colab-df-convert {\n",
              "      background-color: #3B4455;\n",
              "      fill: #D2E3FC;\n",
              "    }\n",
              "\n",
              "    [theme=dark] .colab-df-convert:hover {\n",
              "      background-color: #434B5C;\n",
              "      box-shadow: 0px 1px 3px 1px rgba(0, 0, 0, 0.15);\n",
              "      filter: drop-shadow(0px 1px 2px rgba(0, 0, 0, 0.3));\n",
              "      fill: #FFFFFF;\n",
              "    }\n",
              "  </style>\n",
              "\n",
              "      <script>\n",
              "        const buttonEl =\n",
              "          document.querySelector('#df-9e9b6723-b937-49ea-a0e2-d79d6dc12d84 button.colab-df-convert');\n",
              "        buttonEl.style.display =\n",
              "          google.colab.kernel.accessAllowed ? 'block' : 'none';\n",
              "\n",
              "        async function convertToInteractive(key) {\n",
              "          const element = document.querySelector('#df-9e9b6723-b937-49ea-a0e2-d79d6dc12d84');\n",
              "          const dataTable =\n",
              "            await google.colab.kernel.invokeFunction('convertToInteractive',\n",
              "                                                     [key], {});\n",
              "          if (!dataTable) return;\n",
              "\n",
              "          const docLinkHtml = 'Like what you see? Visit the ' +\n",
              "            '<a target=\"_blank\" href=https://colab.research.google.com/notebooks/data_table.ipynb>data table notebook</a>'\n",
              "            + ' to learn more about interactive tables.';\n",
              "          element.innerHTML = '';\n",
              "          dataTable['output_type'] = 'display_data';\n",
              "          await google.colab.output.renderOutput(dataTable, element);\n",
              "          const docLink = document.createElement('div');\n",
              "          docLink.innerHTML = docLinkHtml;\n",
              "          element.appendChild(docLink);\n",
              "        }\n",
              "      </script>\n",
              "    </div>\n",
              "  </div>\n",
              "  "
            ]
          },
          "metadata": {},
          "execution_count": 153
        }
      ],
      "source": [
        "# filter all data that are in Paris\n",
        "\n",
        "df1[df1['city'] == 'Paris']"
      ]
    },
    {
      "cell_type": "markdown",
      "metadata": {
        "id": "nQMIX8T4WujJ"
      },
      "source": [
        "## Join dataframes"
      ]
    },
    {
      "cell_type": "code",
      "execution_count": 154,
      "metadata": {
        "id": "W3dCne-CWc9v",
        "colab": {
          "base_uri": "https://localhost:8080/",
          "height": 112
        },
        "outputId": "790fa326-305c-45e8-ddaa-628410651277"
      },
      "outputs": [
        {
          "output_type": "execute_result",
          "data": {
            "text/plain": [
              "     prénom age    city pays\n",
              "0   Matthew  32  London   UK\n",
              "1  Philippe  45  London   UK"
            ],
            "text/html": [
              "\n",
              "  <div id=\"df-ce5516ae-f945-44c5-ab4f-19f4634d2e2b\">\n",
              "    <div class=\"colab-df-container\">\n",
              "      <div>\n",
              "<style scoped>\n",
              "    .dataframe tbody tr th:only-of-type {\n",
              "        vertical-align: middle;\n",
              "    }\n",
              "\n",
              "    .dataframe tbody tr th {\n",
              "        vertical-align: top;\n",
              "    }\n",
              "\n",
              "    .dataframe thead th {\n",
              "        text-align: right;\n",
              "    }\n",
              "</style>\n",
              "<table border=\"1\" class=\"dataframe\">\n",
              "  <thead>\n",
              "    <tr style=\"text-align: right;\">\n",
              "      <th></th>\n",
              "      <th>prénom</th>\n",
              "      <th>age</th>\n",
              "      <th>city</th>\n",
              "      <th>pays</th>\n",
              "    </tr>\n",
              "  </thead>\n",
              "  <tbody>\n",
              "    <tr>\n",
              "      <th>0</th>\n",
              "      <td>Matthew</td>\n",
              "      <td>32</td>\n",
              "      <td>London</td>\n",
              "      <td>UK</td>\n",
              "    </tr>\n",
              "    <tr>\n",
              "      <th>1</th>\n",
              "      <td>Philippe</td>\n",
              "      <td>45</td>\n",
              "      <td>London</td>\n",
              "      <td>UK</td>\n",
              "    </tr>\n",
              "  </tbody>\n",
              "</table>\n",
              "</div>\n",
              "      <button class=\"colab-df-convert\" onclick=\"convertToInteractive('df-ce5516ae-f945-44c5-ab4f-19f4634d2e2b')\"\n",
              "              title=\"Convert this dataframe to an interactive table.\"\n",
              "              style=\"display:none;\">\n",
              "        \n",
              "  <svg xmlns=\"http://www.w3.org/2000/svg\" height=\"24px\"viewBox=\"0 0 24 24\"\n",
              "       width=\"24px\">\n",
              "    <path d=\"M0 0h24v24H0V0z\" fill=\"none\"/>\n",
              "    <path d=\"M18.56 5.44l.94 2.06.94-2.06 2.06-.94-2.06-.94-.94-2.06-.94 2.06-2.06.94zm-11 1L8.5 8.5l.94-2.06 2.06-.94-2.06-.94L8.5 2.5l-.94 2.06-2.06.94zm10 10l.94 2.06.94-2.06 2.06-.94-2.06-.94-.94-2.06-.94 2.06-2.06.94z\"/><path d=\"M17.41 7.96l-1.37-1.37c-.4-.4-.92-.59-1.43-.59-.52 0-1.04.2-1.43.59L10.3 9.45l-7.72 7.72c-.78.78-.78 2.05 0 2.83L4 21.41c.39.39.9.59 1.41.59.51 0 1.02-.2 1.41-.59l7.78-7.78 2.81-2.81c.8-.78.8-2.07 0-2.86zM5.41 20L4 18.59l7.72-7.72 1.47 1.35L5.41 20z\"/>\n",
              "  </svg>\n",
              "      </button>\n",
              "      \n",
              "  <style>\n",
              "    .colab-df-container {\n",
              "      display:flex;\n",
              "      flex-wrap:wrap;\n",
              "      gap: 12px;\n",
              "    }\n",
              "\n",
              "    .colab-df-convert {\n",
              "      background-color: #E8F0FE;\n",
              "      border: none;\n",
              "      border-radius: 50%;\n",
              "      cursor: pointer;\n",
              "      display: none;\n",
              "      fill: #1967D2;\n",
              "      height: 32px;\n",
              "      padding: 0 0 0 0;\n",
              "      width: 32px;\n",
              "    }\n",
              "\n",
              "    .colab-df-convert:hover {\n",
              "      background-color: #E2EBFA;\n",
              "      box-shadow: 0px 1px 2px rgba(60, 64, 67, 0.3), 0px 1px 3px 1px rgba(60, 64, 67, 0.15);\n",
              "      fill: #174EA6;\n",
              "    }\n",
              "\n",
              "    [theme=dark] .colab-df-convert {\n",
              "      background-color: #3B4455;\n",
              "      fill: #D2E3FC;\n",
              "    }\n",
              "\n",
              "    [theme=dark] .colab-df-convert:hover {\n",
              "      background-color: #434B5C;\n",
              "      box-shadow: 0px 1px 3px 1px rgba(0, 0, 0, 0.15);\n",
              "      filter: drop-shadow(0px 1px 2px rgba(0, 0, 0, 0.3));\n",
              "      fill: #FFFFFF;\n",
              "    }\n",
              "  </style>\n",
              "\n",
              "      <script>\n",
              "        const buttonEl =\n",
              "          document.querySelector('#df-ce5516ae-f945-44c5-ab4f-19f4634d2e2b button.colab-df-convert');\n",
              "        buttonEl.style.display =\n",
              "          google.colab.kernel.accessAllowed ? 'block' : 'none';\n",
              "\n",
              "        async function convertToInteractive(key) {\n",
              "          const element = document.querySelector('#df-ce5516ae-f945-44c5-ab4f-19f4634d2e2b');\n",
              "          const dataTable =\n",
              "            await google.colab.kernel.invokeFunction('convertToInteractive',\n",
              "                                                     [key], {});\n",
              "          if (!dataTable) return;\n",
              "\n",
              "          const docLinkHtml = 'Like what you see? Visit the ' +\n",
              "            '<a target=\"_blank\" href=https://colab.research.google.com/notebooks/data_table.ipynb>data table notebook</a>'\n",
              "            + ' to learn more about interactive tables.';\n",
              "          element.innerHTML = '';\n",
              "          dataTable['output_type'] = 'display_data';\n",
              "          await google.colab.output.renderOutput(dataTable, element);\n",
              "          const docLink = document.createElement('div');\n",
              "          docLink.innerHTML = docLinkHtml;\n",
              "          element.appendChild(docLink);\n",
              "        }\n",
              "      </script>\n",
              "    </div>\n",
              "  </div>\n",
              "  "
            ]
          },
          "metadata": {},
          "execution_count": 154
        }
      ],
      "source": [
        "dataframe_1 = {\"prénom\":['Matthew', 'Philippe'],\n",
        "              \"age\":['32', '45'],\n",
        "              \"city\":['London', 'London'],\n",
        "               \"pays\": ['UK', 'UK']}\n",
        "\n",
        "df2 = pd.DataFrame(dataframe_1)\n",
        "\n",
        "df2.head()"
      ]
    },
    {
      "cell_type": "code",
      "execution_count": 155,
      "metadata": {
        "id": "xIvXdfzNXCCq",
        "colab": {
          "base_uri": "https://localhost:8080/"
        },
        "outputId": "60475d6a-df36-44d2-c2df-581688e072bd"
      },
      "outputs": [
        {
          "output_type": "stream",
          "name": "stdout",
          "text": [
            "Index(['prénom', 'age', 'city', 'pays'], dtype='object')\n"
          ]
        }
      ],
      "source": [
        "print(df2.columns)"
      ]
    },
    {
      "cell_type": "code",
      "execution_count": 156,
      "metadata": {
        "id": "_ARwE949XNVH",
        "colab": {
          "base_uri": "https://localhost:8080/",
          "height": 112
        },
        "outputId": "756a8205-408d-45bb-9535-63229723e6c8"
      },
      "outputs": [
        {
          "output_type": "execute_result",
          "data": {
            "text/plain": [
              "       name age    city country\n",
              "0   Matthew  32  London      UK\n",
              "1  Philippe  45  London      UK"
            ],
            "text/html": [
              "\n",
              "  <div id=\"df-a09917fb-04d9-4389-ad99-61a58c2d3873\">\n",
              "    <div class=\"colab-df-container\">\n",
              "      <div>\n",
              "<style scoped>\n",
              "    .dataframe tbody tr th:only-of-type {\n",
              "        vertical-align: middle;\n",
              "    }\n",
              "\n",
              "    .dataframe tbody tr th {\n",
              "        vertical-align: top;\n",
              "    }\n",
              "\n",
              "    .dataframe thead th {\n",
              "        text-align: right;\n",
              "    }\n",
              "</style>\n",
              "<table border=\"1\" class=\"dataframe\">\n",
              "  <thead>\n",
              "    <tr style=\"text-align: right;\">\n",
              "      <th></th>\n",
              "      <th>name</th>\n",
              "      <th>age</th>\n",
              "      <th>city</th>\n",
              "      <th>country</th>\n",
              "    </tr>\n",
              "  </thead>\n",
              "  <tbody>\n",
              "    <tr>\n",
              "      <th>0</th>\n",
              "      <td>Matthew</td>\n",
              "      <td>32</td>\n",
              "      <td>London</td>\n",
              "      <td>UK</td>\n",
              "    </tr>\n",
              "    <tr>\n",
              "      <th>1</th>\n",
              "      <td>Philippe</td>\n",
              "      <td>45</td>\n",
              "      <td>London</td>\n",
              "      <td>UK</td>\n",
              "    </tr>\n",
              "  </tbody>\n",
              "</table>\n",
              "</div>\n",
              "      <button class=\"colab-df-convert\" onclick=\"convertToInteractive('df-a09917fb-04d9-4389-ad99-61a58c2d3873')\"\n",
              "              title=\"Convert this dataframe to an interactive table.\"\n",
              "              style=\"display:none;\">\n",
              "        \n",
              "  <svg xmlns=\"http://www.w3.org/2000/svg\" height=\"24px\"viewBox=\"0 0 24 24\"\n",
              "       width=\"24px\">\n",
              "    <path d=\"M0 0h24v24H0V0z\" fill=\"none\"/>\n",
              "    <path d=\"M18.56 5.44l.94 2.06.94-2.06 2.06-.94-2.06-.94-.94-2.06-.94 2.06-2.06.94zm-11 1L8.5 8.5l.94-2.06 2.06-.94-2.06-.94L8.5 2.5l-.94 2.06-2.06.94zm10 10l.94 2.06.94-2.06 2.06-.94-2.06-.94-.94-2.06-.94 2.06-2.06.94z\"/><path d=\"M17.41 7.96l-1.37-1.37c-.4-.4-.92-.59-1.43-.59-.52 0-1.04.2-1.43.59L10.3 9.45l-7.72 7.72c-.78.78-.78 2.05 0 2.83L4 21.41c.39.39.9.59 1.41.59.51 0 1.02-.2 1.41-.59l7.78-7.78 2.81-2.81c.8-.78.8-2.07 0-2.86zM5.41 20L4 18.59l7.72-7.72 1.47 1.35L5.41 20z\"/>\n",
              "  </svg>\n",
              "      </button>\n",
              "      \n",
              "  <style>\n",
              "    .colab-df-container {\n",
              "      display:flex;\n",
              "      flex-wrap:wrap;\n",
              "      gap: 12px;\n",
              "    }\n",
              "\n",
              "    .colab-df-convert {\n",
              "      background-color: #E8F0FE;\n",
              "      border: none;\n",
              "      border-radius: 50%;\n",
              "      cursor: pointer;\n",
              "      display: none;\n",
              "      fill: #1967D2;\n",
              "      height: 32px;\n",
              "      padding: 0 0 0 0;\n",
              "      width: 32px;\n",
              "    }\n",
              "\n",
              "    .colab-df-convert:hover {\n",
              "      background-color: #E2EBFA;\n",
              "      box-shadow: 0px 1px 2px rgba(60, 64, 67, 0.3), 0px 1px 3px 1px rgba(60, 64, 67, 0.15);\n",
              "      fill: #174EA6;\n",
              "    }\n",
              "\n",
              "    [theme=dark] .colab-df-convert {\n",
              "      background-color: #3B4455;\n",
              "      fill: #D2E3FC;\n",
              "    }\n",
              "\n",
              "    [theme=dark] .colab-df-convert:hover {\n",
              "      background-color: #434B5C;\n",
              "      box-shadow: 0px 1px 3px 1px rgba(0, 0, 0, 0.15);\n",
              "      filter: drop-shadow(0px 1px 2px rgba(0, 0, 0, 0.3));\n",
              "      fill: #FFFFFF;\n",
              "    }\n",
              "  </style>\n",
              "\n",
              "      <script>\n",
              "        const buttonEl =\n",
              "          document.querySelector('#df-a09917fb-04d9-4389-ad99-61a58c2d3873 button.colab-df-convert');\n",
              "        buttonEl.style.display =\n",
              "          google.colab.kernel.accessAllowed ? 'block' : 'none';\n",
              "\n",
              "        async function convertToInteractive(key) {\n",
              "          const element = document.querySelector('#df-a09917fb-04d9-4389-ad99-61a58c2d3873');\n",
              "          const dataTable =\n",
              "            await google.colab.kernel.invokeFunction('convertToInteractive',\n",
              "                                                     [key], {});\n",
              "          if (!dataTable) return;\n",
              "\n",
              "          const docLinkHtml = 'Like what you see? Visit the ' +\n",
              "            '<a target=\"_blank\" href=https://colab.research.google.com/notebooks/data_table.ipynb>data table notebook</a>'\n",
              "            + ' to learn more about interactive tables.';\n",
              "          element.innerHTML = '';\n",
              "          dataTable['output_type'] = 'display_data';\n",
              "          await google.colab.output.renderOutput(dataTable, element);\n",
              "          const docLink = document.createElement('div');\n",
              "          docLink.innerHTML = docLinkHtml;\n",
              "          element.appendChild(docLink);\n",
              "        }\n",
              "      </script>\n",
              "    </div>\n",
              "  </div>\n",
              "  "
            ]
          },
          "metadata": {},
          "execution_count": 156
        }
      ],
      "source": [
        "# change df columns names\n",
        "\n",
        "df2.columns = ['name', 'age', 'city', 'country']\n",
        "df2.head()"
      ]
    },
    {
      "cell_type": "code",
      "source": [
        "# compare both dfs column names\n",
        "\n",
        "print('the column names of 1st df are: ', df1.columns)\n",
        "print('the column names of 2nd df are: ', df2.columns)"
      ],
      "metadata": {
        "id": "5ahVjwLU4J1d",
        "colab": {
          "base_uri": "https://localhost:8080/"
        },
        "outputId": "2d0b8932-b4c2-49b9-f551-09447a516794"
      },
      "execution_count": 157,
      "outputs": [
        {
          "output_type": "stream",
          "name": "stdout",
          "text": [
            "the column names of 1st df are:  Index(['age', 'city', 'country'], dtype='object')\n",
            "the column names of 2nd df are:  Index(['name', 'age', 'city', 'country'], dtype='object')\n"
          ]
        }
      ]
    },
    {
      "cell_type": "code",
      "execution_count": 158,
      "metadata": {
        "id": "U76Y_nvdXf_B",
        "colab": {
          "base_uri": "https://localhost:8080/",
          "height": 393
        },
        "outputId": "a282fcf0-e9d5-43ea-e754-50f6e29a5df1"
      },
      "outputs": [
        {
          "output_type": "stream",
          "name": "stdout",
          "text": [
            "the df1 Shape is :  (5, 3)\n",
            "the df2 Shape is :  (2, 4)\n",
            "the new joined Dataframe Shape is :  (7, 4)\n",
            "\n",
            "\n",
            "The output is not what we really wanted as we have NaN values in columns and not all indices are the names...\n"
          ]
        },
        {
          "output_type": "execute_result",
          "data": {
            "text/plain": [
              "        age    city  country      name\n",
              "Jess     30   Paris   France       NaN\n",
              "Nick     35  Berlin  Germany       NaN\n",
              "Winston  40  Madrid    Spain       NaN\n",
              "Tom      27   Paris   France       NaN\n",
              "Alex     52  London       UK       NaN\n",
              "0        32  London       UK   Matthew\n",
              "1        45  London       UK  Philippe"
            ],
            "text/html": [
              "\n",
              "  <div id=\"df-3f1db7e4-a9c9-494c-a3f1-007eba943cb1\">\n",
              "    <div class=\"colab-df-container\">\n",
              "      <div>\n",
              "<style scoped>\n",
              "    .dataframe tbody tr th:only-of-type {\n",
              "        vertical-align: middle;\n",
              "    }\n",
              "\n",
              "    .dataframe tbody tr th {\n",
              "        vertical-align: top;\n",
              "    }\n",
              "\n",
              "    .dataframe thead th {\n",
              "        text-align: right;\n",
              "    }\n",
              "</style>\n",
              "<table border=\"1\" class=\"dataframe\">\n",
              "  <thead>\n",
              "    <tr style=\"text-align: right;\">\n",
              "      <th></th>\n",
              "      <th>age</th>\n",
              "      <th>city</th>\n",
              "      <th>country</th>\n",
              "      <th>name</th>\n",
              "    </tr>\n",
              "  </thead>\n",
              "  <tbody>\n",
              "    <tr>\n",
              "      <th>Jess</th>\n",
              "      <td>30</td>\n",
              "      <td>Paris</td>\n",
              "      <td>France</td>\n",
              "      <td>NaN</td>\n",
              "    </tr>\n",
              "    <tr>\n",
              "      <th>Nick</th>\n",
              "      <td>35</td>\n",
              "      <td>Berlin</td>\n",
              "      <td>Germany</td>\n",
              "      <td>NaN</td>\n",
              "    </tr>\n",
              "    <tr>\n",
              "      <th>Winston</th>\n",
              "      <td>40</td>\n",
              "      <td>Madrid</td>\n",
              "      <td>Spain</td>\n",
              "      <td>NaN</td>\n",
              "    </tr>\n",
              "    <tr>\n",
              "      <th>Tom</th>\n",
              "      <td>27</td>\n",
              "      <td>Paris</td>\n",
              "      <td>France</td>\n",
              "      <td>NaN</td>\n",
              "    </tr>\n",
              "    <tr>\n",
              "      <th>Alex</th>\n",
              "      <td>52</td>\n",
              "      <td>London</td>\n",
              "      <td>UK</td>\n",
              "      <td>NaN</td>\n",
              "    </tr>\n",
              "    <tr>\n",
              "      <th>0</th>\n",
              "      <td>32</td>\n",
              "      <td>London</td>\n",
              "      <td>UK</td>\n",
              "      <td>Matthew</td>\n",
              "    </tr>\n",
              "    <tr>\n",
              "      <th>1</th>\n",
              "      <td>45</td>\n",
              "      <td>London</td>\n",
              "      <td>UK</td>\n",
              "      <td>Philippe</td>\n",
              "    </tr>\n",
              "  </tbody>\n",
              "</table>\n",
              "</div>\n",
              "      <button class=\"colab-df-convert\" onclick=\"convertToInteractive('df-3f1db7e4-a9c9-494c-a3f1-007eba943cb1')\"\n",
              "              title=\"Convert this dataframe to an interactive table.\"\n",
              "              style=\"display:none;\">\n",
              "        \n",
              "  <svg xmlns=\"http://www.w3.org/2000/svg\" height=\"24px\"viewBox=\"0 0 24 24\"\n",
              "       width=\"24px\">\n",
              "    <path d=\"M0 0h24v24H0V0z\" fill=\"none\"/>\n",
              "    <path d=\"M18.56 5.44l.94 2.06.94-2.06 2.06-.94-2.06-.94-.94-2.06-.94 2.06-2.06.94zm-11 1L8.5 8.5l.94-2.06 2.06-.94-2.06-.94L8.5 2.5l-.94 2.06-2.06.94zm10 10l.94 2.06.94-2.06 2.06-.94-2.06-.94-.94-2.06-.94 2.06-2.06.94z\"/><path d=\"M17.41 7.96l-1.37-1.37c-.4-.4-.92-.59-1.43-.59-.52 0-1.04.2-1.43.59L10.3 9.45l-7.72 7.72c-.78.78-.78 2.05 0 2.83L4 21.41c.39.39.9.59 1.41.59.51 0 1.02-.2 1.41-.59l7.78-7.78 2.81-2.81c.8-.78.8-2.07 0-2.86zM5.41 20L4 18.59l7.72-7.72 1.47 1.35L5.41 20z\"/>\n",
              "  </svg>\n",
              "      </button>\n",
              "      \n",
              "  <style>\n",
              "    .colab-df-container {\n",
              "      display:flex;\n",
              "      flex-wrap:wrap;\n",
              "      gap: 12px;\n",
              "    }\n",
              "\n",
              "    .colab-df-convert {\n",
              "      background-color: #E8F0FE;\n",
              "      border: none;\n",
              "      border-radius: 50%;\n",
              "      cursor: pointer;\n",
              "      display: none;\n",
              "      fill: #1967D2;\n",
              "      height: 32px;\n",
              "      padding: 0 0 0 0;\n",
              "      width: 32px;\n",
              "    }\n",
              "\n",
              "    .colab-df-convert:hover {\n",
              "      background-color: #E2EBFA;\n",
              "      box-shadow: 0px 1px 2px rgba(60, 64, 67, 0.3), 0px 1px 3px 1px rgba(60, 64, 67, 0.15);\n",
              "      fill: #174EA6;\n",
              "    }\n",
              "\n",
              "    [theme=dark] .colab-df-convert {\n",
              "      background-color: #3B4455;\n",
              "      fill: #D2E3FC;\n",
              "    }\n",
              "\n",
              "    [theme=dark] .colab-df-convert:hover {\n",
              "      background-color: #434B5C;\n",
              "      box-shadow: 0px 1px 3px 1px rgba(0, 0, 0, 0.15);\n",
              "      filter: drop-shadow(0px 1px 2px rgba(0, 0, 0, 0.3));\n",
              "      fill: #FFFFFF;\n",
              "    }\n",
              "  </style>\n",
              "\n",
              "      <script>\n",
              "        const buttonEl =\n",
              "          document.querySelector('#df-3f1db7e4-a9c9-494c-a3f1-007eba943cb1 button.colab-df-convert');\n",
              "        buttonEl.style.display =\n",
              "          google.colab.kernel.accessAllowed ? 'block' : 'none';\n",
              "\n",
              "        async function convertToInteractive(key) {\n",
              "          const element = document.querySelector('#df-3f1db7e4-a9c9-494c-a3f1-007eba943cb1');\n",
              "          const dataTable =\n",
              "            await google.colab.kernel.invokeFunction('convertToInteractive',\n",
              "                                                     [key], {});\n",
              "          if (!dataTable) return;\n",
              "\n",
              "          const docLinkHtml = 'Like what you see? Visit the ' +\n",
              "            '<a target=\"_blank\" href=https://colab.research.google.com/notebooks/data_table.ipynb>data table notebook</a>'\n",
              "            + ' to learn more about interactive tables.';\n",
              "          element.innerHTML = '';\n",
              "          dataTable['output_type'] = 'display_data';\n",
              "          await google.colab.output.renderOutput(dataTable, element);\n",
              "          const docLink = document.createElement('div');\n",
              "          docLink.innerHTML = docLinkHtml;\n",
              "          element.appendChild(docLink);\n",
              "        }\n",
              "      </script>\n",
              "    </div>\n",
              "  </div>\n",
              "  "
            ]
          },
          "metadata": {},
          "execution_count": 158
        }
      ],
      "source": [
        "# join the dfs into a single one\n",
        "\n",
        "# concatenate all df into a single one\n",
        "df = pd.concat([df1, df2]) # it will use the column names  to join by\n",
        "\n",
        "# check dataframes shapes\n",
        "print('the df1 Shape is : ', df1.shape)\n",
        "print('the df2 Shape is : ', df2.shape)\n",
        "print('the new joined Dataframe Shape is : ', df.shape)\n",
        "print('')\n",
        "\n",
        "# visualize the new df\n",
        "print('')\n",
        "print('The output is not what we really wanted as we have NaN values in columns and not all indices are the names...')\n",
        "df"
      ]
    },
    {
      "cell_type": "code",
      "execution_count": 159,
      "metadata": {
        "id": "4evaUxEyX8rx",
        "colab": {
          "base_uri": "https://localhost:8080/",
          "height": 143
        },
        "outputId": "4b72b62c-6cf0-4734-ad26-726613d623a7"
      },
      "outputs": [
        {
          "output_type": "execute_result",
          "data": {
            "text/plain": [
              "         age    city country\n",
              "name                        \n",
              "Matthew   32  London      UK\n",
              "Philippe  45  London      UK"
            ],
            "text/html": [
              "\n",
              "  <div id=\"df-894993ff-fb87-444d-809a-13450588c2a7\">\n",
              "    <div class=\"colab-df-container\">\n",
              "      <div>\n",
              "<style scoped>\n",
              "    .dataframe tbody tr th:only-of-type {\n",
              "        vertical-align: middle;\n",
              "    }\n",
              "\n",
              "    .dataframe tbody tr th {\n",
              "        vertical-align: top;\n",
              "    }\n",
              "\n",
              "    .dataframe thead th {\n",
              "        text-align: right;\n",
              "    }\n",
              "</style>\n",
              "<table border=\"1\" class=\"dataframe\">\n",
              "  <thead>\n",
              "    <tr style=\"text-align: right;\">\n",
              "      <th></th>\n",
              "      <th>age</th>\n",
              "      <th>city</th>\n",
              "      <th>country</th>\n",
              "    </tr>\n",
              "    <tr>\n",
              "      <th>name</th>\n",
              "      <th></th>\n",
              "      <th></th>\n",
              "      <th></th>\n",
              "    </tr>\n",
              "  </thead>\n",
              "  <tbody>\n",
              "    <tr>\n",
              "      <th>Matthew</th>\n",
              "      <td>32</td>\n",
              "      <td>London</td>\n",
              "      <td>UK</td>\n",
              "    </tr>\n",
              "    <tr>\n",
              "      <th>Philippe</th>\n",
              "      <td>45</td>\n",
              "      <td>London</td>\n",
              "      <td>UK</td>\n",
              "    </tr>\n",
              "  </tbody>\n",
              "</table>\n",
              "</div>\n",
              "      <button class=\"colab-df-convert\" onclick=\"convertToInteractive('df-894993ff-fb87-444d-809a-13450588c2a7')\"\n",
              "              title=\"Convert this dataframe to an interactive table.\"\n",
              "              style=\"display:none;\">\n",
              "        \n",
              "  <svg xmlns=\"http://www.w3.org/2000/svg\" height=\"24px\"viewBox=\"0 0 24 24\"\n",
              "       width=\"24px\">\n",
              "    <path d=\"M0 0h24v24H0V0z\" fill=\"none\"/>\n",
              "    <path d=\"M18.56 5.44l.94 2.06.94-2.06 2.06-.94-2.06-.94-.94-2.06-.94 2.06-2.06.94zm-11 1L8.5 8.5l.94-2.06 2.06-.94-2.06-.94L8.5 2.5l-.94 2.06-2.06.94zm10 10l.94 2.06.94-2.06 2.06-.94-2.06-.94-.94-2.06-.94 2.06-2.06.94z\"/><path d=\"M17.41 7.96l-1.37-1.37c-.4-.4-.92-.59-1.43-.59-.52 0-1.04.2-1.43.59L10.3 9.45l-7.72 7.72c-.78.78-.78 2.05 0 2.83L4 21.41c.39.39.9.59 1.41.59.51 0 1.02-.2 1.41-.59l7.78-7.78 2.81-2.81c.8-.78.8-2.07 0-2.86zM5.41 20L4 18.59l7.72-7.72 1.47 1.35L5.41 20z\"/>\n",
              "  </svg>\n",
              "      </button>\n",
              "      \n",
              "  <style>\n",
              "    .colab-df-container {\n",
              "      display:flex;\n",
              "      flex-wrap:wrap;\n",
              "      gap: 12px;\n",
              "    }\n",
              "\n",
              "    .colab-df-convert {\n",
              "      background-color: #E8F0FE;\n",
              "      border: none;\n",
              "      border-radius: 50%;\n",
              "      cursor: pointer;\n",
              "      display: none;\n",
              "      fill: #1967D2;\n",
              "      height: 32px;\n",
              "      padding: 0 0 0 0;\n",
              "      width: 32px;\n",
              "    }\n",
              "\n",
              "    .colab-df-convert:hover {\n",
              "      background-color: #E2EBFA;\n",
              "      box-shadow: 0px 1px 2px rgba(60, 64, 67, 0.3), 0px 1px 3px 1px rgba(60, 64, 67, 0.15);\n",
              "      fill: #174EA6;\n",
              "    }\n",
              "\n",
              "    [theme=dark] .colab-df-convert {\n",
              "      background-color: #3B4455;\n",
              "      fill: #D2E3FC;\n",
              "    }\n",
              "\n",
              "    [theme=dark] .colab-df-convert:hover {\n",
              "      background-color: #434B5C;\n",
              "      box-shadow: 0px 1px 3px 1px rgba(0, 0, 0, 0.15);\n",
              "      filter: drop-shadow(0px 1px 2px rgba(0, 0, 0, 0.3));\n",
              "      fill: #FFFFFF;\n",
              "    }\n",
              "  </style>\n",
              "\n",
              "      <script>\n",
              "        const buttonEl =\n",
              "          document.querySelector('#df-894993ff-fb87-444d-809a-13450588c2a7 button.colab-df-convert');\n",
              "        buttonEl.style.display =\n",
              "          google.colab.kernel.accessAllowed ? 'block' : 'none';\n",
              "\n",
              "        async function convertToInteractive(key) {\n",
              "          const element = document.querySelector('#df-894993ff-fb87-444d-809a-13450588c2a7');\n",
              "          const dataTable =\n",
              "            await google.colab.kernel.invokeFunction('convertToInteractive',\n",
              "                                                     [key], {});\n",
              "          if (!dataTable) return;\n",
              "\n",
              "          const docLinkHtml = 'Like what you see? Visit the ' +\n",
              "            '<a target=\"_blank\" href=https://colab.research.google.com/notebooks/data_table.ipynb>data table notebook</a>'\n",
              "            + ' to learn more about interactive tables.';\n",
              "          element.innerHTML = '';\n",
              "          dataTable['output_type'] = 'display_data';\n",
              "          await google.colab.output.renderOutput(dataTable, element);\n",
              "          const docLink = document.createElement('div');\n",
              "          docLink.innerHTML = docLinkHtml;\n",
              "          element.appendChild(docLink);\n",
              "        }\n",
              "      </script>\n",
              "    </div>\n",
              "  </div>\n",
              "  "
            ]
          },
          "metadata": {},
          "execution_count": 159
        }
      ],
      "source": [
        "# to be obtain a homogeneous df we need both dfs to be structured the same\n",
        "# use name column as df index for df2 as df1 did\n",
        "\n",
        "df2 = df2.set_index('name')\n",
        "df2.head()"
      ]
    },
    {
      "cell_type": "code",
      "source": [
        "# to reset the indices use .reste_index() method\n",
        "\n",
        "df2.reset_index()"
      ],
      "metadata": {
        "id": "D82EONMqMxUm",
        "colab": {
          "base_uri": "https://localhost:8080/",
          "height": 112
        },
        "outputId": "8947d810-ebfe-4923-cbd7-422b152cff68"
      },
      "execution_count": 160,
      "outputs": [
        {
          "output_type": "execute_result",
          "data": {
            "text/plain": [
              "       name age    city country\n",
              "0   Matthew  32  London      UK\n",
              "1  Philippe  45  London      UK"
            ],
            "text/html": [
              "\n",
              "  <div id=\"df-c5188457-76fd-49fd-8d7b-cfc43a8ca8d6\">\n",
              "    <div class=\"colab-df-container\">\n",
              "      <div>\n",
              "<style scoped>\n",
              "    .dataframe tbody tr th:only-of-type {\n",
              "        vertical-align: middle;\n",
              "    }\n",
              "\n",
              "    .dataframe tbody tr th {\n",
              "        vertical-align: top;\n",
              "    }\n",
              "\n",
              "    .dataframe thead th {\n",
              "        text-align: right;\n",
              "    }\n",
              "</style>\n",
              "<table border=\"1\" class=\"dataframe\">\n",
              "  <thead>\n",
              "    <tr style=\"text-align: right;\">\n",
              "      <th></th>\n",
              "      <th>name</th>\n",
              "      <th>age</th>\n",
              "      <th>city</th>\n",
              "      <th>country</th>\n",
              "    </tr>\n",
              "  </thead>\n",
              "  <tbody>\n",
              "    <tr>\n",
              "      <th>0</th>\n",
              "      <td>Matthew</td>\n",
              "      <td>32</td>\n",
              "      <td>London</td>\n",
              "      <td>UK</td>\n",
              "    </tr>\n",
              "    <tr>\n",
              "      <th>1</th>\n",
              "      <td>Philippe</td>\n",
              "      <td>45</td>\n",
              "      <td>London</td>\n",
              "      <td>UK</td>\n",
              "    </tr>\n",
              "  </tbody>\n",
              "</table>\n",
              "</div>\n",
              "      <button class=\"colab-df-convert\" onclick=\"convertToInteractive('df-c5188457-76fd-49fd-8d7b-cfc43a8ca8d6')\"\n",
              "              title=\"Convert this dataframe to an interactive table.\"\n",
              "              style=\"display:none;\">\n",
              "        \n",
              "  <svg xmlns=\"http://www.w3.org/2000/svg\" height=\"24px\"viewBox=\"0 0 24 24\"\n",
              "       width=\"24px\">\n",
              "    <path d=\"M0 0h24v24H0V0z\" fill=\"none\"/>\n",
              "    <path d=\"M18.56 5.44l.94 2.06.94-2.06 2.06-.94-2.06-.94-.94-2.06-.94 2.06-2.06.94zm-11 1L8.5 8.5l.94-2.06 2.06-.94-2.06-.94L8.5 2.5l-.94 2.06-2.06.94zm10 10l.94 2.06.94-2.06 2.06-.94-2.06-.94-.94-2.06-.94 2.06-2.06.94z\"/><path d=\"M17.41 7.96l-1.37-1.37c-.4-.4-.92-.59-1.43-.59-.52 0-1.04.2-1.43.59L10.3 9.45l-7.72 7.72c-.78.78-.78 2.05 0 2.83L4 21.41c.39.39.9.59 1.41.59.51 0 1.02-.2 1.41-.59l7.78-7.78 2.81-2.81c.8-.78.8-2.07 0-2.86zM5.41 20L4 18.59l7.72-7.72 1.47 1.35L5.41 20z\"/>\n",
              "  </svg>\n",
              "      </button>\n",
              "      \n",
              "  <style>\n",
              "    .colab-df-container {\n",
              "      display:flex;\n",
              "      flex-wrap:wrap;\n",
              "      gap: 12px;\n",
              "    }\n",
              "\n",
              "    .colab-df-convert {\n",
              "      background-color: #E8F0FE;\n",
              "      border: none;\n",
              "      border-radius: 50%;\n",
              "      cursor: pointer;\n",
              "      display: none;\n",
              "      fill: #1967D2;\n",
              "      height: 32px;\n",
              "      padding: 0 0 0 0;\n",
              "      width: 32px;\n",
              "    }\n",
              "\n",
              "    .colab-df-convert:hover {\n",
              "      background-color: #E2EBFA;\n",
              "      box-shadow: 0px 1px 2px rgba(60, 64, 67, 0.3), 0px 1px 3px 1px rgba(60, 64, 67, 0.15);\n",
              "      fill: #174EA6;\n",
              "    }\n",
              "\n",
              "    [theme=dark] .colab-df-convert {\n",
              "      background-color: #3B4455;\n",
              "      fill: #D2E3FC;\n",
              "    }\n",
              "\n",
              "    [theme=dark] .colab-df-convert:hover {\n",
              "      background-color: #434B5C;\n",
              "      box-shadow: 0px 1px 3px 1px rgba(0, 0, 0, 0.15);\n",
              "      filter: drop-shadow(0px 1px 2px rgba(0, 0, 0, 0.3));\n",
              "      fill: #FFFFFF;\n",
              "    }\n",
              "  </style>\n",
              "\n",
              "      <script>\n",
              "        const buttonEl =\n",
              "          document.querySelector('#df-c5188457-76fd-49fd-8d7b-cfc43a8ca8d6 button.colab-df-convert');\n",
              "        buttonEl.style.display =\n",
              "          google.colab.kernel.accessAllowed ? 'block' : 'none';\n",
              "\n",
              "        async function convertToInteractive(key) {\n",
              "          const element = document.querySelector('#df-c5188457-76fd-49fd-8d7b-cfc43a8ca8d6');\n",
              "          const dataTable =\n",
              "            await google.colab.kernel.invokeFunction('convertToInteractive',\n",
              "                                                     [key], {});\n",
              "          if (!dataTable) return;\n",
              "\n",
              "          const docLinkHtml = 'Like what you see? Visit the ' +\n",
              "            '<a target=\"_blank\" href=https://colab.research.google.com/notebooks/data_table.ipynb>data table notebook</a>'\n",
              "            + ' to learn more about interactive tables.';\n",
              "          element.innerHTML = '';\n",
              "          dataTable['output_type'] = 'display_data';\n",
              "          await google.colab.output.renderOutput(dataTable, element);\n",
              "          const docLink = document.createElement('div');\n",
              "          docLink.innerHTML = docLinkHtml;\n",
              "          element.appendChild(docLink);\n",
              "        }\n",
              "      </script>\n",
              "    </div>\n",
              "  </div>\n",
              "  "
            ]
          },
          "metadata": {},
          "execution_count": 160
        }
      ]
    },
    {
      "cell_type": "code",
      "execution_count": 161,
      "metadata": {
        "id": "SCMpegPvXvX5",
        "colab": {
          "base_uri": "https://localhost:8080/",
          "height": 404
        },
        "outputId": "3ef92c26-ebd2-4f89-bb2d-0168594c4909"
      },
      "outputs": [
        {
          "output_type": "stream",
          "name": "stdout",
          "text": [
            "the df1 Shape is :  (5, 3)\n",
            "the df2 Shape is :  (2, 3)\n",
            "the new joined Dataframe Shape is :  (7, 3)\n",
            "\n",
            "\n",
            "Now we have a homogeneous df\n"
          ]
        },
        {
          "output_type": "execute_result",
          "data": {
            "text/plain": [
              "         age    city  country\n",
              "name                         \n",
              "Jess      30   Paris   France\n",
              "Nick      35  Berlin  Germany\n",
              "Winston   40  Madrid    Spain\n",
              "Tom       27   Paris   France\n",
              "Alex      52  London       UK\n",
              "Matthew   32  London       UK\n",
              "Philippe  45  London       UK"
            ],
            "text/html": [
              "\n",
              "  <div id=\"df-8b0668e1-2155-4410-994f-2f59895d773e\">\n",
              "    <div class=\"colab-df-container\">\n",
              "      <div>\n",
              "<style scoped>\n",
              "    .dataframe tbody tr th:only-of-type {\n",
              "        vertical-align: middle;\n",
              "    }\n",
              "\n",
              "    .dataframe tbody tr th {\n",
              "        vertical-align: top;\n",
              "    }\n",
              "\n",
              "    .dataframe thead th {\n",
              "        text-align: right;\n",
              "    }\n",
              "</style>\n",
              "<table border=\"1\" class=\"dataframe\">\n",
              "  <thead>\n",
              "    <tr style=\"text-align: right;\">\n",
              "      <th></th>\n",
              "      <th>age</th>\n",
              "      <th>city</th>\n",
              "      <th>country</th>\n",
              "    </tr>\n",
              "    <tr>\n",
              "      <th>name</th>\n",
              "      <th></th>\n",
              "      <th></th>\n",
              "      <th></th>\n",
              "    </tr>\n",
              "  </thead>\n",
              "  <tbody>\n",
              "    <tr>\n",
              "      <th>Jess</th>\n",
              "      <td>30</td>\n",
              "      <td>Paris</td>\n",
              "      <td>France</td>\n",
              "    </tr>\n",
              "    <tr>\n",
              "      <th>Nick</th>\n",
              "      <td>35</td>\n",
              "      <td>Berlin</td>\n",
              "      <td>Germany</td>\n",
              "    </tr>\n",
              "    <tr>\n",
              "      <th>Winston</th>\n",
              "      <td>40</td>\n",
              "      <td>Madrid</td>\n",
              "      <td>Spain</td>\n",
              "    </tr>\n",
              "    <tr>\n",
              "      <th>Tom</th>\n",
              "      <td>27</td>\n",
              "      <td>Paris</td>\n",
              "      <td>France</td>\n",
              "    </tr>\n",
              "    <tr>\n",
              "      <th>Alex</th>\n",
              "      <td>52</td>\n",
              "      <td>London</td>\n",
              "      <td>UK</td>\n",
              "    </tr>\n",
              "    <tr>\n",
              "      <th>Matthew</th>\n",
              "      <td>32</td>\n",
              "      <td>London</td>\n",
              "      <td>UK</td>\n",
              "    </tr>\n",
              "    <tr>\n",
              "      <th>Philippe</th>\n",
              "      <td>45</td>\n",
              "      <td>London</td>\n",
              "      <td>UK</td>\n",
              "    </tr>\n",
              "  </tbody>\n",
              "</table>\n",
              "</div>\n",
              "      <button class=\"colab-df-convert\" onclick=\"convertToInteractive('df-8b0668e1-2155-4410-994f-2f59895d773e')\"\n",
              "              title=\"Convert this dataframe to an interactive table.\"\n",
              "              style=\"display:none;\">\n",
              "        \n",
              "  <svg xmlns=\"http://www.w3.org/2000/svg\" height=\"24px\"viewBox=\"0 0 24 24\"\n",
              "       width=\"24px\">\n",
              "    <path d=\"M0 0h24v24H0V0z\" fill=\"none\"/>\n",
              "    <path d=\"M18.56 5.44l.94 2.06.94-2.06 2.06-.94-2.06-.94-.94-2.06-.94 2.06-2.06.94zm-11 1L8.5 8.5l.94-2.06 2.06-.94-2.06-.94L8.5 2.5l-.94 2.06-2.06.94zm10 10l.94 2.06.94-2.06 2.06-.94-2.06-.94-.94-2.06-.94 2.06-2.06.94z\"/><path d=\"M17.41 7.96l-1.37-1.37c-.4-.4-.92-.59-1.43-.59-.52 0-1.04.2-1.43.59L10.3 9.45l-7.72 7.72c-.78.78-.78 2.05 0 2.83L4 21.41c.39.39.9.59 1.41.59.51 0 1.02-.2 1.41-.59l7.78-7.78 2.81-2.81c.8-.78.8-2.07 0-2.86zM5.41 20L4 18.59l7.72-7.72 1.47 1.35L5.41 20z\"/>\n",
              "  </svg>\n",
              "      </button>\n",
              "      \n",
              "  <style>\n",
              "    .colab-df-container {\n",
              "      display:flex;\n",
              "      flex-wrap:wrap;\n",
              "      gap: 12px;\n",
              "    }\n",
              "\n",
              "    .colab-df-convert {\n",
              "      background-color: #E8F0FE;\n",
              "      border: none;\n",
              "      border-radius: 50%;\n",
              "      cursor: pointer;\n",
              "      display: none;\n",
              "      fill: #1967D2;\n",
              "      height: 32px;\n",
              "      padding: 0 0 0 0;\n",
              "      width: 32px;\n",
              "    }\n",
              "\n",
              "    .colab-df-convert:hover {\n",
              "      background-color: #E2EBFA;\n",
              "      box-shadow: 0px 1px 2px rgba(60, 64, 67, 0.3), 0px 1px 3px 1px rgba(60, 64, 67, 0.15);\n",
              "      fill: #174EA6;\n",
              "    }\n",
              "\n",
              "    [theme=dark] .colab-df-convert {\n",
              "      background-color: #3B4455;\n",
              "      fill: #D2E3FC;\n",
              "    }\n",
              "\n",
              "    [theme=dark] .colab-df-convert:hover {\n",
              "      background-color: #434B5C;\n",
              "      box-shadow: 0px 1px 3px 1px rgba(0, 0, 0, 0.15);\n",
              "      filter: drop-shadow(0px 1px 2px rgba(0, 0, 0, 0.3));\n",
              "      fill: #FFFFFF;\n",
              "    }\n",
              "  </style>\n",
              "\n",
              "      <script>\n",
              "        const buttonEl =\n",
              "          document.querySelector('#df-8b0668e1-2155-4410-994f-2f59895d773e button.colab-df-convert');\n",
              "        buttonEl.style.display =\n",
              "          google.colab.kernel.accessAllowed ? 'block' : 'none';\n",
              "\n",
              "        async function convertToInteractive(key) {\n",
              "          const element = document.querySelector('#df-8b0668e1-2155-4410-994f-2f59895d773e');\n",
              "          const dataTable =\n",
              "            await google.colab.kernel.invokeFunction('convertToInteractive',\n",
              "                                                     [key], {});\n",
              "          if (!dataTable) return;\n",
              "\n",
              "          const docLinkHtml = 'Like what you see? Visit the ' +\n",
              "            '<a target=\"_blank\" href=https://colab.research.google.com/notebooks/data_table.ipynb>data table notebook</a>'\n",
              "            + ' to learn more about interactive tables.';\n",
              "          element.innerHTML = '';\n",
              "          dataTable['output_type'] = 'display_data';\n",
              "          await google.colab.output.renderOutput(dataTable, element);\n",
              "          const docLink = document.createElement('div');\n",
              "          docLink.innerHTML = docLinkHtml;\n",
              "          element.appendChild(docLink);\n",
              "        }\n",
              "      </script>\n",
              "    </div>\n",
              "  </div>\n",
              "  "
            ]
          },
          "metadata": {},
          "execution_count": 161
        }
      ],
      "source": [
        "# join the dfs into a single one\n",
        "\n",
        "# concatenate all df into a single one\n",
        "df = pd.concat([df1, df2]) # it will use the column names  to join by\n",
        "\n",
        "# check dataframes shapes\n",
        "print('the df1 Shape is : ', df1.shape)\n",
        "print('the df2 Shape is : ', df2.shape)\n",
        "print('the new joined Dataframe Shape is : ', df.shape)\n",
        "print('')\n",
        "\n",
        "# visualize the new df\n",
        "print('')\n",
        "print('Now we have a homogeneous df')\n",
        "df"
      ]
    },
    {
      "cell_type": "markdown",
      "source": [
        "## Add columns or rows"
      ],
      "metadata": {
        "id": "cdOAL37p7q5V"
      }
    },
    {
      "cell_type": "code",
      "source": [
        "# add region a column region where all the values will be 'Europe'\n",
        "\n",
        "df['region'] = 'Europe'\n",
        "df"
      ],
      "metadata": {
        "id": "beCG9jQalfDY",
        "colab": {
          "base_uri": "https://localhost:8080/",
          "height": 300
        },
        "outputId": "d109d7c3-7b09-4417-b03c-5fde44fef507"
      },
      "execution_count": 162,
      "outputs": [
        {
          "output_type": "execute_result",
          "data": {
            "text/plain": [
              "         age    city  country  region\n",
              "name                                 \n",
              "Jess      30   Paris   France  Europe\n",
              "Nick      35  Berlin  Germany  Europe\n",
              "Winston   40  Madrid    Spain  Europe\n",
              "Tom       27   Paris   France  Europe\n",
              "Alex      52  London       UK  Europe\n",
              "Matthew   32  London       UK  Europe\n",
              "Philippe  45  London       UK  Europe"
            ],
            "text/html": [
              "\n",
              "  <div id=\"df-63cccbf1-fb11-4bec-a783-8d0cdfe7276c\">\n",
              "    <div class=\"colab-df-container\">\n",
              "      <div>\n",
              "<style scoped>\n",
              "    .dataframe tbody tr th:only-of-type {\n",
              "        vertical-align: middle;\n",
              "    }\n",
              "\n",
              "    .dataframe tbody tr th {\n",
              "        vertical-align: top;\n",
              "    }\n",
              "\n",
              "    .dataframe thead th {\n",
              "        text-align: right;\n",
              "    }\n",
              "</style>\n",
              "<table border=\"1\" class=\"dataframe\">\n",
              "  <thead>\n",
              "    <tr style=\"text-align: right;\">\n",
              "      <th></th>\n",
              "      <th>age</th>\n",
              "      <th>city</th>\n",
              "      <th>country</th>\n",
              "      <th>region</th>\n",
              "    </tr>\n",
              "    <tr>\n",
              "      <th>name</th>\n",
              "      <th></th>\n",
              "      <th></th>\n",
              "      <th></th>\n",
              "      <th></th>\n",
              "    </tr>\n",
              "  </thead>\n",
              "  <tbody>\n",
              "    <tr>\n",
              "      <th>Jess</th>\n",
              "      <td>30</td>\n",
              "      <td>Paris</td>\n",
              "      <td>France</td>\n",
              "      <td>Europe</td>\n",
              "    </tr>\n",
              "    <tr>\n",
              "      <th>Nick</th>\n",
              "      <td>35</td>\n",
              "      <td>Berlin</td>\n",
              "      <td>Germany</td>\n",
              "      <td>Europe</td>\n",
              "    </tr>\n",
              "    <tr>\n",
              "      <th>Winston</th>\n",
              "      <td>40</td>\n",
              "      <td>Madrid</td>\n",
              "      <td>Spain</td>\n",
              "      <td>Europe</td>\n",
              "    </tr>\n",
              "    <tr>\n",
              "      <th>Tom</th>\n",
              "      <td>27</td>\n",
              "      <td>Paris</td>\n",
              "      <td>France</td>\n",
              "      <td>Europe</td>\n",
              "    </tr>\n",
              "    <tr>\n",
              "      <th>Alex</th>\n",
              "      <td>52</td>\n",
              "      <td>London</td>\n",
              "      <td>UK</td>\n",
              "      <td>Europe</td>\n",
              "    </tr>\n",
              "    <tr>\n",
              "      <th>Matthew</th>\n",
              "      <td>32</td>\n",
              "      <td>London</td>\n",
              "      <td>UK</td>\n",
              "      <td>Europe</td>\n",
              "    </tr>\n",
              "    <tr>\n",
              "      <th>Philippe</th>\n",
              "      <td>45</td>\n",
              "      <td>London</td>\n",
              "      <td>UK</td>\n",
              "      <td>Europe</td>\n",
              "    </tr>\n",
              "  </tbody>\n",
              "</table>\n",
              "</div>\n",
              "      <button class=\"colab-df-convert\" onclick=\"convertToInteractive('df-63cccbf1-fb11-4bec-a783-8d0cdfe7276c')\"\n",
              "              title=\"Convert this dataframe to an interactive table.\"\n",
              "              style=\"display:none;\">\n",
              "        \n",
              "  <svg xmlns=\"http://www.w3.org/2000/svg\" height=\"24px\"viewBox=\"0 0 24 24\"\n",
              "       width=\"24px\">\n",
              "    <path d=\"M0 0h24v24H0V0z\" fill=\"none\"/>\n",
              "    <path d=\"M18.56 5.44l.94 2.06.94-2.06 2.06-.94-2.06-.94-.94-2.06-.94 2.06-2.06.94zm-11 1L8.5 8.5l.94-2.06 2.06-.94-2.06-.94L8.5 2.5l-.94 2.06-2.06.94zm10 10l.94 2.06.94-2.06 2.06-.94-2.06-.94-.94-2.06-.94 2.06-2.06.94z\"/><path d=\"M17.41 7.96l-1.37-1.37c-.4-.4-.92-.59-1.43-.59-.52 0-1.04.2-1.43.59L10.3 9.45l-7.72 7.72c-.78.78-.78 2.05 0 2.83L4 21.41c.39.39.9.59 1.41.59.51 0 1.02-.2 1.41-.59l7.78-7.78 2.81-2.81c.8-.78.8-2.07 0-2.86zM5.41 20L4 18.59l7.72-7.72 1.47 1.35L5.41 20z\"/>\n",
              "  </svg>\n",
              "      </button>\n",
              "      \n",
              "  <style>\n",
              "    .colab-df-container {\n",
              "      display:flex;\n",
              "      flex-wrap:wrap;\n",
              "      gap: 12px;\n",
              "    }\n",
              "\n",
              "    .colab-df-convert {\n",
              "      background-color: #E8F0FE;\n",
              "      border: none;\n",
              "      border-radius: 50%;\n",
              "      cursor: pointer;\n",
              "      display: none;\n",
              "      fill: #1967D2;\n",
              "      height: 32px;\n",
              "      padding: 0 0 0 0;\n",
              "      width: 32px;\n",
              "    }\n",
              "\n",
              "    .colab-df-convert:hover {\n",
              "      background-color: #E2EBFA;\n",
              "      box-shadow: 0px 1px 2px rgba(60, 64, 67, 0.3), 0px 1px 3px 1px rgba(60, 64, 67, 0.15);\n",
              "      fill: #174EA6;\n",
              "    }\n",
              "\n",
              "    [theme=dark] .colab-df-convert {\n",
              "      background-color: #3B4455;\n",
              "      fill: #D2E3FC;\n",
              "    }\n",
              "\n",
              "    [theme=dark] .colab-df-convert:hover {\n",
              "      background-color: #434B5C;\n",
              "      box-shadow: 0px 1px 3px 1px rgba(0, 0, 0, 0.15);\n",
              "      filter: drop-shadow(0px 1px 2px rgba(0, 0, 0, 0.3));\n",
              "      fill: #FFFFFF;\n",
              "    }\n",
              "  </style>\n",
              "\n",
              "      <script>\n",
              "        const buttonEl =\n",
              "          document.querySelector('#df-63cccbf1-fb11-4bec-a783-8d0cdfe7276c button.colab-df-convert');\n",
              "        buttonEl.style.display =\n",
              "          google.colab.kernel.accessAllowed ? 'block' : 'none';\n",
              "\n",
              "        async function convertToInteractive(key) {\n",
              "          const element = document.querySelector('#df-63cccbf1-fb11-4bec-a783-8d0cdfe7276c');\n",
              "          const dataTable =\n",
              "            await google.colab.kernel.invokeFunction('convertToInteractive',\n",
              "                                                     [key], {});\n",
              "          if (!dataTable) return;\n",
              "\n",
              "          const docLinkHtml = 'Like what you see? Visit the ' +\n",
              "            '<a target=\"_blank\" href=https://colab.research.google.com/notebooks/data_table.ipynb>data table notebook</a>'\n",
              "            + ' to learn more about interactive tables.';\n",
              "          element.innerHTML = '';\n",
              "          dataTable['output_type'] = 'display_data';\n",
              "          await google.colab.output.renderOutput(dataTable, element);\n",
              "          const docLink = document.createElement('div');\n",
              "          docLink.innerHTML = docLinkHtml;\n",
              "          element.appendChild(docLink);\n",
              "        }\n",
              "      </script>\n",
              "    </div>\n",
              "  </div>\n",
              "  "
            ]
          },
          "metadata": {},
          "execution_count": 162
        }
      ]
    },
    {
      "cell_type": "code",
      "source": [
        "# add a column salary, with respective values\n",
        "# please keep in mind that the length has to be the same\n",
        "\n",
        "salary = ['40000', '45000', '50000', '55000', '60000', '65000', '70000'] # the list has to have the same nb of element as the nb of rows\n",
        "\n",
        "print('the length of salary is: ', len(salary))\n",
        "# if the length of salary is NOT the same as the nb of rows, python will give an error ...\n",
        "print('')\n",
        "\n",
        "df['salary']= salary\n",
        "\n",
        "print(df.shape)\n",
        "df"
      ],
      "metadata": {
        "id": "cykZ_PfvllnZ",
        "colab": {
          "base_uri": "https://localhost:8080/",
          "height": 352
        },
        "outputId": "16f49ee3-fd77-47e1-cc92-e60eb5708304"
      },
      "execution_count": 163,
      "outputs": [
        {
          "output_type": "stream",
          "name": "stdout",
          "text": [
            "the length of salary is:  7\n",
            "\n",
            "(7, 5)\n"
          ]
        },
        {
          "output_type": "execute_result",
          "data": {
            "text/plain": [
              "         age    city  country  region salary\n",
              "name                                        \n",
              "Jess      30   Paris   France  Europe  40000\n",
              "Nick      35  Berlin  Germany  Europe  45000\n",
              "Winston   40  Madrid    Spain  Europe  50000\n",
              "Tom       27   Paris   France  Europe  55000\n",
              "Alex      52  London       UK  Europe  60000\n",
              "Matthew   32  London       UK  Europe  65000\n",
              "Philippe  45  London       UK  Europe  70000"
            ],
            "text/html": [
              "\n",
              "  <div id=\"df-87568c23-8913-4464-be90-72e2bd95818f\">\n",
              "    <div class=\"colab-df-container\">\n",
              "      <div>\n",
              "<style scoped>\n",
              "    .dataframe tbody tr th:only-of-type {\n",
              "        vertical-align: middle;\n",
              "    }\n",
              "\n",
              "    .dataframe tbody tr th {\n",
              "        vertical-align: top;\n",
              "    }\n",
              "\n",
              "    .dataframe thead th {\n",
              "        text-align: right;\n",
              "    }\n",
              "</style>\n",
              "<table border=\"1\" class=\"dataframe\">\n",
              "  <thead>\n",
              "    <tr style=\"text-align: right;\">\n",
              "      <th></th>\n",
              "      <th>age</th>\n",
              "      <th>city</th>\n",
              "      <th>country</th>\n",
              "      <th>region</th>\n",
              "      <th>salary</th>\n",
              "    </tr>\n",
              "    <tr>\n",
              "      <th>name</th>\n",
              "      <th></th>\n",
              "      <th></th>\n",
              "      <th></th>\n",
              "      <th></th>\n",
              "      <th></th>\n",
              "    </tr>\n",
              "  </thead>\n",
              "  <tbody>\n",
              "    <tr>\n",
              "      <th>Jess</th>\n",
              "      <td>30</td>\n",
              "      <td>Paris</td>\n",
              "      <td>France</td>\n",
              "      <td>Europe</td>\n",
              "      <td>40000</td>\n",
              "    </tr>\n",
              "    <tr>\n",
              "      <th>Nick</th>\n",
              "      <td>35</td>\n",
              "      <td>Berlin</td>\n",
              "      <td>Germany</td>\n",
              "      <td>Europe</td>\n",
              "      <td>45000</td>\n",
              "    </tr>\n",
              "    <tr>\n",
              "      <th>Winston</th>\n",
              "      <td>40</td>\n",
              "      <td>Madrid</td>\n",
              "      <td>Spain</td>\n",
              "      <td>Europe</td>\n",
              "      <td>50000</td>\n",
              "    </tr>\n",
              "    <tr>\n",
              "      <th>Tom</th>\n",
              "      <td>27</td>\n",
              "      <td>Paris</td>\n",
              "      <td>France</td>\n",
              "      <td>Europe</td>\n",
              "      <td>55000</td>\n",
              "    </tr>\n",
              "    <tr>\n",
              "      <th>Alex</th>\n",
              "      <td>52</td>\n",
              "      <td>London</td>\n",
              "      <td>UK</td>\n",
              "      <td>Europe</td>\n",
              "      <td>60000</td>\n",
              "    </tr>\n",
              "    <tr>\n",
              "      <th>Matthew</th>\n",
              "      <td>32</td>\n",
              "      <td>London</td>\n",
              "      <td>UK</td>\n",
              "      <td>Europe</td>\n",
              "      <td>65000</td>\n",
              "    </tr>\n",
              "    <tr>\n",
              "      <th>Philippe</th>\n",
              "      <td>45</td>\n",
              "      <td>London</td>\n",
              "      <td>UK</td>\n",
              "      <td>Europe</td>\n",
              "      <td>70000</td>\n",
              "    </tr>\n",
              "  </tbody>\n",
              "</table>\n",
              "</div>\n",
              "      <button class=\"colab-df-convert\" onclick=\"convertToInteractive('df-87568c23-8913-4464-be90-72e2bd95818f')\"\n",
              "              title=\"Convert this dataframe to an interactive table.\"\n",
              "              style=\"display:none;\">\n",
              "        \n",
              "  <svg xmlns=\"http://www.w3.org/2000/svg\" height=\"24px\"viewBox=\"0 0 24 24\"\n",
              "       width=\"24px\">\n",
              "    <path d=\"M0 0h24v24H0V0z\" fill=\"none\"/>\n",
              "    <path d=\"M18.56 5.44l.94 2.06.94-2.06 2.06-.94-2.06-.94-.94-2.06-.94 2.06-2.06.94zm-11 1L8.5 8.5l.94-2.06 2.06-.94-2.06-.94L8.5 2.5l-.94 2.06-2.06.94zm10 10l.94 2.06.94-2.06 2.06-.94-2.06-.94-.94-2.06-.94 2.06-2.06.94z\"/><path d=\"M17.41 7.96l-1.37-1.37c-.4-.4-.92-.59-1.43-.59-.52 0-1.04.2-1.43.59L10.3 9.45l-7.72 7.72c-.78.78-.78 2.05 0 2.83L4 21.41c.39.39.9.59 1.41.59.51 0 1.02-.2 1.41-.59l7.78-7.78 2.81-2.81c.8-.78.8-2.07 0-2.86zM5.41 20L4 18.59l7.72-7.72 1.47 1.35L5.41 20z\"/>\n",
              "  </svg>\n",
              "      </button>\n",
              "      \n",
              "  <style>\n",
              "    .colab-df-container {\n",
              "      display:flex;\n",
              "      flex-wrap:wrap;\n",
              "      gap: 12px;\n",
              "    }\n",
              "\n",
              "    .colab-df-convert {\n",
              "      background-color: #E8F0FE;\n",
              "      border: none;\n",
              "      border-radius: 50%;\n",
              "      cursor: pointer;\n",
              "      display: none;\n",
              "      fill: #1967D2;\n",
              "      height: 32px;\n",
              "      padding: 0 0 0 0;\n",
              "      width: 32px;\n",
              "    }\n",
              "\n",
              "    .colab-df-convert:hover {\n",
              "      background-color: #E2EBFA;\n",
              "      box-shadow: 0px 1px 2px rgba(60, 64, 67, 0.3), 0px 1px 3px 1px rgba(60, 64, 67, 0.15);\n",
              "      fill: #174EA6;\n",
              "    }\n",
              "\n",
              "    [theme=dark] .colab-df-convert {\n",
              "      background-color: #3B4455;\n",
              "      fill: #D2E3FC;\n",
              "    }\n",
              "\n",
              "    [theme=dark] .colab-df-convert:hover {\n",
              "      background-color: #434B5C;\n",
              "      box-shadow: 0px 1px 3px 1px rgba(0, 0, 0, 0.15);\n",
              "      filter: drop-shadow(0px 1px 2px rgba(0, 0, 0, 0.3));\n",
              "      fill: #FFFFFF;\n",
              "    }\n",
              "  </style>\n",
              "\n",
              "      <script>\n",
              "        const buttonEl =\n",
              "          document.querySelector('#df-87568c23-8913-4464-be90-72e2bd95818f button.colab-df-convert');\n",
              "        buttonEl.style.display =\n",
              "          google.colab.kernel.accessAllowed ? 'block' : 'none';\n",
              "\n",
              "        async function convertToInteractive(key) {\n",
              "          const element = document.querySelector('#df-87568c23-8913-4464-be90-72e2bd95818f');\n",
              "          const dataTable =\n",
              "            await google.colab.kernel.invokeFunction('convertToInteractive',\n",
              "                                                     [key], {});\n",
              "          if (!dataTable) return;\n",
              "\n",
              "          const docLinkHtml = 'Like what you see? Visit the ' +\n",
              "            '<a target=\"_blank\" href=https://colab.research.google.com/notebooks/data_table.ipynb>data table notebook</a>'\n",
              "            + ' to learn more about interactive tables.';\n",
              "          element.innerHTML = '';\n",
              "          dataTable['output_type'] = 'display_data';\n",
              "          await google.colab.output.renderOutput(dataTable, element);\n",
              "          const docLink = document.createElement('div');\n",
              "          docLink.innerHTML = docLinkHtml;\n",
              "          element.appendChild(docLink);\n",
              "        }\n",
              "      </script>\n",
              "    </div>\n",
              "  </div>\n",
              "  "
            ]
          },
          "metadata": {},
          "execution_count": 163
        }
      ]
    },
    {
      "cell_type": "code",
      "source": [
        "# add a new row\n",
        "df.loc['John']= [40, 'New York','USA', 'North America', '75000']\n",
        "df"
      ],
      "metadata": {
        "id": "a6aaUu4x9QZP",
        "colab": {
          "base_uri": "https://localhost:8080/",
          "height": 331
        },
        "outputId": "0f910151-6e66-452a-c883-b3aff6548a2f"
      },
      "execution_count": 164,
      "outputs": [
        {
          "output_type": "execute_result",
          "data": {
            "text/plain": [
              "         age      city  country         region salary\n",
              "name                                                 \n",
              "Jess      30     Paris   France         Europe  40000\n",
              "Nick      35    Berlin  Germany         Europe  45000\n",
              "Winston   40    Madrid    Spain         Europe  50000\n",
              "Tom       27     Paris   France         Europe  55000\n",
              "Alex      52    London       UK         Europe  60000\n",
              "Matthew   32    London       UK         Europe  65000\n",
              "Philippe  45    London       UK         Europe  70000\n",
              "John      40  New York      USA  North America  75000"
            ],
            "text/html": [
              "\n",
              "  <div id=\"df-19b64fb9-6456-4f7b-8fb0-366fac71979d\">\n",
              "    <div class=\"colab-df-container\">\n",
              "      <div>\n",
              "<style scoped>\n",
              "    .dataframe tbody tr th:only-of-type {\n",
              "        vertical-align: middle;\n",
              "    }\n",
              "\n",
              "    .dataframe tbody tr th {\n",
              "        vertical-align: top;\n",
              "    }\n",
              "\n",
              "    .dataframe thead th {\n",
              "        text-align: right;\n",
              "    }\n",
              "</style>\n",
              "<table border=\"1\" class=\"dataframe\">\n",
              "  <thead>\n",
              "    <tr style=\"text-align: right;\">\n",
              "      <th></th>\n",
              "      <th>age</th>\n",
              "      <th>city</th>\n",
              "      <th>country</th>\n",
              "      <th>region</th>\n",
              "      <th>salary</th>\n",
              "    </tr>\n",
              "    <tr>\n",
              "      <th>name</th>\n",
              "      <th></th>\n",
              "      <th></th>\n",
              "      <th></th>\n",
              "      <th></th>\n",
              "      <th></th>\n",
              "    </tr>\n",
              "  </thead>\n",
              "  <tbody>\n",
              "    <tr>\n",
              "      <th>Jess</th>\n",
              "      <td>30</td>\n",
              "      <td>Paris</td>\n",
              "      <td>France</td>\n",
              "      <td>Europe</td>\n",
              "      <td>40000</td>\n",
              "    </tr>\n",
              "    <tr>\n",
              "      <th>Nick</th>\n",
              "      <td>35</td>\n",
              "      <td>Berlin</td>\n",
              "      <td>Germany</td>\n",
              "      <td>Europe</td>\n",
              "      <td>45000</td>\n",
              "    </tr>\n",
              "    <tr>\n",
              "      <th>Winston</th>\n",
              "      <td>40</td>\n",
              "      <td>Madrid</td>\n",
              "      <td>Spain</td>\n",
              "      <td>Europe</td>\n",
              "      <td>50000</td>\n",
              "    </tr>\n",
              "    <tr>\n",
              "      <th>Tom</th>\n",
              "      <td>27</td>\n",
              "      <td>Paris</td>\n",
              "      <td>France</td>\n",
              "      <td>Europe</td>\n",
              "      <td>55000</td>\n",
              "    </tr>\n",
              "    <tr>\n",
              "      <th>Alex</th>\n",
              "      <td>52</td>\n",
              "      <td>London</td>\n",
              "      <td>UK</td>\n",
              "      <td>Europe</td>\n",
              "      <td>60000</td>\n",
              "    </tr>\n",
              "    <tr>\n",
              "      <th>Matthew</th>\n",
              "      <td>32</td>\n",
              "      <td>London</td>\n",
              "      <td>UK</td>\n",
              "      <td>Europe</td>\n",
              "      <td>65000</td>\n",
              "    </tr>\n",
              "    <tr>\n",
              "      <th>Philippe</th>\n",
              "      <td>45</td>\n",
              "      <td>London</td>\n",
              "      <td>UK</td>\n",
              "      <td>Europe</td>\n",
              "      <td>70000</td>\n",
              "    </tr>\n",
              "    <tr>\n",
              "      <th>John</th>\n",
              "      <td>40</td>\n",
              "      <td>New York</td>\n",
              "      <td>USA</td>\n",
              "      <td>North America</td>\n",
              "      <td>75000</td>\n",
              "    </tr>\n",
              "  </tbody>\n",
              "</table>\n",
              "</div>\n",
              "      <button class=\"colab-df-convert\" onclick=\"convertToInteractive('df-19b64fb9-6456-4f7b-8fb0-366fac71979d')\"\n",
              "              title=\"Convert this dataframe to an interactive table.\"\n",
              "              style=\"display:none;\">\n",
              "        \n",
              "  <svg xmlns=\"http://www.w3.org/2000/svg\" height=\"24px\"viewBox=\"0 0 24 24\"\n",
              "       width=\"24px\">\n",
              "    <path d=\"M0 0h24v24H0V0z\" fill=\"none\"/>\n",
              "    <path d=\"M18.56 5.44l.94 2.06.94-2.06 2.06-.94-2.06-.94-.94-2.06-.94 2.06-2.06.94zm-11 1L8.5 8.5l.94-2.06 2.06-.94-2.06-.94L8.5 2.5l-.94 2.06-2.06.94zm10 10l.94 2.06.94-2.06 2.06-.94-2.06-.94-.94-2.06-.94 2.06-2.06.94z\"/><path d=\"M17.41 7.96l-1.37-1.37c-.4-.4-.92-.59-1.43-.59-.52 0-1.04.2-1.43.59L10.3 9.45l-7.72 7.72c-.78.78-.78 2.05 0 2.83L4 21.41c.39.39.9.59 1.41.59.51 0 1.02-.2 1.41-.59l7.78-7.78 2.81-2.81c.8-.78.8-2.07 0-2.86zM5.41 20L4 18.59l7.72-7.72 1.47 1.35L5.41 20z\"/>\n",
              "  </svg>\n",
              "      </button>\n",
              "      \n",
              "  <style>\n",
              "    .colab-df-container {\n",
              "      display:flex;\n",
              "      flex-wrap:wrap;\n",
              "      gap: 12px;\n",
              "    }\n",
              "\n",
              "    .colab-df-convert {\n",
              "      background-color: #E8F0FE;\n",
              "      border: none;\n",
              "      border-radius: 50%;\n",
              "      cursor: pointer;\n",
              "      display: none;\n",
              "      fill: #1967D2;\n",
              "      height: 32px;\n",
              "      padding: 0 0 0 0;\n",
              "      width: 32px;\n",
              "    }\n",
              "\n",
              "    .colab-df-convert:hover {\n",
              "      background-color: #E2EBFA;\n",
              "      box-shadow: 0px 1px 2px rgba(60, 64, 67, 0.3), 0px 1px 3px 1px rgba(60, 64, 67, 0.15);\n",
              "      fill: #174EA6;\n",
              "    }\n",
              "\n",
              "    [theme=dark] .colab-df-convert {\n",
              "      background-color: #3B4455;\n",
              "      fill: #D2E3FC;\n",
              "    }\n",
              "\n",
              "    [theme=dark] .colab-df-convert:hover {\n",
              "      background-color: #434B5C;\n",
              "      box-shadow: 0px 1px 3px 1px rgba(0, 0, 0, 0.15);\n",
              "      filter: drop-shadow(0px 1px 2px rgba(0, 0, 0, 0.3));\n",
              "      fill: #FFFFFF;\n",
              "    }\n",
              "  </style>\n",
              "\n",
              "      <script>\n",
              "        const buttonEl =\n",
              "          document.querySelector('#df-19b64fb9-6456-4f7b-8fb0-366fac71979d button.colab-df-convert');\n",
              "        buttonEl.style.display =\n",
              "          google.colab.kernel.accessAllowed ? 'block' : 'none';\n",
              "\n",
              "        async function convertToInteractive(key) {\n",
              "          const element = document.querySelector('#df-19b64fb9-6456-4f7b-8fb0-366fac71979d');\n",
              "          const dataTable =\n",
              "            await google.colab.kernel.invokeFunction('convertToInteractive',\n",
              "                                                     [key], {});\n",
              "          if (!dataTable) return;\n",
              "\n",
              "          const docLinkHtml = 'Like what you see? Visit the ' +\n",
              "            '<a target=\"_blank\" href=https://colab.research.google.com/notebooks/data_table.ipynb>data table notebook</a>'\n",
              "            + ' to learn more about interactive tables.';\n",
              "          element.innerHTML = '';\n",
              "          dataTable['output_type'] = 'display_data';\n",
              "          await google.colab.output.renderOutput(dataTable, element);\n",
              "          const docLink = document.createElement('div');\n",
              "          docLink.innerHTML = docLinkHtml;\n",
              "          element.appendChild(docLink);\n",
              "        }\n",
              "      </script>\n",
              "    </div>\n",
              "  </div>\n",
              "  "
            ]
          },
          "metadata": {},
          "execution_count": 164
        }
      ]
    },
    {
      "cell_type": "markdown",
      "source": [
        "## Modify the df"
      ],
      "metadata": {
        "id": "Ksid4CP_D3Ce"
      }
    },
    {
      "cell_type": "code",
      "source": [
        "# Philippe moved to Paris (==> 'city') in France (==> 'country') and we want to update the df\n",
        "\n",
        "# modify the df with .loc method\n",
        "\n",
        "df.loc['Philippe', ['city', 'country']] = ['Paris', 'France']\n",
        "df"
      ],
      "metadata": {
        "id": "vBsA8cZEBf66",
        "colab": {
          "base_uri": "https://localhost:8080/",
          "height": 331
        },
        "outputId": "4fa0339c-549f-4a99-b19d-b5bfc148e805"
      },
      "execution_count": 165,
      "outputs": [
        {
          "output_type": "execute_result",
          "data": {
            "text/plain": [
              "         age      city  country         region salary\n",
              "name                                                 \n",
              "Jess      30     Paris   France         Europe  40000\n",
              "Nick      35    Berlin  Germany         Europe  45000\n",
              "Winston   40    Madrid    Spain         Europe  50000\n",
              "Tom       27     Paris   France         Europe  55000\n",
              "Alex      52    London       UK         Europe  60000\n",
              "Matthew   32    London       UK         Europe  65000\n",
              "Philippe  45     Paris   France         Europe  70000\n",
              "John      40  New York      USA  North America  75000"
            ],
            "text/html": [
              "\n",
              "  <div id=\"df-7ed730e2-e737-4f07-8806-f27d11d2c87d\">\n",
              "    <div class=\"colab-df-container\">\n",
              "      <div>\n",
              "<style scoped>\n",
              "    .dataframe tbody tr th:only-of-type {\n",
              "        vertical-align: middle;\n",
              "    }\n",
              "\n",
              "    .dataframe tbody tr th {\n",
              "        vertical-align: top;\n",
              "    }\n",
              "\n",
              "    .dataframe thead th {\n",
              "        text-align: right;\n",
              "    }\n",
              "</style>\n",
              "<table border=\"1\" class=\"dataframe\">\n",
              "  <thead>\n",
              "    <tr style=\"text-align: right;\">\n",
              "      <th></th>\n",
              "      <th>age</th>\n",
              "      <th>city</th>\n",
              "      <th>country</th>\n",
              "      <th>region</th>\n",
              "      <th>salary</th>\n",
              "    </tr>\n",
              "    <tr>\n",
              "      <th>name</th>\n",
              "      <th></th>\n",
              "      <th></th>\n",
              "      <th></th>\n",
              "      <th></th>\n",
              "      <th></th>\n",
              "    </tr>\n",
              "  </thead>\n",
              "  <tbody>\n",
              "    <tr>\n",
              "      <th>Jess</th>\n",
              "      <td>30</td>\n",
              "      <td>Paris</td>\n",
              "      <td>France</td>\n",
              "      <td>Europe</td>\n",
              "      <td>40000</td>\n",
              "    </tr>\n",
              "    <tr>\n",
              "      <th>Nick</th>\n",
              "      <td>35</td>\n",
              "      <td>Berlin</td>\n",
              "      <td>Germany</td>\n",
              "      <td>Europe</td>\n",
              "      <td>45000</td>\n",
              "    </tr>\n",
              "    <tr>\n",
              "      <th>Winston</th>\n",
              "      <td>40</td>\n",
              "      <td>Madrid</td>\n",
              "      <td>Spain</td>\n",
              "      <td>Europe</td>\n",
              "      <td>50000</td>\n",
              "    </tr>\n",
              "    <tr>\n",
              "      <th>Tom</th>\n",
              "      <td>27</td>\n",
              "      <td>Paris</td>\n",
              "      <td>France</td>\n",
              "      <td>Europe</td>\n",
              "      <td>55000</td>\n",
              "    </tr>\n",
              "    <tr>\n",
              "      <th>Alex</th>\n",
              "      <td>52</td>\n",
              "      <td>London</td>\n",
              "      <td>UK</td>\n",
              "      <td>Europe</td>\n",
              "      <td>60000</td>\n",
              "    </tr>\n",
              "    <tr>\n",
              "      <th>Matthew</th>\n",
              "      <td>32</td>\n",
              "      <td>London</td>\n",
              "      <td>UK</td>\n",
              "      <td>Europe</td>\n",
              "      <td>65000</td>\n",
              "    </tr>\n",
              "    <tr>\n",
              "      <th>Philippe</th>\n",
              "      <td>45</td>\n",
              "      <td>Paris</td>\n",
              "      <td>France</td>\n",
              "      <td>Europe</td>\n",
              "      <td>70000</td>\n",
              "    </tr>\n",
              "    <tr>\n",
              "      <th>John</th>\n",
              "      <td>40</td>\n",
              "      <td>New York</td>\n",
              "      <td>USA</td>\n",
              "      <td>North America</td>\n",
              "      <td>75000</td>\n",
              "    </tr>\n",
              "  </tbody>\n",
              "</table>\n",
              "</div>\n",
              "      <button class=\"colab-df-convert\" onclick=\"convertToInteractive('df-7ed730e2-e737-4f07-8806-f27d11d2c87d')\"\n",
              "              title=\"Convert this dataframe to an interactive table.\"\n",
              "              style=\"display:none;\">\n",
              "        \n",
              "  <svg xmlns=\"http://www.w3.org/2000/svg\" height=\"24px\"viewBox=\"0 0 24 24\"\n",
              "       width=\"24px\">\n",
              "    <path d=\"M0 0h24v24H0V0z\" fill=\"none\"/>\n",
              "    <path d=\"M18.56 5.44l.94 2.06.94-2.06 2.06-.94-2.06-.94-.94-2.06-.94 2.06-2.06.94zm-11 1L8.5 8.5l.94-2.06 2.06-.94-2.06-.94L8.5 2.5l-.94 2.06-2.06.94zm10 10l.94 2.06.94-2.06 2.06-.94-2.06-.94-.94-2.06-.94 2.06-2.06.94z\"/><path d=\"M17.41 7.96l-1.37-1.37c-.4-.4-.92-.59-1.43-.59-.52 0-1.04.2-1.43.59L10.3 9.45l-7.72 7.72c-.78.78-.78 2.05 0 2.83L4 21.41c.39.39.9.59 1.41.59.51 0 1.02-.2 1.41-.59l7.78-7.78 2.81-2.81c.8-.78.8-2.07 0-2.86zM5.41 20L4 18.59l7.72-7.72 1.47 1.35L5.41 20z\"/>\n",
              "  </svg>\n",
              "      </button>\n",
              "      \n",
              "  <style>\n",
              "    .colab-df-container {\n",
              "      display:flex;\n",
              "      flex-wrap:wrap;\n",
              "      gap: 12px;\n",
              "    }\n",
              "\n",
              "    .colab-df-convert {\n",
              "      background-color: #E8F0FE;\n",
              "      border: none;\n",
              "      border-radius: 50%;\n",
              "      cursor: pointer;\n",
              "      display: none;\n",
              "      fill: #1967D2;\n",
              "      height: 32px;\n",
              "      padding: 0 0 0 0;\n",
              "      width: 32px;\n",
              "    }\n",
              "\n",
              "    .colab-df-convert:hover {\n",
              "      background-color: #E2EBFA;\n",
              "      box-shadow: 0px 1px 2px rgba(60, 64, 67, 0.3), 0px 1px 3px 1px rgba(60, 64, 67, 0.15);\n",
              "      fill: #174EA6;\n",
              "    }\n",
              "\n",
              "    [theme=dark] .colab-df-convert {\n",
              "      background-color: #3B4455;\n",
              "      fill: #D2E3FC;\n",
              "    }\n",
              "\n",
              "    [theme=dark] .colab-df-convert:hover {\n",
              "      background-color: #434B5C;\n",
              "      box-shadow: 0px 1px 3px 1px rgba(0, 0, 0, 0.15);\n",
              "      filter: drop-shadow(0px 1px 2px rgba(0, 0, 0, 0.3));\n",
              "      fill: #FFFFFF;\n",
              "    }\n",
              "  </style>\n",
              "\n",
              "      <script>\n",
              "        const buttonEl =\n",
              "          document.querySelector('#df-7ed730e2-e737-4f07-8806-f27d11d2c87d button.colab-df-convert');\n",
              "        buttonEl.style.display =\n",
              "          google.colab.kernel.accessAllowed ? 'block' : 'none';\n",
              "\n",
              "        async function convertToInteractive(key) {\n",
              "          const element = document.querySelector('#df-7ed730e2-e737-4f07-8806-f27d11d2c87d');\n",
              "          const dataTable =\n",
              "            await google.colab.kernel.invokeFunction('convertToInteractive',\n",
              "                                                     [key], {});\n",
              "          if (!dataTable) return;\n",
              "\n",
              "          const docLinkHtml = 'Like what you see? Visit the ' +\n",
              "            '<a target=\"_blank\" href=https://colab.research.google.com/notebooks/data_table.ipynb>data table notebook</a>'\n",
              "            + ' to learn more about interactive tables.';\n",
              "          element.innerHTML = '';\n",
              "          dataTable['output_type'] = 'display_data';\n",
              "          await google.colab.output.renderOutput(dataTable, element);\n",
              "          const docLink = document.createElement('div');\n",
              "          docLink.innerHTML = docLinkHtml;\n",
              "          element.appendChild(docLink);\n",
              "        }\n",
              "      </script>\n",
              "    </div>\n",
              "  </div>\n",
              "  "
            ]
          },
          "metadata": {},
          "execution_count": 165
        }
      ]
    },
    {
      "cell_type": "code",
      "source": [
        "# Philippe moved back to London, in UK and even got a promotion and we want to update the df\n",
        "\n",
        "# modify df with .iloc method\n",
        "\n",
        "# the row of 'Philipp' hase the index 6\n",
        "# the indicies for 'city', 'country' and 'salary' columns are : 1, 2, 4 \n",
        "\n",
        "df.iloc[6, [1, 2, 4]]= ['London', 'UK', '80000'] \n",
        "\n",
        "df"
      ],
      "metadata": {
        "id": "SR-kgJjkCJH9",
        "colab": {
          "base_uri": "https://localhost:8080/",
          "height": 331
        },
        "outputId": "b82c68b1-4164-4895-be93-aa1151251a73"
      },
      "execution_count": 166,
      "outputs": [
        {
          "output_type": "execute_result",
          "data": {
            "text/plain": [
              "         age      city  country         region salary\n",
              "name                                                 \n",
              "Jess      30     Paris   France         Europe  40000\n",
              "Nick      35    Berlin  Germany         Europe  45000\n",
              "Winston   40    Madrid    Spain         Europe  50000\n",
              "Tom       27     Paris   France         Europe  55000\n",
              "Alex      52    London       UK         Europe  60000\n",
              "Matthew   32    London       UK         Europe  65000\n",
              "Philippe  45    London       UK         Europe  80000\n",
              "John      40  New York      USA  North America  75000"
            ],
            "text/html": [
              "\n",
              "  <div id=\"df-a01c56d7-7366-480d-911e-569e0aca8667\">\n",
              "    <div class=\"colab-df-container\">\n",
              "      <div>\n",
              "<style scoped>\n",
              "    .dataframe tbody tr th:only-of-type {\n",
              "        vertical-align: middle;\n",
              "    }\n",
              "\n",
              "    .dataframe tbody tr th {\n",
              "        vertical-align: top;\n",
              "    }\n",
              "\n",
              "    .dataframe thead th {\n",
              "        text-align: right;\n",
              "    }\n",
              "</style>\n",
              "<table border=\"1\" class=\"dataframe\">\n",
              "  <thead>\n",
              "    <tr style=\"text-align: right;\">\n",
              "      <th></th>\n",
              "      <th>age</th>\n",
              "      <th>city</th>\n",
              "      <th>country</th>\n",
              "      <th>region</th>\n",
              "      <th>salary</th>\n",
              "    </tr>\n",
              "    <tr>\n",
              "      <th>name</th>\n",
              "      <th></th>\n",
              "      <th></th>\n",
              "      <th></th>\n",
              "      <th></th>\n",
              "      <th></th>\n",
              "    </tr>\n",
              "  </thead>\n",
              "  <tbody>\n",
              "    <tr>\n",
              "      <th>Jess</th>\n",
              "      <td>30</td>\n",
              "      <td>Paris</td>\n",
              "      <td>France</td>\n",
              "      <td>Europe</td>\n",
              "      <td>40000</td>\n",
              "    </tr>\n",
              "    <tr>\n",
              "      <th>Nick</th>\n",
              "      <td>35</td>\n",
              "      <td>Berlin</td>\n",
              "      <td>Germany</td>\n",
              "      <td>Europe</td>\n",
              "      <td>45000</td>\n",
              "    </tr>\n",
              "    <tr>\n",
              "      <th>Winston</th>\n",
              "      <td>40</td>\n",
              "      <td>Madrid</td>\n",
              "      <td>Spain</td>\n",
              "      <td>Europe</td>\n",
              "      <td>50000</td>\n",
              "    </tr>\n",
              "    <tr>\n",
              "      <th>Tom</th>\n",
              "      <td>27</td>\n",
              "      <td>Paris</td>\n",
              "      <td>France</td>\n",
              "      <td>Europe</td>\n",
              "      <td>55000</td>\n",
              "    </tr>\n",
              "    <tr>\n",
              "      <th>Alex</th>\n",
              "      <td>52</td>\n",
              "      <td>London</td>\n",
              "      <td>UK</td>\n",
              "      <td>Europe</td>\n",
              "      <td>60000</td>\n",
              "    </tr>\n",
              "    <tr>\n",
              "      <th>Matthew</th>\n",
              "      <td>32</td>\n",
              "      <td>London</td>\n",
              "      <td>UK</td>\n",
              "      <td>Europe</td>\n",
              "      <td>65000</td>\n",
              "    </tr>\n",
              "    <tr>\n",
              "      <th>Philippe</th>\n",
              "      <td>45</td>\n",
              "      <td>London</td>\n",
              "      <td>UK</td>\n",
              "      <td>Europe</td>\n",
              "      <td>80000</td>\n",
              "    </tr>\n",
              "    <tr>\n",
              "      <th>John</th>\n",
              "      <td>40</td>\n",
              "      <td>New York</td>\n",
              "      <td>USA</td>\n",
              "      <td>North America</td>\n",
              "      <td>75000</td>\n",
              "    </tr>\n",
              "  </tbody>\n",
              "</table>\n",
              "</div>\n",
              "      <button class=\"colab-df-convert\" onclick=\"convertToInteractive('df-a01c56d7-7366-480d-911e-569e0aca8667')\"\n",
              "              title=\"Convert this dataframe to an interactive table.\"\n",
              "              style=\"display:none;\">\n",
              "        \n",
              "  <svg xmlns=\"http://www.w3.org/2000/svg\" height=\"24px\"viewBox=\"0 0 24 24\"\n",
              "       width=\"24px\">\n",
              "    <path d=\"M0 0h24v24H0V0z\" fill=\"none\"/>\n",
              "    <path d=\"M18.56 5.44l.94 2.06.94-2.06 2.06-.94-2.06-.94-.94-2.06-.94 2.06-2.06.94zm-11 1L8.5 8.5l.94-2.06 2.06-.94-2.06-.94L8.5 2.5l-.94 2.06-2.06.94zm10 10l.94 2.06.94-2.06 2.06-.94-2.06-.94-.94-2.06-.94 2.06-2.06.94z\"/><path d=\"M17.41 7.96l-1.37-1.37c-.4-.4-.92-.59-1.43-.59-.52 0-1.04.2-1.43.59L10.3 9.45l-7.72 7.72c-.78.78-.78 2.05 0 2.83L4 21.41c.39.39.9.59 1.41.59.51 0 1.02-.2 1.41-.59l7.78-7.78 2.81-2.81c.8-.78.8-2.07 0-2.86zM5.41 20L4 18.59l7.72-7.72 1.47 1.35L5.41 20z\"/>\n",
              "  </svg>\n",
              "      </button>\n",
              "      \n",
              "  <style>\n",
              "    .colab-df-container {\n",
              "      display:flex;\n",
              "      flex-wrap:wrap;\n",
              "      gap: 12px;\n",
              "    }\n",
              "\n",
              "    .colab-df-convert {\n",
              "      background-color: #E8F0FE;\n",
              "      border: none;\n",
              "      border-radius: 50%;\n",
              "      cursor: pointer;\n",
              "      display: none;\n",
              "      fill: #1967D2;\n",
              "      height: 32px;\n",
              "      padding: 0 0 0 0;\n",
              "      width: 32px;\n",
              "    }\n",
              "\n",
              "    .colab-df-convert:hover {\n",
              "      background-color: #E2EBFA;\n",
              "      box-shadow: 0px 1px 2px rgba(60, 64, 67, 0.3), 0px 1px 3px 1px rgba(60, 64, 67, 0.15);\n",
              "      fill: #174EA6;\n",
              "    }\n",
              "\n",
              "    [theme=dark] .colab-df-convert {\n",
              "      background-color: #3B4455;\n",
              "      fill: #D2E3FC;\n",
              "    }\n",
              "\n",
              "    [theme=dark] .colab-df-convert:hover {\n",
              "      background-color: #434B5C;\n",
              "      box-shadow: 0px 1px 3px 1px rgba(0, 0, 0, 0.15);\n",
              "      filter: drop-shadow(0px 1px 2px rgba(0, 0, 0, 0.3));\n",
              "      fill: #FFFFFF;\n",
              "    }\n",
              "  </style>\n",
              "\n",
              "      <script>\n",
              "        const buttonEl =\n",
              "          document.querySelector('#df-a01c56d7-7366-480d-911e-569e0aca8667 button.colab-df-convert');\n",
              "        buttonEl.style.display =\n",
              "          google.colab.kernel.accessAllowed ? 'block' : 'none';\n",
              "\n",
              "        async function convertToInteractive(key) {\n",
              "          const element = document.querySelector('#df-a01c56d7-7366-480d-911e-569e0aca8667');\n",
              "          const dataTable =\n",
              "            await google.colab.kernel.invokeFunction('convertToInteractive',\n",
              "                                                     [key], {});\n",
              "          if (!dataTable) return;\n",
              "\n",
              "          const docLinkHtml = 'Like what you see? Visit the ' +\n",
              "            '<a target=\"_blank\" href=https://colab.research.google.com/notebooks/data_table.ipynb>data table notebook</a>'\n",
              "            + ' to learn more about interactive tables.';\n",
              "          element.innerHTML = '';\n",
              "          dataTable['output_type'] = 'display_data';\n",
              "          await google.colab.output.renderOutput(dataTable, element);\n",
              "          const docLink = document.createElement('div');\n",
              "          docLink.innerHTML = docLinkHtml;\n",
              "          element.appendChild(docLink);\n",
              "        }\n",
              "      </script>\n",
              "    </div>\n",
              "  </div>\n",
              "  "
            ]
          },
          "metadata": {},
          "execution_count": 166
        }
      ]
    },
    {
      "cell_type": "markdown",
      "source": [
        "## Explore df"
      ],
      "metadata": {
        "id": "6XtJyKUF8H5r"
      }
    },
    {
      "cell_type": "code",
      "execution_count": 167,
      "metadata": {
        "id": "yseGtfbScVfi",
        "colab": {
          "base_uri": "https://localhost:8080/"
        },
        "outputId": "28958d20-a5b0-464b-d287-6ac09171b001"
      },
      "outputs": [
        {
          "output_type": "stream",
          "name": "stdout",
          "text": [
            "<class 'pandas.core.frame.DataFrame'>\n",
            "Index: 8 entries, Jess to John\n",
            "Data columns (total 5 columns):\n",
            " #   Column   Non-Null Count  Dtype \n",
            "---  ------   --------------  ----- \n",
            " 0   age      8 non-null      object\n",
            " 1   city     8 non-null      object\n",
            " 2   country  8 non-null      object\n",
            " 3   region   8 non-null      object\n",
            " 4   salary   8 non-null      object\n",
            "dtypes: object(5)\n",
            "memory usage: 684.0+ bytes\n"
          ]
        }
      ],
      "source": [
        "# general info of df\n",
        "# have a closer look at the output...\n",
        "# Dtype indicates you the data type containing in the columns\n",
        "# have a closer look at Dtype of 'age' and 'city'\n",
        "\n",
        "df.info()"
      ]
    },
    {
      "cell_type": "code",
      "execution_count": 168,
      "metadata": {
        "id": "QvQMEv9_coSn",
        "colab": {
          "base_uri": "https://localhost:8080/"
        },
        "outputId": "a8608252-58d3-4fa0-83e4-eab11bff0673"
      },
      "outputs": [
        {
          "output_type": "stream",
          "name": "stdout",
          "text": [
            "<class 'pandas.core.frame.DataFrame'>\n",
            "Index: 8 entries, Jess to John\n",
            "Data columns (total 5 columns):\n",
            " #   Column   Non-Null Count  Dtype \n",
            "---  ------   --------------  ----- \n",
            " 0   age      8 non-null      int64 \n",
            " 1   city     8 non-null      object\n",
            " 2   country  8 non-null      object\n",
            " 3   region   8 non-null      object\n",
            " 4   salary   8 non-null      int64 \n",
            "dtypes: int64(2), object(3)\n",
            "memory usage: 684.0+ bytes\n"
          ]
        }
      ],
      "source": [
        "# salary and age are perceived as object dtype, but we want it as numeric\n",
        "\n",
        "# convert column of a DataFrame\n",
        "df[\"age\"] = pd.to_numeric(df[\"age\"])\n",
        "df[\"salary\"] = pd.to_numeric(df.salary)\n",
        "\n",
        "# check again the general information of the df and see the difference\n",
        "df.info()"
      ]
    },
    {
      "cell_type": "code",
      "execution_count": 169,
      "metadata": {
        "id": "gltC1Y6Pcx6Q",
        "colab": {
          "base_uri": "https://localhost:8080/",
          "height": 300
        },
        "outputId": "ac641019-5f24-43b4-83a1-238ad0e96fd6"
      },
      "outputs": [
        {
          "output_type": "execute_result",
          "data": {
            "text/plain": [
              "             age        salary\n",
              "count   8.000000      8.000000\n",
              "mean   37.625000  58750.000000\n",
              "std     8.296944  14078.859532\n",
              "min    27.000000  40000.000000\n",
              "25%    31.500000  48750.000000\n",
              "50%    37.500000  57500.000000\n",
              "75%    41.250000  67500.000000\n",
              "max    52.000000  80000.000000"
            ],
            "text/html": [
              "\n",
              "  <div id=\"df-5ad62698-f8f1-4ce0-b1e2-11ac9c58c167\">\n",
              "    <div class=\"colab-df-container\">\n",
              "      <div>\n",
              "<style scoped>\n",
              "    .dataframe tbody tr th:only-of-type {\n",
              "        vertical-align: middle;\n",
              "    }\n",
              "\n",
              "    .dataframe tbody tr th {\n",
              "        vertical-align: top;\n",
              "    }\n",
              "\n",
              "    .dataframe thead th {\n",
              "        text-align: right;\n",
              "    }\n",
              "</style>\n",
              "<table border=\"1\" class=\"dataframe\">\n",
              "  <thead>\n",
              "    <tr style=\"text-align: right;\">\n",
              "      <th></th>\n",
              "      <th>age</th>\n",
              "      <th>salary</th>\n",
              "    </tr>\n",
              "  </thead>\n",
              "  <tbody>\n",
              "    <tr>\n",
              "      <th>count</th>\n",
              "      <td>8.000000</td>\n",
              "      <td>8.000000</td>\n",
              "    </tr>\n",
              "    <tr>\n",
              "      <th>mean</th>\n",
              "      <td>37.625000</td>\n",
              "      <td>58750.000000</td>\n",
              "    </tr>\n",
              "    <tr>\n",
              "      <th>std</th>\n",
              "      <td>8.296944</td>\n",
              "      <td>14078.859532</td>\n",
              "    </tr>\n",
              "    <tr>\n",
              "      <th>min</th>\n",
              "      <td>27.000000</td>\n",
              "      <td>40000.000000</td>\n",
              "    </tr>\n",
              "    <tr>\n",
              "      <th>25%</th>\n",
              "      <td>31.500000</td>\n",
              "      <td>48750.000000</td>\n",
              "    </tr>\n",
              "    <tr>\n",
              "      <th>50%</th>\n",
              "      <td>37.500000</td>\n",
              "      <td>57500.000000</td>\n",
              "    </tr>\n",
              "    <tr>\n",
              "      <th>75%</th>\n",
              "      <td>41.250000</td>\n",
              "      <td>67500.000000</td>\n",
              "    </tr>\n",
              "    <tr>\n",
              "      <th>max</th>\n",
              "      <td>52.000000</td>\n",
              "      <td>80000.000000</td>\n",
              "    </tr>\n",
              "  </tbody>\n",
              "</table>\n",
              "</div>\n",
              "      <button class=\"colab-df-convert\" onclick=\"convertToInteractive('df-5ad62698-f8f1-4ce0-b1e2-11ac9c58c167')\"\n",
              "              title=\"Convert this dataframe to an interactive table.\"\n",
              "              style=\"display:none;\">\n",
              "        \n",
              "  <svg xmlns=\"http://www.w3.org/2000/svg\" height=\"24px\"viewBox=\"0 0 24 24\"\n",
              "       width=\"24px\">\n",
              "    <path d=\"M0 0h24v24H0V0z\" fill=\"none\"/>\n",
              "    <path d=\"M18.56 5.44l.94 2.06.94-2.06 2.06-.94-2.06-.94-.94-2.06-.94 2.06-2.06.94zm-11 1L8.5 8.5l.94-2.06 2.06-.94-2.06-.94L8.5 2.5l-.94 2.06-2.06.94zm10 10l.94 2.06.94-2.06 2.06-.94-2.06-.94-.94-2.06-.94 2.06-2.06.94z\"/><path d=\"M17.41 7.96l-1.37-1.37c-.4-.4-.92-.59-1.43-.59-.52 0-1.04.2-1.43.59L10.3 9.45l-7.72 7.72c-.78.78-.78 2.05 0 2.83L4 21.41c.39.39.9.59 1.41.59.51 0 1.02-.2 1.41-.59l7.78-7.78 2.81-2.81c.8-.78.8-2.07 0-2.86zM5.41 20L4 18.59l7.72-7.72 1.47 1.35L5.41 20z\"/>\n",
              "  </svg>\n",
              "      </button>\n",
              "      \n",
              "  <style>\n",
              "    .colab-df-container {\n",
              "      display:flex;\n",
              "      flex-wrap:wrap;\n",
              "      gap: 12px;\n",
              "    }\n",
              "\n",
              "    .colab-df-convert {\n",
              "      background-color: #E8F0FE;\n",
              "      border: none;\n",
              "      border-radius: 50%;\n",
              "      cursor: pointer;\n",
              "      display: none;\n",
              "      fill: #1967D2;\n",
              "      height: 32px;\n",
              "      padding: 0 0 0 0;\n",
              "      width: 32px;\n",
              "    }\n",
              "\n",
              "    .colab-df-convert:hover {\n",
              "      background-color: #E2EBFA;\n",
              "      box-shadow: 0px 1px 2px rgba(60, 64, 67, 0.3), 0px 1px 3px 1px rgba(60, 64, 67, 0.15);\n",
              "      fill: #174EA6;\n",
              "    }\n",
              "\n",
              "    [theme=dark] .colab-df-convert {\n",
              "      background-color: #3B4455;\n",
              "      fill: #D2E3FC;\n",
              "    }\n",
              "\n",
              "    [theme=dark] .colab-df-convert:hover {\n",
              "      background-color: #434B5C;\n",
              "      box-shadow: 0px 1px 3px 1px rgba(0, 0, 0, 0.15);\n",
              "      filter: drop-shadow(0px 1px 2px rgba(0, 0, 0, 0.3));\n",
              "      fill: #FFFFFF;\n",
              "    }\n",
              "  </style>\n",
              "\n",
              "      <script>\n",
              "        const buttonEl =\n",
              "          document.querySelector('#df-5ad62698-f8f1-4ce0-b1e2-11ac9c58c167 button.colab-df-convert');\n",
              "        buttonEl.style.display =\n",
              "          google.colab.kernel.accessAllowed ? 'block' : 'none';\n",
              "\n",
              "        async function convertToInteractive(key) {\n",
              "          const element = document.querySelector('#df-5ad62698-f8f1-4ce0-b1e2-11ac9c58c167');\n",
              "          const dataTable =\n",
              "            await google.colab.kernel.invokeFunction('convertToInteractive',\n",
              "                                                     [key], {});\n",
              "          if (!dataTable) return;\n",
              "\n",
              "          const docLinkHtml = 'Like what you see? Visit the ' +\n",
              "            '<a target=\"_blank\" href=https://colab.research.google.com/notebooks/data_table.ipynb>data table notebook</a>'\n",
              "            + ' to learn more about interactive tables.';\n",
              "          element.innerHTML = '';\n",
              "          dataTable['output_type'] = 'display_data';\n",
              "          await google.colab.output.renderOutput(dataTable, element);\n",
              "          const docLink = document.createElement('div');\n",
              "          docLink.innerHTML = docLinkHtml;\n",
              "          element.appendChild(docLink);\n",
              "        }\n",
              "      </script>\n",
              "    </div>\n",
              "  </div>\n",
              "  "
            ]
          },
          "metadata": {},
          "execution_count": 169
        }
      ],
      "source": [
        "# use .describe() method to have an brief overview of general statisctics \n",
        "\n",
        "df.describe()"
      ]
    },
    {
      "cell_type": "code",
      "execution_count": 170,
      "metadata": {
        "id": "YE3QM_BhYrHs",
        "colab": {
          "base_uri": "https://localhost:8080/"
        },
        "outputId": "748b3fe1-0432-4092-dd08-95cf5f0c8cef"
      },
      "outputs": [
        {
          "output_type": "execute_result",
          "data": {
            "text/plain": [
              "array(['Paris', 'Berlin', 'Madrid', 'London', 'New York'], dtype=object)"
            ]
          },
          "metadata": {},
          "execution_count": 170
        }
      ],
      "source": [
        "# distinct cities with method .unique()\n",
        "\n",
        "df.city.unique()"
      ]
    },
    {
      "cell_type": "code",
      "execution_count": 171,
      "metadata": {
        "id": "Rn6swduVY9o6",
        "colab": {
          "base_uri": "https://localhost:8080/"
        },
        "outputId": "f83fad9a-e3c3-4b9a-99d8-75078f338bfc"
      },
      "outputs": [
        {
          "output_type": "execute_result",
          "data": {
            "text/plain": [
              "5"
            ]
          },
          "metadata": {},
          "execution_count": 171
        }
      ],
      "source": [
        "# number of distinct cities\n",
        "len(df['city'].unique())"
      ]
    },
    {
      "cell_type": "markdown",
      "metadata": {
        "id": "8dRDNJTZbKGx"
      },
      "source": [
        "## Groupby"
      ]
    },
    {
      "cell_type": "markdown",
      "source": [
        "More about groupby method in pandas https://pandas.pydata.org/docs/reference/api/pandas.DataFrame.groupby.html"
      ],
      "metadata": {
        "id": "ERNOF46jQHUj"
      }
    },
    {
      "cell_type": "code",
      "execution_count": 172,
      "metadata": {
        "id": "lLkDe2Q-bPZb",
        "colab": {
          "base_uri": "https://localhost:8080/"
        },
        "outputId": "83f56849-f24d-4764-db6a-986d76b68f3e"
      },
      "outputs": [
        {
          "output_type": "execute_result",
          "data": {
            "text/plain": [
              "city\n",
              "Berlin      35.0\n",
              "London      43.0\n",
              "Madrid      40.0\n",
              "New York    40.0\n",
              "Paris       28.5\n",
              "Name: age, dtype: float64"
            ]
          },
          "metadata": {},
          "execution_count": 172
        }
      ],
      "source": [
        "# check the mean age by city\n",
        "df.groupby(by=[\"city\"])['age'].mean()"
      ]
    },
    {
      "cell_type": "code",
      "execution_count": 173,
      "metadata": {
        "id": "Cjqu7rrhZzrc",
        "colab": {
          "base_uri": "https://localhost:8080/"
        },
        "outputId": "275e5785-9239-4c04-c5ea-892d023df3df"
      },
      "outputs": [
        {
          "output_type": "execute_result",
          "data": {
            "text/plain": [
              "city\n",
              "Berlin       45000\n",
              "London      205000\n",
              "Madrid       50000\n",
              "New York     75000\n",
              "Paris        95000\n",
              "Name: salary, dtype: int64"
            ]
          },
          "metadata": {},
          "execution_count": 173
        }
      ],
      "source": [
        "# check the total salary by city\n",
        "df.groupby(by=[\"city\"])['salary'].sum()"
      ]
    },
    {
      "cell_type": "code",
      "source": [
        "# check how many city we have by country\n",
        "df.groupby(by=[\"country\"])['city'].count()"
      ],
      "metadata": {
        "id": "h42ADRKYQWkF",
        "colab": {
          "base_uri": "https://localhost:8080/"
        },
        "outputId": "1294b92f-5159-4c3d-d4bc-5b24a981c9d5"
      },
      "execution_count": 174,
      "outputs": [
        {
          "output_type": "execute_result",
          "data": {
            "text/plain": [
              "country\n",
              "France     2\n",
              "Germany    1\n",
              "Spain      1\n",
              "UK         3\n",
              "USA        1\n",
              "Name: city, dtype: int64"
            ]
          },
          "metadata": {},
          "execution_count": 174
        }
      ]
    },
    {
      "cell_type": "code",
      "execution_count": 175,
      "metadata": {
        "id": "5Ygrjq15eHcb",
        "colab": {
          "base_uri": "https://localhost:8080/"
        },
        "outputId": "cb02e74d-dec6-4470-b25a-39f08ca87f14"
      },
      "outputs": [
        {
          "output_type": "execute_result",
          "data": {
            "text/plain": [
              "region         country\n",
              "Europe         France     47500.000000\n",
              "               Germany    45000.000000\n",
              "               Spain      50000.000000\n",
              "               UK         68333.333333\n",
              "North America  USA        75000.000000\n",
              "Name: salary, dtype: float64"
            ]
          },
          "metadata": {},
          "execution_count": 175
        }
      ],
      "source": [
        "# group by 2 variables\n",
        "\n",
        "df.groupby(by=['region', \"country\"])['salary'].mean()"
      ]
    },
    {
      "cell_type": "markdown",
      "metadata": {
        "id": "Iaab7nlWe-43"
      },
      "source": [
        "## Pivot"
      ]
    },
    {
      "cell_type": "markdown",
      "source": [
        "Create a spreadsheet-style pivot table as a DataFrame.\n",
        "\n",
        "The levels in the pivot table will be stored in MultiIndex objects (hierarchical indexes) on the index and columns of the result DataFrame"
      ],
      "metadata": {
        "id": "ETOwQZXnIWvk"
      }
    },
    {
      "cell_type": "markdown",
      "source": [
        "More about pivot function in python https://pandas.pydata.org/docs/reference/api/pandas.pivot_table.html"
      ],
      "metadata": {
        "id": "inZ1PdfsIYVl"
      }
    },
    {
      "cell_type": "code",
      "execution_count": 176,
      "metadata": {
        "id": "EmV20Ha_eIy6",
        "colab": {
          "base_uri": "https://localhost:8080/",
          "height": 366
        },
        "outputId": "0dae3a16-e61a-4825-da37-61503e3d3cd0"
      },
      "outputs": [
        {
          "output_type": "stream",
          "name": "stdout",
          "text": [
            "the dataframe we will want to pivot..\n",
            "\n"
          ]
        },
        {
          "output_type": "execute_result",
          "data": {
            "text/plain": [
              "     Box Color   Size  Qty  Weigth\n",
              "0   wood   red  small    1       2\n",
              "1   wood   red  large    2       4\n",
              "2   wood   red  large    2       5\n",
              "3   wood  blue  small    3       5\n",
              "4   wood  blue  small    3       6\n",
              "5  paper   red  large    4       6\n",
              "6  paper   red  small    5       8\n",
              "7  paper  blue  small    6       9\n",
              "8  paper  blue  large    7       9"
            ],
            "text/html": [
              "\n",
              "  <div id=\"df-f474091e-382e-40cc-916c-9c5e888d2adc\">\n",
              "    <div class=\"colab-df-container\">\n",
              "      <div>\n",
              "<style scoped>\n",
              "    .dataframe tbody tr th:only-of-type {\n",
              "        vertical-align: middle;\n",
              "    }\n",
              "\n",
              "    .dataframe tbody tr th {\n",
              "        vertical-align: top;\n",
              "    }\n",
              "\n",
              "    .dataframe thead th {\n",
              "        text-align: right;\n",
              "    }\n",
              "</style>\n",
              "<table border=\"1\" class=\"dataframe\">\n",
              "  <thead>\n",
              "    <tr style=\"text-align: right;\">\n",
              "      <th></th>\n",
              "      <th>Box</th>\n",
              "      <th>Color</th>\n",
              "      <th>Size</th>\n",
              "      <th>Qty</th>\n",
              "      <th>Weigth</th>\n",
              "    </tr>\n",
              "  </thead>\n",
              "  <tbody>\n",
              "    <tr>\n",
              "      <th>0</th>\n",
              "      <td>wood</td>\n",
              "      <td>red</td>\n",
              "      <td>small</td>\n",
              "      <td>1</td>\n",
              "      <td>2</td>\n",
              "    </tr>\n",
              "    <tr>\n",
              "      <th>1</th>\n",
              "      <td>wood</td>\n",
              "      <td>red</td>\n",
              "      <td>large</td>\n",
              "      <td>2</td>\n",
              "      <td>4</td>\n",
              "    </tr>\n",
              "    <tr>\n",
              "      <th>2</th>\n",
              "      <td>wood</td>\n",
              "      <td>red</td>\n",
              "      <td>large</td>\n",
              "      <td>2</td>\n",
              "      <td>5</td>\n",
              "    </tr>\n",
              "    <tr>\n",
              "      <th>3</th>\n",
              "      <td>wood</td>\n",
              "      <td>blue</td>\n",
              "      <td>small</td>\n",
              "      <td>3</td>\n",
              "      <td>5</td>\n",
              "    </tr>\n",
              "    <tr>\n",
              "      <th>4</th>\n",
              "      <td>wood</td>\n",
              "      <td>blue</td>\n",
              "      <td>small</td>\n",
              "      <td>3</td>\n",
              "      <td>6</td>\n",
              "    </tr>\n",
              "    <tr>\n",
              "      <th>5</th>\n",
              "      <td>paper</td>\n",
              "      <td>red</td>\n",
              "      <td>large</td>\n",
              "      <td>4</td>\n",
              "      <td>6</td>\n",
              "    </tr>\n",
              "    <tr>\n",
              "      <th>6</th>\n",
              "      <td>paper</td>\n",
              "      <td>red</td>\n",
              "      <td>small</td>\n",
              "      <td>5</td>\n",
              "      <td>8</td>\n",
              "    </tr>\n",
              "    <tr>\n",
              "      <th>7</th>\n",
              "      <td>paper</td>\n",
              "      <td>blue</td>\n",
              "      <td>small</td>\n",
              "      <td>6</td>\n",
              "      <td>9</td>\n",
              "    </tr>\n",
              "    <tr>\n",
              "      <th>8</th>\n",
              "      <td>paper</td>\n",
              "      <td>blue</td>\n",
              "      <td>large</td>\n",
              "      <td>7</td>\n",
              "      <td>9</td>\n",
              "    </tr>\n",
              "  </tbody>\n",
              "</table>\n",
              "</div>\n",
              "      <button class=\"colab-df-convert\" onclick=\"convertToInteractive('df-f474091e-382e-40cc-916c-9c5e888d2adc')\"\n",
              "              title=\"Convert this dataframe to an interactive table.\"\n",
              "              style=\"display:none;\">\n",
              "        \n",
              "  <svg xmlns=\"http://www.w3.org/2000/svg\" height=\"24px\"viewBox=\"0 0 24 24\"\n",
              "       width=\"24px\">\n",
              "    <path d=\"M0 0h24v24H0V0z\" fill=\"none\"/>\n",
              "    <path d=\"M18.56 5.44l.94 2.06.94-2.06 2.06-.94-2.06-.94-.94-2.06-.94 2.06-2.06.94zm-11 1L8.5 8.5l.94-2.06 2.06-.94-2.06-.94L8.5 2.5l-.94 2.06-2.06.94zm10 10l.94 2.06.94-2.06 2.06-.94-2.06-.94-.94-2.06-.94 2.06-2.06.94z\"/><path d=\"M17.41 7.96l-1.37-1.37c-.4-.4-.92-.59-1.43-.59-.52 0-1.04.2-1.43.59L10.3 9.45l-7.72 7.72c-.78.78-.78 2.05 0 2.83L4 21.41c.39.39.9.59 1.41.59.51 0 1.02-.2 1.41-.59l7.78-7.78 2.81-2.81c.8-.78.8-2.07 0-2.86zM5.41 20L4 18.59l7.72-7.72 1.47 1.35L5.41 20z\"/>\n",
              "  </svg>\n",
              "      </button>\n",
              "      \n",
              "  <style>\n",
              "    .colab-df-container {\n",
              "      display:flex;\n",
              "      flex-wrap:wrap;\n",
              "      gap: 12px;\n",
              "    }\n",
              "\n",
              "    .colab-df-convert {\n",
              "      background-color: #E8F0FE;\n",
              "      border: none;\n",
              "      border-radius: 50%;\n",
              "      cursor: pointer;\n",
              "      display: none;\n",
              "      fill: #1967D2;\n",
              "      height: 32px;\n",
              "      padding: 0 0 0 0;\n",
              "      width: 32px;\n",
              "    }\n",
              "\n",
              "    .colab-df-convert:hover {\n",
              "      background-color: #E2EBFA;\n",
              "      box-shadow: 0px 1px 2px rgba(60, 64, 67, 0.3), 0px 1px 3px 1px rgba(60, 64, 67, 0.15);\n",
              "      fill: #174EA6;\n",
              "    }\n",
              "\n",
              "    [theme=dark] .colab-df-convert {\n",
              "      background-color: #3B4455;\n",
              "      fill: #D2E3FC;\n",
              "    }\n",
              "\n",
              "    [theme=dark] .colab-df-convert:hover {\n",
              "      background-color: #434B5C;\n",
              "      box-shadow: 0px 1px 3px 1px rgba(0, 0, 0, 0.15);\n",
              "      filter: drop-shadow(0px 1px 2px rgba(0, 0, 0, 0.3));\n",
              "      fill: #FFFFFF;\n",
              "    }\n",
              "  </style>\n",
              "\n",
              "      <script>\n",
              "        const buttonEl =\n",
              "          document.querySelector('#df-f474091e-382e-40cc-916c-9c5e888d2adc button.colab-df-convert');\n",
              "        buttonEl.style.display =\n",
              "          google.colab.kernel.accessAllowed ? 'block' : 'none';\n",
              "\n",
              "        async function convertToInteractive(key) {\n",
              "          const element = document.querySelector('#df-f474091e-382e-40cc-916c-9c5e888d2adc');\n",
              "          const dataTable =\n",
              "            await google.colab.kernel.invokeFunction('convertToInteractive',\n",
              "                                                     [key], {});\n",
              "          if (!dataTable) return;\n",
              "\n",
              "          const docLinkHtml = 'Like what you see? Visit the ' +\n",
              "            '<a target=\"_blank\" href=https://colab.research.google.com/notebooks/data_table.ipynb>data table notebook</a>'\n",
              "            + ' to learn more about interactive tables.';\n",
              "          element.innerHTML = '';\n",
              "          dataTable['output_type'] = 'display_data';\n",
              "          await google.colab.output.renderOutput(dataTable, element);\n",
              "          const docLink = document.createElement('div');\n",
              "          docLink.innerHTML = docLinkHtml;\n",
              "          element.appendChild(docLink);\n",
              "        }\n",
              "      </script>\n",
              "    </div>\n",
              "  </div>\n",
              "  "
            ]
          },
          "metadata": {},
          "execution_count": 176
        }
      ],
      "source": [
        "# create a table that contains data about some packaging\n",
        "\n",
        "# the Box can be of wood or paper\n",
        "# in colors red or blue\n",
        "# of size small or large\n",
        "# with thier respective quantity and weight\n",
        "\n",
        "table = pd.DataFrame({\"Box\": [\"wood\", \"wood\", \"wood\", \"wood\", \"wood\",\n",
        "                         \"paper\", \"paper\", \"paper\", \"paper\"],\n",
        "                   \"Color\": [\"red\", \"red\", \"red\", \"blue\", \"blue\",\n",
        "                         \"red\", \"red\", \"blue\", \"blue\"],\n",
        "                   \"Size\": [\"small\", \"large\", \"large\", \"small\",\n",
        "                         \"small\", \"large\", \"small\", \"small\",\n",
        "                         \"large\"],\n",
        "                   \"Qty\": [1, 2, 2, 3, 3, 4, 5, 6, 7],\n",
        "                   \"Weigth\": [2, 4, 5, 5, 6, 6, 8, 9, 9]})\n",
        "\n",
        "print('the dataframe we will want to pivot..')\n",
        "print('')\n",
        "table"
      ]
    },
    {
      "cell_type": "code",
      "source": [
        "# import numpy module that help to work with numerical datatypes\n",
        "\n",
        "import numpy as np"
      ],
      "metadata": {
        "id": "uQCkFye9_Rrn"
      },
      "execution_count": 177,
      "outputs": []
    },
    {
      "cell_type": "markdown",
      "source": [
        "MOre about numpy package https://numpy.org/"
      ],
      "metadata": {
        "id": "Fsil3Mql_SZ5"
      }
    },
    {
      "cell_type": "code",
      "execution_count": 178,
      "metadata": {
        "id": "fI5V4JMQfC_O",
        "colab": {
          "base_uri": "https://localhost:8080/",
          "height": 206
        },
        "outputId": "294a2e29-5803-4ae8-d622-8487e4f862ef"
      },
      "outputs": [
        {
          "output_type": "execute_result",
          "data": {
            "text/plain": [
              "Size         large  small\n",
              "Box   Color              \n",
              "paper blue     7.0    6.0\n",
              "      red      4.0    5.0\n",
              "wood  blue     NaN    6.0\n",
              "      red      4.0    1.0"
            ],
            "text/html": [
              "\n",
              "  <div id=\"df-d33b6f97-a55e-43e6-ab7c-ff611f025e62\">\n",
              "    <div class=\"colab-df-container\">\n",
              "      <div>\n",
              "<style scoped>\n",
              "    .dataframe tbody tr th:only-of-type {\n",
              "        vertical-align: middle;\n",
              "    }\n",
              "\n",
              "    .dataframe tbody tr th {\n",
              "        vertical-align: top;\n",
              "    }\n",
              "\n",
              "    .dataframe thead th {\n",
              "        text-align: right;\n",
              "    }\n",
              "</style>\n",
              "<table border=\"1\" class=\"dataframe\">\n",
              "  <thead>\n",
              "    <tr style=\"text-align: right;\">\n",
              "      <th></th>\n",
              "      <th>Size</th>\n",
              "      <th>large</th>\n",
              "      <th>small</th>\n",
              "    </tr>\n",
              "    <tr>\n",
              "      <th>Box</th>\n",
              "      <th>Color</th>\n",
              "      <th></th>\n",
              "      <th></th>\n",
              "    </tr>\n",
              "  </thead>\n",
              "  <tbody>\n",
              "    <tr>\n",
              "      <th rowspan=\"2\" valign=\"top\">paper</th>\n",
              "      <th>blue</th>\n",
              "      <td>7.0</td>\n",
              "      <td>6.0</td>\n",
              "    </tr>\n",
              "    <tr>\n",
              "      <th>red</th>\n",
              "      <td>4.0</td>\n",
              "      <td>5.0</td>\n",
              "    </tr>\n",
              "    <tr>\n",
              "      <th rowspan=\"2\" valign=\"top\">wood</th>\n",
              "      <th>blue</th>\n",
              "      <td>NaN</td>\n",
              "      <td>6.0</td>\n",
              "    </tr>\n",
              "    <tr>\n",
              "      <th>red</th>\n",
              "      <td>4.0</td>\n",
              "      <td>1.0</td>\n",
              "    </tr>\n",
              "  </tbody>\n",
              "</table>\n",
              "</div>\n",
              "      <button class=\"colab-df-convert\" onclick=\"convertToInteractive('df-d33b6f97-a55e-43e6-ab7c-ff611f025e62')\"\n",
              "              title=\"Convert this dataframe to an interactive table.\"\n",
              "              style=\"display:none;\">\n",
              "        \n",
              "  <svg xmlns=\"http://www.w3.org/2000/svg\" height=\"24px\"viewBox=\"0 0 24 24\"\n",
              "       width=\"24px\">\n",
              "    <path d=\"M0 0h24v24H0V0z\" fill=\"none\"/>\n",
              "    <path d=\"M18.56 5.44l.94 2.06.94-2.06 2.06-.94-2.06-.94-.94-2.06-.94 2.06-2.06.94zm-11 1L8.5 8.5l.94-2.06 2.06-.94-2.06-.94L8.5 2.5l-.94 2.06-2.06.94zm10 10l.94 2.06.94-2.06 2.06-.94-2.06-.94-.94-2.06-.94 2.06-2.06.94z\"/><path d=\"M17.41 7.96l-1.37-1.37c-.4-.4-.92-.59-1.43-.59-.52 0-1.04.2-1.43.59L10.3 9.45l-7.72 7.72c-.78.78-.78 2.05 0 2.83L4 21.41c.39.39.9.59 1.41.59.51 0 1.02-.2 1.41-.59l7.78-7.78 2.81-2.81c.8-.78.8-2.07 0-2.86zM5.41 20L4 18.59l7.72-7.72 1.47 1.35L5.41 20z\"/>\n",
              "  </svg>\n",
              "      </button>\n",
              "      \n",
              "  <style>\n",
              "    .colab-df-container {\n",
              "      display:flex;\n",
              "      flex-wrap:wrap;\n",
              "      gap: 12px;\n",
              "    }\n",
              "\n",
              "    .colab-df-convert {\n",
              "      background-color: #E8F0FE;\n",
              "      border: none;\n",
              "      border-radius: 50%;\n",
              "      cursor: pointer;\n",
              "      display: none;\n",
              "      fill: #1967D2;\n",
              "      height: 32px;\n",
              "      padding: 0 0 0 0;\n",
              "      width: 32px;\n",
              "    }\n",
              "\n",
              "    .colab-df-convert:hover {\n",
              "      background-color: #E2EBFA;\n",
              "      box-shadow: 0px 1px 2px rgba(60, 64, 67, 0.3), 0px 1px 3px 1px rgba(60, 64, 67, 0.15);\n",
              "      fill: #174EA6;\n",
              "    }\n",
              "\n",
              "    [theme=dark] .colab-df-convert {\n",
              "      background-color: #3B4455;\n",
              "      fill: #D2E3FC;\n",
              "    }\n",
              "\n",
              "    [theme=dark] .colab-df-convert:hover {\n",
              "      background-color: #434B5C;\n",
              "      box-shadow: 0px 1px 3px 1px rgba(0, 0, 0, 0.15);\n",
              "      filter: drop-shadow(0px 1px 2px rgba(0, 0, 0, 0.3));\n",
              "      fill: #FFFFFF;\n",
              "    }\n",
              "  </style>\n",
              "\n",
              "      <script>\n",
              "        const buttonEl =\n",
              "          document.querySelector('#df-d33b6f97-a55e-43e6-ab7c-ff611f025e62 button.colab-df-convert');\n",
              "        buttonEl.style.display =\n",
              "          google.colab.kernel.accessAllowed ? 'block' : 'none';\n",
              "\n",
              "        async function convertToInteractive(key) {\n",
              "          const element = document.querySelector('#df-d33b6f97-a55e-43e6-ab7c-ff611f025e62');\n",
              "          const dataTable =\n",
              "            await google.colab.kernel.invokeFunction('convertToInteractive',\n",
              "                                                     [key], {});\n",
              "          if (!dataTable) return;\n",
              "\n",
              "          const docLinkHtml = 'Like what you see? Visit the ' +\n",
              "            '<a target=\"_blank\" href=https://colab.research.google.com/notebooks/data_table.ipynb>data table notebook</a>'\n",
              "            + ' to learn more about interactive tables.';\n",
              "          element.innerHTML = '';\n",
              "          dataTable['output_type'] = 'display_data';\n",
              "          await google.colab.output.renderOutput(dataTable, element);\n",
              "          const docLink = document.createElement('div');\n",
              "          docLink.innerHTML = docLinkHtml;\n",
              "          element.appendChild(docLink);\n",
              "        }\n",
              "      </script>\n",
              "    </div>\n",
              "  </div>\n",
              "  "
            ]
          },
          "metadata": {},
          "execution_count": 178
        }
      ],
      "source": [
        "# pivot table dataframe, to get the sum of Qty by Box and Color (rows), and split by Size (columns)\n",
        "\n",
        "pivot = pd.pivot_table(table, # data to pivot\n",
        "                       values='Qty', # column to aggregate\n",
        "                       index=['Box', 'Color'], # Grouper, Keys to group by on the pivot table index.\n",
        "                       columns=['Size'], # Keys to group by on the pivot table column., will be the columns value\n",
        "                       aggfunc= np.sum)# the aggregation function is the sum ==> np.sum (we will use sum function from numpy package)\n",
        "\n",
        "pivot"
      ]
    },
    {
      "cell_type": "markdown",
      "source": [
        "## DataFrame Practice ***"
      ],
      "metadata": {
        "id": "GimcEwZddelu"
      }
    },
    {
      "cell_type": "markdown",
      "source": [
        "### Assignment 1"
      ],
      "metadata": {
        "id": "_-nzzLzH5EkI"
      }
    },
    {
      "cell_type": "code",
      "source": [
        "# create a variable called \"data\" with a dictionnary (*** with {} syntax ***) and print it out\n",
        "\n",
        "# 1s key:value pair : 'Name':['Jai', 'Princi', 'Gaurav', 'Anuj']\n",
        "# 2nd key:value pair : 'Age':[27, 24, 22, 32]\n",
        "# 3rd key:value pair : 'Address':['Delhi', 'Kanpur', 'Kanpur', 'Delhi']\n",
        "# 4th key:value pair : 'Country': ['India', 'India', 'India', 'India']\n",
        "# 5th key;value pair : 'Qualification':['Phd', 'MA', 'MCA', 'Phd']\n",
        "\n",
        "# your code here...\n",
        "\n"
      ],
      "metadata": {
        "id": "Ck2SCc3FKggz"
      },
      "execution_count": 179,
      "outputs": []
    },
    {
      "cell_type": "code",
      "source": [
        "#@title Display Solution 1\n",
        "\n",
        "# Define a dictionary containing employee data\n",
        "data = {'Name':['Jai', 'Princi', 'Gaurav', 'Anuj'],\n",
        "        'Age':[27, 24, 22, 32],\n",
        "        'Address':['Delhi', 'Kanpur', 'Kanpur', 'Delhi'],\n",
        "        'Country': ['India', 'India', 'India', 'India'],\n",
        "        'Qualification':['Phd', 'MA', 'MCA', 'Phd']}\n",
        "\n",
        "data"
      ],
      "metadata": {
        "id": "hbVjzUCsKuHQ",
        "cellView": "form",
        "colab": {
          "base_uri": "https://localhost:8080/"
        },
        "outputId": "9a9d3b3e-409a-4953-832a-f9888073f0e5"
      },
      "execution_count": 180,
      "outputs": [
        {
          "output_type": "execute_result",
          "data": {
            "text/plain": [
              "{'Name': ['Jai', 'Princi', 'Gaurav', 'Anuj'],\n",
              " 'Age': [27, 24, 22, 32],\n",
              " 'Address': ['Delhi', 'Kanpur', 'Kanpur', 'Delhi'],\n",
              " 'Country': ['India', 'India', 'India', 'India'],\n",
              " 'Qualification': ['Phd', 'MA', 'MCA', 'Phd']}"
            ]
          },
          "metadata": {},
          "execution_count": 180
        }
      ]
    },
    {
      "cell_type": "markdown",
      "source": [
        "### Assignment 2"
      ],
      "metadata": {
        "id": "zT4HdbHp5G4a"
      }
    },
    {
      "cell_type": "code",
      "source": [
        "# create a dataframe 'df1' from dictionary \"data\"\n",
        "\n",
        "# don't forget to import pandas package as pd \n",
        "\n",
        "import pandas as pd\n",
        "\n",
        "# display the dataframe\n",
        "\n",
        "# your code here ...\n",
        "\n"
      ],
      "metadata": {
        "id": "5JNrb-5DLiyY"
      },
      "execution_count": 181,
      "outputs": []
    },
    {
      "cell_type": "code",
      "source": [
        "#@title Display solution 2\n",
        "\n",
        "import pandas as pd\n",
        "\n",
        "# Convert the dictionary into DataFrame and call it df1\n",
        "df1 = pd.DataFrame(data)\n",
        "\n",
        "df1"
      ],
      "metadata": {
        "id": "XVUjwFTmLkuJ",
        "cellView": "form",
        "colab": {
          "base_uri": "https://localhost:8080/",
          "height": 174
        },
        "outputId": "293f29f7-80f2-4f3b-bf53-8e93916de275"
      },
      "execution_count": 182,
      "outputs": [
        {
          "output_type": "execute_result",
          "data": {
            "text/plain": [
              "     Name  Age Address Country Qualification\n",
              "0     Jai   27   Delhi   India           Phd\n",
              "1  Princi   24  Kanpur   India            MA\n",
              "2  Gaurav   22  Kanpur   India           MCA\n",
              "3    Anuj   32   Delhi   India           Phd"
            ],
            "text/html": [
              "\n",
              "  <div id=\"df-4ee766ec-7a7c-43e8-86ab-d7164a37c50d\">\n",
              "    <div class=\"colab-df-container\">\n",
              "      <div>\n",
              "<style scoped>\n",
              "    .dataframe tbody tr th:only-of-type {\n",
              "        vertical-align: middle;\n",
              "    }\n",
              "\n",
              "    .dataframe tbody tr th {\n",
              "        vertical-align: top;\n",
              "    }\n",
              "\n",
              "    .dataframe thead th {\n",
              "        text-align: right;\n",
              "    }\n",
              "</style>\n",
              "<table border=\"1\" class=\"dataframe\">\n",
              "  <thead>\n",
              "    <tr style=\"text-align: right;\">\n",
              "      <th></th>\n",
              "      <th>Name</th>\n",
              "      <th>Age</th>\n",
              "      <th>Address</th>\n",
              "      <th>Country</th>\n",
              "      <th>Qualification</th>\n",
              "    </tr>\n",
              "  </thead>\n",
              "  <tbody>\n",
              "    <tr>\n",
              "      <th>0</th>\n",
              "      <td>Jai</td>\n",
              "      <td>27</td>\n",
              "      <td>Delhi</td>\n",
              "      <td>India</td>\n",
              "      <td>Phd</td>\n",
              "    </tr>\n",
              "    <tr>\n",
              "      <th>1</th>\n",
              "      <td>Princi</td>\n",
              "      <td>24</td>\n",
              "      <td>Kanpur</td>\n",
              "      <td>India</td>\n",
              "      <td>MA</td>\n",
              "    </tr>\n",
              "    <tr>\n",
              "      <th>2</th>\n",
              "      <td>Gaurav</td>\n",
              "      <td>22</td>\n",
              "      <td>Kanpur</td>\n",
              "      <td>India</td>\n",
              "      <td>MCA</td>\n",
              "    </tr>\n",
              "    <tr>\n",
              "      <th>3</th>\n",
              "      <td>Anuj</td>\n",
              "      <td>32</td>\n",
              "      <td>Delhi</td>\n",
              "      <td>India</td>\n",
              "      <td>Phd</td>\n",
              "    </tr>\n",
              "  </tbody>\n",
              "</table>\n",
              "</div>\n",
              "      <button class=\"colab-df-convert\" onclick=\"convertToInteractive('df-4ee766ec-7a7c-43e8-86ab-d7164a37c50d')\"\n",
              "              title=\"Convert this dataframe to an interactive table.\"\n",
              "              style=\"display:none;\">\n",
              "        \n",
              "  <svg xmlns=\"http://www.w3.org/2000/svg\" height=\"24px\"viewBox=\"0 0 24 24\"\n",
              "       width=\"24px\">\n",
              "    <path d=\"M0 0h24v24H0V0z\" fill=\"none\"/>\n",
              "    <path d=\"M18.56 5.44l.94 2.06.94-2.06 2.06-.94-2.06-.94-.94-2.06-.94 2.06-2.06.94zm-11 1L8.5 8.5l.94-2.06 2.06-.94-2.06-.94L8.5 2.5l-.94 2.06-2.06.94zm10 10l.94 2.06.94-2.06 2.06-.94-2.06-.94-.94-2.06-.94 2.06-2.06.94z\"/><path d=\"M17.41 7.96l-1.37-1.37c-.4-.4-.92-.59-1.43-.59-.52 0-1.04.2-1.43.59L10.3 9.45l-7.72 7.72c-.78.78-.78 2.05 0 2.83L4 21.41c.39.39.9.59 1.41.59.51 0 1.02-.2 1.41-.59l7.78-7.78 2.81-2.81c.8-.78.8-2.07 0-2.86zM5.41 20L4 18.59l7.72-7.72 1.47 1.35L5.41 20z\"/>\n",
              "  </svg>\n",
              "      </button>\n",
              "      \n",
              "  <style>\n",
              "    .colab-df-container {\n",
              "      display:flex;\n",
              "      flex-wrap:wrap;\n",
              "      gap: 12px;\n",
              "    }\n",
              "\n",
              "    .colab-df-convert {\n",
              "      background-color: #E8F0FE;\n",
              "      border: none;\n",
              "      border-radius: 50%;\n",
              "      cursor: pointer;\n",
              "      display: none;\n",
              "      fill: #1967D2;\n",
              "      height: 32px;\n",
              "      padding: 0 0 0 0;\n",
              "      width: 32px;\n",
              "    }\n",
              "\n",
              "    .colab-df-convert:hover {\n",
              "      background-color: #E2EBFA;\n",
              "      box-shadow: 0px 1px 2px rgba(60, 64, 67, 0.3), 0px 1px 3px 1px rgba(60, 64, 67, 0.15);\n",
              "      fill: #174EA6;\n",
              "    }\n",
              "\n",
              "    [theme=dark] .colab-df-convert {\n",
              "      background-color: #3B4455;\n",
              "      fill: #D2E3FC;\n",
              "    }\n",
              "\n",
              "    [theme=dark] .colab-df-convert:hover {\n",
              "      background-color: #434B5C;\n",
              "      box-shadow: 0px 1px 3px 1px rgba(0, 0, 0, 0.15);\n",
              "      filter: drop-shadow(0px 1px 2px rgba(0, 0, 0, 0.3));\n",
              "      fill: #FFFFFF;\n",
              "    }\n",
              "  </style>\n",
              "\n",
              "      <script>\n",
              "        const buttonEl =\n",
              "          document.querySelector('#df-4ee766ec-7a7c-43e8-86ab-d7164a37c50d button.colab-df-convert');\n",
              "        buttonEl.style.display =\n",
              "          google.colab.kernel.accessAllowed ? 'block' : 'none';\n",
              "\n",
              "        async function convertToInteractive(key) {\n",
              "          const element = document.querySelector('#df-4ee766ec-7a7c-43e8-86ab-d7164a37c50d');\n",
              "          const dataTable =\n",
              "            await google.colab.kernel.invokeFunction('convertToInteractive',\n",
              "                                                     [key], {});\n",
              "          if (!dataTable) return;\n",
              "\n",
              "          const docLinkHtml = 'Like what you see? Visit the ' +\n",
              "            '<a target=\"_blank\" href=https://colab.research.google.com/notebooks/data_table.ipynb>data table notebook</a>'\n",
              "            + ' to learn more about interactive tables.';\n",
              "          element.innerHTML = '';\n",
              "          dataTable['output_type'] = 'display_data';\n",
              "          await google.colab.output.renderOutput(dataTable, element);\n",
              "          const docLink = document.createElement('div');\n",
              "          docLink.innerHTML = docLinkHtml;\n",
              "          element.appendChild(docLink);\n",
              "        }\n",
              "      </script>\n",
              "    </div>\n",
              "  </div>\n",
              "  "
            ]
          },
          "metadata": {},
          "execution_count": 182
        }
      ]
    },
    {
      "cell_type": "markdown",
      "source": [
        "### Assignment 3"
      ],
      "metadata": {
        "id": "DKH2o6lU5Jf7"
      }
    },
    {
      "cell_type": "code",
      "source": [
        "# display the first 2 rows of df1\n",
        "\n",
        "# your code here"
      ],
      "metadata": {
        "id": "EWYP7I17MpLW"
      },
      "execution_count": 183,
      "outputs": []
    },
    {
      "cell_type": "code",
      "source": [
        "#@title Display Solution 3\n",
        "\n",
        "# display the first 2 rows of df1\n",
        "\n",
        "df1.head(2)"
      ],
      "metadata": {
        "id": "b5OyVrxcMtIc",
        "cellView": "form",
        "colab": {
          "base_uri": "https://localhost:8080/",
          "height": 112
        },
        "outputId": "6b3b7e1a-1142-41b2-a03a-1abbd03deba7"
      },
      "execution_count": 184,
      "outputs": [
        {
          "output_type": "execute_result",
          "data": {
            "text/plain": [
              "     Name  Age Address Country Qualification\n",
              "0     Jai   27   Delhi   India           Phd\n",
              "1  Princi   24  Kanpur   India            MA"
            ],
            "text/html": [
              "\n",
              "  <div id=\"df-65e5bf49-d90c-4525-95a9-72ad0172581f\">\n",
              "    <div class=\"colab-df-container\">\n",
              "      <div>\n",
              "<style scoped>\n",
              "    .dataframe tbody tr th:only-of-type {\n",
              "        vertical-align: middle;\n",
              "    }\n",
              "\n",
              "    .dataframe tbody tr th {\n",
              "        vertical-align: top;\n",
              "    }\n",
              "\n",
              "    .dataframe thead th {\n",
              "        text-align: right;\n",
              "    }\n",
              "</style>\n",
              "<table border=\"1\" class=\"dataframe\">\n",
              "  <thead>\n",
              "    <tr style=\"text-align: right;\">\n",
              "      <th></th>\n",
              "      <th>Name</th>\n",
              "      <th>Age</th>\n",
              "      <th>Address</th>\n",
              "      <th>Country</th>\n",
              "      <th>Qualification</th>\n",
              "    </tr>\n",
              "  </thead>\n",
              "  <tbody>\n",
              "    <tr>\n",
              "      <th>0</th>\n",
              "      <td>Jai</td>\n",
              "      <td>27</td>\n",
              "      <td>Delhi</td>\n",
              "      <td>India</td>\n",
              "      <td>Phd</td>\n",
              "    </tr>\n",
              "    <tr>\n",
              "      <th>1</th>\n",
              "      <td>Princi</td>\n",
              "      <td>24</td>\n",
              "      <td>Kanpur</td>\n",
              "      <td>India</td>\n",
              "      <td>MA</td>\n",
              "    </tr>\n",
              "  </tbody>\n",
              "</table>\n",
              "</div>\n",
              "      <button class=\"colab-df-convert\" onclick=\"convertToInteractive('df-65e5bf49-d90c-4525-95a9-72ad0172581f')\"\n",
              "              title=\"Convert this dataframe to an interactive table.\"\n",
              "              style=\"display:none;\">\n",
              "        \n",
              "  <svg xmlns=\"http://www.w3.org/2000/svg\" height=\"24px\"viewBox=\"0 0 24 24\"\n",
              "       width=\"24px\">\n",
              "    <path d=\"M0 0h24v24H0V0z\" fill=\"none\"/>\n",
              "    <path d=\"M18.56 5.44l.94 2.06.94-2.06 2.06-.94-2.06-.94-.94-2.06-.94 2.06-2.06.94zm-11 1L8.5 8.5l.94-2.06 2.06-.94-2.06-.94L8.5 2.5l-.94 2.06-2.06.94zm10 10l.94 2.06.94-2.06 2.06-.94-2.06-.94-.94-2.06-.94 2.06-2.06.94z\"/><path d=\"M17.41 7.96l-1.37-1.37c-.4-.4-.92-.59-1.43-.59-.52 0-1.04.2-1.43.59L10.3 9.45l-7.72 7.72c-.78.78-.78 2.05 0 2.83L4 21.41c.39.39.9.59 1.41.59.51 0 1.02-.2 1.41-.59l7.78-7.78 2.81-2.81c.8-.78.8-2.07 0-2.86zM5.41 20L4 18.59l7.72-7.72 1.47 1.35L5.41 20z\"/>\n",
              "  </svg>\n",
              "      </button>\n",
              "      \n",
              "  <style>\n",
              "    .colab-df-container {\n",
              "      display:flex;\n",
              "      flex-wrap:wrap;\n",
              "      gap: 12px;\n",
              "    }\n",
              "\n",
              "    .colab-df-convert {\n",
              "      background-color: #E8F0FE;\n",
              "      border: none;\n",
              "      border-radius: 50%;\n",
              "      cursor: pointer;\n",
              "      display: none;\n",
              "      fill: #1967D2;\n",
              "      height: 32px;\n",
              "      padding: 0 0 0 0;\n",
              "      width: 32px;\n",
              "    }\n",
              "\n",
              "    .colab-df-convert:hover {\n",
              "      background-color: #E2EBFA;\n",
              "      box-shadow: 0px 1px 2px rgba(60, 64, 67, 0.3), 0px 1px 3px 1px rgba(60, 64, 67, 0.15);\n",
              "      fill: #174EA6;\n",
              "    }\n",
              "\n",
              "    [theme=dark] .colab-df-convert {\n",
              "      background-color: #3B4455;\n",
              "      fill: #D2E3FC;\n",
              "    }\n",
              "\n",
              "    [theme=dark] .colab-df-convert:hover {\n",
              "      background-color: #434B5C;\n",
              "      box-shadow: 0px 1px 3px 1px rgba(0, 0, 0, 0.15);\n",
              "      filter: drop-shadow(0px 1px 2px rgba(0, 0, 0, 0.3));\n",
              "      fill: #FFFFFF;\n",
              "    }\n",
              "  </style>\n",
              "\n",
              "      <script>\n",
              "        const buttonEl =\n",
              "          document.querySelector('#df-65e5bf49-d90c-4525-95a9-72ad0172581f button.colab-df-convert');\n",
              "        buttonEl.style.display =\n",
              "          google.colab.kernel.accessAllowed ? 'block' : 'none';\n",
              "\n",
              "        async function convertToInteractive(key) {\n",
              "          const element = document.querySelector('#df-65e5bf49-d90c-4525-95a9-72ad0172581f');\n",
              "          const dataTable =\n",
              "            await google.colab.kernel.invokeFunction('convertToInteractive',\n",
              "                                                     [key], {});\n",
              "          if (!dataTable) return;\n",
              "\n",
              "          const docLinkHtml = 'Like what you see? Visit the ' +\n",
              "            '<a target=\"_blank\" href=https://colab.research.google.com/notebooks/data_table.ipynb>data table notebook</a>'\n",
              "            + ' to learn more about interactive tables.';\n",
              "          element.innerHTML = '';\n",
              "          dataTable['output_type'] = 'display_data';\n",
              "          await google.colab.output.renderOutput(dataTable, element);\n",
              "          const docLink = document.createElement('div');\n",
              "          docLink.innerHTML = docLinkHtml;\n",
              "          element.appendChild(docLink);\n",
              "        }\n",
              "      </script>\n",
              "    </div>\n",
              "  </div>\n",
              "  "
            ]
          },
          "metadata": {},
          "execution_count": 184
        }
      ]
    },
    {
      "cell_type": "markdown",
      "source": [
        "### Assignment 4"
      ],
      "metadata": {
        "id": "Y78eiOGS5MYE"
      }
    },
    {
      "cell_type": "code",
      "source": [
        "# display the last row of the df1\n",
        "\n",
        "# your code here ..."
      ],
      "metadata": {
        "id": "5IMpy0KmM4vf"
      },
      "execution_count": 185,
      "outputs": []
    },
    {
      "cell_type": "code",
      "source": [
        "#@title Display Solution 4\n",
        "\n",
        "df1.tail(1)"
      ],
      "metadata": {
        "id": "VUDV3miSM9Lt",
        "cellView": "form",
        "colab": {
          "base_uri": "https://localhost:8080/",
          "height": 80
        },
        "outputId": "900c07ee-7bb0-4f96-875c-57b2ae2b25fb"
      },
      "execution_count": 186,
      "outputs": [
        {
          "output_type": "execute_result",
          "data": {
            "text/plain": [
              "   Name  Age Address Country Qualification\n",
              "3  Anuj   32   Delhi   India           Phd"
            ],
            "text/html": [
              "\n",
              "  <div id=\"df-dcfc697e-f9b5-40eb-90cc-81a225f9e3ba\">\n",
              "    <div class=\"colab-df-container\">\n",
              "      <div>\n",
              "<style scoped>\n",
              "    .dataframe tbody tr th:only-of-type {\n",
              "        vertical-align: middle;\n",
              "    }\n",
              "\n",
              "    .dataframe tbody tr th {\n",
              "        vertical-align: top;\n",
              "    }\n",
              "\n",
              "    .dataframe thead th {\n",
              "        text-align: right;\n",
              "    }\n",
              "</style>\n",
              "<table border=\"1\" class=\"dataframe\">\n",
              "  <thead>\n",
              "    <tr style=\"text-align: right;\">\n",
              "      <th></th>\n",
              "      <th>Name</th>\n",
              "      <th>Age</th>\n",
              "      <th>Address</th>\n",
              "      <th>Country</th>\n",
              "      <th>Qualification</th>\n",
              "    </tr>\n",
              "  </thead>\n",
              "  <tbody>\n",
              "    <tr>\n",
              "      <th>3</th>\n",
              "      <td>Anuj</td>\n",
              "      <td>32</td>\n",
              "      <td>Delhi</td>\n",
              "      <td>India</td>\n",
              "      <td>Phd</td>\n",
              "    </tr>\n",
              "  </tbody>\n",
              "</table>\n",
              "</div>\n",
              "      <button class=\"colab-df-convert\" onclick=\"convertToInteractive('df-dcfc697e-f9b5-40eb-90cc-81a225f9e3ba')\"\n",
              "              title=\"Convert this dataframe to an interactive table.\"\n",
              "              style=\"display:none;\">\n",
              "        \n",
              "  <svg xmlns=\"http://www.w3.org/2000/svg\" height=\"24px\"viewBox=\"0 0 24 24\"\n",
              "       width=\"24px\">\n",
              "    <path d=\"M0 0h24v24H0V0z\" fill=\"none\"/>\n",
              "    <path d=\"M18.56 5.44l.94 2.06.94-2.06 2.06-.94-2.06-.94-.94-2.06-.94 2.06-2.06.94zm-11 1L8.5 8.5l.94-2.06 2.06-.94-2.06-.94L8.5 2.5l-.94 2.06-2.06.94zm10 10l.94 2.06.94-2.06 2.06-.94-2.06-.94-.94-2.06-.94 2.06-2.06.94z\"/><path d=\"M17.41 7.96l-1.37-1.37c-.4-.4-.92-.59-1.43-.59-.52 0-1.04.2-1.43.59L10.3 9.45l-7.72 7.72c-.78.78-.78 2.05 0 2.83L4 21.41c.39.39.9.59 1.41.59.51 0 1.02-.2 1.41-.59l7.78-7.78 2.81-2.81c.8-.78.8-2.07 0-2.86zM5.41 20L4 18.59l7.72-7.72 1.47 1.35L5.41 20z\"/>\n",
              "  </svg>\n",
              "      </button>\n",
              "      \n",
              "  <style>\n",
              "    .colab-df-container {\n",
              "      display:flex;\n",
              "      flex-wrap:wrap;\n",
              "      gap: 12px;\n",
              "    }\n",
              "\n",
              "    .colab-df-convert {\n",
              "      background-color: #E8F0FE;\n",
              "      border: none;\n",
              "      border-radius: 50%;\n",
              "      cursor: pointer;\n",
              "      display: none;\n",
              "      fill: #1967D2;\n",
              "      height: 32px;\n",
              "      padding: 0 0 0 0;\n",
              "      width: 32px;\n",
              "    }\n",
              "\n",
              "    .colab-df-convert:hover {\n",
              "      background-color: #E2EBFA;\n",
              "      box-shadow: 0px 1px 2px rgba(60, 64, 67, 0.3), 0px 1px 3px 1px rgba(60, 64, 67, 0.15);\n",
              "      fill: #174EA6;\n",
              "    }\n",
              "\n",
              "    [theme=dark] .colab-df-convert {\n",
              "      background-color: #3B4455;\n",
              "      fill: #D2E3FC;\n",
              "    }\n",
              "\n",
              "    [theme=dark] .colab-df-convert:hover {\n",
              "      background-color: #434B5C;\n",
              "      box-shadow: 0px 1px 3px 1px rgba(0, 0, 0, 0.15);\n",
              "      filter: drop-shadow(0px 1px 2px rgba(0, 0, 0, 0.3));\n",
              "      fill: #FFFFFF;\n",
              "    }\n",
              "  </style>\n",
              "\n",
              "      <script>\n",
              "        const buttonEl =\n",
              "          document.querySelector('#df-dcfc697e-f9b5-40eb-90cc-81a225f9e3ba button.colab-df-convert');\n",
              "        buttonEl.style.display =\n",
              "          google.colab.kernel.accessAllowed ? 'block' : 'none';\n",
              "\n",
              "        async function convertToInteractive(key) {\n",
              "          const element = document.querySelector('#df-dcfc697e-f9b5-40eb-90cc-81a225f9e3ba');\n",
              "          const dataTable =\n",
              "            await google.colab.kernel.invokeFunction('convertToInteractive',\n",
              "                                                     [key], {});\n",
              "          if (!dataTable) return;\n",
              "\n",
              "          const docLinkHtml = 'Like what you see? Visit the ' +\n",
              "            '<a target=\"_blank\" href=https://colab.research.google.com/notebooks/data_table.ipynb>data table notebook</a>'\n",
              "            + ' to learn more about interactive tables.';\n",
              "          element.innerHTML = '';\n",
              "          dataTable['output_type'] = 'display_data';\n",
              "          await google.colab.output.renderOutput(dataTable, element);\n",
              "          const docLink = document.createElement('div');\n",
              "          docLink.innerHTML = docLinkHtml;\n",
              "          element.appendChild(docLink);\n",
              "        }\n",
              "      </script>\n",
              "    </div>\n",
              "  </div>\n",
              "  "
            ]
          },
          "metadata": {},
          "execution_count": 186
        }
      ]
    },
    {
      "cell_type": "markdown",
      "source": [
        "### Assignment 5"
      ],
      "metadata": {
        "id": "R7Ci0uvU5O64"
      }
    },
    {
      "cell_type": "code",
      "source": [
        "# what are the dimensions of df1\n",
        "\n",
        "# your code here..."
      ],
      "metadata": {
        "id": "ZLE-vvqXNEEQ"
      },
      "execution_count": 187,
      "outputs": []
    },
    {
      "cell_type": "code",
      "source": [
        "#@title Display Solution 5\n",
        "\n",
        "# what are the dimensions of df1\n",
        "\n",
        "df1.shape"
      ],
      "metadata": {
        "id": "4ndeXkVxNHRZ",
        "cellView": "form",
        "colab": {
          "base_uri": "https://localhost:8080/"
        },
        "outputId": "e50b657a-5a03-4955-8729-183ba172e2f7"
      },
      "execution_count": 188,
      "outputs": [
        {
          "output_type": "execute_result",
          "data": {
            "text/plain": [
              "(4, 5)"
            ]
          },
          "metadata": {},
          "execution_count": 188
        }
      ]
    },
    {
      "cell_type": "markdown",
      "source": [
        "### Assignment 6"
      ],
      "metadata": {
        "id": "TyZREfW65Rc8"
      }
    },
    {
      "cell_type": "code",
      "source": [
        "# how many rows the df1 have ?\n",
        "\n",
        "# your code here..."
      ],
      "metadata": {
        "id": "BNElze5tNNd7"
      },
      "execution_count": 189,
      "outputs": []
    },
    {
      "cell_type": "code",
      "source": [
        "#@title Display Solution 6\n",
        "\n",
        "# how many rows ?\n",
        "\n",
        "print(len(df1))\n",
        "\n",
        "# OR ...\n",
        "\n",
        "df1.shape[0]\n"
      ],
      "metadata": {
        "id": "RGxr9pTUNSHZ",
        "cellView": "form",
        "colab": {
          "base_uri": "https://localhost:8080/"
        },
        "outputId": "a3278558-97bd-41a4-c59f-df52f29c2716"
      },
      "execution_count": 190,
      "outputs": [
        {
          "output_type": "stream",
          "name": "stdout",
          "text": [
            "4\n"
          ]
        },
        {
          "output_type": "execute_result",
          "data": {
            "text/plain": [
              "4"
            ]
          },
          "metadata": {},
          "execution_count": 190
        }
      ]
    },
    {
      "cell_type": "markdown",
      "source": [
        "### Assignment 7"
      ],
      "metadata": {
        "id": "VN6U40jk5TdH"
      }
    },
    {
      "cell_type": "code",
      "source": [
        "# how many columns\n",
        "\n",
        "# your code here ..."
      ],
      "metadata": {
        "id": "irc8-kylNf8S"
      },
      "execution_count": 191,
      "outputs": []
    },
    {
      "cell_type": "code",
      "source": [
        "#@title Display Solution 7\n",
        "\n",
        "# how many columns\n",
        "\n",
        "print(df1.shape[1])\n",
        "\n",
        "# or \n",
        "\n",
        "len(df1.columns)"
      ],
      "metadata": {
        "id": "L-zQAhgVNiyO",
        "cellView": "form",
        "colab": {
          "base_uri": "https://localhost:8080/"
        },
        "outputId": "a0ca29c7-83e1-4c64-f82b-7c1b527d2623"
      },
      "execution_count": 192,
      "outputs": [
        {
          "output_type": "stream",
          "name": "stdout",
          "text": [
            "5\n"
          ]
        },
        {
          "output_type": "execute_result",
          "data": {
            "text/plain": [
              "5"
            ]
          },
          "metadata": {},
          "execution_count": 192
        }
      ]
    },
    {
      "cell_type": "markdown",
      "source": [
        "### Assignment 8"
      ],
      "metadata": {
        "id": "_9p5rmqz5WBe"
      }
    },
    {
      "cell_type": "code",
      "source": [
        "# what are the names of the columns\n",
        "\n",
        "# your code here ..."
      ],
      "metadata": {
        "id": "k0I9WeR9N3BI"
      },
      "execution_count": 193,
      "outputs": []
    },
    {
      "cell_type": "code",
      "source": [
        "#@title Display Solution 8\n",
        "\n",
        "# what are the name of the columns\n",
        "\n",
        "df1.columns"
      ],
      "metadata": {
        "id": "ny_IhL20N43m",
        "cellView": "form",
        "colab": {
          "base_uri": "https://localhost:8080/"
        },
        "outputId": "e4ea928c-6fab-4b29-f450-f8b40c478e82"
      },
      "execution_count": 194,
      "outputs": [
        {
          "output_type": "execute_result",
          "data": {
            "text/plain": [
              "Index(['Name', 'Age', 'Address', 'Country', 'Qualification'], dtype='object')"
            ]
          },
          "metadata": {},
          "execution_count": 194
        }
      ]
    },
    {
      "cell_type": "markdown",
      "source": [
        "### Assignment 9"
      ],
      "metadata": {
        "id": "gsRWqggO5YM8"
      }
    },
    {
      "cell_type": "code",
      "source": [
        "# return the name of the second columns (the outcomu shoud be 'Age')\n",
        "\n",
        "# your code here ..."
      ],
      "metadata": {
        "id": "nDYKxYCBODpg"
      },
      "execution_count": 195,
      "outputs": []
    },
    {
      "cell_type": "code",
      "source": [
        "#@title Display Solution 9\n",
        "\n",
        "# return the name of the second columns (in Python logic)\n",
        "\n",
        "df1.columns[1]"
      ],
      "metadata": {
        "id": "SkQlN37wOHmB",
        "cellView": "form",
        "colab": {
          "base_uri": "https://localhost:8080/",
          "height": 35
        },
        "outputId": "cb4b33ba-ee7f-4a63-91a8-33c76f245ae1"
      },
      "execution_count": 196,
      "outputs": [
        {
          "output_type": "execute_result",
          "data": {
            "text/plain": [
              "'Age'"
            ],
            "application/vnd.google.colaboratory.intrinsic+json": {
              "type": "string"
            }
          },
          "metadata": {},
          "execution_count": 196
        }
      ]
    },
    {
      "cell_type": "markdown",
      "source": [
        "### Locations & Slicing"
      ],
      "metadata": {
        "id": "r1-KCvcKOZSY"
      }
    },
    {
      "cell_type": "markdown",
      "source": [
        "### Assignment 10"
      ],
      "metadata": {
        "id": "ejKpeIs85a8l"
      }
    },
    {
      "cell_type": "code",
      "source": [
        "###  Locations -----------\n",
        "\n",
        "# access the 2nd row (with .iloc) (in python logic)\n",
        "# !!! don't forget the indexation starting from 0 !!!\n",
        "\n",
        "# your code here ...."
      ],
      "metadata": {
        "id": "laHH7hA3Odfv"
      },
      "execution_count": 197,
      "outputs": []
    },
    {
      "cell_type": "code",
      "source": [
        "#@title Display Solution 10\n",
        "\n",
        "# access the 2nd row\n",
        "\n",
        "print('the whole dataframe...')\n",
        "print(df1)\n",
        "print('')\n",
        "print('the 2nd row...at index 1...')\n",
        "df1.iloc[1]"
      ],
      "metadata": {
        "id": "nTM-4cDZOjfl",
        "cellView": "form",
        "colab": {
          "base_uri": "https://localhost:8080/"
        },
        "outputId": "7495ae27-abcf-4675-9072-e84fca88a453"
      },
      "execution_count": 198,
      "outputs": [
        {
          "output_type": "stream",
          "name": "stdout",
          "text": [
            "the whole dataframe...\n",
            "     Name  Age Address Country Qualification\n",
            "0     Jai   27   Delhi   India           Phd\n",
            "1  Princi   24  Kanpur   India            MA\n",
            "2  Gaurav   22  Kanpur   India           MCA\n",
            "3    Anuj   32   Delhi   India           Phd\n",
            "\n",
            "the 2nd row...at index 1...\n"
          ]
        },
        {
          "output_type": "execute_result",
          "data": {
            "text/plain": [
              "Name             Princi\n",
              "Age                  24\n",
              "Address          Kanpur\n",
              "Country           India\n",
              "Qualification        MA\n",
              "Name: 1, dtype: object"
            ]
          },
          "metadata": {},
          "execution_count": 198
        }
      ]
    },
    {
      "cell_type": "markdown",
      "source": [
        "### Assignment 11"
      ],
      "metadata": {
        "id": "YKUT0gyE5cz0"
      }
    },
    {
      "cell_type": "code",
      "source": [
        "# return the data with .iloc as below..\n",
        "\n",
        "'''\n",
        "Age  Adress \n",
        "24   Kanpur\n",
        "22   Kanpur\n",
        "'''\n",
        "\n",
        "# your code here..."
      ],
      "metadata": {
        "id": "qYgKSeCnO8Y9",
        "colab": {
          "base_uri": "https://localhost:8080/",
          "height": 35
        },
        "outputId": "b78447d0-02af-4b63-df8b-b44ca7562d99"
      },
      "execution_count": 199,
      "outputs": [
        {
          "output_type": "execute_result",
          "data": {
            "text/plain": [
              "'\\nAge  Adress \\n24   Kanpur\\n22   Kanpur\\n'"
            ],
            "application/vnd.google.colaboratory.intrinsic+json": {
              "type": "string"
            }
          },
          "metadata": {},
          "execution_count": 199
        }
      ]
    },
    {
      "cell_type": "code",
      "source": [
        "#@title Display Solution 11\n",
        "\n",
        "# return the data with .iloc\n",
        "\n",
        "'''\n",
        "Age  Adress \n",
        "24   Kanpur\n",
        "22   Kanpur\n",
        "'''\n",
        "\n",
        "df1.iloc[1:3, 1:3]"
      ],
      "metadata": {
        "id": "WWqXTZdmO_R4",
        "cellView": "form",
        "colab": {
          "base_uri": "https://localhost:8080/",
          "height": 112
        },
        "outputId": "c7fadd82-3cec-4556-eaf6-102783df03d9"
      },
      "execution_count": 200,
      "outputs": [
        {
          "output_type": "execute_result",
          "data": {
            "text/plain": [
              "   Age Address\n",
              "1   24  Kanpur\n",
              "2   22  Kanpur"
            ],
            "text/html": [
              "\n",
              "  <div id=\"df-73586dc0-7a7e-4a0b-b4ec-7bc18eee6c1b\">\n",
              "    <div class=\"colab-df-container\">\n",
              "      <div>\n",
              "<style scoped>\n",
              "    .dataframe tbody tr th:only-of-type {\n",
              "        vertical-align: middle;\n",
              "    }\n",
              "\n",
              "    .dataframe tbody tr th {\n",
              "        vertical-align: top;\n",
              "    }\n",
              "\n",
              "    .dataframe thead th {\n",
              "        text-align: right;\n",
              "    }\n",
              "</style>\n",
              "<table border=\"1\" class=\"dataframe\">\n",
              "  <thead>\n",
              "    <tr style=\"text-align: right;\">\n",
              "      <th></th>\n",
              "      <th>Age</th>\n",
              "      <th>Address</th>\n",
              "    </tr>\n",
              "  </thead>\n",
              "  <tbody>\n",
              "    <tr>\n",
              "      <th>1</th>\n",
              "      <td>24</td>\n",
              "      <td>Kanpur</td>\n",
              "    </tr>\n",
              "    <tr>\n",
              "      <th>2</th>\n",
              "      <td>22</td>\n",
              "      <td>Kanpur</td>\n",
              "    </tr>\n",
              "  </tbody>\n",
              "</table>\n",
              "</div>\n",
              "      <button class=\"colab-df-convert\" onclick=\"convertToInteractive('df-73586dc0-7a7e-4a0b-b4ec-7bc18eee6c1b')\"\n",
              "              title=\"Convert this dataframe to an interactive table.\"\n",
              "              style=\"display:none;\">\n",
              "        \n",
              "  <svg xmlns=\"http://www.w3.org/2000/svg\" height=\"24px\"viewBox=\"0 0 24 24\"\n",
              "       width=\"24px\">\n",
              "    <path d=\"M0 0h24v24H0V0z\" fill=\"none\"/>\n",
              "    <path d=\"M18.56 5.44l.94 2.06.94-2.06 2.06-.94-2.06-.94-.94-2.06-.94 2.06-2.06.94zm-11 1L8.5 8.5l.94-2.06 2.06-.94-2.06-.94L8.5 2.5l-.94 2.06-2.06.94zm10 10l.94 2.06.94-2.06 2.06-.94-2.06-.94-.94-2.06-.94 2.06-2.06.94z\"/><path d=\"M17.41 7.96l-1.37-1.37c-.4-.4-.92-.59-1.43-.59-.52 0-1.04.2-1.43.59L10.3 9.45l-7.72 7.72c-.78.78-.78 2.05 0 2.83L4 21.41c.39.39.9.59 1.41.59.51 0 1.02-.2 1.41-.59l7.78-7.78 2.81-2.81c.8-.78.8-2.07 0-2.86zM5.41 20L4 18.59l7.72-7.72 1.47 1.35L5.41 20z\"/>\n",
              "  </svg>\n",
              "      </button>\n",
              "      \n",
              "  <style>\n",
              "    .colab-df-container {\n",
              "      display:flex;\n",
              "      flex-wrap:wrap;\n",
              "      gap: 12px;\n",
              "    }\n",
              "\n",
              "    .colab-df-convert {\n",
              "      background-color: #E8F0FE;\n",
              "      border: none;\n",
              "      border-radius: 50%;\n",
              "      cursor: pointer;\n",
              "      display: none;\n",
              "      fill: #1967D2;\n",
              "      height: 32px;\n",
              "      padding: 0 0 0 0;\n",
              "      width: 32px;\n",
              "    }\n",
              "\n",
              "    .colab-df-convert:hover {\n",
              "      background-color: #E2EBFA;\n",
              "      box-shadow: 0px 1px 2px rgba(60, 64, 67, 0.3), 0px 1px 3px 1px rgba(60, 64, 67, 0.15);\n",
              "      fill: #174EA6;\n",
              "    }\n",
              "\n",
              "    [theme=dark] .colab-df-convert {\n",
              "      background-color: #3B4455;\n",
              "      fill: #D2E3FC;\n",
              "    }\n",
              "\n",
              "    [theme=dark] .colab-df-convert:hover {\n",
              "      background-color: #434B5C;\n",
              "      box-shadow: 0px 1px 3px 1px rgba(0, 0, 0, 0.15);\n",
              "      filter: drop-shadow(0px 1px 2px rgba(0, 0, 0, 0.3));\n",
              "      fill: #FFFFFF;\n",
              "    }\n",
              "  </style>\n",
              "\n",
              "      <script>\n",
              "        const buttonEl =\n",
              "          document.querySelector('#df-73586dc0-7a7e-4a0b-b4ec-7bc18eee6c1b button.colab-df-convert');\n",
              "        buttonEl.style.display =\n",
              "          google.colab.kernel.accessAllowed ? 'block' : 'none';\n",
              "\n",
              "        async function convertToInteractive(key) {\n",
              "          const element = document.querySelector('#df-73586dc0-7a7e-4a0b-b4ec-7bc18eee6c1b');\n",
              "          const dataTable =\n",
              "            await google.colab.kernel.invokeFunction('convertToInteractive',\n",
              "                                                     [key], {});\n",
              "          if (!dataTable) return;\n",
              "\n",
              "          const docLinkHtml = 'Like what you see? Visit the ' +\n",
              "            '<a target=\"_blank\" href=https://colab.research.google.com/notebooks/data_table.ipynb>data table notebook</a>'\n",
              "            + ' to learn more about interactive tables.';\n",
              "          element.innerHTML = '';\n",
              "          dataTable['output_type'] = 'display_data';\n",
              "          await google.colab.output.renderOutput(dataTable, element);\n",
              "          const docLink = document.createElement('div');\n",
              "          docLink.innerHTML = docLinkHtml;\n",
              "          element.appendChild(docLink);\n",
              "        }\n",
              "      </script>\n",
              "    </div>\n",
              "  </div>\n",
              "  "
            ]
          },
          "metadata": {},
          "execution_count": 200
        }
      ]
    },
    {
      "cell_type": "markdown",
      "source": [
        "### Assignment 12"
      ],
      "metadata": {
        "id": "5dlajHs_5fr9"
      }
    },
    {
      "cell_type": "code",
      "source": [
        "# return the data with .iloc as below ...\n",
        "\n",
        "'''\n",
        "Name  Age \n",
        "Jay   27\n",
        "Anuj  32\n",
        "'''\n",
        "\n",
        "# your code here...\n"
      ],
      "metadata": {
        "id": "8dVE-xcxQFFw",
        "colab": {
          "base_uri": "https://localhost:8080/",
          "height": 35
        },
        "outputId": "3ba5f261-9603-4117-ffc5-84938ae47f6f"
      },
      "execution_count": 201,
      "outputs": [
        {
          "output_type": "execute_result",
          "data": {
            "text/plain": [
              "'\\nName  Age \\nJay   27\\nAnuj  32\\n'"
            ],
            "application/vnd.google.colaboratory.intrinsic+json": {
              "type": "string"
            }
          },
          "metadata": {},
          "execution_count": 201
        }
      ]
    },
    {
      "cell_type": "code",
      "source": [
        "#@title Display Solution 12\n",
        "\n",
        "# return the data with .iloc\n",
        "\n",
        "'''\n",
        "Name  Age \n",
        "Jay   27\n",
        "Anuj  32\n",
        "'''\n",
        "\n",
        "\n",
        "df1.iloc[[0, -1], [0,1]]"
      ],
      "metadata": {
        "id": "kUqkUu8SQT2a",
        "cellView": "form",
        "colab": {
          "base_uri": "https://localhost:8080/",
          "height": 112
        },
        "outputId": "0ac73bc7-2386-4f3d-e998-62b4e1f48908"
      },
      "execution_count": 202,
      "outputs": [
        {
          "output_type": "execute_result",
          "data": {
            "text/plain": [
              "   Name  Age\n",
              "0   Jai   27\n",
              "3  Anuj   32"
            ],
            "text/html": [
              "\n",
              "  <div id=\"df-f4beebf1-62f9-4d97-84fd-3e3ee05b33d0\">\n",
              "    <div class=\"colab-df-container\">\n",
              "      <div>\n",
              "<style scoped>\n",
              "    .dataframe tbody tr th:only-of-type {\n",
              "        vertical-align: middle;\n",
              "    }\n",
              "\n",
              "    .dataframe tbody tr th {\n",
              "        vertical-align: top;\n",
              "    }\n",
              "\n",
              "    .dataframe thead th {\n",
              "        text-align: right;\n",
              "    }\n",
              "</style>\n",
              "<table border=\"1\" class=\"dataframe\">\n",
              "  <thead>\n",
              "    <tr style=\"text-align: right;\">\n",
              "      <th></th>\n",
              "      <th>Name</th>\n",
              "      <th>Age</th>\n",
              "    </tr>\n",
              "  </thead>\n",
              "  <tbody>\n",
              "    <tr>\n",
              "      <th>0</th>\n",
              "      <td>Jai</td>\n",
              "      <td>27</td>\n",
              "    </tr>\n",
              "    <tr>\n",
              "      <th>3</th>\n",
              "      <td>Anuj</td>\n",
              "      <td>32</td>\n",
              "    </tr>\n",
              "  </tbody>\n",
              "</table>\n",
              "</div>\n",
              "      <button class=\"colab-df-convert\" onclick=\"convertToInteractive('df-f4beebf1-62f9-4d97-84fd-3e3ee05b33d0')\"\n",
              "              title=\"Convert this dataframe to an interactive table.\"\n",
              "              style=\"display:none;\">\n",
              "        \n",
              "  <svg xmlns=\"http://www.w3.org/2000/svg\" height=\"24px\"viewBox=\"0 0 24 24\"\n",
              "       width=\"24px\">\n",
              "    <path d=\"M0 0h24v24H0V0z\" fill=\"none\"/>\n",
              "    <path d=\"M18.56 5.44l.94 2.06.94-2.06 2.06-.94-2.06-.94-.94-2.06-.94 2.06-2.06.94zm-11 1L8.5 8.5l.94-2.06 2.06-.94-2.06-.94L8.5 2.5l-.94 2.06-2.06.94zm10 10l.94 2.06.94-2.06 2.06-.94-2.06-.94-.94-2.06-.94 2.06-2.06.94z\"/><path d=\"M17.41 7.96l-1.37-1.37c-.4-.4-.92-.59-1.43-.59-.52 0-1.04.2-1.43.59L10.3 9.45l-7.72 7.72c-.78.78-.78 2.05 0 2.83L4 21.41c.39.39.9.59 1.41.59.51 0 1.02-.2 1.41-.59l7.78-7.78 2.81-2.81c.8-.78.8-2.07 0-2.86zM5.41 20L4 18.59l7.72-7.72 1.47 1.35L5.41 20z\"/>\n",
              "  </svg>\n",
              "      </button>\n",
              "      \n",
              "  <style>\n",
              "    .colab-df-container {\n",
              "      display:flex;\n",
              "      flex-wrap:wrap;\n",
              "      gap: 12px;\n",
              "    }\n",
              "\n",
              "    .colab-df-convert {\n",
              "      background-color: #E8F0FE;\n",
              "      border: none;\n",
              "      border-radius: 50%;\n",
              "      cursor: pointer;\n",
              "      display: none;\n",
              "      fill: #1967D2;\n",
              "      height: 32px;\n",
              "      padding: 0 0 0 0;\n",
              "      width: 32px;\n",
              "    }\n",
              "\n",
              "    .colab-df-convert:hover {\n",
              "      background-color: #E2EBFA;\n",
              "      box-shadow: 0px 1px 2px rgba(60, 64, 67, 0.3), 0px 1px 3px 1px rgba(60, 64, 67, 0.15);\n",
              "      fill: #174EA6;\n",
              "    }\n",
              "\n",
              "    [theme=dark] .colab-df-convert {\n",
              "      background-color: #3B4455;\n",
              "      fill: #D2E3FC;\n",
              "    }\n",
              "\n",
              "    [theme=dark] .colab-df-convert:hover {\n",
              "      background-color: #434B5C;\n",
              "      box-shadow: 0px 1px 3px 1px rgba(0, 0, 0, 0.15);\n",
              "      filter: drop-shadow(0px 1px 2px rgba(0, 0, 0, 0.3));\n",
              "      fill: #FFFFFF;\n",
              "    }\n",
              "  </style>\n",
              "\n",
              "      <script>\n",
              "        const buttonEl =\n",
              "          document.querySelector('#df-f4beebf1-62f9-4d97-84fd-3e3ee05b33d0 button.colab-df-convert');\n",
              "        buttonEl.style.display =\n",
              "          google.colab.kernel.accessAllowed ? 'block' : 'none';\n",
              "\n",
              "        async function convertToInteractive(key) {\n",
              "          const element = document.querySelector('#df-f4beebf1-62f9-4d97-84fd-3e3ee05b33d0');\n",
              "          const dataTable =\n",
              "            await google.colab.kernel.invokeFunction('convertToInteractive',\n",
              "                                                     [key], {});\n",
              "          if (!dataTable) return;\n",
              "\n",
              "          const docLinkHtml = 'Like what you see? Visit the ' +\n",
              "            '<a target=\"_blank\" href=https://colab.research.google.com/notebooks/data_table.ipynb>data table notebook</a>'\n",
              "            + ' to learn more about interactive tables.';\n",
              "          element.innerHTML = '';\n",
              "          dataTable['output_type'] = 'display_data';\n",
              "          await google.colab.output.renderOutput(dataTable, element);\n",
              "          const docLink = document.createElement('div');\n",
              "          docLink.innerHTML = docLinkHtml;\n",
              "          element.appendChild(docLink);\n",
              "        }\n",
              "      </script>\n",
              "    </div>\n",
              "  </div>\n",
              "  "
            ]
          },
          "metadata": {},
          "execution_count": 202
        }
      ]
    },
    {
      "cell_type": "markdown",
      "source": [
        "### Assignment 13"
      ],
      "metadata": {
        "id": "NyAjSuco5itD"
      }
    },
    {
      "cell_type": "code",
      "source": [
        "# return 'Qualification' for rows from 'Jai' to 'Anuj' with .loc \n",
        "\n",
        "# don't forget to reset the index by using column 'Name' (*** .set_index() ***)\n",
        "\n",
        "# your code here..."
      ],
      "metadata": {
        "id": "FTurB5eqPfFM"
      },
      "execution_count": 203,
      "outputs": []
    },
    {
      "cell_type": "code",
      "source": [
        "#@title Display Solution 13\n",
        "\n",
        "# return qualification for 'Jai' to 'Anuj' with .loc (!!! reset the index)\n",
        "\n",
        "print(df1)\n",
        "\n",
        "print('')\n",
        "\n",
        "# reset index\n",
        "df1 = df1.set_index('Name')\n",
        "\n",
        "# 'Qualification' for rows from 'Jai' to 'Anuj' with .loc \n",
        "df1.loc['Jai':'Anuj', 'Qualification']\n"
      ],
      "metadata": {
        "id": "LenGjne0PjD9",
        "cellView": "form",
        "colab": {
          "base_uri": "https://localhost:8080/"
        },
        "outputId": "5c68fc94-bf8b-4ae4-9cc0-378c3f6c714e"
      },
      "execution_count": 204,
      "outputs": [
        {
          "output_type": "stream",
          "name": "stdout",
          "text": [
            "     Name  Age Address Country Qualification\n",
            "0     Jai   27   Delhi   India           Phd\n",
            "1  Princi   24  Kanpur   India            MA\n",
            "2  Gaurav   22  Kanpur   India           MCA\n",
            "3    Anuj   32   Delhi   India           Phd\n",
            "\n"
          ]
        },
        {
          "output_type": "execute_result",
          "data": {
            "text/plain": [
              "Name\n",
              "Jai       Phd\n",
              "Princi     MA\n",
              "Gaurav    MCA\n",
              "Anuj      Phd\n",
              "Name: Qualification, dtype: object"
            ]
          },
          "metadata": {},
          "execution_count": 204
        }
      ]
    },
    {
      "cell_type": "markdown",
      "source": [
        "### Assignment 14"
      ],
      "metadata": {
        "id": "GeKpisxz5m-K"
      }
    },
    {
      "cell_type": "code",
      "source": [
        "# return the Qualification and Address for 'Jai' , 'Anuj', 'Gaurav' with .loc\n",
        "\n",
        "# your code here ...\n"
      ],
      "metadata": {
        "id": "exiLcd-HSLu0"
      },
      "execution_count": 205,
      "outputs": []
    },
    {
      "cell_type": "code",
      "source": [
        "#@title Display Solution 14\n",
        "\n",
        "# return the Qualification and Address for 'Jai' , 'Anuj', 'Gaurav' with .loc\n",
        "\n",
        "\n",
        "df1.loc[['Jai' , 'Anuj', 'Gaurav'], ['Qualification', 'Address']]"
      ],
      "metadata": {
        "id": "x62nPf_FSQM0",
        "cellView": "form",
        "colab": {
          "base_uri": "https://localhost:8080/",
          "height": 174
        },
        "outputId": "13531b17-b59f-4fda-e45f-a0bc74172505"
      },
      "execution_count": 206,
      "outputs": [
        {
          "output_type": "execute_result",
          "data": {
            "text/plain": [
              "       Qualification Address\n",
              "Name                        \n",
              "Jai              Phd   Delhi\n",
              "Anuj             Phd   Delhi\n",
              "Gaurav           MCA  Kanpur"
            ],
            "text/html": [
              "\n",
              "  <div id=\"df-271fe706-136b-4560-9779-17c0853c109b\">\n",
              "    <div class=\"colab-df-container\">\n",
              "      <div>\n",
              "<style scoped>\n",
              "    .dataframe tbody tr th:only-of-type {\n",
              "        vertical-align: middle;\n",
              "    }\n",
              "\n",
              "    .dataframe tbody tr th {\n",
              "        vertical-align: top;\n",
              "    }\n",
              "\n",
              "    .dataframe thead th {\n",
              "        text-align: right;\n",
              "    }\n",
              "</style>\n",
              "<table border=\"1\" class=\"dataframe\">\n",
              "  <thead>\n",
              "    <tr style=\"text-align: right;\">\n",
              "      <th></th>\n",
              "      <th>Qualification</th>\n",
              "      <th>Address</th>\n",
              "    </tr>\n",
              "    <tr>\n",
              "      <th>Name</th>\n",
              "      <th></th>\n",
              "      <th></th>\n",
              "    </tr>\n",
              "  </thead>\n",
              "  <tbody>\n",
              "    <tr>\n",
              "      <th>Jai</th>\n",
              "      <td>Phd</td>\n",
              "      <td>Delhi</td>\n",
              "    </tr>\n",
              "    <tr>\n",
              "      <th>Anuj</th>\n",
              "      <td>Phd</td>\n",
              "      <td>Delhi</td>\n",
              "    </tr>\n",
              "    <tr>\n",
              "      <th>Gaurav</th>\n",
              "      <td>MCA</td>\n",
              "      <td>Kanpur</td>\n",
              "    </tr>\n",
              "  </tbody>\n",
              "</table>\n",
              "</div>\n",
              "      <button class=\"colab-df-convert\" onclick=\"convertToInteractive('df-271fe706-136b-4560-9779-17c0853c109b')\"\n",
              "              title=\"Convert this dataframe to an interactive table.\"\n",
              "              style=\"display:none;\">\n",
              "        \n",
              "  <svg xmlns=\"http://www.w3.org/2000/svg\" height=\"24px\"viewBox=\"0 0 24 24\"\n",
              "       width=\"24px\">\n",
              "    <path d=\"M0 0h24v24H0V0z\" fill=\"none\"/>\n",
              "    <path d=\"M18.56 5.44l.94 2.06.94-2.06 2.06-.94-2.06-.94-.94-2.06-.94 2.06-2.06.94zm-11 1L8.5 8.5l.94-2.06 2.06-.94-2.06-.94L8.5 2.5l-.94 2.06-2.06.94zm10 10l.94 2.06.94-2.06 2.06-.94-2.06-.94-.94-2.06-.94 2.06-2.06.94z\"/><path d=\"M17.41 7.96l-1.37-1.37c-.4-.4-.92-.59-1.43-.59-.52 0-1.04.2-1.43.59L10.3 9.45l-7.72 7.72c-.78.78-.78 2.05 0 2.83L4 21.41c.39.39.9.59 1.41.59.51 0 1.02-.2 1.41-.59l7.78-7.78 2.81-2.81c.8-.78.8-2.07 0-2.86zM5.41 20L4 18.59l7.72-7.72 1.47 1.35L5.41 20z\"/>\n",
              "  </svg>\n",
              "      </button>\n",
              "      \n",
              "  <style>\n",
              "    .colab-df-container {\n",
              "      display:flex;\n",
              "      flex-wrap:wrap;\n",
              "      gap: 12px;\n",
              "    }\n",
              "\n",
              "    .colab-df-convert {\n",
              "      background-color: #E8F0FE;\n",
              "      border: none;\n",
              "      border-radius: 50%;\n",
              "      cursor: pointer;\n",
              "      display: none;\n",
              "      fill: #1967D2;\n",
              "      height: 32px;\n",
              "      padding: 0 0 0 0;\n",
              "      width: 32px;\n",
              "    }\n",
              "\n",
              "    .colab-df-convert:hover {\n",
              "      background-color: #E2EBFA;\n",
              "      box-shadow: 0px 1px 2px rgba(60, 64, 67, 0.3), 0px 1px 3px 1px rgba(60, 64, 67, 0.15);\n",
              "      fill: #174EA6;\n",
              "    }\n",
              "\n",
              "    [theme=dark] .colab-df-convert {\n",
              "      background-color: #3B4455;\n",
              "      fill: #D2E3FC;\n",
              "    }\n",
              "\n",
              "    [theme=dark] .colab-df-convert:hover {\n",
              "      background-color: #434B5C;\n",
              "      box-shadow: 0px 1px 3px 1px rgba(0, 0, 0, 0.15);\n",
              "      filter: drop-shadow(0px 1px 2px rgba(0, 0, 0, 0.3));\n",
              "      fill: #FFFFFF;\n",
              "    }\n",
              "  </style>\n",
              "\n",
              "      <script>\n",
              "        const buttonEl =\n",
              "          document.querySelector('#df-271fe706-136b-4560-9779-17c0853c109b button.colab-df-convert');\n",
              "        buttonEl.style.display =\n",
              "          google.colab.kernel.accessAllowed ? 'block' : 'none';\n",
              "\n",
              "        async function convertToInteractive(key) {\n",
              "          const element = document.querySelector('#df-271fe706-136b-4560-9779-17c0853c109b');\n",
              "          const dataTable =\n",
              "            await google.colab.kernel.invokeFunction('convertToInteractive',\n",
              "                                                     [key], {});\n",
              "          if (!dataTable) return;\n",
              "\n",
              "          const docLinkHtml = 'Like what you see? Visit the ' +\n",
              "            '<a target=\"_blank\" href=https://colab.research.google.com/notebooks/data_table.ipynb>data table notebook</a>'\n",
              "            + ' to learn more about interactive tables.';\n",
              "          element.innerHTML = '';\n",
              "          dataTable['output_type'] = 'display_data';\n",
              "          await google.colab.output.renderOutput(dataTable, element);\n",
              "          const docLink = document.createElement('div');\n",
              "          docLink.innerHTML = docLinkHtml;\n",
              "          element.appendChild(docLink);\n",
              "        }\n",
              "      </script>\n",
              "    </div>\n",
              "  </div>\n",
              "  "
            ]
          },
          "metadata": {},
          "execution_count": 206
        }
      ]
    },
    {
      "cell_type": "markdown",
      "source": [
        "### Filtering"
      ],
      "metadata": {
        "id": "JcOqOEImTHyx"
      }
    },
    {
      "cell_type": "markdown",
      "source": [
        "## Assignment 15"
      ],
      "metadata": {
        "id": "yC0udtAk5poF"
      }
    },
    {
      "cell_type": "code",
      "source": [
        "####  Filter -------------\n",
        "\n",
        "# access only the data where Qualification is Phd\n",
        "\n",
        "# your code here ...\n"
      ],
      "metadata": {
        "id": "7zS_dMQ9SjGn"
      },
      "execution_count": 207,
      "outputs": []
    },
    {
      "cell_type": "code",
      "source": [
        "#@title Display Solution 15\n",
        "\n",
        "# access only the data where Qualification is Phd\n",
        "\n",
        "\n",
        "df1[df1['Qualification'] == 'Phd']"
      ],
      "metadata": {
        "id": "WTSE7Ev5SnFh",
        "cellView": "form",
        "colab": {
          "base_uri": "https://localhost:8080/",
          "height": 143
        },
        "outputId": "a795a604-6aa5-4a94-9cce-5313e28e8512"
      },
      "execution_count": 208,
      "outputs": [
        {
          "output_type": "execute_result",
          "data": {
            "text/plain": [
              "      Age Address Country Qualification\n",
              "Name                                   \n",
              "Jai    27   Delhi   India           Phd\n",
              "Anuj   32   Delhi   India           Phd"
            ],
            "text/html": [
              "\n",
              "  <div id=\"df-8d475c4c-1116-49f0-a03f-c70eb1af838c\">\n",
              "    <div class=\"colab-df-container\">\n",
              "      <div>\n",
              "<style scoped>\n",
              "    .dataframe tbody tr th:only-of-type {\n",
              "        vertical-align: middle;\n",
              "    }\n",
              "\n",
              "    .dataframe tbody tr th {\n",
              "        vertical-align: top;\n",
              "    }\n",
              "\n",
              "    .dataframe thead th {\n",
              "        text-align: right;\n",
              "    }\n",
              "</style>\n",
              "<table border=\"1\" class=\"dataframe\">\n",
              "  <thead>\n",
              "    <tr style=\"text-align: right;\">\n",
              "      <th></th>\n",
              "      <th>Age</th>\n",
              "      <th>Address</th>\n",
              "      <th>Country</th>\n",
              "      <th>Qualification</th>\n",
              "    </tr>\n",
              "    <tr>\n",
              "      <th>Name</th>\n",
              "      <th></th>\n",
              "      <th></th>\n",
              "      <th></th>\n",
              "      <th></th>\n",
              "    </tr>\n",
              "  </thead>\n",
              "  <tbody>\n",
              "    <tr>\n",
              "      <th>Jai</th>\n",
              "      <td>27</td>\n",
              "      <td>Delhi</td>\n",
              "      <td>India</td>\n",
              "      <td>Phd</td>\n",
              "    </tr>\n",
              "    <tr>\n",
              "      <th>Anuj</th>\n",
              "      <td>32</td>\n",
              "      <td>Delhi</td>\n",
              "      <td>India</td>\n",
              "      <td>Phd</td>\n",
              "    </tr>\n",
              "  </tbody>\n",
              "</table>\n",
              "</div>\n",
              "      <button class=\"colab-df-convert\" onclick=\"convertToInteractive('df-8d475c4c-1116-49f0-a03f-c70eb1af838c')\"\n",
              "              title=\"Convert this dataframe to an interactive table.\"\n",
              "              style=\"display:none;\">\n",
              "        \n",
              "  <svg xmlns=\"http://www.w3.org/2000/svg\" height=\"24px\"viewBox=\"0 0 24 24\"\n",
              "       width=\"24px\">\n",
              "    <path d=\"M0 0h24v24H0V0z\" fill=\"none\"/>\n",
              "    <path d=\"M18.56 5.44l.94 2.06.94-2.06 2.06-.94-2.06-.94-.94-2.06-.94 2.06-2.06.94zm-11 1L8.5 8.5l.94-2.06 2.06-.94-2.06-.94L8.5 2.5l-.94 2.06-2.06.94zm10 10l.94 2.06.94-2.06 2.06-.94-2.06-.94-.94-2.06-.94 2.06-2.06.94z\"/><path d=\"M17.41 7.96l-1.37-1.37c-.4-.4-.92-.59-1.43-.59-.52 0-1.04.2-1.43.59L10.3 9.45l-7.72 7.72c-.78.78-.78 2.05 0 2.83L4 21.41c.39.39.9.59 1.41.59.51 0 1.02-.2 1.41-.59l7.78-7.78 2.81-2.81c.8-.78.8-2.07 0-2.86zM5.41 20L4 18.59l7.72-7.72 1.47 1.35L5.41 20z\"/>\n",
              "  </svg>\n",
              "      </button>\n",
              "      \n",
              "  <style>\n",
              "    .colab-df-container {\n",
              "      display:flex;\n",
              "      flex-wrap:wrap;\n",
              "      gap: 12px;\n",
              "    }\n",
              "\n",
              "    .colab-df-convert {\n",
              "      background-color: #E8F0FE;\n",
              "      border: none;\n",
              "      border-radius: 50%;\n",
              "      cursor: pointer;\n",
              "      display: none;\n",
              "      fill: #1967D2;\n",
              "      height: 32px;\n",
              "      padding: 0 0 0 0;\n",
              "      width: 32px;\n",
              "    }\n",
              "\n",
              "    .colab-df-convert:hover {\n",
              "      background-color: #E2EBFA;\n",
              "      box-shadow: 0px 1px 2px rgba(60, 64, 67, 0.3), 0px 1px 3px 1px rgba(60, 64, 67, 0.15);\n",
              "      fill: #174EA6;\n",
              "    }\n",
              "\n",
              "    [theme=dark] .colab-df-convert {\n",
              "      background-color: #3B4455;\n",
              "      fill: #D2E3FC;\n",
              "    }\n",
              "\n",
              "    [theme=dark] .colab-df-convert:hover {\n",
              "      background-color: #434B5C;\n",
              "      box-shadow: 0px 1px 3px 1px rgba(0, 0, 0, 0.15);\n",
              "      filter: drop-shadow(0px 1px 2px rgba(0, 0, 0, 0.3));\n",
              "      fill: #FFFFFF;\n",
              "    }\n",
              "  </style>\n",
              "\n",
              "      <script>\n",
              "        const buttonEl =\n",
              "          document.querySelector('#df-8d475c4c-1116-49f0-a03f-c70eb1af838c button.colab-df-convert');\n",
              "        buttonEl.style.display =\n",
              "          google.colab.kernel.accessAllowed ? 'block' : 'none';\n",
              "\n",
              "        async function convertToInteractive(key) {\n",
              "          const element = document.querySelector('#df-8d475c4c-1116-49f0-a03f-c70eb1af838c');\n",
              "          const dataTable =\n",
              "            await google.colab.kernel.invokeFunction('convertToInteractive',\n",
              "                                                     [key], {});\n",
              "          if (!dataTable) return;\n",
              "\n",
              "          const docLinkHtml = 'Like what you see? Visit the ' +\n",
              "            '<a target=\"_blank\" href=https://colab.research.google.com/notebooks/data_table.ipynb>data table notebook</a>'\n",
              "            + ' to learn more about interactive tables.';\n",
              "          element.innerHTML = '';\n",
              "          dataTable['output_type'] = 'display_data';\n",
              "          await google.colab.output.renderOutput(dataTable, element);\n",
              "          const docLink = document.createElement('div');\n",
              "          docLink.innerHTML = docLinkHtml;\n",
              "          element.appendChild(docLink);\n",
              "        }\n",
              "      </script>\n",
              "    </div>\n",
              "  </div>\n",
              "  "
            ]
          },
          "metadata": {},
          "execution_count": 208
        }
      ]
    },
    {
      "cell_type": "markdown",
      "source": [
        "### Join dataframes"
      ],
      "metadata": {
        "id": "l-TJHO8fTDhn"
      }
    },
    {
      "cell_type": "markdown",
      "source": [
        "### Assignment 16"
      ],
      "metadata": {
        "id": "23_EZFIn5r0r"
      }
    },
    {
      "cell_type": "code",
      "source": [
        "#### Join dfs ---------\n",
        "\n",
        "# create another dataframe df2\n",
        "\n",
        "# Define a dictionary called 'data' containing employee information\n",
        "data = {'Name':['Matt', 'Joe'],\n",
        "        'Age':[65, 43 ],\n",
        "        'Address':['Monge', 'Chatelet'],\n",
        "        'Country' : ['France', 'France'],\n",
        "        'Qualification':[ 'MCA', 'Phd']}\n",
        " \n",
        "# Convert the dictionary into DataFrame and call it df2\n",
        "\n",
        "# your code here ...\n"
      ],
      "metadata": {
        "id": "opNOR0hXTGxa"
      },
      "execution_count": 209,
      "outputs": []
    },
    {
      "cell_type": "code",
      "source": [
        "#@title Display Solution 16\n",
        "\n",
        "# Define a dictionary containing employee data\n",
        "data = {'Name':['Matt', 'Joe'],\n",
        "        'Age':[65, 43 ],\n",
        "        'Address':['Monge', 'Chatelet'],\n",
        "        'Country' : ['France', 'France'],\n",
        "        'Qualification':[ 'MCA', 'Phd']}\n",
        "\n",
        "# Load the data into DataFrame and call it df2\n",
        "df2 = pd.DataFrame(data)\n",
        "\n",
        "# visualize the new df2\n",
        "df2"
      ],
      "metadata": {
        "id": "l126o6SfTT6m",
        "cellView": "form",
        "colab": {
          "base_uri": "https://localhost:8080/",
          "height": 112
        },
        "outputId": "ea9cbe49-7eb2-4ed9-a0b9-780cdc23b3d1"
      },
      "execution_count": 210,
      "outputs": [
        {
          "output_type": "execute_result",
          "data": {
            "text/plain": [
              "   Name  Age   Address Country Qualification\n",
              "0  Matt   65     Monge  France           MCA\n",
              "1   Joe   43  Chatelet  France           Phd"
            ],
            "text/html": [
              "\n",
              "  <div id=\"df-e3b0153b-8597-45ad-abd0-8ca407827eb3\">\n",
              "    <div class=\"colab-df-container\">\n",
              "      <div>\n",
              "<style scoped>\n",
              "    .dataframe tbody tr th:only-of-type {\n",
              "        vertical-align: middle;\n",
              "    }\n",
              "\n",
              "    .dataframe tbody tr th {\n",
              "        vertical-align: top;\n",
              "    }\n",
              "\n",
              "    .dataframe thead th {\n",
              "        text-align: right;\n",
              "    }\n",
              "</style>\n",
              "<table border=\"1\" class=\"dataframe\">\n",
              "  <thead>\n",
              "    <tr style=\"text-align: right;\">\n",
              "      <th></th>\n",
              "      <th>Name</th>\n",
              "      <th>Age</th>\n",
              "      <th>Address</th>\n",
              "      <th>Country</th>\n",
              "      <th>Qualification</th>\n",
              "    </tr>\n",
              "  </thead>\n",
              "  <tbody>\n",
              "    <tr>\n",
              "      <th>0</th>\n",
              "      <td>Matt</td>\n",
              "      <td>65</td>\n",
              "      <td>Monge</td>\n",
              "      <td>France</td>\n",
              "      <td>MCA</td>\n",
              "    </tr>\n",
              "    <tr>\n",
              "      <th>1</th>\n",
              "      <td>Joe</td>\n",
              "      <td>43</td>\n",
              "      <td>Chatelet</td>\n",
              "      <td>France</td>\n",
              "      <td>Phd</td>\n",
              "    </tr>\n",
              "  </tbody>\n",
              "</table>\n",
              "</div>\n",
              "      <button class=\"colab-df-convert\" onclick=\"convertToInteractive('df-e3b0153b-8597-45ad-abd0-8ca407827eb3')\"\n",
              "              title=\"Convert this dataframe to an interactive table.\"\n",
              "              style=\"display:none;\">\n",
              "        \n",
              "  <svg xmlns=\"http://www.w3.org/2000/svg\" height=\"24px\"viewBox=\"0 0 24 24\"\n",
              "       width=\"24px\">\n",
              "    <path d=\"M0 0h24v24H0V0z\" fill=\"none\"/>\n",
              "    <path d=\"M18.56 5.44l.94 2.06.94-2.06 2.06-.94-2.06-.94-.94-2.06-.94 2.06-2.06.94zm-11 1L8.5 8.5l.94-2.06 2.06-.94-2.06-.94L8.5 2.5l-.94 2.06-2.06.94zm10 10l.94 2.06.94-2.06 2.06-.94-2.06-.94-.94-2.06-.94 2.06-2.06.94z\"/><path d=\"M17.41 7.96l-1.37-1.37c-.4-.4-.92-.59-1.43-.59-.52 0-1.04.2-1.43.59L10.3 9.45l-7.72 7.72c-.78.78-.78 2.05 0 2.83L4 21.41c.39.39.9.59 1.41.59.51 0 1.02-.2 1.41-.59l7.78-7.78 2.81-2.81c.8-.78.8-2.07 0-2.86zM5.41 20L4 18.59l7.72-7.72 1.47 1.35L5.41 20z\"/>\n",
              "  </svg>\n",
              "      </button>\n",
              "      \n",
              "  <style>\n",
              "    .colab-df-container {\n",
              "      display:flex;\n",
              "      flex-wrap:wrap;\n",
              "      gap: 12px;\n",
              "    }\n",
              "\n",
              "    .colab-df-convert {\n",
              "      background-color: #E8F0FE;\n",
              "      border: none;\n",
              "      border-radius: 50%;\n",
              "      cursor: pointer;\n",
              "      display: none;\n",
              "      fill: #1967D2;\n",
              "      height: 32px;\n",
              "      padding: 0 0 0 0;\n",
              "      width: 32px;\n",
              "    }\n",
              "\n",
              "    .colab-df-convert:hover {\n",
              "      background-color: #E2EBFA;\n",
              "      box-shadow: 0px 1px 2px rgba(60, 64, 67, 0.3), 0px 1px 3px 1px rgba(60, 64, 67, 0.15);\n",
              "      fill: #174EA6;\n",
              "    }\n",
              "\n",
              "    [theme=dark] .colab-df-convert {\n",
              "      background-color: #3B4455;\n",
              "      fill: #D2E3FC;\n",
              "    }\n",
              "\n",
              "    [theme=dark] .colab-df-convert:hover {\n",
              "      background-color: #434B5C;\n",
              "      box-shadow: 0px 1px 3px 1px rgba(0, 0, 0, 0.15);\n",
              "      filter: drop-shadow(0px 1px 2px rgba(0, 0, 0, 0.3));\n",
              "      fill: #FFFFFF;\n",
              "    }\n",
              "  </style>\n",
              "\n",
              "      <script>\n",
              "        const buttonEl =\n",
              "          document.querySelector('#df-e3b0153b-8597-45ad-abd0-8ca407827eb3 button.colab-df-convert');\n",
              "        buttonEl.style.display =\n",
              "          google.colab.kernel.accessAllowed ? 'block' : 'none';\n",
              "\n",
              "        async function convertToInteractive(key) {\n",
              "          const element = document.querySelector('#df-e3b0153b-8597-45ad-abd0-8ca407827eb3');\n",
              "          const dataTable =\n",
              "            await google.colab.kernel.invokeFunction('convertToInteractive',\n",
              "                                                     [key], {});\n",
              "          if (!dataTable) return;\n",
              "\n",
              "          const docLinkHtml = 'Like what you see? Visit the ' +\n",
              "            '<a target=\"_blank\" href=https://colab.research.google.com/notebooks/data_table.ipynb>data table notebook</a>'\n",
              "            + ' to learn more about interactive tables.';\n",
              "          element.innerHTML = '';\n",
              "          dataTable['output_type'] = 'display_data';\n",
              "          await google.colab.output.renderOutput(dataTable, element);\n",
              "          const docLink = document.createElement('div');\n",
              "          docLink.innerHTML = docLinkHtml;\n",
              "          element.appendChild(docLink);\n",
              "        }\n",
              "      </script>\n",
              "    </div>\n",
              "  </div>\n",
              "  "
            ]
          },
          "metadata": {},
          "execution_count": 210
        }
      ]
    },
    {
      "cell_type": "markdown",
      "source": [
        "### Assignment 17"
      ],
      "metadata": {
        "id": "5I9lcuaJ5u1D"
      }
    },
    {
      "cell_type": "code",
      "source": [
        "# joinf df1 and df2 into a new dataframe df\n",
        "\n",
        "# ...keep in mind that the 2 dataframes are not structured in the same manner\n",
        "# ...for convinience, visualize the 2 df in diferent code cells, in order to compare them..\n",
        "\n",
        "# ...first, you'll need to harmonise the dfs structure, so we reset the index of df2 (by specifying that column Name should be used as an index)\n",
        "\n",
        "# your code here\n"
      ],
      "metadata": {
        "id": "NCmjJSWLT6HR"
      },
      "execution_count": 211,
      "outputs": []
    },
    {
      "cell_type": "code",
      "source": [
        "#@title Display Solution 17\n",
        "\n",
        "\n",
        "# joinf df1 and df2 into a new dataframe df\n",
        "\n",
        "# keep in mind that the 2 dataframes are not structured in the same manner\n",
        "# df1 uses as index the column Name\n",
        "# df2 don't use column Name as a index ==> .set_index('Name)\n",
        "\n",
        "# ...for convinience, visualize the 2 df in diferent code cells, in order to compare them..\n",
        "\n",
        "# first, we need to harmonise the dfs structure, so we reset the index of df2(by specifying that column Name should be used as an index)\n",
        "df2 = df2.set_index('Name')\n",
        "\n",
        "# now you're ready to join the 2 dfs\n",
        "df = pd.concat([df1, df2]) # it will use the column names  to join by\n",
        "\n",
        "df"
      ],
      "metadata": {
        "id": "x09xQH3yUphM",
        "cellView": "form",
        "colab": {
          "base_uri": "https://localhost:8080/",
          "height": 269
        },
        "outputId": "7ea83af9-0710-4259-8b5b-fcef7c5a80dc"
      },
      "execution_count": 212,
      "outputs": [
        {
          "output_type": "execute_result",
          "data": {
            "text/plain": [
              "        Age   Address Country Qualification\n",
              "Name                                       \n",
              "Jai      27     Delhi   India           Phd\n",
              "Princi   24    Kanpur   India            MA\n",
              "Gaurav   22    Kanpur   India           MCA\n",
              "Anuj     32     Delhi   India           Phd\n",
              "Matt     65     Monge  France           MCA\n",
              "Joe      43  Chatelet  France           Phd"
            ],
            "text/html": [
              "\n",
              "  <div id=\"df-45bd6084-1b73-4823-90b4-f5b7b68fd6bb\">\n",
              "    <div class=\"colab-df-container\">\n",
              "      <div>\n",
              "<style scoped>\n",
              "    .dataframe tbody tr th:only-of-type {\n",
              "        vertical-align: middle;\n",
              "    }\n",
              "\n",
              "    .dataframe tbody tr th {\n",
              "        vertical-align: top;\n",
              "    }\n",
              "\n",
              "    .dataframe thead th {\n",
              "        text-align: right;\n",
              "    }\n",
              "</style>\n",
              "<table border=\"1\" class=\"dataframe\">\n",
              "  <thead>\n",
              "    <tr style=\"text-align: right;\">\n",
              "      <th></th>\n",
              "      <th>Age</th>\n",
              "      <th>Address</th>\n",
              "      <th>Country</th>\n",
              "      <th>Qualification</th>\n",
              "    </tr>\n",
              "    <tr>\n",
              "      <th>Name</th>\n",
              "      <th></th>\n",
              "      <th></th>\n",
              "      <th></th>\n",
              "      <th></th>\n",
              "    </tr>\n",
              "  </thead>\n",
              "  <tbody>\n",
              "    <tr>\n",
              "      <th>Jai</th>\n",
              "      <td>27</td>\n",
              "      <td>Delhi</td>\n",
              "      <td>India</td>\n",
              "      <td>Phd</td>\n",
              "    </tr>\n",
              "    <tr>\n",
              "      <th>Princi</th>\n",
              "      <td>24</td>\n",
              "      <td>Kanpur</td>\n",
              "      <td>India</td>\n",
              "      <td>MA</td>\n",
              "    </tr>\n",
              "    <tr>\n",
              "      <th>Gaurav</th>\n",
              "      <td>22</td>\n",
              "      <td>Kanpur</td>\n",
              "      <td>India</td>\n",
              "      <td>MCA</td>\n",
              "    </tr>\n",
              "    <tr>\n",
              "      <th>Anuj</th>\n",
              "      <td>32</td>\n",
              "      <td>Delhi</td>\n",
              "      <td>India</td>\n",
              "      <td>Phd</td>\n",
              "    </tr>\n",
              "    <tr>\n",
              "      <th>Matt</th>\n",
              "      <td>65</td>\n",
              "      <td>Monge</td>\n",
              "      <td>France</td>\n",
              "      <td>MCA</td>\n",
              "    </tr>\n",
              "    <tr>\n",
              "      <th>Joe</th>\n",
              "      <td>43</td>\n",
              "      <td>Chatelet</td>\n",
              "      <td>France</td>\n",
              "      <td>Phd</td>\n",
              "    </tr>\n",
              "  </tbody>\n",
              "</table>\n",
              "</div>\n",
              "      <button class=\"colab-df-convert\" onclick=\"convertToInteractive('df-45bd6084-1b73-4823-90b4-f5b7b68fd6bb')\"\n",
              "              title=\"Convert this dataframe to an interactive table.\"\n",
              "              style=\"display:none;\">\n",
              "        \n",
              "  <svg xmlns=\"http://www.w3.org/2000/svg\" height=\"24px\"viewBox=\"0 0 24 24\"\n",
              "       width=\"24px\">\n",
              "    <path d=\"M0 0h24v24H0V0z\" fill=\"none\"/>\n",
              "    <path d=\"M18.56 5.44l.94 2.06.94-2.06 2.06-.94-2.06-.94-.94-2.06-.94 2.06-2.06.94zm-11 1L8.5 8.5l.94-2.06 2.06-.94-2.06-.94L8.5 2.5l-.94 2.06-2.06.94zm10 10l.94 2.06.94-2.06 2.06-.94-2.06-.94-.94-2.06-.94 2.06-2.06.94z\"/><path d=\"M17.41 7.96l-1.37-1.37c-.4-.4-.92-.59-1.43-.59-.52 0-1.04.2-1.43.59L10.3 9.45l-7.72 7.72c-.78.78-.78 2.05 0 2.83L4 21.41c.39.39.9.59 1.41.59.51 0 1.02-.2 1.41-.59l7.78-7.78 2.81-2.81c.8-.78.8-2.07 0-2.86zM5.41 20L4 18.59l7.72-7.72 1.47 1.35L5.41 20z\"/>\n",
              "  </svg>\n",
              "      </button>\n",
              "      \n",
              "  <style>\n",
              "    .colab-df-container {\n",
              "      display:flex;\n",
              "      flex-wrap:wrap;\n",
              "      gap: 12px;\n",
              "    }\n",
              "\n",
              "    .colab-df-convert {\n",
              "      background-color: #E8F0FE;\n",
              "      border: none;\n",
              "      border-radius: 50%;\n",
              "      cursor: pointer;\n",
              "      display: none;\n",
              "      fill: #1967D2;\n",
              "      height: 32px;\n",
              "      padding: 0 0 0 0;\n",
              "      width: 32px;\n",
              "    }\n",
              "\n",
              "    .colab-df-convert:hover {\n",
              "      background-color: #E2EBFA;\n",
              "      box-shadow: 0px 1px 2px rgba(60, 64, 67, 0.3), 0px 1px 3px 1px rgba(60, 64, 67, 0.15);\n",
              "      fill: #174EA6;\n",
              "    }\n",
              "\n",
              "    [theme=dark] .colab-df-convert {\n",
              "      background-color: #3B4455;\n",
              "      fill: #D2E3FC;\n",
              "    }\n",
              "\n",
              "    [theme=dark] .colab-df-convert:hover {\n",
              "      background-color: #434B5C;\n",
              "      box-shadow: 0px 1px 3px 1px rgba(0, 0, 0, 0.15);\n",
              "      filter: drop-shadow(0px 1px 2px rgba(0, 0, 0, 0.3));\n",
              "      fill: #FFFFFF;\n",
              "    }\n",
              "  </style>\n",
              "\n",
              "      <script>\n",
              "        const buttonEl =\n",
              "          document.querySelector('#df-45bd6084-1b73-4823-90b4-f5b7b68fd6bb button.colab-df-convert');\n",
              "        buttonEl.style.display =\n",
              "          google.colab.kernel.accessAllowed ? 'block' : 'none';\n",
              "\n",
              "        async function convertToInteractive(key) {\n",
              "          const element = document.querySelector('#df-45bd6084-1b73-4823-90b4-f5b7b68fd6bb');\n",
              "          const dataTable =\n",
              "            await google.colab.kernel.invokeFunction('convertToInteractive',\n",
              "                                                     [key], {});\n",
              "          if (!dataTable) return;\n",
              "\n",
              "          const docLinkHtml = 'Like what you see? Visit the ' +\n",
              "            '<a target=\"_blank\" href=https://colab.research.google.com/notebooks/data_table.ipynb>data table notebook</a>'\n",
              "            + ' to learn more about interactive tables.';\n",
              "          element.innerHTML = '';\n",
              "          dataTable['output_type'] = 'display_data';\n",
              "          await google.colab.output.renderOutput(dataTable, element);\n",
              "          const docLink = document.createElement('div');\n",
              "          docLink.innerHTML = docLinkHtml;\n",
              "          element.appendChild(docLink);\n",
              "        }\n",
              "      </script>\n",
              "    </div>\n",
              "  </div>\n",
              "  "
            ]
          },
          "metadata": {},
          "execution_count": 212
        }
      ]
    },
    {
      "cell_type": "markdown",
      "source": [
        "### Assignment 18"
      ],
      "metadata": {
        "id": "8DXxKkwy5xG2"
      }
    },
    {
      "cell_type": "code",
      "source": [
        "# check the dimension of the new joined df\n",
        "\n",
        "# your code here"
      ],
      "metadata": {
        "id": "3SMJFg39T7_4"
      },
      "execution_count": 213,
      "outputs": []
    },
    {
      "cell_type": "code",
      "source": [
        "#@title Display Solution 18\n",
        "\n",
        "# check the dimension of the new joined df\n",
        "\n",
        "df.shape"
      ],
      "metadata": {
        "id": "GhrbfHJHUww_",
        "cellView": "form",
        "colab": {
          "base_uri": "https://localhost:8080/"
        },
        "outputId": "62dddf45-a03f-4b78-bd4c-0b06a56791b0"
      },
      "execution_count": 214,
      "outputs": [
        {
          "output_type": "execute_result",
          "data": {
            "text/plain": [
              "(6, 4)"
            ]
          },
          "metadata": {},
          "execution_count": 214
        }
      ]
    },
    {
      "cell_type": "markdown",
      "source": [
        "### Assignment 19"
      ],
      "metadata": {
        "id": "3vXfYcdo5zC3"
      }
    },
    {
      "cell_type": "code",
      "source": [
        "#### Modify df2 ----------\n",
        "\n",
        "# add a new row ['Calib', '34', 'Monge', 'France', 'Phd'] ==> (with .loc)\n",
        "# check again the dimensions of the modified df\n",
        "\n",
        "# your code here ...\n"
      ],
      "metadata": {
        "id": "AfW5lBUGUCYL"
      },
      "execution_count": 215,
      "outputs": []
    },
    {
      "cell_type": "code",
      "source": [
        "#@title Display Solution 19\n",
        "\n",
        "# add a new row ['Calib', '34', 'Monge', 'Phd']\n",
        "\n",
        "df.loc['Calib']= ['34', 'Monge', 'France', 'Phd']\n",
        "\n",
        "# check again the dimensions of the modified df\n",
        "print(df.shape)\n",
        "\n",
        "df\n",
        "\n"
      ],
      "metadata": {
        "id": "U7MKISr_U1Y3",
        "cellView": "form",
        "colab": {
          "base_uri": "https://localhost:8080/",
          "height": 317
        },
        "outputId": "06c248d7-cba5-4288-acd7-c5d4e1bf3d43"
      },
      "execution_count": 216,
      "outputs": [
        {
          "output_type": "stream",
          "name": "stdout",
          "text": [
            "(7, 4)\n"
          ]
        },
        {
          "output_type": "execute_result",
          "data": {
            "text/plain": [
              "       Age   Address Country Qualification\n",
              "Name                                      \n",
              "Jai     27     Delhi   India           Phd\n",
              "Princi  24    Kanpur   India            MA\n",
              "Gaurav  22    Kanpur   India           MCA\n",
              "Anuj    32     Delhi   India           Phd\n",
              "Matt    65     Monge  France           MCA\n",
              "Joe     43  Chatelet  France           Phd\n",
              "Calib   34     Monge  France           Phd"
            ],
            "text/html": [
              "\n",
              "  <div id=\"df-7160c0ab-4944-4325-a164-c85cd0ad56f9\">\n",
              "    <div class=\"colab-df-container\">\n",
              "      <div>\n",
              "<style scoped>\n",
              "    .dataframe tbody tr th:only-of-type {\n",
              "        vertical-align: middle;\n",
              "    }\n",
              "\n",
              "    .dataframe tbody tr th {\n",
              "        vertical-align: top;\n",
              "    }\n",
              "\n",
              "    .dataframe thead th {\n",
              "        text-align: right;\n",
              "    }\n",
              "</style>\n",
              "<table border=\"1\" class=\"dataframe\">\n",
              "  <thead>\n",
              "    <tr style=\"text-align: right;\">\n",
              "      <th></th>\n",
              "      <th>Age</th>\n",
              "      <th>Address</th>\n",
              "      <th>Country</th>\n",
              "      <th>Qualification</th>\n",
              "    </tr>\n",
              "    <tr>\n",
              "      <th>Name</th>\n",
              "      <th></th>\n",
              "      <th></th>\n",
              "      <th></th>\n",
              "      <th></th>\n",
              "    </tr>\n",
              "  </thead>\n",
              "  <tbody>\n",
              "    <tr>\n",
              "      <th>Jai</th>\n",
              "      <td>27</td>\n",
              "      <td>Delhi</td>\n",
              "      <td>India</td>\n",
              "      <td>Phd</td>\n",
              "    </tr>\n",
              "    <tr>\n",
              "      <th>Princi</th>\n",
              "      <td>24</td>\n",
              "      <td>Kanpur</td>\n",
              "      <td>India</td>\n",
              "      <td>MA</td>\n",
              "    </tr>\n",
              "    <tr>\n",
              "      <th>Gaurav</th>\n",
              "      <td>22</td>\n",
              "      <td>Kanpur</td>\n",
              "      <td>India</td>\n",
              "      <td>MCA</td>\n",
              "    </tr>\n",
              "    <tr>\n",
              "      <th>Anuj</th>\n",
              "      <td>32</td>\n",
              "      <td>Delhi</td>\n",
              "      <td>India</td>\n",
              "      <td>Phd</td>\n",
              "    </tr>\n",
              "    <tr>\n",
              "      <th>Matt</th>\n",
              "      <td>65</td>\n",
              "      <td>Monge</td>\n",
              "      <td>France</td>\n",
              "      <td>MCA</td>\n",
              "    </tr>\n",
              "    <tr>\n",
              "      <th>Joe</th>\n",
              "      <td>43</td>\n",
              "      <td>Chatelet</td>\n",
              "      <td>France</td>\n",
              "      <td>Phd</td>\n",
              "    </tr>\n",
              "    <tr>\n",
              "      <th>Calib</th>\n",
              "      <td>34</td>\n",
              "      <td>Monge</td>\n",
              "      <td>France</td>\n",
              "      <td>Phd</td>\n",
              "    </tr>\n",
              "  </tbody>\n",
              "</table>\n",
              "</div>\n",
              "      <button class=\"colab-df-convert\" onclick=\"convertToInteractive('df-7160c0ab-4944-4325-a164-c85cd0ad56f9')\"\n",
              "              title=\"Convert this dataframe to an interactive table.\"\n",
              "              style=\"display:none;\">\n",
              "        \n",
              "  <svg xmlns=\"http://www.w3.org/2000/svg\" height=\"24px\"viewBox=\"0 0 24 24\"\n",
              "       width=\"24px\">\n",
              "    <path d=\"M0 0h24v24H0V0z\" fill=\"none\"/>\n",
              "    <path d=\"M18.56 5.44l.94 2.06.94-2.06 2.06-.94-2.06-.94-.94-2.06-.94 2.06-2.06.94zm-11 1L8.5 8.5l.94-2.06 2.06-.94-2.06-.94L8.5 2.5l-.94 2.06-2.06.94zm10 10l.94 2.06.94-2.06 2.06-.94-2.06-.94-.94-2.06-.94 2.06-2.06.94z\"/><path d=\"M17.41 7.96l-1.37-1.37c-.4-.4-.92-.59-1.43-.59-.52 0-1.04.2-1.43.59L10.3 9.45l-7.72 7.72c-.78.78-.78 2.05 0 2.83L4 21.41c.39.39.9.59 1.41.59.51 0 1.02-.2 1.41-.59l7.78-7.78 2.81-2.81c.8-.78.8-2.07 0-2.86zM5.41 20L4 18.59l7.72-7.72 1.47 1.35L5.41 20z\"/>\n",
              "  </svg>\n",
              "      </button>\n",
              "      \n",
              "  <style>\n",
              "    .colab-df-container {\n",
              "      display:flex;\n",
              "      flex-wrap:wrap;\n",
              "      gap: 12px;\n",
              "    }\n",
              "\n",
              "    .colab-df-convert {\n",
              "      background-color: #E8F0FE;\n",
              "      border: none;\n",
              "      border-radius: 50%;\n",
              "      cursor: pointer;\n",
              "      display: none;\n",
              "      fill: #1967D2;\n",
              "      height: 32px;\n",
              "      padding: 0 0 0 0;\n",
              "      width: 32px;\n",
              "    }\n",
              "\n",
              "    .colab-df-convert:hover {\n",
              "      background-color: #E2EBFA;\n",
              "      box-shadow: 0px 1px 2px rgba(60, 64, 67, 0.3), 0px 1px 3px 1px rgba(60, 64, 67, 0.15);\n",
              "      fill: #174EA6;\n",
              "    }\n",
              "\n",
              "    [theme=dark] .colab-df-convert {\n",
              "      background-color: #3B4455;\n",
              "      fill: #D2E3FC;\n",
              "    }\n",
              "\n",
              "    [theme=dark] .colab-df-convert:hover {\n",
              "      background-color: #434B5C;\n",
              "      box-shadow: 0px 1px 3px 1px rgba(0, 0, 0, 0.15);\n",
              "      filter: drop-shadow(0px 1px 2px rgba(0, 0, 0, 0.3));\n",
              "      fill: #FFFFFF;\n",
              "    }\n",
              "  </style>\n",
              "\n",
              "      <script>\n",
              "        const buttonEl =\n",
              "          document.querySelector('#df-7160c0ab-4944-4325-a164-c85cd0ad56f9 button.colab-df-convert');\n",
              "        buttonEl.style.display =\n",
              "          google.colab.kernel.accessAllowed ? 'block' : 'none';\n",
              "\n",
              "        async function convertToInteractive(key) {\n",
              "          const element = document.querySelector('#df-7160c0ab-4944-4325-a164-c85cd0ad56f9');\n",
              "          const dataTable =\n",
              "            await google.colab.kernel.invokeFunction('convertToInteractive',\n",
              "                                                     [key], {});\n",
              "          if (!dataTable) return;\n",
              "\n",
              "          const docLinkHtml = 'Like what you see? Visit the ' +\n",
              "            '<a target=\"_blank\" href=https://colab.research.google.com/notebooks/data_table.ipynb>data table notebook</a>'\n",
              "            + ' to learn more about interactive tables.';\n",
              "          element.innerHTML = '';\n",
              "          dataTable['output_type'] = 'display_data';\n",
              "          await google.colab.output.renderOutput(dataTable, element);\n",
              "          const docLink = document.createElement('div');\n",
              "          docLink.innerHTML = docLinkHtml;\n",
              "          element.appendChild(docLink);\n",
              "        }\n",
              "      </script>\n",
              "    </div>\n",
              "  </div>\n",
              "  "
            ]
          },
          "metadata": {},
          "execution_count": 216
        }
      ]
    },
    {
      "cell_type": "markdown",
      "source": [
        "### Assignment 20"
      ],
      "metadata": {
        "id": "-g0og0kc51K_"
      }
    },
    {
      "cell_type": "code",
      "source": [
        "# Matt has changed the address from 'Monge' to 'LA Défense' or 'La Défense' \n",
        "\n",
        "# update the dataframe accordingly using  .iloc method for 'LA Défense' \n",
        "## ==> you'll need to locate the indices (numeric) where: row = 'Matt', and column='Address'\n",
        "# visualize the output after update\n",
        "\n",
        "# and using  .loc method for 'La Defense'\n",
        "# visualize the output after update\n",
        "\n",
        "# your code here..."
      ],
      "metadata": {
        "id": "dX0NWudMUI6u"
      },
      "execution_count": 217,
      "outputs": []
    },
    {
      "cell_type": "code",
      "source": [
        "#@title Display Solution 20\n",
        "\n",
        "# update the dataframe accordingly using  .iloc method for 'LA Defense'\n",
        "\n",
        "df.iloc[4,1] = 'LA Defense'\n",
        "# check if you got the wanted output\n",
        "print(df)\n",
        "print('')\n",
        "\n",
        "# and using  .loc method for 'La Defense'\n",
        "df.loc['Matt', 'Address']= 'La Defense'\n",
        "# check if you got the wanted output\n",
        "print(df)\n",
        "print('')\n"
      ],
      "metadata": {
        "id": "ZmKwLtmsU3OH",
        "cellView": "form",
        "colab": {
          "base_uri": "https://localhost:8080/"
        },
        "outputId": "a12ba7b8-194c-4bfc-f6b6-999c80a1d147"
      },
      "execution_count": 218,
      "outputs": [
        {
          "output_type": "stream",
          "name": "stdout",
          "text": [
            "       Age     Address Country Qualification\n",
            "Name                                        \n",
            "Jai     27       Delhi   India           Phd\n",
            "Princi  24      Kanpur   India            MA\n",
            "Gaurav  22      Kanpur   India           MCA\n",
            "Anuj    32       Delhi   India           Phd\n",
            "Matt    65  LA Defense  France           MCA\n",
            "Joe     43    Chatelet  France           Phd\n",
            "Calib   34       Monge  France           Phd\n",
            "\n",
            "       Age     Address Country Qualification\n",
            "Name                                        \n",
            "Jai     27       Delhi   India           Phd\n",
            "Princi  24      Kanpur   India            MA\n",
            "Gaurav  22      Kanpur   India           MCA\n",
            "Anuj    32       Delhi   India           Phd\n",
            "Matt    65  La Defense  France           MCA\n",
            "Joe     43    Chatelet  France           Phd\n",
            "Calib   34       Monge  France           Phd\n",
            "\n"
          ]
        }
      ]
    },
    {
      "cell_type": "markdown",
      "source": [
        "### Explore df, convert columns Dtype"
      ],
      "metadata": {
        "id": "YJRceUHbUTcD"
      }
    },
    {
      "cell_type": "markdown",
      "source": [
        "### Assignment 21"
      ],
      "metadata": {
        "id": "7l5HAkhU53n6"
      }
    },
    {
      "cell_type": "code",
      "source": [
        "#### Explore df ------------\n",
        "\n",
        "# what data types are the columns ==> use .info() method\n",
        "# convert Age into a numeric Dtype\n",
        "\n",
        "# your code here\n"
      ],
      "metadata": {
        "id": "mXeSU9a5UN_3"
      },
      "execution_count": 219,
      "outputs": []
    },
    {
      "cell_type": "code",
      "source": [
        "#@title Display Solution 21\n",
        "\n",
        "# general info of df ==> have a closer look at \"Age\" column ..\n",
        "\n",
        "df.info()"
      ],
      "metadata": {
        "id": "9ksYhRnGU5NI",
        "cellView": "form",
        "colab": {
          "base_uri": "https://localhost:8080/"
        },
        "outputId": "a5f1d370-31af-46d8-8bf1-637e44ebe113"
      },
      "execution_count": 220,
      "outputs": [
        {
          "output_type": "stream",
          "name": "stdout",
          "text": [
            "<class 'pandas.core.frame.DataFrame'>\n",
            "Index: 7 entries, Jai to Calib\n",
            "Data columns (total 4 columns):\n",
            " #   Column         Non-Null Count  Dtype \n",
            "---  ------         --------------  ----- \n",
            " 0   Age            7 non-null      object\n",
            " 1   Address        7 non-null      object\n",
            " 2   Country        7 non-null      object\n",
            " 3   Qualification  7 non-null      object\n",
            "dtypes: object(4)\n",
            "memory usage: 580.0+ bytes\n"
          ]
        }
      ]
    },
    {
      "cell_type": "code",
      "source": [
        "#@title Display Solution 21.1\n",
        "\n",
        "# when executing df.info() you can see that the column 'Age' has a data type (Dtype) as 'object' (think of it as a string)\n",
        "\n",
        "# if in the future we'll want to do some calculations with column 'Age' we need to to convert it to a numeric data type\n",
        "# convert column of a DataFrame\n",
        "df[\"Age\"] = pd.to_numeric(df[\"Age\"])\n",
        "\n",
        "# check again the Dtypes\n",
        "df.info()"
      ],
      "metadata": {
        "cellView": "form",
        "id": "Uh4-6hjOjamJ",
        "colab": {
          "base_uri": "https://localhost:8080/"
        },
        "outputId": "ad220e7d-25fa-44e7-fd21-f1b004eb4458"
      },
      "execution_count": 221,
      "outputs": [
        {
          "output_type": "stream",
          "name": "stdout",
          "text": [
            "<class 'pandas.core.frame.DataFrame'>\n",
            "Index: 7 entries, Jai to Calib\n",
            "Data columns (total 4 columns):\n",
            " #   Column         Non-Null Count  Dtype \n",
            "---  ------         --------------  ----- \n",
            " 0   Age            7 non-null      int64 \n",
            " 1   Address        7 non-null      object\n",
            " 2   Country        7 non-null      object\n",
            " 3   Qualification  7 non-null      object\n",
            "dtypes: int64(1), object(3)\n",
            "memory usage: 580.0+ bytes\n"
          ]
        }
      ]
    },
    {
      "cell_type": "markdown",
      "source": [
        "### Groupby"
      ],
      "metadata": {
        "id": "YTUB1nbqVBKD"
      }
    },
    {
      "cell_type": "markdown",
      "source": [
        "### Assignment 22"
      ],
      "metadata": {
        "id": "qKR4SypJ57-_"
      }
    },
    {
      "cell_type": "code",
      "source": [
        "#### Groupby -----------\n",
        "\n",
        "# what's the average age of people by Qualification  ==> use .groupby method\n",
        "\n",
        "# your code here\n"
      ],
      "metadata": {
        "id": "JnFE8KS9UYTl"
      },
      "execution_count": 222,
      "outputs": []
    },
    {
      "cell_type": "code",
      "source": [
        "#@title Display Solution 22\n",
        "\n",
        "#check the mean age by city\n",
        "df.groupby(by=[\"Qualification\"])['Age'].mean()"
      ],
      "metadata": {
        "id": "lEDeBft9U8o4",
        "cellView": "form",
        "colab": {
          "base_uri": "https://localhost:8080/"
        },
        "outputId": "9e699d65-2497-4995-caa7-3a764768a132"
      },
      "execution_count": 223,
      "outputs": [
        {
          "output_type": "execute_result",
          "data": {
            "text/plain": [
              "Qualification\n",
              "MA     24.0\n",
              "MCA    43.5\n",
              "Phd    34.0\n",
              "Name: Age, dtype: float64"
            ]
          },
          "metadata": {},
          "execution_count": 223
        }
      ]
    },
    {
      "cell_type": "markdown",
      "source": [
        "### Assignment 23"
      ],
      "metadata": {
        "id": "79NlF34ykr0u"
      }
    },
    {
      "cell_type": "code",
      "source": [
        "#### Groupby -----------\n",
        "\n",
        "# what's the average age of people that have the  'Qualification' == 'Phd' \n",
        "# you can do it in 2 steps...\n",
        "\n",
        "# step 1\n",
        "\n",
        "# first, you'll nedd to filter the data of those that have a 'Phd' and save it into a new dataframed called 'filtered'\n",
        "# visualize the new df 'filtered'\n",
        "\n",
        "# step 2\n",
        "\n",
        "# then use .groupby method on the filter data\n",
        "\n",
        "# your code here"
      ],
      "metadata": {
        "id": "mFwkTdCYkx-a"
      },
      "execution_count": 224,
      "outputs": []
    },
    {
      "cell_type": "code",
      "source": [
        "#@title Display Solution 23.1\n",
        "\n",
        "filtered = df[df['Qualification']== 'Phd']\n",
        "filtered"
      ],
      "metadata": {
        "id": "hCIFkzT4kyi9",
        "cellView": "form",
        "colab": {
          "base_uri": "https://localhost:8080/",
          "height": 206
        },
        "outputId": "3d9b89e1-0f01-4ae5-8f66-364d94dfcc43"
      },
      "execution_count": 225,
      "outputs": [
        {
          "output_type": "execute_result",
          "data": {
            "text/plain": [
              "       Age   Address Country Qualification\n",
              "Name                                      \n",
              "Jai     27     Delhi   India           Phd\n",
              "Anuj    32     Delhi   India           Phd\n",
              "Joe     43  Chatelet  France           Phd\n",
              "Calib   34     Monge  France           Phd"
            ],
            "text/html": [
              "\n",
              "  <div id=\"df-5d827352-cd6c-4fb3-948f-d7323ac60213\">\n",
              "    <div class=\"colab-df-container\">\n",
              "      <div>\n",
              "<style scoped>\n",
              "    .dataframe tbody tr th:only-of-type {\n",
              "        vertical-align: middle;\n",
              "    }\n",
              "\n",
              "    .dataframe tbody tr th {\n",
              "        vertical-align: top;\n",
              "    }\n",
              "\n",
              "    .dataframe thead th {\n",
              "        text-align: right;\n",
              "    }\n",
              "</style>\n",
              "<table border=\"1\" class=\"dataframe\">\n",
              "  <thead>\n",
              "    <tr style=\"text-align: right;\">\n",
              "      <th></th>\n",
              "      <th>Age</th>\n",
              "      <th>Address</th>\n",
              "      <th>Country</th>\n",
              "      <th>Qualification</th>\n",
              "    </tr>\n",
              "    <tr>\n",
              "      <th>Name</th>\n",
              "      <th></th>\n",
              "      <th></th>\n",
              "      <th></th>\n",
              "      <th></th>\n",
              "    </tr>\n",
              "  </thead>\n",
              "  <tbody>\n",
              "    <tr>\n",
              "      <th>Jai</th>\n",
              "      <td>27</td>\n",
              "      <td>Delhi</td>\n",
              "      <td>India</td>\n",
              "      <td>Phd</td>\n",
              "    </tr>\n",
              "    <tr>\n",
              "      <th>Anuj</th>\n",
              "      <td>32</td>\n",
              "      <td>Delhi</td>\n",
              "      <td>India</td>\n",
              "      <td>Phd</td>\n",
              "    </tr>\n",
              "    <tr>\n",
              "      <th>Joe</th>\n",
              "      <td>43</td>\n",
              "      <td>Chatelet</td>\n",
              "      <td>France</td>\n",
              "      <td>Phd</td>\n",
              "    </tr>\n",
              "    <tr>\n",
              "      <th>Calib</th>\n",
              "      <td>34</td>\n",
              "      <td>Monge</td>\n",
              "      <td>France</td>\n",
              "      <td>Phd</td>\n",
              "    </tr>\n",
              "  </tbody>\n",
              "</table>\n",
              "</div>\n",
              "      <button class=\"colab-df-convert\" onclick=\"convertToInteractive('df-5d827352-cd6c-4fb3-948f-d7323ac60213')\"\n",
              "              title=\"Convert this dataframe to an interactive table.\"\n",
              "              style=\"display:none;\">\n",
              "        \n",
              "  <svg xmlns=\"http://www.w3.org/2000/svg\" height=\"24px\"viewBox=\"0 0 24 24\"\n",
              "       width=\"24px\">\n",
              "    <path d=\"M0 0h24v24H0V0z\" fill=\"none\"/>\n",
              "    <path d=\"M18.56 5.44l.94 2.06.94-2.06 2.06-.94-2.06-.94-.94-2.06-.94 2.06-2.06.94zm-11 1L8.5 8.5l.94-2.06 2.06-.94-2.06-.94L8.5 2.5l-.94 2.06-2.06.94zm10 10l.94 2.06.94-2.06 2.06-.94-2.06-.94-.94-2.06-.94 2.06-2.06.94z\"/><path d=\"M17.41 7.96l-1.37-1.37c-.4-.4-.92-.59-1.43-.59-.52 0-1.04.2-1.43.59L10.3 9.45l-7.72 7.72c-.78.78-.78 2.05 0 2.83L4 21.41c.39.39.9.59 1.41.59.51 0 1.02-.2 1.41-.59l7.78-7.78 2.81-2.81c.8-.78.8-2.07 0-2.86zM5.41 20L4 18.59l7.72-7.72 1.47 1.35L5.41 20z\"/>\n",
              "  </svg>\n",
              "      </button>\n",
              "      \n",
              "  <style>\n",
              "    .colab-df-container {\n",
              "      display:flex;\n",
              "      flex-wrap:wrap;\n",
              "      gap: 12px;\n",
              "    }\n",
              "\n",
              "    .colab-df-convert {\n",
              "      background-color: #E8F0FE;\n",
              "      border: none;\n",
              "      border-radius: 50%;\n",
              "      cursor: pointer;\n",
              "      display: none;\n",
              "      fill: #1967D2;\n",
              "      height: 32px;\n",
              "      padding: 0 0 0 0;\n",
              "      width: 32px;\n",
              "    }\n",
              "\n",
              "    .colab-df-convert:hover {\n",
              "      background-color: #E2EBFA;\n",
              "      box-shadow: 0px 1px 2px rgba(60, 64, 67, 0.3), 0px 1px 3px 1px rgba(60, 64, 67, 0.15);\n",
              "      fill: #174EA6;\n",
              "    }\n",
              "\n",
              "    [theme=dark] .colab-df-convert {\n",
              "      background-color: #3B4455;\n",
              "      fill: #D2E3FC;\n",
              "    }\n",
              "\n",
              "    [theme=dark] .colab-df-convert:hover {\n",
              "      background-color: #434B5C;\n",
              "      box-shadow: 0px 1px 3px 1px rgba(0, 0, 0, 0.15);\n",
              "      filter: drop-shadow(0px 1px 2px rgba(0, 0, 0, 0.3));\n",
              "      fill: #FFFFFF;\n",
              "    }\n",
              "  </style>\n",
              "\n",
              "      <script>\n",
              "        const buttonEl =\n",
              "          document.querySelector('#df-5d827352-cd6c-4fb3-948f-d7323ac60213 button.colab-df-convert');\n",
              "        buttonEl.style.display =\n",
              "          google.colab.kernel.accessAllowed ? 'block' : 'none';\n",
              "\n",
              "        async function convertToInteractive(key) {\n",
              "          const element = document.querySelector('#df-5d827352-cd6c-4fb3-948f-d7323ac60213');\n",
              "          const dataTable =\n",
              "            await google.colab.kernel.invokeFunction('convertToInteractive',\n",
              "                                                     [key], {});\n",
              "          if (!dataTable) return;\n",
              "\n",
              "          const docLinkHtml = 'Like what you see? Visit the ' +\n",
              "            '<a target=\"_blank\" href=https://colab.research.google.com/notebooks/data_table.ipynb>data table notebook</a>'\n",
              "            + ' to learn more about interactive tables.';\n",
              "          element.innerHTML = '';\n",
              "          dataTable['output_type'] = 'display_data';\n",
              "          await google.colab.output.renderOutput(dataTable, element);\n",
              "          const docLink = document.createElement('div');\n",
              "          docLink.innerHTML = docLinkHtml;\n",
              "          element.appendChild(docLink);\n",
              "        }\n",
              "      </script>\n",
              "    </div>\n",
              "  </div>\n",
              "  "
            ]
          },
          "metadata": {},
          "execution_count": 225
        }
      ]
    },
    {
      "cell_type": "code",
      "source": [
        "#@title Display Solution 23.2\n",
        "\n",
        "# step 2....\n",
        "\n",
        "# use .groupby method on the filter data\n",
        "filtered.groupby(by=[\"Qualification\"])['Age'].mean()"
      ],
      "metadata": {
        "id": "s9f9XPQQmivt",
        "cellView": "form",
        "colab": {
          "base_uri": "https://localhost:8080/"
        },
        "outputId": "56be208a-fabd-4530-8313-271efd111a15"
      },
      "execution_count": 226,
      "outputs": [
        {
          "output_type": "execute_result",
          "data": {
            "text/plain": [
              "Qualification\n",
              "Phd    34.0\n",
              "Name: Age, dtype: float64"
            ]
          },
          "metadata": {},
          "execution_count": 226
        }
      ]
    },
    {
      "cell_type": "markdown",
      "source": [
        "### Pivot"
      ],
      "metadata": {
        "id": "yT_U3i53VRoQ"
      }
    },
    {
      "cell_type": "markdown",
      "source": [
        "### Assignment 24"
      ],
      "metadata": {
        "id": "oOOIK5vA5-vH"
      }
    },
    {
      "cell_type": "code",
      "source": [
        "#### Pivot -----------\n",
        "\n",
        "# create a pivot table called 'pivot_table'\n",
        "#  where rows are the Adresses, \n",
        "#       columns their Qualifications, \n",
        "#                and values in the pivot table is the mean age\n",
        "\n",
        "## hint\n",
        "# first import numpy package as np as below\n",
        "\n",
        "import numpy as np\n",
        "\n",
        "# use pd.pivot_table() with necessary arguments\n",
        "\n",
        "# your code here ..."
      ],
      "metadata": {
        "id": "c4u4Z8dDz-pI"
      },
      "execution_count": 227,
      "outputs": []
    },
    {
      "cell_type": "code",
      "source": [
        "#@title Display Solution 24\n",
        "\n",
        "pivot_table = pd.pivot_table(df, # data to pivot\n",
        "                       # where rows are the Addresses and names\n",
        "                       index=['Address'], # Grouper, Keys to group by on the pivot table index.\n",
        "                       # columns their Qualification\n",
        "                       columns='Qualification', # column to aggregate\n",
        "                       # and values in the pivot table is the  age\n",
        "                       values=['Age'], # Keys to group by on the pivot table column., will be the columns value\n",
        "                       # and you want the avg of the value age (meaning the aggregation function ==> mean)\n",
        "                       aggfunc=np.mean)# the aggregation function\n",
        "\n",
        "pivot_table"
      ],
      "metadata": {
        "id": "rSZFcb0PVAKc",
        "cellView": "form",
        "colab": {
          "base_uri": "https://localhost:8080/",
          "height": 269
        },
        "outputId": "8d48826a-a8e6-4864-c32a-e049a247d8f5"
      },
      "execution_count": 228,
      "outputs": [
        {
          "output_type": "execute_result",
          "data": {
            "text/plain": [
              "                Age            \n",
              "Qualification    MA   MCA   Phd\n",
              "Address                        \n",
              "Chatelet        NaN   NaN  43.0\n",
              "Delhi           NaN   NaN  29.5\n",
              "Kanpur         24.0  22.0   NaN\n",
              "La Defense      NaN  65.0   NaN\n",
              "Monge           NaN   NaN  34.0"
            ],
            "text/html": [
              "\n",
              "  <div id=\"df-b40fa1bb-85de-4737-adc7-b13f8d2bf4fe\">\n",
              "    <div class=\"colab-df-container\">\n",
              "      <div>\n",
              "<style scoped>\n",
              "    .dataframe tbody tr th:only-of-type {\n",
              "        vertical-align: middle;\n",
              "    }\n",
              "\n",
              "    .dataframe tbody tr th {\n",
              "        vertical-align: top;\n",
              "    }\n",
              "\n",
              "    .dataframe thead tr th {\n",
              "        text-align: left;\n",
              "    }\n",
              "\n",
              "    .dataframe thead tr:last-of-type th {\n",
              "        text-align: right;\n",
              "    }\n",
              "</style>\n",
              "<table border=\"1\" class=\"dataframe\">\n",
              "  <thead>\n",
              "    <tr>\n",
              "      <th></th>\n",
              "      <th colspan=\"3\" halign=\"left\">Age</th>\n",
              "    </tr>\n",
              "    <tr>\n",
              "      <th>Qualification</th>\n",
              "      <th>MA</th>\n",
              "      <th>MCA</th>\n",
              "      <th>Phd</th>\n",
              "    </tr>\n",
              "    <tr>\n",
              "      <th>Address</th>\n",
              "      <th></th>\n",
              "      <th></th>\n",
              "      <th></th>\n",
              "    </tr>\n",
              "  </thead>\n",
              "  <tbody>\n",
              "    <tr>\n",
              "      <th>Chatelet</th>\n",
              "      <td>NaN</td>\n",
              "      <td>NaN</td>\n",
              "      <td>43.0</td>\n",
              "    </tr>\n",
              "    <tr>\n",
              "      <th>Delhi</th>\n",
              "      <td>NaN</td>\n",
              "      <td>NaN</td>\n",
              "      <td>29.5</td>\n",
              "    </tr>\n",
              "    <tr>\n",
              "      <th>Kanpur</th>\n",
              "      <td>24.0</td>\n",
              "      <td>22.0</td>\n",
              "      <td>NaN</td>\n",
              "    </tr>\n",
              "    <tr>\n",
              "      <th>La Defense</th>\n",
              "      <td>NaN</td>\n",
              "      <td>65.0</td>\n",
              "      <td>NaN</td>\n",
              "    </tr>\n",
              "    <tr>\n",
              "      <th>Monge</th>\n",
              "      <td>NaN</td>\n",
              "      <td>NaN</td>\n",
              "      <td>34.0</td>\n",
              "    </tr>\n",
              "  </tbody>\n",
              "</table>\n",
              "</div>\n",
              "      <button class=\"colab-df-convert\" onclick=\"convertToInteractive('df-b40fa1bb-85de-4737-adc7-b13f8d2bf4fe')\"\n",
              "              title=\"Convert this dataframe to an interactive table.\"\n",
              "              style=\"display:none;\">\n",
              "        \n",
              "  <svg xmlns=\"http://www.w3.org/2000/svg\" height=\"24px\"viewBox=\"0 0 24 24\"\n",
              "       width=\"24px\">\n",
              "    <path d=\"M0 0h24v24H0V0z\" fill=\"none\"/>\n",
              "    <path d=\"M18.56 5.44l.94 2.06.94-2.06 2.06-.94-2.06-.94-.94-2.06-.94 2.06-2.06.94zm-11 1L8.5 8.5l.94-2.06 2.06-.94-2.06-.94L8.5 2.5l-.94 2.06-2.06.94zm10 10l.94 2.06.94-2.06 2.06-.94-2.06-.94-.94-2.06-.94 2.06-2.06.94z\"/><path d=\"M17.41 7.96l-1.37-1.37c-.4-.4-.92-.59-1.43-.59-.52 0-1.04.2-1.43.59L10.3 9.45l-7.72 7.72c-.78.78-.78 2.05 0 2.83L4 21.41c.39.39.9.59 1.41.59.51 0 1.02-.2 1.41-.59l7.78-7.78 2.81-2.81c.8-.78.8-2.07 0-2.86zM5.41 20L4 18.59l7.72-7.72 1.47 1.35L5.41 20z\"/>\n",
              "  </svg>\n",
              "      </button>\n",
              "      \n",
              "  <style>\n",
              "    .colab-df-container {\n",
              "      display:flex;\n",
              "      flex-wrap:wrap;\n",
              "      gap: 12px;\n",
              "    }\n",
              "\n",
              "    .colab-df-convert {\n",
              "      background-color: #E8F0FE;\n",
              "      border: none;\n",
              "      border-radius: 50%;\n",
              "      cursor: pointer;\n",
              "      display: none;\n",
              "      fill: #1967D2;\n",
              "      height: 32px;\n",
              "      padding: 0 0 0 0;\n",
              "      width: 32px;\n",
              "    }\n",
              "\n",
              "    .colab-df-convert:hover {\n",
              "      background-color: #E2EBFA;\n",
              "      box-shadow: 0px 1px 2px rgba(60, 64, 67, 0.3), 0px 1px 3px 1px rgba(60, 64, 67, 0.15);\n",
              "      fill: #174EA6;\n",
              "    }\n",
              "\n",
              "    [theme=dark] .colab-df-convert {\n",
              "      background-color: #3B4455;\n",
              "      fill: #D2E3FC;\n",
              "    }\n",
              "\n",
              "    [theme=dark] .colab-df-convert:hover {\n",
              "      background-color: #434B5C;\n",
              "      box-shadow: 0px 1px 3px 1px rgba(0, 0, 0, 0.15);\n",
              "      filter: drop-shadow(0px 1px 2px rgba(0, 0, 0, 0.3));\n",
              "      fill: #FFFFFF;\n",
              "    }\n",
              "  </style>\n",
              "\n",
              "      <script>\n",
              "        const buttonEl =\n",
              "          document.querySelector('#df-b40fa1bb-85de-4737-adc7-b13f8d2bf4fe button.colab-df-convert');\n",
              "        buttonEl.style.display =\n",
              "          google.colab.kernel.accessAllowed ? 'block' : 'none';\n",
              "\n",
              "        async function convertToInteractive(key) {\n",
              "          const element = document.querySelector('#df-b40fa1bb-85de-4737-adc7-b13f8d2bf4fe');\n",
              "          const dataTable =\n",
              "            await google.colab.kernel.invokeFunction('convertToInteractive',\n",
              "                                                     [key], {});\n",
              "          if (!dataTable) return;\n",
              "\n",
              "          const docLinkHtml = 'Like what you see? Visit the ' +\n",
              "            '<a target=\"_blank\" href=https://colab.research.google.com/notebooks/data_table.ipynb>data table notebook</a>'\n",
              "            + ' to learn more about interactive tables.';\n",
              "          element.innerHTML = '';\n",
              "          dataTable['output_type'] = 'display_data';\n",
              "          await google.colab.output.renderOutput(dataTable, element);\n",
              "          const docLink = document.createElement('div');\n",
              "          docLink.innerHTML = docLinkHtml;\n",
              "          element.appendChild(docLink);\n",
              "        }\n",
              "      </script>\n",
              "    </div>\n",
              "  </div>\n",
              "  "
            ]
          },
          "metadata": {},
          "execution_count": 228
        }
      ]
    },
    {
      "cell_type": "markdown",
      "source": [
        "### Assignment 25"
      ],
      "metadata": {
        "id": "2jzUV7gaVuf7"
      }
    },
    {
      "cell_type": "code",
      "source": [
        "#### Pivot -----------\n",
        "\n",
        "# create a pivot table called 'pivot_table'\n",
        "#  where rows are the Country AND Address, \n",
        "#       columns their qualifications, \n",
        "#                and values in the pivot table is the mean age\n",
        "\n",
        "## hint\n",
        "# first import numpy package as np as below\n",
        "\n",
        "import numpy as np\n",
        "\n",
        "# use pd.pivot_table() with necessary arguments\n",
        "\n",
        "# your code here ..."
      ],
      "metadata": {
        "id": "P6aNEPG0skj1"
      },
      "execution_count": 229,
      "outputs": []
    },
    {
      "cell_type": "code",
      "source": [
        "df"
      ],
      "metadata": {
        "id": "-sWJOqdlWHi6",
        "colab": {
          "base_uri": "https://localhost:8080/",
          "height": 300
        },
        "outputId": "4e2dd24d-a6ea-4465-dbd1-c475bb1245e5"
      },
      "execution_count": 230,
      "outputs": [
        {
          "output_type": "execute_result",
          "data": {
            "text/plain": [
              "        Age     Address Country Qualification\n",
              "Name                                         \n",
              "Jai      27       Delhi   India           Phd\n",
              "Princi   24      Kanpur   India            MA\n",
              "Gaurav   22      Kanpur   India           MCA\n",
              "Anuj     32       Delhi   India           Phd\n",
              "Matt     65  La Defense  France           MCA\n",
              "Joe      43    Chatelet  France           Phd\n",
              "Calib    34       Monge  France           Phd"
            ],
            "text/html": [
              "\n",
              "  <div id=\"df-2f701bf0-d6e2-4d88-bc20-8a370a6dd9d9\">\n",
              "    <div class=\"colab-df-container\">\n",
              "      <div>\n",
              "<style scoped>\n",
              "    .dataframe tbody tr th:only-of-type {\n",
              "        vertical-align: middle;\n",
              "    }\n",
              "\n",
              "    .dataframe tbody tr th {\n",
              "        vertical-align: top;\n",
              "    }\n",
              "\n",
              "    .dataframe thead th {\n",
              "        text-align: right;\n",
              "    }\n",
              "</style>\n",
              "<table border=\"1\" class=\"dataframe\">\n",
              "  <thead>\n",
              "    <tr style=\"text-align: right;\">\n",
              "      <th></th>\n",
              "      <th>Age</th>\n",
              "      <th>Address</th>\n",
              "      <th>Country</th>\n",
              "      <th>Qualification</th>\n",
              "    </tr>\n",
              "    <tr>\n",
              "      <th>Name</th>\n",
              "      <th></th>\n",
              "      <th></th>\n",
              "      <th></th>\n",
              "      <th></th>\n",
              "    </tr>\n",
              "  </thead>\n",
              "  <tbody>\n",
              "    <tr>\n",
              "      <th>Jai</th>\n",
              "      <td>27</td>\n",
              "      <td>Delhi</td>\n",
              "      <td>India</td>\n",
              "      <td>Phd</td>\n",
              "    </tr>\n",
              "    <tr>\n",
              "      <th>Princi</th>\n",
              "      <td>24</td>\n",
              "      <td>Kanpur</td>\n",
              "      <td>India</td>\n",
              "      <td>MA</td>\n",
              "    </tr>\n",
              "    <tr>\n",
              "      <th>Gaurav</th>\n",
              "      <td>22</td>\n",
              "      <td>Kanpur</td>\n",
              "      <td>India</td>\n",
              "      <td>MCA</td>\n",
              "    </tr>\n",
              "    <tr>\n",
              "      <th>Anuj</th>\n",
              "      <td>32</td>\n",
              "      <td>Delhi</td>\n",
              "      <td>India</td>\n",
              "      <td>Phd</td>\n",
              "    </tr>\n",
              "    <tr>\n",
              "      <th>Matt</th>\n",
              "      <td>65</td>\n",
              "      <td>La Defense</td>\n",
              "      <td>France</td>\n",
              "      <td>MCA</td>\n",
              "    </tr>\n",
              "    <tr>\n",
              "      <th>Joe</th>\n",
              "      <td>43</td>\n",
              "      <td>Chatelet</td>\n",
              "      <td>France</td>\n",
              "      <td>Phd</td>\n",
              "    </tr>\n",
              "    <tr>\n",
              "      <th>Calib</th>\n",
              "      <td>34</td>\n",
              "      <td>Monge</td>\n",
              "      <td>France</td>\n",
              "      <td>Phd</td>\n",
              "    </tr>\n",
              "  </tbody>\n",
              "</table>\n",
              "</div>\n",
              "      <button class=\"colab-df-convert\" onclick=\"convertToInteractive('df-2f701bf0-d6e2-4d88-bc20-8a370a6dd9d9')\"\n",
              "              title=\"Convert this dataframe to an interactive table.\"\n",
              "              style=\"display:none;\">\n",
              "        \n",
              "  <svg xmlns=\"http://www.w3.org/2000/svg\" height=\"24px\"viewBox=\"0 0 24 24\"\n",
              "       width=\"24px\">\n",
              "    <path d=\"M0 0h24v24H0V0z\" fill=\"none\"/>\n",
              "    <path d=\"M18.56 5.44l.94 2.06.94-2.06 2.06-.94-2.06-.94-.94-2.06-.94 2.06-2.06.94zm-11 1L8.5 8.5l.94-2.06 2.06-.94-2.06-.94L8.5 2.5l-.94 2.06-2.06.94zm10 10l.94 2.06.94-2.06 2.06-.94-2.06-.94-.94-2.06-.94 2.06-2.06.94z\"/><path d=\"M17.41 7.96l-1.37-1.37c-.4-.4-.92-.59-1.43-.59-.52 0-1.04.2-1.43.59L10.3 9.45l-7.72 7.72c-.78.78-.78 2.05 0 2.83L4 21.41c.39.39.9.59 1.41.59.51 0 1.02-.2 1.41-.59l7.78-7.78 2.81-2.81c.8-.78.8-2.07 0-2.86zM5.41 20L4 18.59l7.72-7.72 1.47 1.35L5.41 20z\"/>\n",
              "  </svg>\n",
              "      </button>\n",
              "      \n",
              "  <style>\n",
              "    .colab-df-container {\n",
              "      display:flex;\n",
              "      flex-wrap:wrap;\n",
              "      gap: 12px;\n",
              "    }\n",
              "\n",
              "    .colab-df-convert {\n",
              "      background-color: #E8F0FE;\n",
              "      border: none;\n",
              "      border-radius: 50%;\n",
              "      cursor: pointer;\n",
              "      display: none;\n",
              "      fill: #1967D2;\n",
              "      height: 32px;\n",
              "      padding: 0 0 0 0;\n",
              "      width: 32px;\n",
              "    }\n",
              "\n",
              "    .colab-df-convert:hover {\n",
              "      background-color: #E2EBFA;\n",
              "      box-shadow: 0px 1px 2px rgba(60, 64, 67, 0.3), 0px 1px 3px 1px rgba(60, 64, 67, 0.15);\n",
              "      fill: #174EA6;\n",
              "    }\n",
              "\n",
              "    [theme=dark] .colab-df-convert {\n",
              "      background-color: #3B4455;\n",
              "      fill: #D2E3FC;\n",
              "    }\n",
              "\n",
              "    [theme=dark] .colab-df-convert:hover {\n",
              "      background-color: #434B5C;\n",
              "      box-shadow: 0px 1px 3px 1px rgba(0, 0, 0, 0.15);\n",
              "      filter: drop-shadow(0px 1px 2px rgba(0, 0, 0, 0.3));\n",
              "      fill: #FFFFFF;\n",
              "    }\n",
              "  </style>\n",
              "\n",
              "      <script>\n",
              "        const buttonEl =\n",
              "          document.querySelector('#df-2f701bf0-d6e2-4d88-bc20-8a370a6dd9d9 button.colab-df-convert');\n",
              "        buttonEl.style.display =\n",
              "          google.colab.kernel.accessAllowed ? 'block' : 'none';\n",
              "\n",
              "        async function convertToInteractive(key) {\n",
              "          const element = document.querySelector('#df-2f701bf0-d6e2-4d88-bc20-8a370a6dd9d9');\n",
              "          const dataTable =\n",
              "            await google.colab.kernel.invokeFunction('convertToInteractive',\n",
              "                                                     [key], {});\n",
              "          if (!dataTable) return;\n",
              "\n",
              "          const docLinkHtml = 'Like what you see? Visit the ' +\n",
              "            '<a target=\"_blank\" href=https://colab.research.google.com/notebooks/data_table.ipynb>data table notebook</a>'\n",
              "            + ' to learn more about interactive tables.';\n",
              "          element.innerHTML = '';\n",
              "          dataTable['output_type'] = 'display_data';\n",
              "          await google.colab.output.renderOutput(dataTable, element);\n",
              "          const docLink = document.createElement('div');\n",
              "          docLink.innerHTML = docLinkHtml;\n",
              "          element.appendChild(docLink);\n",
              "        }\n",
              "      </script>\n",
              "    </div>\n",
              "  </div>\n",
              "  "
            ]
          },
          "metadata": {},
          "execution_count": 230
        }
      ]
    },
    {
      "cell_type": "code",
      "source": [
        "#@title Display Solution 25\n",
        "\n",
        "pivot_table = pd.pivot_table(df, # data to pivot\n",
        "                       # where rows are the qualifications and names\n",
        "                       index=['Country', 'Address'], # Grouper, Keys to group by on the pivot table index.\n",
        "                       # columns their Addresses\n",
        "                       columns='Qualification', # column to aggregate\n",
        "                       # and values in the pivot table is the  age\n",
        "                       values=['Age'], # Keys to group by on the pivot table column., will be the columns value\n",
        "                       # and you want the avg of the value age (meaning the aggregation function ==> mean)\n",
        "                       aggfunc=np.mean)# the aggregation function\n",
        "\n",
        "pivot_table"
      ],
      "metadata": {
        "id": "6sfyXgaxsPQv",
        "cellView": "form",
        "colab": {
          "base_uri": "https://localhost:8080/",
          "height": 269
        },
        "outputId": "89d370da-06f1-4a0c-939e-88f549341f88"
      },
      "execution_count": 231,
      "outputs": [
        {
          "output_type": "execute_result",
          "data": {
            "text/plain": [
              "                     Age            \n",
              "Qualification         MA   MCA   Phd\n",
              "Country Address                     \n",
              "France  Chatelet     NaN   NaN  43.0\n",
              "        La Defense   NaN  65.0   NaN\n",
              "        Monge        NaN   NaN  34.0\n",
              "India   Delhi        NaN   NaN  29.5\n",
              "        Kanpur      24.0  22.0   NaN"
            ],
            "text/html": [
              "\n",
              "  <div id=\"df-fc20163e-9969-4665-aa0a-76b460a80eff\">\n",
              "    <div class=\"colab-df-container\">\n",
              "      <div>\n",
              "<style scoped>\n",
              "    .dataframe tbody tr th:only-of-type {\n",
              "        vertical-align: middle;\n",
              "    }\n",
              "\n",
              "    .dataframe tbody tr th {\n",
              "        vertical-align: top;\n",
              "    }\n",
              "\n",
              "    .dataframe thead tr th {\n",
              "        text-align: left;\n",
              "    }\n",
              "\n",
              "    .dataframe thead tr:last-of-type th {\n",
              "        text-align: right;\n",
              "    }\n",
              "</style>\n",
              "<table border=\"1\" class=\"dataframe\">\n",
              "  <thead>\n",
              "    <tr>\n",
              "      <th></th>\n",
              "      <th></th>\n",
              "      <th colspan=\"3\" halign=\"left\">Age</th>\n",
              "    </tr>\n",
              "    <tr>\n",
              "      <th></th>\n",
              "      <th>Qualification</th>\n",
              "      <th>MA</th>\n",
              "      <th>MCA</th>\n",
              "      <th>Phd</th>\n",
              "    </tr>\n",
              "    <tr>\n",
              "      <th>Country</th>\n",
              "      <th>Address</th>\n",
              "      <th></th>\n",
              "      <th></th>\n",
              "      <th></th>\n",
              "    </tr>\n",
              "  </thead>\n",
              "  <tbody>\n",
              "    <tr>\n",
              "      <th rowspan=\"3\" valign=\"top\">France</th>\n",
              "      <th>Chatelet</th>\n",
              "      <td>NaN</td>\n",
              "      <td>NaN</td>\n",
              "      <td>43.0</td>\n",
              "    </tr>\n",
              "    <tr>\n",
              "      <th>La Defense</th>\n",
              "      <td>NaN</td>\n",
              "      <td>65.0</td>\n",
              "      <td>NaN</td>\n",
              "    </tr>\n",
              "    <tr>\n",
              "      <th>Monge</th>\n",
              "      <td>NaN</td>\n",
              "      <td>NaN</td>\n",
              "      <td>34.0</td>\n",
              "    </tr>\n",
              "    <tr>\n",
              "      <th rowspan=\"2\" valign=\"top\">India</th>\n",
              "      <th>Delhi</th>\n",
              "      <td>NaN</td>\n",
              "      <td>NaN</td>\n",
              "      <td>29.5</td>\n",
              "    </tr>\n",
              "    <tr>\n",
              "      <th>Kanpur</th>\n",
              "      <td>24.0</td>\n",
              "      <td>22.0</td>\n",
              "      <td>NaN</td>\n",
              "    </tr>\n",
              "  </tbody>\n",
              "</table>\n",
              "</div>\n",
              "      <button class=\"colab-df-convert\" onclick=\"convertToInteractive('df-fc20163e-9969-4665-aa0a-76b460a80eff')\"\n",
              "              title=\"Convert this dataframe to an interactive table.\"\n",
              "              style=\"display:none;\">\n",
              "        \n",
              "  <svg xmlns=\"http://www.w3.org/2000/svg\" height=\"24px\"viewBox=\"0 0 24 24\"\n",
              "       width=\"24px\">\n",
              "    <path d=\"M0 0h24v24H0V0z\" fill=\"none\"/>\n",
              "    <path d=\"M18.56 5.44l.94 2.06.94-2.06 2.06-.94-2.06-.94-.94-2.06-.94 2.06-2.06.94zm-11 1L8.5 8.5l.94-2.06 2.06-.94-2.06-.94L8.5 2.5l-.94 2.06-2.06.94zm10 10l.94 2.06.94-2.06 2.06-.94-2.06-.94-.94-2.06-.94 2.06-2.06.94z\"/><path d=\"M17.41 7.96l-1.37-1.37c-.4-.4-.92-.59-1.43-.59-.52 0-1.04.2-1.43.59L10.3 9.45l-7.72 7.72c-.78.78-.78 2.05 0 2.83L4 21.41c.39.39.9.59 1.41.59.51 0 1.02-.2 1.41-.59l7.78-7.78 2.81-2.81c.8-.78.8-2.07 0-2.86zM5.41 20L4 18.59l7.72-7.72 1.47 1.35L5.41 20z\"/>\n",
              "  </svg>\n",
              "      </button>\n",
              "      \n",
              "  <style>\n",
              "    .colab-df-container {\n",
              "      display:flex;\n",
              "      flex-wrap:wrap;\n",
              "      gap: 12px;\n",
              "    }\n",
              "\n",
              "    .colab-df-convert {\n",
              "      background-color: #E8F0FE;\n",
              "      border: none;\n",
              "      border-radius: 50%;\n",
              "      cursor: pointer;\n",
              "      display: none;\n",
              "      fill: #1967D2;\n",
              "      height: 32px;\n",
              "      padding: 0 0 0 0;\n",
              "      width: 32px;\n",
              "    }\n",
              "\n",
              "    .colab-df-convert:hover {\n",
              "      background-color: #E2EBFA;\n",
              "      box-shadow: 0px 1px 2px rgba(60, 64, 67, 0.3), 0px 1px 3px 1px rgba(60, 64, 67, 0.15);\n",
              "      fill: #174EA6;\n",
              "    }\n",
              "\n",
              "    [theme=dark] .colab-df-convert {\n",
              "      background-color: #3B4455;\n",
              "      fill: #D2E3FC;\n",
              "    }\n",
              "\n",
              "    [theme=dark] .colab-df-convert:hover {\n",
              "      background-color: #434B5C;\n",
              "      box-shadow: 0px 1px 3px 1px rgba(0, 0, 0, 0.15);\n",
              "      filter: drop-shadow(0px 1px 2px rgba(0, 0, 0, 0.3));\n",
              "      fill: #FFFFFF;\n",
              "    }\n",
              "  </style>\n",
              "\n",
              "      <script>\n",
              "        const buttonEl =\n",
              "          document.querySelector('#df-fc20163e-9969-4665-aa0a-76b460a80eff button.colab-df-convert');\n",
              "        buttonEl.style.display =\n",
              "          google.colab.kernel.accessAllowed ? 'block' : 'none';\n",
              "\n",
              "        async function convertToInteractive(key) {\n",
              "          const element = document.querySelector('#df-fc20163e-9969-4665-aa0a-76b460a80eff');\n",
              "          const dataTable =\n",
              "            await google.colab.kernel.invokeFunction('convertToInteractive',\n",
              "                                                     [key], {});\n",
              "          if (!dataTable) return;\n",
              "\n",
              "          const docLinkHtml = 'Like what you see? Visit the ' +\n",
              "            '<a target=\"_blank\" href=https://colab.research.google.com/notebooks/data_table.ipynb>data table notebook</a>'\n",
              "            + ' to learn more about interactive tables.';\n",
              "          element.innerHTML = '';\n",
              "          dataTable['output_type'] = 'display_data';\n",
              "          await google.colab.output.renderOutput(dataTable, element);\n",
              "          const docLink = document.createElement('div');\n",
              "          docLink.innerHTML = docLinkHtml;\n",
              "          element.appendChild(docLink);\n",
              "        }\n",
              "      </script>\n",
              "    </div>\n",
              "  </div>\n",
              "  "
            ]
          },
          "metadata": {},
          "execution_count": 231
        }
      ]
    },
    {
      "cell_type": "markdown",
      "metadata": {
        "id": "6eKEbOwah5gZ"
      },
      "source": [
        "# 11 Loops"
      ]
    },
    {
      "cell_type": "markdown",
      "source": [
        "##  FOR"
      ],
      "metadata": {
        "id": "Ib4sbLHfdskF"
      }
    },
    {
      "cell_type": "markdown",
      "source": [
        "A **for** loop is used for iterating over a sequence (that is either a list, a tuple, a dictionary, a set, or a string).\n",
        "\n",
        "With the FOR loop we can execute a set of statements, once for each item in a list, tuple, set etc"
      ],
      "metadata": {
        "id": "cTJf_Fr7eLQe"
      }
    },
    {
      "cell_type": "code",
      "execution_count": 232,
      "metadata": {
        "id": "NZ0yzBqufPxX",
        "colab": {
          "base_uri": "https://localhost:8080/"
        },
        "outputId": "536e87d0-d017-4d77-a6aa-2724b02f83c2"
      },
      "outputs": [
        {
          "output_type": "execute_result",
          "data": {
            "text/plain": [
              "['Apple', 'Orange', 'Banana', 'Apple', 'Kiwi', 'Apple']"
            ]
          },
          "metadata": {},
          "execution_count": 232
        }
      ],
      "source": [
        "# visualize code execution\n",
        "# https://pythontutor.com/python-debugger.html\n",
        "\n",
        "# create a list of groceries\n",
        "groceries = ['Apple','Orange', 'Banana', 'Apple' ,'Kiwi', 'Apple']\n",
        "\n",
        "groceries"
      ]
    },
    {
      "cell_type": "markdown",
      "source": [
        "the syntax of a 'for loop':\n",
        "\n",
        "\n",
        "**for** element **in** list:   \n",
        " _____*do something *\n",
        "\n",
        "It's like saying : for each element in the list, do something with it\n",
        "\n",
        "\n",
        "\n",
        "\n",
        "\n"
      ],
      "metadata": {
        "id": "W8OhPgNtfSP1"
      }
    },
    {
      "cell_type": "code",
      "source": [
        "# iterate through list to access/print each element of the list\n",
        "for item in groceries:\n",
        "    print(item)"
      ],
      "metadata": {
        "id": "F54uHz-1euAL",
        "colab": {
          "base_uri": "https://localhost:8080/"
        },
        "outputId": "5a20d0d5-8449-4bc4-ac6b-aa1859ac504c"
      },
      "execution_count": 233,
      "outputs": [
        {
          "output_type": "stream",
          "name": "stdout",
          "text": [
            "Apple\n",
            "Orange\n",
            "Banana\n",
            "Apple\n",
            "Kiwi\n",
            "Apple\n"
          ]
        }
      ]
    },
    {
      "cell_type": "code",
      "source": [
        "# we can iterate with condition\n",
        "# we want to iterate our list, and to print out only 'Apple'\n",
        "\n",
        "# if element == 'Apple' then...\n",
        "# print out the value of the element and message '==> This is an apple'\n",
        "# else, print out the value of the element and the message '==> This is NOT an apple'\n",
        "\n",
        "for fruit in groceries:\n",
        "  if fruit == 'Apple':\n",
        "      print(fruit, '== > This is an apple')\n",
        "  else:\n",
        "    print(fruit, '==> This is NOT an apple')\n"
      ],
      "metadata": {
        "id": "giCEv6vFuYl6",
        "colab": {
          "base_uri": "https://localhost:8080/"
        },
        "outputId": "36025b9c-1328-4519-fedb-5c7f2cd2417a"
      },
      "execution_count": 234,
      "outputs": [
        {
          "output_type": "stream",
          "name": "stdout",
          "text": [
            "Apple == > This is an apple\n",
            "Orange ==> This is NOT an apple\n",
            "Banana ==> This is NOT an apple\n",
            "Apple == > This is an apple\n",
            "Kiwi ==> This is NOT an apple\n",
            "Apple == > This is an apple\n"
          ]
        }
      ]
    },
    {
      "cell_type": "code",
      "source": [
        "# we can iterate with condition through numeric values\n",
        "\n",
        "numbers = [-2, 4, -1, 8, 10]\n",
        "\n",
        "# if element is positive then...\n",
        "# devide each element in the list by 2\n",
        "# else, print that this number is not positive\n",
        "\n",
        "for number in numbers:\n",
        "  if number > 0:\n",
        "      print(number/2)\n",
        "  else:\n",
        "    print('this number is not positive')"
      ],
      "metadata": {
        "id": "cQs4Oqw7hpnV",
        "colab": {
          "base_uri": "https://localhost:8080/"
        },
        "outputId": "dd0c3525-bcd7-437f-b665-6dfa0fef2d08"
      },
      "execution_count": 235,
      "outputs": [
        {
          "output_type": "stream",
          "name": "stdout",
          "text": [
            "this number is not positive\n",
            "2.0\n",
            "this number is not positive\n",
            "4.0\n",
            "5.0\n"
          ]
        }
      ]
    },
    {
      "cell_type": "code",
      "source": [
        "# we can iterate through a chain of strings\n",
        "\n",
        "string = 'ilovepython'\n",
        "\n",
        "# Python will think of this string as a list that contains the characters of the string...\n",
        "\n",
        "for letter in string:\n",
        "  print(letter)\n"
      ],
      "metadata": {
        "id": "TyK4fmiZuIiK",
        "colab": {
          "base_uri": "https://localhost:8080/"
        },
        "outputId": "e410c69b-fa62-41a7-fcc9-674d0ed6dfaa"
      },
      "execution_count": 236,
      "outputs": [
        {
          "output_type": "stream",
          "name": "stdout",
          "text": [
            "i\n",
            "l\n",
            "o\n",
            "v\n",
            "e\n",
            "p\n",
            "y\n",
            "t\n",
            "h\n",
            "o\n",
            "n\n"
          ]
        }
      ]
    },
    {
      "cell_type": "code",
      "source": [
        "# iterate through a chain of strings and do something (with condition...)\n",
        "\n",
        "vowels = ['a', 'e', 'i', 'o', 'u']\n",
        "\n",
        "# iterate through the string 'ilovepython' and if the letter is a vowel then print it in CAPITALS with function upper()\n",
        "for letter in string:\n",
        "  if letter in vowels:\n",
        "    print(letter.upper())\n",
        "  else:\n",
        "    print(letter)"
      ],
      "metadata": {
        "id": "uYNFXnikubKg",
        "colab": {
          "base_uri": "https://localhost:8080/"
        },
        "outputId": "33fa05ca-3174-4af4-cfee-08c6a94206ae"
      },
      "execution_count": 237,
      "outputs": [
        {
          "output_type": "stream",
          "name": "stdout",
          "text": [
            "I\n",
            "l\n",
            "O\n",
            "v\n",
            "E\n",
            "p\n",
            "y\n",
            "t\n",
            "h\n",
            "O\n",
            "n\n"
          ]
        }
      ]
    },
    {
      "cell_type": "markdown",
      "source": [
        "Nested LIsts"
      ],
      "metadata": {
        "id": "tf-3sMEHuFzy"
      }
    },
    {
      "cell_type": "code",
      "execution_count": 238,
      "metadata": {
        "id": "69oherPCiP-B",
        "colab": {
          "base_uri": "https://localhost:8080/"
        },
        "outputId": "d60b4c40-f56b-4027-ea4f-1bdee6f815d1"
      },
      "outputs": [
        {
          "output_type": "execute_result",
          "data": {
            "text/plain": [
              "[['Apple', 4],\n",
              " ['Orange', 2],\n",
              " ['Banana', 6],\n",
              " ['Kiwi', 5],\n",
              " ['Apple', 6],\n",
              " ['Apple', 12]]"
            ]
          },
          "metadata": {},
          "execution_count": 238
        }
      ],
      "source": [
        "# iterate through nested lists\n",
        "\n",
        "fruit_list = [['Apple', 4],['Orange', 2],['Banana', 6],['Kiwi', 5], ['Apple', 6], ['Apple', 12]]\n",
        "fruit_list"
      ]
    },
    {
      "cell_type": "code",
      "execution_count": 239,
      "metadata": {
        "id": "elKUPogujRdk",
        "colab": {
          "base_uri": "https://localhost:8080/"
        },
        "outputId": "e5e3869e-1f51-4c38-b5f6-2e77b531e818"
      },
      "outputs": [
        {
          "output_type": "execute_result",
          "data": {
            "text/plain": [
              "2"
            ]
          },
          "metadata": {},
          "execution_count": 239
        }
      ],
      "source": [
        "# access 1 element from the second item (\"2\")\n",
        "fruit_list[1][1]"
      ]
    },
    {
      "cell_type": "code",
      "source": [
        "# return 'Banana:\n",
        "\n",
        "# fruit_list[???] # the element  ['Banana', 6]\n",
        "\n",
        "fruit_list[2][0] # only the sub_element 'Banana'"
      ],
      "metadata": {
        "id": "H89NzsWdjo1E",
        "colab": {
          "base_uri": "https://localhost:8080/",
          "height": 35
        },
        "outputId": "c964e848-9ae0-468a-fa18-a5d4d12072d6"
      },
      "execution_count": 240,
      "outputs": [
        {
          "output_type": "execute_result",
          "data": {
            "text/plain": [
              "'Banana'"
            ],
            "application/vnd.google.colaboratory.intrinsic+json": {
              "type": "string"
            }
          },
          "metadata": {},
          "execution_count": 240
        }
      ]
    },
    {
      "cell_type": "code",
      "execution_count": 241,
      "metadata": {
        "id": "bH79QaIvjKGF",
        "colab": {
          "base_uri": "https://localhost:8080/"
        },
        "outputId": "a5af7f67-4a9d-42b3-b208-f4f9fe8c520a"
      },
      "outputs": [
        {
          "output_type": "stream",
          "name": "stdout",
          "text": [
            "['Apple', 4]\n",
            "['Orange', 2]\n",
            "['Banana', 6]\n",
            "['Kiwi', 5]\n",
            "['Apple', 6]\n",
            "['Apple', 12]\n"
          ]
        }
      ],
      "source": [
        "# iterate through a nested list\n",
        "# here an element is a list, with 2 items each ==> the fruit and the quantity\n",
        "\n",
        "for element in fruit_list:\n",
        "    print(element)"
      ]
    },
    {
      "cell_type": "code",
      "source": [
        "# iterate through a nested list\n",
        "# and to access the quantity of each fruit (==> the fruite has index 0, and quntity has index 1)\n",
        "\n",
        "for element in fruit_list:\n",
        "    print(element[1])"
      ],
      "metadata": {
        "id": "TEbYTy9xbgdP",
        "colab": {
          "base_uri": "https://localhost:8080/"
        },
        "outputId": "402d9ff7-a1eb-4687-f0c7-306554dd73f8"
      },
      "execution_count": 242,
      "outputs": [
        {
          "output_type": "stream",
          "name": "stdout",
          "text": [
            "4\n",
            "2\n",
            "6\n",
            "5\n",
            "6\n",
            "12\n"
          ]
        }
      ]
    },
    {
      "cell_type": "code",
      "source": [
        "# iterate through a list with condition..\n",
        "\n",
        "# we want to access only fruits that are Apple\n",
        "\n",
        "# iterate the fruit_list\n",
        "for sublist in fruit_list: # for each element from the fruit_list called \"sublist\"\n",
        "  if sublist[0]== 'Apple': # if 1st element from the list (==> i.e index=0)\n",
        "    print(sublist) # print the sublist"
      ],
      "metadata": {
        "id": "hxPWeL8Gc3nw",
        "colab": {
          "base_uri": "https://localhost:8080/"
        },
        "outputId": "7089fd53-407c-493e-d4ac-a6e2494f9577"
      },
      "execution_count": 243,
      "outputs": [
        {
          "output_type": "stream",
          "name": "stdout",
          "text": [
            "['Apple', 4]\n",
            "['Apple', 6]\n",
            "['Apple', 12]\n"
          ]
        }
      ]
    },
    {
      "cell_type": "code",
      "execution_count": 244,
      "metadata": {
        "id": "S5EUd2mRjKxx",
        "colab": {
          "base_uri": "https://localhost:8080/"
        },
        "outputId": "a50c4389-cc67-42ff-f402-542a33f42b47"
      },
      "outputs": [
        {
          "output_type": "stream",
          "name": "stdout",
          "text": [
            "[['Apple', 4], ['Orange', 2], ['Banana', 6], ['Kiwi', 5], ['Apple', 6], ['Apple', 12]]\n",
            "\n"
          ]
        }
      ],
      "source": [
        "# sometimes you'll need to access each element in a nested list and store them in a flat list (regular list) \n",
        "\n",
        "# iterate through nested lists\n",
        "# accesst each element and store it as a flat list\n",
        "# the expected output: ['Apple', 4, 'Orange', 2, 'Banana', 6, 'Kiwi', 5]\n",
        "\n",
        "# create a copy of fruit_list called copy_list wtth copy() function\n",
        "\n",
        "copy_list = fruit_list.copy()\n",
        "print(copy_list)\n",
        "print('')"
      ]
    },
    {
      "cell_type": "code",
      "source": [
        "# first, create an empty list called 'flat list' , where we'll store all elements\n",
        "\n",
        "flat_list = [] # empty list\n",
        "print(flat_list)\n",
        "print('')"
      ],
      "metadata": {
        "id": "I4lqcDZd52P7",
        "colab": {
          "base_uri": "https://localhost:8080/"
        },
        "outputId": "fd2f41b7-399f-4a09-90c7-7cdab7d5f5a9"
      },
      "execution_count": 245,
      "outputs": [
        {
          "output_type": "stream",
          "name": "stdout",
          "text": [
            "[]\n",
            "\n"
          ]
        }
      ]
    },
    {
      "cell_type": "code",
      "source": [
        "# we will iterate the list (copy_list), by accessing the sublist from this list\n",
        "# we wil ieterate through the sublist, to access each item form the sublist\n",
        "\n",
        "for sublist in copy_list: # iterate the sublists from the list\n",
        "    print(sublist) # at each iteration print the sublist\n",
        "    for item in sublist:   # then iterate through the sublist to acces each item in the sublist     \n",
        "        flat_list.append(item) # the append the iterated item to the flat_list\n",
        "\n",
        "print('')\n",
        "print(\"the final flat_list will look like: \", flat_list )"
      ],
      "metadata": {
        "id": "Ebeen44l58jq",
        "colab": {
          "base_uri": "https://localhost:8080/"
        },
        "outputId": "0b6e50bf-4255-4cf0-82b6-abde3093878d"
      },
      "execution_count": 246,
      "outputs": [
        {
          "output_type": "stream",
          "name": "stdout",
          "text": [
            "['Apple', 4]\n",
            "['Orange', 2]\n",
            "['Banana', 6]\n",
            "['Kiwi', 5]\n",
            "['Apple', 6]\n",
            "['Apple', 12]\n",
            "\n",
            "the final flat_list will look like:  ['Apple', 4, 'Orange', 2, 'Banana', 6, 'Kiwi', 5, 'Apple', 6, 'Apple', 12]\n"
          ]
        }
      ]
    },
    {
      "cell_type": "markdown",
      "source": [
        "## WHILE"
      ],
      "metadata": {
        "id": "t1slvTG7dvpV"
      }
    },
    {
      "cell_type": "markdown",
      "source": [
        "With the while loop we can execute a set of statements as long as a condition is true"
      ],
      "metadata": {
        "id": "5ZUMaT2ise3T"
      }
    },
    {
      "cell_type": "code",
      "source": [
        "# as long i is less then 10, print i\n",
        "\n",
        "i = 1\n",
        "while i < 10:\n",
        "  print(i)\n",
        "  i += 1 # increment by 1"
      ],
      "metadata": {
        "id": "OO_qBHHor_M2",
        "colab": {
          "base_uri": "https://localhost:8080/"
        },
        "outputId": "f273d1bd-10cc-4bca-e243-8be4ca47dff8"
      },
      "execution_count": 247,
      "outputs": [
        {
          "output_type": "stream",
          "name": "stdout",
          "text": [
            "1\n",
            "2\n",
            "3\n",
            "4\n",
            "5\n",
            "6\n",
            "7\n",
            "8\n",
            "9\n"
          ]
        }
      ]
    },
    {
      "cell_type": "code",
      "source": [
        "# exit when i gets to 4\n",
        "\n",
        "i = 1\n",
        "while i < 10:\n",
        "  print(i)\n",
        "  if i == 4:\n",
        "    break\n",
        "  i += 1"
      ],
      "metadata": {
        "id": "XP6EspmVwtKa",
        "colab": {
          "base_uri": "https://localhost:8080/"
        },
        "outputId": "471a7d3e-45b9-4b16-f919-2e6323873ee9"
      },
      "execution_count": 248,
      "outputs": [
        {
          "output_type": "stream",
          "name": "stdout",
          "text": [
            "1\n",
            "2\n",
            "3\n",
            "4\n"
          ]
        }
      ]
    },
    {
      "cell_type": "markdown",
      "source": [
        "## Loops Practice ***"
      ],
      "metadata": {
        "id": "zfVPNcX9xCiF"
      }
    },
    {
      "cell_type": "markdown",
      "source": [
        "### FOR loops"
      ],
      "metadata": {
        "id": "fy0CWwmGwKnS"
      }
    },
    {
      "cell_type": "markdown",
      "source": [
        "You can use the following link visualize the code execution of the workflow\n",
        "https://pythontutor.com/python-debugger.html"
      ],
      "metadata": {
        "id": "vcQEKYGaze6e"
      }
    },
    {
      "cell_type": "markdown",
      "source": [
        "#### Assignment 1"
      ],
      "metadata": {
        "id": "nCns74RCwoso"
      }
    },
    {
      "cell_type": "code",
      "source": [
        "# Create a list \"departments\"\n",
        "\n",
        "departments = [\"Finance\", \"Human Ressources\", \"Finance\", \"Collection\", \"IT\", 'Finance']\n",
        "\n",
        "# write a code (using FOR loop),  to iterate through the list 'departments'\n",
        "\n",
        "# ...steps ...\n",
        "# create the list 'departments' \n",
        "# iterate through the list 'departments\n",
        "# and print out each element called 'department' of this list\n",
        "\n",
        "# your code here...."
      ],
      "metadata": {
        "id": "gnX60iQxy8IG"
      },
      "execution_count": null,
      "outputs": []
    },
    {
      "cell_type": "code",
      "source": [
        "#@title Display Solution 1\n",
        "\n",
        "departments = [\"Finance\", \"Human Ressources\", \"Finance\", \"Collection\", \"IT\", 'Finance']\n",
        "\n",
        "for department in departments:\n",
        "  print(department)\n",
        "\n"
      ],
      "metadata": {
        "id": "3kb-E6ByxVgH",
        "cellView": "form"
      },
      "execution_count": null,
      "outputs": []
    },
    {
      "cell_type": "markdown",
      "source": [
        "#### Assignment 2"
      ],
      "metadata": {
        "id": "JLPM8w_KyPFF"
      }
    },
    {
      "cell_type": "code",
      "source": [
        "# if the element \"department\" is 'Finance'... then...\n",
        "# print out the value of this element but in CAPITALS (using the .upper() method) \n",
        "\n",
        "# your code here ...\n"
      ],
      "metadata": {
        "id": "Cqu4f-p4yKuf"
      },
      "execution_count": null,
      "outputs": []
    },
    {
      "cell_type": "code",
      "source": [
        "#@title Display Solution 2\n",
        "\n",
        "for department in departments:\n",
        "  if department == 'Finance':\n",
        "    print(department.upper())"
      ],
      "metadata": {
        "id": "at0YH29izCdy",
        "cellView": "form"
      },
      "execution_count": null,
      "outputs": []
    },
    {
      "cell_type": "markdown",
      "source": [
        "#### Assignment 3"
      ],
      "metadata": {
        "id": "1s5KCUUG0KFu"
      }
    },
    {
      "cell_type": "code",
      "source": [
        "# iterate through nested lists ----\n",
        "\n",
        "# create a nested list \"departments_staff\" \n",
        "# where you'd like to store data of departments name\n",
        "# and the number of people in each department\n",
        "\n",
        "departments_staff = [['Finance', 14],['IT', 4],['Human Ressources', 6],['Collection', 2], ['Finance', 6]]\n",
        "\n",
        "# visualize the created list"
      ],
      "metadata": {
        "id": "EEsNC6uN0QYz"
      },
      "execution_count": null,
      "outputs": []
    },
    {
      "cell_type": "code",
      "source": [
        "#@title Display Solution 3\n",
        "\n",
        "# create a nested list \"departments_staff\"\n",
        "departments_staff = [['Finance', 14],['IT', 4],['Human Ressources', 6],['Collection', 2], ['Finance', 6]]\n",
        "\n",
        "# visualize the created list\n",
        "departments_staff"
      ],
      "metadata": {
        "id": "TzyMM-mc0TMt",
        "cellView": "form"
      },
      "execution_count": null,
      "outputs": []
    },
    {
      "cell_type": "markdown",
      "source": [
        "#### Assignment 4"
      ],
      "metadata": {
        "id": "aD6EUED51lfe"
      }
    },
    {
      "cell_type": "code",
      "source": [
        "# access to the element that concerns 'IT'\n",
        "# and check out the number of persons in 'IT' department\n",
        "\n",
        "# your code here...\n"
      ],
      "metadata": {
        "id": "kw5h_UrX1pon"
      },
      "execution_count": null,
      "outputs": []
    },
    {
      "cell_type": "code",
      "source": [
        "#@title Display Solution 4\n",
        "\n",
        "print('The number of persons in IT department: ',  departments_staff[1][1])"
      ],
      "metadata": {
        "cellView": "form",
        "id": "6VJAhfMa1qyy"
      },
      "execution_count": null,
      "outputs": []
    },
    {
      "cell_type": "markdown",
      "source": [
        "#### Assignment 5"
      ],
      "metadata": {
        "id": "dNLnbHYTkvwv"
      }
    },
    {
      "cell_type": "code",
      "source": [
        "# iterate through a list with condition..\n",
        "\n",
        "# how many Bananas do we have in fruit_list ? \n",
        "# ...use FOR loop to access the sublist that have \"Banana\" in it ..\n",
        "\n",
        "# your code here..."
      ],
      "metadata": {
        "id": "FIoz8ewWk0ml"
      },
      "execution_count": null,
      "outputs": []
    },
    {
      "cell_type": "code",
      "source": [
        "#@title Display Solution 5\n",
        "\n",
        "# iterate the fruit_list\n",
        "for sublist in fruit_list: # for each element from the fruit_list called \"sublist\"\n",
        "  if sublist[0]== 'Banana': # if 1st element from the list (==> i.e index=0)\n",
        "    print(sublist[1]) # print the sublist"
      ],
      "metadata": {
        "cellView": "form",
        "id": "JbUE4dQfk2Do"
      },
      "execution_count": null,
      "outputs": []
    },
    {
      "cell_type": "markdown",
      "source": [
        "#### Assignment 6"
      ],
      "metadata": {
        "id": "0WXiwvSa2fJh"
      }
    },
    {
      "cell_type": "code",
      "source": [
        "# create a copy of departments_staff called copy_list wtth copy() function\n",
        "\n",
        "copy_list = departments_staff.copy()\n",
        "print(copy_list)\n",
        "print('')\n",
        "\n",
        "# create an empty list where we'll store all elements and print it out\n",
        "\n",
        "flat_list = [] # empty list\n",
        "\n",
        "# iterate throught the nested list with FOR loop to access the sublists\n",
        "# ....access the items from the sublist\n",
        "# ....and then append this items to the flat_list\n",
        "\n",
        "# visualise the obtained flat list"
      ],
      "metadata": {
        "id": "uU0aIN8u2kS0"
      },
      "execution_count": null,
      "outputs": []
    },
    {
      "cell_type": "code",
      "source": [
        "#@title Display Solution 6\n",
        "\n",
        "# creat an empty list where we'll store all elements\n",
        "flat_list = [] # empty list\n",
        "print(flat_list)\n",
        "print('')\n",
        "\n",
        "# iterate throught the nested list with FOR loop to access the sublists\n",
        "for sublist in copy_list: # FOR loop to access the sublists\n",
        "    for item in sublist: # ....access the items from the sublist\n",
        "        flat_list.append(item) # ....and then append this items to the flat_list\n",
        "\n",
        "# visualise the obtained flat list\n",
        "flat_list"
      ],
      "metadata": {
        "cellView": "form",
        "id": "QPP7Clj4jjT5"
      },
      "execution_count": null,
      "outputs": []
    },
    {
      "cell_type": "markdown",
      "metadata": {
        "id": "et9L2zSBIg2B"
      },
      "source": [
        "# 12.&nbsp;Functions"
      ]
    },
    {
      "cell_type": "markdown",
      "source": [
        "A function is a block of code which only runs when it is called.\n",
        "\n",
        "You can pass data, known as parameters, into a function.\n",
        "\n",
        "A function can return data as a result."
      ],
      "metadata": {
        "id": "_SRANGfNyX38"
      }
    },
    {
      "cell_type": "markdown",
      "source": [
        "More about functions https://www.w3schools.com/python/python_functions.asp"
      ],
      "metadata": {
        "id": "WgDA6MVmyYya"
      }
    },
    {
      "cell_type": "code",
      "execution_count": 249,
      "metadata": {
        "id": "siK6KnwfIjEG",
        "colab": {
          "base_uri": "https://localhost:8080/"
        },
        "outputId": "888a88b6-e1de-4e51-e870-dd5e946ec288"
      },
      "outputs": [
        {
          "output_type": "stream",
          "name": "stdout",
          "text": [
            "2.29\n"
          ]
        }
      ],
      "source": [
        "# create a function called operation\n",
        "# the syntax of a function is the keyword def, name of the function, the parameters to use, and the action of the function\n",
        "\n",
        "# write a function operation, when given the parameter x, would add + 2.6 to it, and then devided by 5.5\n",
        "# store the output int a variable \"result\"\n",
        "# and print out the output\n",
        "\n",
        "def operation(x):\n",
        "    result = (x + 2.6)/5.5\n",
        "    print(round(result, 2))\n",
        "\n",
        "\n",
        "# try your new function by giving values to arguments\n",
        "operation(10)\n"
      ]
    },
    {
      "cell_type": "markdown",
      "metadata": {
        "id": "gkowOQa65cmv"
      },
      "source": [
        "**Body Mass Indicator ==> BMI**"
      ]
    },
    {
      "cell_type": "code",
      "execution_count": 250,
      "metadata": {
        "id": "2CcJwiOOJ2vV",
        "colab": {
          "base_uri": "https://localhost:8080/"
        },
        "outputId": "384f4cde-dd89-4f08-b99c-f5f878cde52c"
      },
      "outputs": [
        {
          "output_type": "execute_result",
          "data": {
            "text/plain": [
              "23.69"
            ]
          },
          "metadata": {},
          "execution_count": 250
        }
      ],
      "source": [
        "# compute body fat\n",
        "\n",
        "height = 66.2 # in inches (devide cm by 2,54)\n",
        "weight = 147.7 # in pounds (multiply kg by 2,205))\n",
        "\n",
        "# CALCULATE YOUR BODY MASS INDEX (BMI)\n",
        "bmi = round((weight/(height**2)  * 703), 2) # conversion factor of 703\n",
        "bmi"
      ]
    },
    {
      "cell_type": "code",
      "execution_count": 251,
      "metadata": {
        "id": "9XDQgGcy46L-"
      },
      "outputs": [],
      "source": [
        "# create a function called bmi that would automatically compte the body fat \n",
        "\n",
        "# arguments needed to be passed during the function call : height and weight\n",
        "# the function will remeber the order of the arguments=>=  1st: height, 2nd : weight\n",
        "\n",
        "def bmi(height,weight):\n",
        "  bmi= round((weight/(height**2)  * 703), 2) \n",
        "  print('your Body Mass Index is ', round(bmi, 2))"
      ]
    },
    {
      "cell_type": "code",
      "execution_count": 252,
      "metadata": {
        "id": "jfiI_Z8H5STy",
        "colab": {
          "base_uri": "https://localhost:8080/"
        },
        "outputId": "1a0c5087-ebb2-4756-9f9a-eeb6ba061b49"
      },
      "outputs": [
        {
          "output_type": "stream",
          "name": "stdout",
          "text": [
            "your Body Mass Index is  23.29\n"
          ]
        }
      ],
      "source": [
        "# when will call the function \"bmi\"...\n",
        "# in parathesis specify the arguments : height and weight with their respective values..\n",
        "\n",
        "\n",
        "# try your new function by giving values to arguments\n",
        "bmi(height=65,weight=140)"
      ]
    },
    {
      "cell_type": "code",
      "execution_count": 253,
      "metadata": {
        "id": "zePBBlC15M6w",
        "colab": {
          "base_uri": "https://localhost:8080/"
        },
        "outputId": "47a8d4b9-32b0-4dfe-88ad-135302eaf420"
      },
      "outputs": [
        {
          "output_type": "stream",
          "name": "stdout",
          "text": [
            "your Body Mass Index is  23.29\n"
          ]
        }
      ],
      "source": [
        "# if we don't write the arguments name ....\n",
        "# python will understand that 1st '60' is the height\n",
        "# and 2nd '140' is the weight\n",
        "\n",
        "\n",
        "# try your new function by giving values to arguments\n",
        "bmi(65, 140)"
      ]
    },
    {
      "cell_type": "markdown",
      "metadata": {
        "id": "Vhx3iKza5thE"
      },
      "source": [
        "**Body Fat Percentage (BFP) for women**"
      ]
    },
    {
      "cell_type": "code",
      "execution_count": 254,
      "metadata": {
        "id": "UgzoGwG5LU8v",
        "colab": {
          "base_uri": "https://localhost:8080/"
        },
        "outputId": "d1e5d657-212a-4d63-ccb9-33f92d059c6a"
      },
      "outputs": [
        {
          "output_type": "stream",
          "name": "stdout",
          "text": [
            "23.46\n"
          ]
        }
      ],
      "source": [
        "# let's create a more specific function \"bfp_women\" ..\n",
        "# where we'll return  the body fat percentage for women\n",
        "# the formula to compute the the bfp for women : (<<coefficient>> * bmi) + (<<coefficient>> * age) - 5.4\n",
        "# the metrics that are taken into account are the bmi and the age\n",
        "# and the respective coefficients 1.20, 0.23 and - 5.4 use to assess the bfp for women\n",
        "\n",
        "# write the function called 'bfp_women' with keyword def (from definition...)\n",
        "def bfp_women(bmi, age): # give the argument of the function (here bmi and age)\n",
        "  body_fat_pct = (1.20 * bmi) + (0.23 * age) - 5.4 # the formula of bfp\n",
        "  print(body_fat_pct) # and ask to return the outcome of 'body_fat_pct'\n",
        "\n",
        "# try your new function by giving values to arguments\n",
        "bfp_women(bmi= 18.3, age = 30)"
      ]
    },
    {
      "cell_type": "markdown",
      "metadata": {
        "id": "UTVeRB4Q52MI"
      },
      "source": [
        "**BFP diagnos caclulator for women**\n"
      ]
    },
    {
      "cell_type": "markdown",
      "source": [
        "*To assess if the BFP is in the norms we will a calculater by writing a function called `bfp_women_diagnosis` that will do the diagnosis automatically for us*"
      ],
      "metadata": {
        "id": "EvrB5CsGr1w_"
      }
    },
    {
      "cell_type": "markdown",
      "metadata": {
        "id": "y9EleC05PeVJ"
      },
      "source": [
        "Women diagnosis:\n",
        "\n",
        "*For 20-40 yrs old range:*\n",
        ">  \n",
        "\n",
        "*   Underfat: under 21 %,\n",
        "*   Healthy: 21-33 %\n",
        "*   Overweight: 33-39 %\n",
        "*   Obese: Over 39 %\n",
        "\n",
        "\n",
        "*For 41-60 yrs old range:*\n",
        "\n",
        "> \n",
        "\n",
        "* Underfat: under 23 %\n",
        "* Healthy: 23-35 %\n",
        "* Overweight : 35-40 %\n",
        "* Obese: over 40 %\n",
        "\n",
        "\n",
        "*For 61-79 yrs old range:*\n",
        "\n",
        "> \n",
        "\n",
        "* Underfat: under 24 %\n",
        "* Healthy: 24-36 %\n",
        "* Overweight: 36-42%\n",
        "* Obese: over 42 %"
      ]
    },
    {
      "cell_type": "code",
      "execution_count": 255,
      "metadata": {
        "id": "S-PEaNEiPypE"
      },
      "outputs": [],
      "source": [
        "def bfp_women_diagnosis(height, weight, age):\n",
        "  bmi = (weight/(height**2) ) * 703\n",
        "  body_fat_pct = round(((1.20 * bmi) + (0.23 * age) - 5.4),2)\n",
        "\n",
        "# For the women within the range 20-40 y.o.\n",
        "  if age <=40:\n",
        "    # within the range 20-40 y.o. if body_fat_pct under 21\n",
        "     if body_fat_pct < 21:\n",
        "        print('your BFP is: ',  body_fat_pct, \"you are underfat\")\n",
        "    # within the range 20-40 y.o. if body_fat_pct between 21 and 33\n",
        "     elif body_fat_pct >= 21 and body_fat_pct < 33:\n",
        "        print('your BFP is: ',  body_fat_pct, \"you are healthy\")\n",
        "    # within the range 20-40 y.o. if body_fat_pct between 33 and 40\n",
        "     elif body_fat_pct >= 33 and body_fat_pct < 40:\n",
        "        print('your BFP is: ',  body_fat_pct, \"you are overweight\")\n",
        "    # within the range 20-40 y.o. if body_fat_pct over 39\n",
        "     else : \n",
        "        print('your BFP  is: ',  body_fat_pct, \"you are obese\")\n",
        "\n",
        "# For the women within the range 41-60 y.o.\n",
        "  if age > 40 and age <=60:\n",
        "     if body_fat_pct < 23:\n",
        "        print('your BFP is: ',  body_fat_pct, \"you are underfat\")\n",
        "     elif body_fat_pct >= 23 and body_fat_pct < 35:\n",
        "        print('your BFP is: ',  body_fat_pct, \"you are healthy\")\n",
        "     elif body_fat_pct >= 35 and body_fat_pct < 40:\n",
        "        print('your BFP is: ',  body_fat_pct, \"you are overweight\")\n",
        "     else : \n",
        "        print('your BFP  is: ',  body_fat_pct, \"you are obese\")\n",
        "\n",
        "# For the women within the range 60-79 y.o.\n",
        "  if age > 60:\n",
        "     if body_fat_pct < 24:\n",
        "        print('your BFP is: ',  body_fat_pct, \"you are underfat\")\n",
        "     elif body_fat_pct >= 24 and body_fat_pct < 36:\n",
        "        print('your BFP  is: ',  body_fat_pct, \"you are healthy\")\n",
        "     elif body_fat_pct >= 36 and body_fat_pct < 42:\n",
        "        print('your BFP  is: ',  body_fat_pct, \"you are healthy\")\n",
        "     else : \n",
        "        print('your BFP  is: ',  body_fat_pct, \"you are obese\")\n"
      ]
    },
    {
      "cell_type": "code",
      "source": [
        "bfp_women_diagnosis(66.2, 147.7, 40)"
      ],
      "metadata": {
        "id": "k86oVLNUG3K7",
        "colab": {
          "base_uri": "https://localhost:8080/"
        },
        "outputId": "b2f04934-0d82-4efb-9335-a09a09e2a306"
      },
      "execution_count": 256,
      "outputs": [
        {
          "output_type": "stream",
          "name": "stdout",
          "text": [
            "your BFP is:  32.23 you are healthy\n"
          ]
        }
      ]
    },
    {
      "cell_type": "markdown",
      "metadata": {
        "id": "m-kpbX8f6CJX"
      },
      "source": [
        "**Body Fat Percentage for men**"
      ]
    },
    {
      "cell_type": "code",
      "execution_count": 257,
      "metadata": {
        "id": "nRRlQL81NdoY",
        "colab": {
          "base_uri": "https://localhost:8080/"
        },
        "outputId": "fc45ea98-e59b-432c-99d7-0724d70961ab"
      },
      "outputs": [
        {
          "output_type": "stream",
          "name": "stdout",
          "text": [
            "23.12\n"
          ]
        }
      ],
      "source": [
        "def bfp_men(height, weight, age):\n",
        "  bmi  = (weight/(height**2) ) * 703\n",
        "  body_fat_pct = (1.20 * bmi) + (0.23 * age) - 16.2\n",
        "  print(round(body_fat_pct,2))\n",
        "\n",
        "bfp_men(height= 69, weight= 170, age = 40)"
      ]
    },
    {
      "cell_type": "markdown",
      "metadata": {
        "id": "Y5i03TgBKlab"
      },
      "source": [
        "\n",
        "Here are the standard metrics for **Men** diagnosis:\n",
        "\n",
        "For 20-40 yrs old range : \n",
        "\n",
        "> \n",
        "* Underfat: under 8 %\n",
        "* Healthy: 8-19 %\n",
        "* Overweight: 19-25 %\n",
        "* Obese: over 25%\n",
        "\n",
        "For 41-60 yrs old range:\n",
        "\n",
        "> \n",
        "* Underfat: under 11%\n",
        "* Healthy: 11-22%\n",
        "* Overweight: 22-27%\n",
        "* Obese: over 27%\n",
        "\n",
        "For 61-79 yrs old range:\n",
        "\n",
        "> \n",
        "* Underfat: under 13%\n",
        "* Healthy: 13-25%\n",
        "* Overweight: 25-30%\n",
        "* Obese: over 30%\n",
        "\n",
        "\n",
        " \n",
        " "
      ]
    },
    {
      "cell_type": "markdown",
      "metadata": {
        "id": "sX_gBua_UoVP"
      },
      "source": [
        "## Function Practice ***"
      ]
    },
    {
      "cell_type": "markdown",
      "source": [
        "### Assignment 1"
      ],
      "metadata": {
        "id": "uC-T7pVVK7Ym"
      }
    },
    {
      "cell_type": "code",
      "source": [
        "# Write a function called \"bfp_men_diagnosis\" \n",
        "#  that would calculate the bfp for men and would do the diagnosis \n",
        "# please use use the stardard metrics specific to MEN from below\n",
        "\n",
        "''' def bfp_men_diagnosis(height, weight, age):  \n",
        "          bmi  = (weight/(height**2) ) * 703\n",
        "          body_fat_pct = (1.20 * bmi) + (0.23 * age) - 16.2\n",
        "          ... ---------...\n",
        "          ... ---------...\n",
        "          ....\n",
        "'''\n",
        "\n",
        "# try your new function \"bfp_men_diagnosis\"  by giving some values to function arguments \n",
        "# bfp_men_diagnosis(height = '...', weight = '...', age = '...') ==> it has to be in inches, pound\n",
        "\n",
        "# ...your code here"
      ],
      "metadata": {
        "id": "zUkdKsQgLNLX"
      },
      "execution_count": null,
      "outputs": []
    },
    {
      "cell_type": "code",
      "source": [
        "#@title Display Solution 1\n",
        "\n",
        "def bfp_men_diagnosis(height, weight, age):\n",
        "    bmi = (weight/(height**2) ) * 703\n",
        "    body_fat_pct = round((1.20 * bmi) + (0.23 * age) - 16.2, 2)\n",
        "\n",
        "   # For men within the range 20-40 y.o.\n",
        "    if age <=40:\n",
        "      # within the range 20-40 y.o. if body_fat_pct under 8\n",
        "        if body_fat_pct < 8:\n",
        "            print('your BFP is: ',  body_fat_pct, \"you are underfat\")\n",
        "      # within the range 20-40 y.o. if body_fat_pct is between 8 and 19\n",
        "        elif body_fat_pct >= 8 and body_fat_pct < 19:\n",
        "            print('your BFP is: ',  body_fat_pct, \"you are healthy\")\n",
        "        # within the range 20-40 y.o. if body_fat_pct is between 19 and 25\n",
        "        elif body_fat_pct >= 19 and body_fat_pct < 25:\n",
        "            print('your BFP is: ',  body_fat_pct, \"you are overweight\")\n",
        "        # within the range 20-40 y.o. if body_fat_pct over 25\n",
        "        else : \n",
        "            print('your BFP  is: ',  body_fat_pct, \"you are obese\")\n",
        "\n",
        "  # For men within the range 41-60 y.o.\n",
        "    if age > 40 and age <=60:\n",
        "        if body_fat_pct < 11:\n",
        "            print('your BFP is: ',  body_fat_pct, \"you are underfat\")\n",
        "        elif body_fat_pct >= 11 and body_fat_pct < 22:\n",
        "            print('your BFP is: ',  body_fat_pct, \"you are healthy\")\n",
        "        elif body_fat_pct >= 22 and body_fat_pct < 27:\n",
        "            print('your BFP is: ',  body_fat_pct, \"you are overweight\")\n",
        "        else : \n",
        "            print('your BFP  is: ',  body_fat_pct, \"you are obese\")\n",
        "\n",
        "    #  For men within the range 60-79 y.o.  \n",
        "    if age > 60:\n",
        "        if body_fat_pct < 13:\n",
        "            print('your BFP is: ',  body_fat_pct, \"you are underfat\")\n",
        "        elif body_fat_pct >= 13 and body_fat_pct < 25:\n",
        "            print('your BFP  is: ',  body_fat_pct, \"you are healthy\")\n",
        "        elif body_fat_pct >= 25 and body_fat_pct < 30:\n",
        "            print('your BFP  is: ',  body_fat_pct, \"you are healthy\")\n",
        "        else : \n",
        "            print('your BFP  is: ',  body_fat_pct, \"you are obese\")\n",
        "\n",
        "# try your new function \"bfp_men_diagnosis\"  by giving some values to function arguments \n",
        "bfp_men_diagnosis(height = 76, weight = 160, age = 50)"
      ],
      "metadata": {
        "cellView": "form",
        "id": "NCmmudaxIjjM"
      },
      "execution_count": null,
      "outputs": []
    },
    {
      "cell_type": "markdown",
      "source": [
        "### Assignment 2"
      ],
      "metadata": {
        "id": "bWyNfT6NKx7b"
      }
    },
    {
      "cell_type": "code",
      "execution_count": null,
      "metadata": {
        "id": "ftjDqT04USdQ"
      },
      "outputs": [],
      "source": [
        "# Write a function **bfp_diagnosis()**\n",
        "# that would calculate the bfp would do tha diagnosis, no matter women or men giving arguments (height= , weight= , age = , gender = )\n",
        "\n",
        "# use the function that you created previously << bfp_men_diagnosis(height, weight, age) >> IF gender == 'M'\n",
        "# use the function that you created previously << bfp_women_diagnosis(height, weight, age) >> if gender == 'F' (with 'ELIF'..)\n",
        "# 'ELSE\" ==> print('not specified')\n",
        "\n",
        "# try your new function bfp_diagnosis() by giving vlues to arguments (height= , weight= , age = , gender = )\n",
        "\n",
        "# your code here ..."
      ]
    },
    {
      "cell_type": "code",
      "source": [
        "#@title Display Solution 6\n",
        "\n",
        "\n",
        "def bfp_diagnosis(height, weight, age, gender):\n",
        "\n",
        "    if gender == 'M':        # IF gender == 'M'\n",
        "      # use the function that you created previously << bfp_men_diagnosis(height, weight, age) \n",
        "       print(bfp_men_diagnosis(height, weight, age))\n",
        "\n",
        "    elif gender == 'F':    # if gender == 'F'\n",
        "\n",
        "     # use the function that you created previously << bfp_women_diagnosis(height, weight, age) \n",
        "      print(bfp_women_diagnosis(height, weight, age))\n",
        "      \n",
        "    else:\n",
        "      print('not specified')\n",
        "\n",
        "\n",
        "\n",
        "# try your new function bfp_diagnosis() by giving vlues to arguments (height= , weight= , age = , gender = )\n",
        "bfp_diagnosis(66.2, 147.7, 40, gender= 'F')"
      ],
      "metadata": {
        "cellView": "form",
        "id": "j0EWW0o_IqDG"
      },
      "execution_count": null,
      "outputs": []
    },
    {
      "cell_type": "code",
      "source": [],
      "metadata": {
        "id": "vDF8GoW7bhI_"
      },
      "execution_count": null,
      "outputs": []
    }
  ],
  "metadata": {
    "colab": {
      "provenance": [],
      "toc_visible": true,
      "collapsed_sections": [
        "t1slvTG7dvpV"
      ],
      "include_colab_link": true
    },
    "kernelspec": {
      "display_name": "Python 3 (ipykernel)",
      "language": "python",
      "name": "python3"
    },
    "language_info": {
      "codemirror_mode": {
        "name": "ipython",
        "version": 3
      },
      "file_extension": ".py",
      "mimetype": "text/x-python",
      "name": "python",
      "nbconvert_exporter": "python",
      "pygments_lexer": "ipython3",
      "version": "3.9.7"
    }
  },
  "nbformat": 4,
  "nbformat_minor": 0
}